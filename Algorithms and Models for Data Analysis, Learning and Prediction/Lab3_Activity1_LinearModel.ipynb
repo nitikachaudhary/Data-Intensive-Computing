{
 "cells": [
  {
   "cell_type": "markdown",
   "metadata": {},
   "source": [
    "Reading the data from a csv"
   ]
  },
  {
   "cell_type": "code",
   "execution_count": 156,
   "metadata": {
    "collapsed": false
   },
   "outputs": [],
   "source": [
    "data <-read.csv(\"D:/MS_Spring2017/DIC/Lab3/Data/NHLTop100.csv\")"
   ]
  },
  {
   "cell_type": "markdown",
   "metadata": {},
   "source": [
    "Displaying the data and noting the column variables"
   ]
  },
  {
   "cell_type": "code",
   "execution_count": 157,
   "metadata": {
    "collapsed": true
   },
   "outputs": [
    {
     "data": {
      "text/html": [
       "<table>\n",
       "<thead><tr><th scope=col>Rank</th><th scope=col>Player</th><th scope=col>Team</th><th scope=col>Pos</th><th scope=col>X1st.NHL.Season</th><th scope=col>Last.NHL.Season</th><th scope=col>GP</th><th scope=col>G</th><th scope=col>A</th><th scope=col>P</th><th scope=col>X...</th><th scope=col>PIM</th><th scope=col>PP</th><th scope=col>SH</th><th scope=col>GW</th><th scope=col>GT</th><th scope=col>OT</th><th scope=col>Shots</th></tr></thead>\n",
       "<tbody>\n",
       "\t<tr><td>1            </td><td>Wayne Gretzky</td><td>             </td><td>C            </td><td>1979-1980    </td><td>1998-1999    </td><td>1487         </td><td>894          </td><td>1963         </td><td>2857         </td><td>518          </td><td> 577         </td><td>204          </td><td>73           </td><td>91           </td><td>12           </td><td> 1           </td><td>5089         </td></tr>\n",
       "\t<tr><td>2            </td><td>Mark Messier </td><td>             </td><td>C            </td><td>1979-1980    </td><td>2003-2004    </td><td>1756         </td><td>694          </td><td>1193         </td><td>1887         </td><td>210          </td><td>1910         </td><td>179          </td><td>63           </td><td>92           </td><td>15           </td><td> 7           </td><td>4219         </td></tr>\n",
       "\t<tr><td>3            </td><td>Gordie Howe  </td><td>             </td><td>R            </td><td>1946-1947    </td><td>1979-1980    </td><td>1767         </td><td>801          </td><td>1049         </td><td>1850         </td><td> 87          </td><td>1685         </td><td> 39          </td><td> 5           </td><td>18           </td><td>NA           </td><td>NA           </td><td>  NA         </td></tr>\n",
       "\t<tr><td>4            </td><td>Ron Francis  </td><td>             </td><td>C            </td><td>1981-1982    </td><td>2003-2004    </td><td>1731         </td><td>549          </td><td>1249         </td><td>1798         </td><td>-10          </td><td> 979         </td><td>188          </td><td>12           </td><td>79           </td><td>13           </td><td> 3           </td><td>3754         </td></tr>\n",
       "\t<tr><td>5            </td><td>Marcel Dionne</td><td>             </td><td>C            </td><td>1971-1972    </td><td>1988-1989    </td><td>1348         </td><td>731          </td><td>1040         </td><td>1771         </td><td> 28          </td><td> 600         </td><td>234          </td><td>19           </td><td>74           </td><td> 1           </td><td> 2           </td><td>5366         </td></tr>\n",
       "\t<tr><td>6            </td><td>Steve Yzerman</td><td>             </td><td>C            </td><td>1983-1984    </td><td>2005-2006    </td><td>1514         </td><td>692          </td><td>1063         </td><td>1755         </td><td>202          </td><td> 924         </td><td>202          </td><td>50           </td><td>94           </td><td>12           </td><td> 8           </td><td>4602         </td></tr>\n",
       "</tbody>\n",
       "</table>\n"
      ],
      "text/latex": [
       "\\begin{tabular}{r|llllllllllllllllll}\n",
       " Rank & Player & Team & Pos & X1st.NHL.Season & Last.NHL.Season & GP & G & A & P & X... & PIM & PP & SH & GW & GT & OT & Shots\\\\\n",
       "\\hline\n",
       "\t 1             & Wayne Gretzky &               & C             & 1979-1980     & 1998-1999     & 1487          & 894           & 1963          & 2857          & 518           &  577          & 204           & 73            & 91            & 12            &  1            & 5089         \\\\\n",
       "\t 2             & Mark Messier  &               & C             & 1979-1980     & 2003-2004     & 1756          & 694           & 1193          & 1887          & 210           & 1910          & 179           & 63            & 92            & 15            &  7            & 4219         \\\\\n",
       "\t 3             & Gordie Howe   &               & R             & 1946-1947     & 1979-1980     & 1767          & 801           & 1049          & 1850          &  87           & 1685          &  39           &  5            & 18            & NA            & NA            &   NA         \\\\\n",
       "\t 4             & Ron Francis   &               & C             & 1981-1982     & 2003-2004     & 1731          & 549           & 1249          & 1798          & -10           &  979          & 188           & 12            & 79            & 13            &  3            & 3754         \\\\\n",
       "\t 5             & Marcel Dionne &               & C             & 1971-1972     & 1988-1989     & 1348          & 731           & 1040          & 1771          &  28           &  600          & 234           & 19            & 74            &  1            &  2            & 5366         \\\\\n",
       "\t 6             & Steve Yzerman &               & C             & 1983-1984     & 2005-2006     & 1514          & 692           & 1063          & 1755          & 202           &  924          & 202           & 50            & 94            & 12            &  8            & 4602         \\\\\n",
       "\\end{tabular}\n"
      ],
      "text/markdown": [
       "\n",
       "Rank | Player | Team | Pos | X1st.NHL.Season | Last.NHL.Season | GP | G | A | P | X... | PIM | PP | SH | GW | GT | OT | Shots | \n",
       "|---|---|---|---|---|---|\n",
       "| 1             | Wayne Gretzky |               | C             | 1979-1980     | 1998-1999     | 1487          | 894           | 1963          | 2857          | 518           |  577          | 204           | 73            | 91            | 12            |  1            | 5089          | \n",
       "| 2             | Mark Messier  |               | C             | 1979-1980     | 2003-2004     | 1756          | 694           | 1193          | 1887          | 210           | 1910          | 179           | 63            | 92            | 15            |  7            | 4219          | \n",
       "| 3             | Gordie Howe   |               | R             | 1946-1947     | 1979-1980     | 1767          | 801           | 1049          | 1850          |  87           | 1685          |  39           |  5            | 18            | NA            | NA            |   NA          | \n",
       "| 4             | Ron Francis   |               | C             | 1981-1982     | 2003-2004     | 1731          | 549           | 1249          | 1798          | -10           |  979          | 188           | 12            | 79            | 13            |  3            | 3754          | \n",
       "| 5             | Marcel Dionne |               | C             | 1971-1972     | 1988-1989     | 1348          | 731           | 1040          | 1771          |  28           |  600          | 234           | 19            | 74            |  1            |  2            | 5366          | \n",
       "| 6             | Steve Yzerman |               | C             | 1983-1984     | 2005-2006     | 1514          | 692           | 1063          | 1755          | 202           |  924          | 202           | 50            | 94            | 12            |  8            | 4602          | \n",
       "\n",
       "\n"
      ],
      "text/plain": [
       "  Rank Player        Team Pos X1st.NHL.Season Last.NHL.Season GP   G   A   \n",
       "1 1    Wayne Gretzky      C   1979-1980       1998-1999       1487 894 1963\n",
       "2 2    Mark Messier       C   1979-1980       2003-2004       1756 694 1193\n",
       "3 3    Gordie Howe        R   1946-1947       1979-1980       1767 801 1049\n",
       "4 4    Ron Francis        C   1981-1982       2003-2004       1731 549 1249\n",
       "5 5    Marcel Dionne      C   1971-1972       1988-1989       1348 731 1040\n",
       "6 6    Steve Yzerman      C   1983-1984       2005-2006       1514 692 1063\n",
       "  P    X... PIM  PP  SH GW GT OT Shots\n",
       "1 2857 518   577 204 73 91 12  1 5089 \n",
       "2 1887 210  1910 179 63 92 15  7 4219 \n",
       "3 1850  87  1685  39  5 18 NA NA   NA \n",
       "4 1798 -10   979 188 12 79 13  3 3754 \n",
       "5 1771  28   600 234 19 74  1  2 5366 \n",
       "6 1755 202   924 202 50 94 12  8 4602 "
      ]
     },
     "metadata": {},
     "output_type": "display_data"
    }
   ],
   "source": [
    "head(data)"
   ]
  },
  {
   "cell_type": "code",
   "execution_count": 67,
   "metadata": {
    "collapsed": false
   },
   "outputs": [
    {
     "data": {
      "text/html": [
       "<ol class=list-inline>\n",
       "\t<li>'Rank'</li>\n",
       "\t<li>'Player'</li>\n",
       "\t<li>'Team'</li>\n",
       "\t<li>'Pos'</li>\n",
       "\t<li>'X1st.NHL.Season'</li>\n",
       "\t<li>'Last.NHL.Season'</li>\n",
       "\t<li>'GP'</li>\n",
       "\t<li>'G'</li>\n",
       "\t<li>'A'</li>\n",
       "\t<li>'P'</li>\n",
       "\t<li>'X...'</li>\n",
       "\t<li>'PIM'</li>\n",
       "\t<li>'PP'</li>\n",
       "\t<li>'SH'</li>\n",
       "\t<li>'GW'</li>\n",
       "\t<li>'GT'</li>\n",
       "\t<li>'OT'</li>\n",
       "\t<li>'Shots'</li>\n",
       "</ol>\n"
      ],
      "text/latex": [
       "\\begin{enumerate*}\n",
       "\\item 'Rank'\n",
       "\\item 'Player'\n",
       "\\item 'Team'\n",
       "\\item 'Pos'\n",
       "\\item 'X1st.NHL.Season'\n",
       "\\item 'Last.NHL.Season'\n",
       "\\item 'GP'\n",
       "\\item 'G'\n",
       "\\item 'A'\n",
       "\\item 'P'\n",
       "\\item 'X...'\n",
       "\\item 'PIM'\n",
       "\\item 'PP'\n",
       "\\item 'SH'\n",
       "\\item 'GW'\n",
       "\\item 'GT'\n",
       "\\item 'OT'\n",
       "\\item 'Shots'\n",
       "\\end{enumerate*}\n"
      ],
      "text/markdown": [
       "1. 'Rank'\n",
       "2. 'Player'\n",
       "3. 'Team'\n",
       "4. 'Pos'\n",
       "5. 'X1st.NHL.Season'\n",
       "6. 'Last.NHL.Season'\n",
       "7. 'GP'\n",
       "8. 'G'\n",
       "9. 'A'\n",
       "10. 'P'\n",
       "11. 'X...'\n",
       "12. 'PIM'\n",
       "13. 'PP'\n",
       "14. 'SH'\n",
       "15. 'GW'\n",
       "16. 'GT'\n",
       "17. 'OT'\n",
       "18. 'Shots'\n",
       "\n",
       "\n"
      ],
      "text/plain": [
       " [1] \"Rank\"            \"Player\"          \"Team\"            \"Pos\"            \n",
       " [5] \"X1st.NHL.Season\" \"Last.NHL.Season\" \"GP\"              \"G\"              \n",
       " [9] \"A\"               \"P\"               \"X...\"            \"PIM\"            \n",
       "[13] \"PP\"              \"SH\"              \"GW\"              \"GT\"             \n",
       "[17] \"OT\"              \"Shots\"          "
      ]
     },
     "metadata": {},
     "output_type": "display_data"
    }
   ],
   "source": [
    "colnames(data)"
   ]
  },
  {
   "cell_type": "markdown",
   "metadata": {},
   "source": [
    "------------Initial Linear Model--------------"
   ]
  },
  {
   "cell_type": "code",
   "execution_count": 158,
   "metadata": {
    "collapsed": false
   },
   "outputs": [],
   "source": [
    "model <- lm(data$A ~ data$G)"
   ]
  },
  {
   "cell_type": "code",
   "execution_count": 91,
   "metadata": {
    "collapsed": false
   },
   "outputs": [
    {
     "data": {
      "text/plain": [
       "\n",
       "Call:\n",
       "lm(formula = data$A ~ data$G)\n",
       "\n",
       "Residuals:\n",
       "    Min      1Q  Median      3Q     Max \n",
       "-356.51 -158.59  -10.29  125.08 1003.42 \n",
       "\n",
       "Coefficients:\n",
       "            Estimate Std. Error t value Pr(>|t|)    \n",
       "(Intercept) 494.5135    74.6410   6.625 1.88e-09 ***\n",
       "data$G        0.5202     0.1508   3.449 0.000832 ***\n",
       "---\n",
       "Signif. codes:  0 '***' 0.001 '**' 0.01 '*' 0.05 '.' 0.1 ' ' 1\n",
       "\n",
       "Residual standard error: 207 on 98 degrees of freedom\n",
       "Multiple R-squared:  0.1082,\tAdjusted R-squared:  0.09913 \n",
       "F-statistic: 11.89 on 1 and 98 DF,  p-value: 0.0008317\n"
      ]
     },
     "metadata": {},
     "output_type": "display_data"
    }
   ],
   "source": [
    "summary(model)"
   ]
  },
  {
   "cell_type": "markdown",
   "metadata": {},
   "source": [
    "Noting R2 and p values from the model"
   ]
  },
  {
   "cell_type": "code",
   "execution_count": 103,
   "metadata": {
    "collapsed": false
   },
   "outputs": [
    {
     "name": "stdout",
     "output_type": "stream",
     "text": [
      "package 'broom' successfully unpacked and MD5 sums checked\n",
      "\n",
      "The downloaded binary packages are in\n",
      "\tC:\\Users\\nitik\\AppData\\Local\\Temp\\Rtmp8W45cI\\downloaded_packages\n"
     ]
    }
   ],
   "source": [
    "install.packages(\"broom\",repos=\"http://cran.us.r-project.org/\")"
   ]
  },
  {
   "cell_type": "code",
   "execution_count": 104,
   "metadata": {
    "collapsed": false
   },
   "outputs": [
    {
     "name": "stderr",
     "output_type": "stream",
     "text": [
      "Warning message:\n",
      "\"package 'broom' was built under R version 3.3.3\""
     ]
    }
   ],
   "source": [
    "library(broom)"
   ]
  },
  {
   "cell_type": "code",
   "execution_count": 111,
   "metadata": {
    "collapsed": false
   },
   "outputs": [
    {
     "data": {
      "text/html": [
       "<table>\n",
       "<thead><tr><th scope=col>r.squared</th><th scope=col>adj.r.squared</th><th scope=col>sigma</th><th scope=col>statistic</th><th scope=col>p.value</th><th scope=col>df</th><th scope=col>logLik</th><th scope=col>AIC</th><th scope=col>BIC</th><th scope=col>deviance</th><th scope=col>df.residual</th></tr></thead>\n",
       "<tbody>\n",
       "\t<tr><td>0.1082305   </td><td>0.09913082  </td><td>207.0436    </td><td>11.89387    </td><td>0.0008317169</td><td>2           </td><td>-674.1767   </td><td>1354.353    </td><td>1362.169    </td><td>4200973     </td><td>98          </td></tr>\n",
       "</tbody>\n",
       "</table>\n"
      ],
      "text/latex": [
       "\\begin{tabular}{r|lllllllllll}\n",
       " r.squared & adj.r.squared & sigma & statistic & p.value & df & logLik & AIC & BIC & deviance & df.residual\\\\\n",
       "\\hline\n",
       "\t 0.1082305    & 0.09913082   & 207.0436     & 11.89387     & 0.0008317169 & 2            & -674.1767    & 1354.353     & 1362.169     & 4200973      & 98          \\\\\n",
       "\\end{tabular}\n"
      ],
      "text/markdown": [
       "\n",
       "r.squared | adj.r.squared | sigma | statistic | p.value | df | logLik | AIC | BIC | deviance | df.residual | \n",
       "|---|\n",
       "| 0.1082305    | 0.09913082   | 207.0436     | 11.89387     | 0.0008317169 | 2            | -674.1767    | 1354.353     | 1362.169     | 4200973      | 98           | \n",
       "\n",
       "\n"
      ],
      "text/plain": [
       "  r.squared adj.r.squared sigma    statistic p.value      df logLik    AIC     \n",
       "1 0.1082305 0.09913082    207.0436 11.89387  0.0008317169 2  -674.1767 1354.353\n",
       "  BIC      deviance df.residual\n",
       "1 1362.169 4200973  98         "
      ]
     },
     "metadata": {},
     "output_type": "display_data"
    }
   ],
   "source": [
    "glance(model)"
   ]
  },
  {
   "cell_type": "code",
   "execution_count": 146,
   "metadata": {
    "collapsed": false
   },
   "outputs": [],
   "source": [
    "summary_table <- data.frame(Model= character(), R_sqaured= integer(0), p_Value = integer(0), stringsAsFactors=FALSE)"
   ]
  },
  {
   "cell_type": "code",
   "execution_count": 147,
   "metadata": {
    "collapsed": false
   },
   "outputs": [],
   "source": [
    "summary_table[1,] <- c(\"LinearModel\",glance(model)$r.squared,glance(model)$p.value)"
   ]
  },
  {
   "cell_type": "code",
   "execution_count": 148,
   "metadata": {
    "collapsed": false
   },
   "outputs": [
    {
     "data": {
      "text/html": [
       "<table>\n",
       "<thead><tr><th scope=col>Model</th><th scope=col>R_sqaured</th><th scope=col>p_Value</th></tr></thead>\n",
       "<tbody>\n",
       "\t<tr><td>LinearModel         </td><td>0.10823050447434    </td><td>0.000831716923854345</td></tr>\n",
       "</tbody>\n",
       "</table>\n"
      ],
      "text/latex": [
       "\\begin{tabular}{r|lll}\n",
       " Model & R\\_sqaured & p\\_Value\\\\\n",
       "\\hline\n",
       "\t LinearModel          & 0.10823050447434     & 0.000831716923854345\\\\\n",
       "\\end{tabular}\n"
      ],
      "text/markdown": [
       "\n",
       "Model | R_sqaured | p_Value | \n",
       "|---|\n",
       "| LinearModel          | 0.10823050447434     | 0.000831716923854345 | \n",
       "\n",
       "\n"
      ],
      "text/plain": [
       "  Model       R_sqaured        p_Value             \n",
       "1 LinearModel 0.10823050447434 0.000831716923854345"
      ]
     },
     "metadata": {},
     "output_type": "display_data"
    }
   ],
   "source": [
    "head(summary_table)"
   ]
  },
  {
   "cell_type": "markdown",
   "metadata": {
    "collapsed": true
   },
   "source": [
    "plot(model)"
   ]
  },
  {
   "cell_type": "markdown",
   "metadata": {},
   "source": [
    "Plotting the model"
   ]
  },
  {
   "cell_type": "code",
   "execution_count": 53,
   "metadata": {
    "collapsed": false
   },
   "outputs": [
    {
     "data": {
      "image/png": "[encoded data removed]",
      "text/plain": [
       "plot without title"
      ]
     },
     "metadata": {},
     "output_type": "display_data"
    }
   ],
   "source": [
    "plot(data$G, data$A, pch=20,col=\"blue\", xlab=\"G\",ylab=\"A\")\n",
    "abline(model)"
   ]
  },
  {
   "cell_type": "markdown",
   "metadata": {},
   "source": [
    "--------Linear Model: Wayne Gretzky--------"
   ]
  },
  {
   "cell_type": "markdown",
   "metadata": {},
   "source": [
    "Passing the line through point (894,1963)"
   ]
  },
  {
   "cell_type": "markdown",
   "metadata": {},
   "source": [
    "Quering the data to note Wayne Gretzky G and A values"
   ]
  },
  {
   "cell_type": "code",
   "execution_count": 54,
   "metadata": {
    "collapsed": false
   },
   "outputs": [
    {
     "data": {
      "text/html": [
       "<table>\n",
       "<thead><tr><th scope=col>Rank</th><th scope=col>Player</th><th scope=col>Team</th><th scope=col>Pos</th><th scope=col>X1st.NHL.Season</th><th scope=col>Last.NHL.Season</th><th scope=col>GP</th><th scope=col>G</th><th scope=col>A</th><th scope=col>P</th><th scope=col>...</th><th scope=col>PP</th><th scope=col>SH</th><th scope=col>GW</th><th scope=col>GT</th><th scope=col>OT</th><th scope=col>Shots</th><th scope=col>G_wayne</th><th scope=col>A_wayne</th><th scope=col>G_Patrick</th><th scope=col>A_Patrick</th></tr></thead>\n",
       "<tbody>\n",
       "\t<tr><td>1            </td><td>Wayne Gretzky</td><td>             </td><td>C            </td><td>1979-1980    </td><td>1998-1999    </td><td>1487         </td><td>894          </td><td>1963         </td><td>2857         </td><td>...          </td><td>204          </td><td>73           </td><td>91           </td><td>12           </td><td>1            </td><td>5089         </td><td>0            </td><td>0            </td><td>611          </td><td>1503         </td></tr>\n",
       "</tbody>\n",
       "</table>\n"
      ],
      "text/latex": [
       "\\begin{tabular}{r|llllllllllllllllllllll}\n",
       " Rank & Player & Team & Pos & X1st.NHL.Season & Last.NHL.Season & GP & G & A & P & ... & PP & SH & GW & GT & OT & Shots & G\\_wayne & A\\_wayne & G\\_Patrick & A\\_Patrick\\\\\n",
       "\\hline\n",
       "\t 1             & Wayne Gretzky &               & C             & 1979-1980     & 1998-1999     & 1487          & 894           & 1963          & 2857          & ...           & 204           & 73            & 91            & 12            & 1             & 5089          & 0             & 0             & 611           & 1503         \\\\\n",
       "\\end{tabular}\n"
      ],
      "text/markdown": [
       "\n",
       "Rank | Player | Team | Pos | X1st.NHL.Season | Last.NHL.Season | GP | G | A | P | ... | PP | SH | GW | GT | OT | Shots | G_wayne | A_wayne | G_Patrick | A_Patrick | \n",
       "|---|\n",
       "| 1             | Wayne Gretzky |               | C             | 1979-1980     | 1998-1999     | 1487          | 894           | 1963          | 2857          | ...           | 204           | 73            | 91            | 12            | 1             | 5089          | 0             | 0             | 611           | 1503          | \n",
       "\n",
       "\n"
      ],
      "text/plain": [
       "  Rank Player        Team Pos X1st.NHL.Season Last.NHL.Season GP   G   A   \n",
       "1 1    Wayne Gretzky      C   1979-1980       1998-1999       1487 894 1963\n",
       "  P    ... PP  SH GW GT OT Shots G_wayne A_wayne G_Patrick A_Patrick\n",
       "1 2857 ... 204 73 91 12 1  5089  0       0       611       1503     "
      ]
     },
     "metadata": {},
     "output_type": "display_data"
    }
   ],
   "source": [
    "library(sqldf) \n",
    "sqldf(\"Select * from data where Player='Wayne Gretzky'\")"
   ]
  },
  {
   "cell_type": "markdown",
   "metadata": {},
   "source": [
    "G and A values for Wayne Gretzky: G=894 and  A=1963"
   ]
  },
  {
   "cell_type": "code",
   "execution_count": 8,
   "metadata": {
    "collapsed": false
   },
   "outputs": [],
   "source": [
    "G_wayne <- sqldf(\"select G from data\")"
   ]
  },
  {
   "cell_type": "markdown",
   "metadata": {},
   "source": [
    "Moving the line by subtracting the intercept for G and A values of Wayne Gretzky"
   ]
  },
  {
   "cell_type": "markdown",
   "metadata": {},
   "source": [
    "Adding new column variables to data with updated G and A values for the new line"
   ]
  },
  {
   "cell_type": "code",
   "execution_count": 162,
   "metadata": {
    "collapsed": false
   },
   "outputs": [],
   "source": [
    "G_wayne <- data.frame(G_wayne-894)"
   ]
  },
  {
   "cell_type": "code",
   "execution_count": 163,
   "metadata": {
    "collapsed": true
   },
   "outputs": [],
   "source": [
    "data[\"G_wayne\"] <- G_wayne"
   ]
  },
  {
   "cell_type": "code",
   "execution_count": 164,
   "metadata": {
    "collapsed": true
   },
   "outputs": [],
   "source": [
    "A_wayne <- sqldf(\"select A from data\")"
   ]
  },
  {
   "cell_type": "code",
   "execution_count": 165,
   "metadata": {
    "collapsed": true
   },
   "outputs": [],
   "source": [
    "A_wayne <- data.frame(A_wayne-1963)"
   ]
  },
  {
   "cell_type": "code",
   "execution_count": 166,
   "metadata": {
    "collapsed": true
   },
   "outputs": [],
   "source": [
    "data[\"A_wayne\"] <- A_wayne"
   ]
  },
  {
   "cell_type": "markdown",
   "metadata": {},
   "source": [
    "Updated data frame with A_Wayne and G_Wayne"
   ]
  },
  {
   "cell_type": "code",
   "execution_count": 14,
   "metadata": {
    "collapsed": true
   },
   "outputs": [
    {
     "data": {
      "text/html": [
       "<table>\n",
       "<thead><tr><th scope=col>Rank</th><th scope=col>Player</th><th scope=col>Team</th><th scope=col>Pos</th><th scope=col>X1st.NHL.Season</th><th scope=col>Last.NHL.Season</th><th scope=col>GP</th><th scope=col>G</th><th scope=col>A</th><th scope=col>P</th><th scope=col>X...</th><th scope=col>PIM</th><th scope=col>PP</th><th scope=col>SH</th><th scope=col>GW</th><th scope=col>GT</th><th scope=col>OT</th><th scope=col>Shots</th><th scope=col>G_wayne</th><th scope=col>A_wayne</th></tr></thead>\n",
       "<tbody>\n",
       "\t<tr><td>1            </td><td>Wayne Gretzky</td><td>             </td><td>C            </td><td>1979-1980    </td><td>1998-1999    </td><td>1487         </td><td>894          </td><td>1963         </td><td>2857         </td><td>518          </td><td> 577         </td><td>204          </td><td>73           </td><td>91           </td><td>12           </td><td> 1           </td><td>5089         </td><td>   0         </td><td>   0         </td></tr>\n",
       "\t<tr><td>2            </td><td>Mark Messier </td><td>             </td><td>C            </td><td>1979-1980    </td><td>2003-2004    </td><td>1756         </td><td>694          </td><td>1193         </td><td>1887         </td><td>210          </td><td>1910         </td><td>179          </td><td>63           </td><td>92           </td><td>15           </td><td> 7           </td><td>4219         </td><td>-200         </td><td>-770         </td></tr>\n",
       "\t<tr><td>3            </td><td>Gordie Howe  </td><td>             </td><td>R            </td><td>1946-1947    </td><td>1979-1980    </td><td>1767         </td><td>801          </td><td>1049         </td><td>1850         </td><td> 87          </td><td>1685         </td><td> 39          </td><td> 5           </td><td>18           </td><td>NA           </td><td>NA           </td><td>  NA         </td><td> -93         </td><td>-914         </td></tr>\n",
       "\t<tr><td>4            </td><td>Ron Francis  </td><td>             </td><td>C            </td><td>1981-1982    </td><td>2003-2004    </td><td>1731         </td><td>549          </td><td>1249         </td><td>1798         </td><td>-10          </td><td> 979         </td><td>188          </td><td>12           </td><td>79           </td><td>13           </td><td> 3           </td><td>3754         </td><td>-345         </td><td>-714         </td></tr>\n",
       "\t<tr><td>5            </td><td>Marcel Dionne</td><td>             </td><td>C            </td><td>1971-1972    </td><td>1988-1989    </td><td>1348         </td><td>731          </td><td>1040         </td><td>1771         </td><td> 28          </td><td> 600         </td><td>234          </td><td>19           </td><td>74           </td><td> 1           </td><td> 2           </td><td>5366         </td><td>-163         </td><td>-923         </td></tr>\n",
       "\t<tr><td>6            </td><td>Steve Yzerman</td><td>             </td><td>C            </td><td>1983-1984    </td><td>2005-2006    </td><td>1514         </td><td>692          </td><td>1063         </td><td>1755         </td><td>202          </td><td> 924         </td><td>202          </td><td>50           </td><td>94           </td><td>12           </td><td> 8           </td><td>4602         </td><td>-202         </td><td>-900         </td></tr>\n",
       "</tbody>\n",
       "</table>\n"
      ],
      "text/latex": [
       "\\begin{tabular}{r|llllllllllllllllllll}\n",
       " Rank & Player & Team & Pos & X1st.NHL.Season & Last.NHL.Season & GP & G & A & P & X... & PIM & PP & SH & GW & GT & OT & Shots & G\\_wayne & A\\_wayne\\\\\n",
       "\\hline\n",
       "\t 1             & Wayne Gretzky &               & C             & 1979-1980     & 1998-1999     & 1487          & 894           & 1963          & 2857          & 518           &  577          & 204           & 73            & 91            & 12            &  1            & 5089          &    0          &    0         \\\\\n",
       "\t 2             & Mark Messier  &               & C             & 1979-1980     & 2003-2004     & 1756          & 694           & 1193          & 1887          & 210           & 1910          & 179           & 63            & 92            & 15            &  7            & 4219          & -200          & -770         \\\\\n",
       "\t 3             & Gordie Howe   &               & R             & 1946-1947     & 1979-1980     & 1767          & 801           & 1049          & 1850          &  87           & 1685          &  39           &  5            & 18            & NA            & NA            &   NA          &  -93          & -914         \\\\\n",
       "\t 4             & Ron Francis   &               & C             & 1981-1982     & 2003-2004     & 1731          & 549           & 1249          & 1798          & -10           &  979          & 188           & 12            & 79            & 13            &  3            & 3754          & -345          & -714         \\\\\n",
       "\t 5             & Marcel Dionne &               & C             & 1971-1972     & 1988-1989     & 1348          & 731           & 1040          & 1771          &  28           &  600          & 234           & 19            & 74            &  1            &  2            & 5366          & -163          & -923         \\\\\n",
       "\t 6             & Steve Yzerman &               & C             & 1983-1984     & 2005-2006     & 1514          & 692           & 1063          & 1755          & 202           &  924          & 202           & 50            & 94            & 12            &  8            & 4602          & -202          & -900         \\\\\n",
       "\\end{tabular}\n"
      ],
      "text/markdown": [
       "\n",
       "Rank | Player | Team | Pos | X1st.NHL.Season | Last.NHL.Season | GP | G | A | P | X... | PIM | PP | SH | GW | GT | OT | Shots | G_wayne | A_wayne | \n",
       "|---|---|---|---|---|---|\n",
       "| 1             | Wayne Gretzky |               | C             | 1979-1980     | 1998-1999     | 1487          | 894           | 1963          | 2857          | 518           |  577          | 204           | 73            | 91            | 12            |  1            | 5089          |    0          |    0          | \n",
       "| 2             | Mark Messier  |               | C             | 1979-1980     | 2003-2004     | 1756          | 694           | 1193          | 1887          | 210           | 1910          | 179           | 63            | 92            | 15            |  7            | 4219          | -200          | -770          | \n",
       "| 3             | Gordie Howe   |               | R             | 1946-1947     | 1979-1980     | 1767          | 801           | 1049          | 1850          |  87           | 1685          |  39           |  5            | 18            | NA            | NA            |   NA          |  -93          | -914          | \n",
       "| 4             | Ron Francis   |               | C             | 1981-1982     | 2003-2004     | 1731          | 549           | 1249          | 1798          | -10           |  979          | 188           | 12            | 79            | 13            |  3            | 3754          | -345          | -714          | \n",
       "| 5             | Marcel Dionne |               | C             | 1971-1972     | 1988-1989     | 1348          | 731           | 1040          | 1771          |  28           |  600          | 234           | 19            | 74            |  1            |  2            | 5366          | -163          | -923          | \n",
       "| 6             | Steve Yzerman |               | C             | 1983-1984     | 2005-2006     | 1514          | 692           | 1063          | 1755          | 202           |  924          | 202           | 50            | 94            | 12            |  8            | 4602          | -202          | -900          | \n",
       "\n",
       "\n"
      ],
      "text/plain": [
       "  Rank Player        Team Pos X1st.NHL.Season Last.NHL.Season GP   G   A   \n",
       "1 1    Wayne Gretzky      C   1979-1980       1998-1999       1487 894 1963\n",
       "2 2    Mark Messier       C   1979-1980       2003-2004       1756 694 1193\n",
       "3 3    Gordie Howe        R   1946-1947       1979-1980       1767 801 1049\n",
       "4 4    Ron Francis        C   1981-1982       2003-2004       1731 549 1249\n",
       "5 5    Marcel Dionne      C   1971-1972       1988-1989       1348 731 1040\n",
       "6 6    Steve Yzerman      C   1983-1984       2005-2006       1514 692 1063\n",
       "  P    X... PIM  PP  SH GW GT OT Shots G_wayne A_wayne\n",
       "1 2857 518   577 204 73 91 12  1 5089     0       0   \n",
       "2 1887 210  1910 179 63 92 15  7 4219  -200    -770   \n",
       "3 1850  87  1685  39  5 18 NA NA   NA   -93    -914   \n",
       "4 1798 -10   979 188 12 79 13  3 3754  -345    -714   \n",
       "5 1771  28   600 234 19 74  1  2 5366  -163    -923   \n",
       "6 1755 202   924 202 50 94 12  8 4602  -202    -900   "
      ]
     },
     "metadata": {},
     "output_type": "display_data"
    }
   ],
   "source": [
    "head(data)"
   ]
  },
  {
   "cell_type": "code",
   "execution_count": 167,
   "metadata": {
    "collapsed": false
   },
   "outputs": [],
   "source": [
    "model_wayne <- lm(A_wayne ~ G_wayne,data)"
   ]
  },
  {
   "cell_type": "code",
   "execution_count": 168,
   "metadata": {
    "collapsed": true
   },
   "outputs": [],
   "source": [
    "coefs <- coef(model_wayne)"
   ]
  },
  {
   "cell_type": "code",
   "execution_count": 173,
   "metadata": {
    "collapsed": false
   },
   "outputs": [
    {
     "data": {
      "text/html": [
       "<strong>(Intercept):</strong> -538.357621488048"
      ],
      "text/latex": [
       "\\textbf{(Intercept):} -538.357621488048"
      ],
      "text/markdown": [
       "**(Intercept):** -538.357621488048"
      ],
      "text/plain": [
       "(Intercept) \n",
       "  -538.3576 "
      ]
     },
     "metadata": {},
     "output_type": "display_data"
    }
   ],
   "source": [
    "coefs[1]"
   ]
  },
  {
   "cell_type": "markdown",
   "metadata": {},
   "source": [
    "Plotting the model for Wayne Gretzky"
   ]
  },
  {
   "cell_type": "code",
   "execution_count": 175,
   "metadata": {
    "collapsed": false
   },
   "outputs": [
    {
     "data": {
      "image/png": "[encoded data removed]",
      "text/plain": [
       "plot without title"
      ]
     },
     "metadata": {},
     "output_type": "display_data"
    }
   ],
   "source": [
    "plot(data$G, data$A, pch=20,col=\"blue\", xlab=\"G\",ylab=\"A\")\n",
    "abline(coefs[1],(1963-coefs[1])/894)"
   ]
  },
  {
   "cell_type": "markdown",
   "metadata": {},
   "source": [
    "Noting r2 and p values for wayne gretzky model"
   ]
  },
  {
   "cell_type": "code",
   "execution_count": 186,
   "metadata": {
    "collapsed": false
   },
   "outputs": [
    {
     "data": {
      "text/html": [
       "<table>\n",
       "<thead><tr><th scope=col>Model</th><th scope=col>R_sqaured</th><th scope=col>p_Value</th></tr></thead>\n",
       "<tbody>\n",
       "\t<tr><td>LinearModel         </td><td>0.10823050447434    </td><td>0.000831716923854345</td></tr>\n",
       "\t<tr><td>Wayne Gretzky Model </td><td>0.10823050447434    </td><td>0.000831716923854359</td></tr>\n",
       "\t<tr><td>Patrick Kane Model  </td><td>0.579980304611218   </td><td>1.51216360348177e-20</td></tr>\n",
       "\t<tr><td>Origin Model        </td><td>0.89818610880756    </td><td>6.49089821934292e-51</td></tr>\n",
       "</tbody>\n",
       "</table>\n"
      ],
      "text/latex": [
       "\\begin{tabular}{r|lll}\n",
       " Model & R\\_sqaured & p\\_Value\\\\\n",
       "\\hline\n",
       "\t LinearModel          & 0.10823050447434     & 0.000831716923854345\\\\\n",
       "\t Wayne Gretzky Model  & 0.10823050447434     & 0.000831716923854359\\\\\n",
       "\t Patrick Kane Model   & 0.579980304611218    & 1.51216360348177e-20\\\\\n",
       "\t Origin Model         & 0.89818610880756     & 6.49089821934292e-51\\\\\n",
       "\\end{tabular}\n"
      ],
      "text/markdown": [
       "\n",
       "Model | R_sqaured | p_Value | \n",
       "|---|---|---|---|\n",
       "| LinearModel          | 0.10823050447434     | 0.000831716923854345 | \n",
       "| Wayne Gretzky Model  | 0.10823050447434     | 0.000831716923854359 | \n",
       "| Patrick Kane Model   | 0.579980304611218    | 1.51216360348177e-20 | \n",
       "| Origin Model         | 0.89818610880756     | 6.49089821934292e-51 | \n",
       "\n",
       "\n"
      ],
      "text/plain": [
       "  Model               R_sqaured         p_Value             \n",
       "1 LinearModel         0.10823050447434  0.000831716923854345\n",
       "2 Wayne Gretzky Model 0.10823050447434  0.000831716923854359\n",
       "3 Patrick Kane Model  0.579980304611218 1.51216360348177e-20\n",
       "4 Origin Model        0.89818610880756  6.49089821934292e-51"
      ]
     },
     "metadata": {},
     "output_type": "display_data"
    }
   ],
   "source": [
    "summary_table[2,] <- c(\"Wayne Gretzky Model\",glance(model_wayne)$r.squared,glance(model_wayne)$p.value)\n",
    "head(summary_table)"
   ]
  },
  {
   "cell_type": "markdown",
   "metadata": {},
   "source": [
    "Plotting the model for Wayne Gretzky that  passes through the origin"
   ]
  },
  {
   "cell_type": "code",
   "execution_count": 182,
   "metadata": {
    "collapsed": false
   },
   "outputs": [],
   "source": [
    "model_wayne_origin <- lm(A_wayne ~ G_wayne+0,data)"
   ]
  },
  {
   "cell_type": "code",
   "execution_count": 183,
   "metadata": {
    "collapsed": true
   },
   "outputs": [
    {
     "data": {
      "image/png": "[encoded data removed]",
      "text/plain": [
       "plot without title"
      ]
     },
     "metadata": {},
     "output_type": "display_data"
    }
   ],
   "source": [
    "plot(data$G_wayne, data$A_wayne, pch=20,col=\"blue\", xlab=\"G\",ylab=\"A\")\n",
    "abline(model_wayne_origin)"
   ]
  },
  {
   "cell_type": "markdown",
   "metadata": {},
   "source": [
    "Noting r2 and p values for wayne gretzky model origin"
   ]
  },
  {
   "cell_type": "code",
   "execution_count": 187,
   "metadata": {
    "collapsed": false
   },
   "outputs": [
    {
     "data": {
      "text/html": [
       "<table>\n",
       "<thead><tr><th scope=col>Model</th><th scope=col>R_sqaured</th><th scope=col>p_Value</th></tr></thead>\n",
       "<tbody>\n",
       "\t<tr><td>LinearModel               </td><td>0.10823050447434          </td><td>0.000831716923854345      </td></tr>\n",
       "\t<tr><td>Wayne Gretzky Model       </td><td>0.10823050447434          </td><td>0.000831716923854359      </td></tr>\n",
       "\t<tr><td>Wayne Gretzky Model Origin</td><td>0.970653958204801         </td><td>1.12996626811667e-77      </td></tr>\n",
       "\t<tr><td>Origin Model              </td><td>0.89818610880756          </td><td>6.49089821934292e-51      </td></tr>\n",
       "</tbody>\n",
       "</table>\n"
      ],
      "text/latex": [
       "\\begin{tabular}{r|lll}\n",
       " Model & R\\_sqaured & p\\_Value\\\\\n",
       "\\hline\n",
       "\t LinearModel                & 0.10823050447434           & 0.000831716923854345      \\\\\n",
       "\t Wayne Gretzky Model        & 0.10823050447434           & 0.000831716923854359      \\\\\n",
       "\t Wayne Gretzky Model Origin & 0.970653958204801          & 1.12996626811667e-77      \\\\\n",
       "\t Origin Model               & 0.89818610880756           & 6.49089821934292e-51      \\\\\n",
       "\\end{tabular}\n"
      ],
      "text/markdown": [
       "\n",
       "Model | R_sqaured | p_Value | \n",
       "|---|---|---|---|\n",
       "| LinearModel                | 0.10823050447434           | 0.000831716923854345       | \n",
       "| Wayne Gretzky Model        | 0.10823050447434           | 0.000831716923854359       | \n",
       "| Wayne Gretzky Model Origin | 0.970653958204801          | 1.12996626811667e-77       | \n",
       "| Origin Model               | 0.89818610880756           | 6.49089821934292e-51       | \n",
       "\n",
       "\n"
      ],
      "text/plain": [
       "  Model                      R_sqaured         p_Value             \n",
       "1 LinearModel                0.10823050447434  0.000831716923854345\n",
       "2 Wayne Gretzky Model        0.10823050447434  0.000831716923854359\n",
       "3 Wayne Gretzky Model Origin 0.970653958204801 1.12996626811667e-77\n",
       "4 Origin Model               0.89818610880756  6.49089821934292e-51"
      ]
     },
     "metadata": {},
     "output_type": "display_data"
    }
   ],
   "source": [
    "summary_table[3,] <- c(\"Wayne Gretzky Model Origin\",glance(model_wayne_origin)$r.squared,glance(model_wayne_origin)$p.value)\n",
    "head(summary_table)"
   ]
  },
  {
   "cell_type": "markdown",
   "metadata": {},
   "source": [
    "---------------Patrick Kane Model------------------"
   ]
  },
  {
   "cell_type": "markdown",
   "metadata": {},
   "source": [
    "Adding Patrick Kane gathered data to the data frame"
   ]
  },
  {
   "cell_type": "markdown",
   "metadata": {},
   "source": [
    "Checking the types of the column variables"
   ]
  },
  {
   "cell_type": "code",
   "execution_count": 15,
   "metadata": {
    "collapsed": true
   },
   "outputs": [
    {
     "data": {
      "text/html": [
       "<dl class=dl-horizontal>\n",
       "\t<dt>Rank</dt>\n",
       "\t\t<dd>'integer'</dd>\n",
       "\t<dt>Player</dt>\n",
       "\t\t<dd>'factor'</dd>\n",
       "\t<dt>Team</dt>\n",
       "\t\t<dd>'factor'</dd>\n",
       "\t<dt>Pos</dt>\n",
       "\t\t<dd>'factor'</dd>\n",
       "\t<dt>X1st.NHL.Season</dt>\n",
       "\t\t<dd>'factor'</dd>\n",
       "\t<dt>Last.NHL.Season</dt>\n",
       "\t\t<dd>'factor'</dd>\n",
       "\t<dt>GP</dt>\n",
       "\t\t<dd>'integer'</dd>\n",
       "\t<dt>G</dt>\n",
       "\t\t<dd>'integer'</dd>\n",
       "\t<dt>A</dt>\n",
       "\t\t<dd>'integer'</dd>\n",
       "\t<dt>P</dt>\n",
       "\t\t<dd>'integer'</dd>\n",
       "\t<dt>X...</dt>\n",
       "\t\t<dd>'integer'</dd>\n",
       "\t<dt>PIM</dt>\n",
       "\t\t<dd>'integer'</dd>\n",
       "\t<dt>PP</dt>\n",
       "\t\t<dd>'integer'</dd>\n",
       "\t<dt>SH</dt>\n",
       "\t\t<dd>'integer'</dd>\n",
       "\t<dt>GW</dt>\n",
       "\t\t<dd>'integer'</dd>\n",
       "\t<dt>GT</dt>\n",
       "\t\t<dd>'integer'</dd>\n",
       "\t<dt>OT</dt>\n",
       "\t\t<dd>'integer'</dd>\n",
       "\t<dt>Shots</dt>\n",
       "\t\t<dd>'integer'</dd>\n",
       "\t<dt>G_wayne</dt>\n",
       "\t\t<dd>'numeric'</dd>\n",
       "\t<dt>A_wayne</dt>\n",
       "\t\t<dd>'numeric'</dd>\n",
       "</dl>\n"
      ],
      "text/latex": [
       "\\begin{description*}\n",
       "\\item[Rank] 'integer'\n",
       "\\item[Player] 'factor'\n",
       "\\item[Team] 'factor'\n",
       "\\item[Pos] 'factor'\n",
       "\\item[X1st.NHL.Season] 'factor'\n",
       "\\item[Last.NHL.Season] 'factor'\n",
       "\\item[GP] 'integer'\n",
       "\\item[G] 'integer'\n",
       "\\item[A] 'integer'\n",
       "\\item[P] 'integer'\n",
       "\\item[X...] 'integer'\n",
       "\\item[PIM] 'integer'\n",
       "\\item[PP] 'integer'\n",
       "\\item[SH] 'integer'\n",
       "\\item[GW] 'integer'\n",
       "\\item[GT] 'integer'\n",
       "\\item[OT] 'integer'\n",
       "\\item[Shots] 'integer'\n",
       "\\item[G\\textbackslash{}\\_wayne] 'numeric'\n",
       "\\item[A\\textbackslash{}\\_wayne] 'numeric'\n",
       "\\end{description*}\n"
      ],
      "text/markdown": [
       "Rank\n",
       ":   'integer'Player\n",
       ":   'factor'Team\n",
       ":   'factor'Pos\n",
       ":   'factor'X1st.NHL.Season\n",
       ":   'factor'Last.NHL.Season\n",
       ":   'factor'GP\n",
       ":   'integer'G\n",
       ":   'integer'A\n",
       ":   'integer'P\n",
       ":   'integer'X...\n",
       ":   'integer'PIM\n",
       ":   'integer'PP\n",
       ":   'integer'SH\n",
       ":   'integer'GW\n",
       ":   'integer'GT\n",
       ":   'integer'OT\n",
       ":   'integer'Shots\n",
       ":   'integer'G_wayne\n",
       ":   'numeric'A_wayne\n",
       ":   'numeric'\n",
       "\n"
      ],
      "text/plain": [
       "           Rank          Player            Team             Pos X1st.NHL.Season \n",
       "      \"integer\"        \"factor\"        \"factor\"        \"factor\"        \"factor\" \n",
       "Last.NHL.Season              GP               G               A               P \n",
       "       \"factor\"       \"integer\"       \"integer\"       \"integer\"       \"integer\" \n",
       "           X...             PIM              PP              SH              GW \n",
       "      \"integer\"       \"integer\"       \"integer\"       \"integer\"       \"integer\" \n",
       "             GT              OT           Shots         G_wayne         A_wayne \n",
       "      \"integer\"       \"integer\"       \"integer\"       \"numeric\"       \"numeric\" "
      ]
     },
     "metadata": {},
     "output_type": "display_data"
    }
   ],
   "source": [
    "sapply(data, class)"
   ]
  },
  {
   "cell_type": "code",
   "execution_count": 16,
   "metadata": {
    "collapsed": false
   },
   "outputs": [
    {
     "data": {
      "text/html": [
       "<ol class=list-inline>\n",
       "\t<li>'Rank'</li>\n",
       "\t<li>'Player'</li>\n",
       "\t<li>'Team'</li>\n",
       "\t<li>'Pos'</li>\n",
       "\t<li>'X1st.NHL.Season'</li>\n",
       "\t<li>'Last.NHL.Season'</li>\n",
       "\t<li>'GP'</li>\n",
       "\t<li>'G'</li>\n",
       "\t<li>'A'</li>\n",
       "\t<li>'P'</li>\n",
       "\t<li>'X...'</li>\n",
       "\t<li>'PIM'</li>\n",
       "\t<li>'PP'</li>\n",
       "\t<li>'SH'</li>\n",
       "\t<li>'GW'</li>\n",
       "\t<li>'GT'</li>\n",
       "\t<li>'OT'</li>\n",
       "\t<li>'Shots'</li>\n",
       "\t<li>'G_wayne'</li>\n",
       "\t<li>'A_wayne'</li>\n",
       "</ol>\n"
      ],
      "text/latex": [
       "\\begin{enumerate*}\n",
       "\\item 'Rank'\n",
       "\\item 'Player'\n",
       "\\item 'Team'\n",
       "\\item 'Pos'\n",
       "\\item 'X1st.NHL.Season'\n",
       "\\item 'Last.NHL.Season'\n",
       "\\item 'GP'\n",
       "\\item 'G'\n",
       "\\item 'A'\n",
       "\\item 'P'\n",
       "\\item 'X...'\n",
       "\\item 'PIM'\n",
       "\\item 'PP'\n",
       "\\item 'SH'\n",
       "\\item 'GW'\n",
       "\\item 'GT'\n",
       "\\item 'OT'\n",
       "\\item 'Shots'\n",
       "\\item 'G\\_wayne'\n",
       "\\item 'A\\_wayne'\n",
       "\\end{enumerate*}\n"
      ],
      "text/markdown": [
       "1. 'Rank'\n",
       "2. 'Player'\n",
       "3. 'Team'\n",
       "4. 'Pos'\n",
       "5. 'X1st.NHL.Season'\n",
       "6. 'Last.NHL.Season'\n",
       "7. 'GP'\n",
       "8. 'G'\n",
       "9. 'A'\n",
       "10. 'P'\n",
       "11. 'X...'\n",
       "12. 'PIM'\n",
       "13. 'PP'\n",
       "14. 'SH'\n",
       "15. 'GW'\n",
       "16. 'GT'\n",
       "17. 'OT'\n",
       "18. 'Shots'\n",
       "19. 'G_wayne'\n",
       "20. 'A_wayne'\n",
       "\n",
       "\n"
      ],
      "text/plain": [
       " [1] \"Rank\"            \"Player\"          \"Team\"            \"Pos\"            \n",
       " [5] \"X1st.NHL.Season\" \"Last.NHL.Season\" \"GP\"              \"G\"              \n",
       " [9] \"A\"               \"P\"               \"X...\"            \"PIM\"            \n",
       "[13] \"PP\"              \"SH\"              \"GW\"              \"GT\"             \n",
       "[17] \"OT\"              \"Shots\"           \"G_wayne\"         \"A_wayne\"        "
      ]
     },
     "metadata": {},
     "output_type": "display_data"
    }
   ],
   "source": [
    "colnames(data)"
   ]
  },
  {
   "cell_type": "markdown",
   "metadata": {},
   "source": [
    "Adding one new row with Patrick Kane data"
   ]
  },
  {
   "cell_type": "code",
   "execution_count": 17,
   "metadata": {
    "collapsed": false
   },
   "outputs": [],
   "source": [
    "df<-data.frame(101,\"Patrick Kane\",\"C\",\"\",\"1995-1996\",\"2007-2008\",731,283,460,743,0,282,85,0,49,0,0,2280,-611,-1917)\n",
    "names(df)<-c(\"Rank\",\"Player\",\"Team\",\"Pos\",\"X1st.NHL.Season\",\"Last.NHL.Season\",\n",
    "             \"GP\",\"G\",\"A\",\"P\",\"X...\",\"PIM\",\"PP\",\"SH\",\"GW\",\"GT\",\"OT\",\"Shots\",\"G_wayne\",\"A_wayne\")"
   ]
  },
  {
   "cell_type": "code",
   "execution_count": 18,
   "metadata": {
    "collapsed": true
   },
   "outputs": [],
   "source": [
    "data <- rbind(df, data)"
   ]
  },
  {
   "cell_type": "code",
   "execution_count": 19,
   "metadata": {
    "collapsed": true
   },
   "outputs": [
    {
     "data": {
      "text/html": [
       "<table>\n",
       "<thead><tr><th scope=col>Rank</th><th scope=col>Player</th><th scope=col>Team</th><th scope=col>Pos</th><th scope=col>X1st.NHL.Season</th><th scope=col>Last.NHL.Season</th><th scope=col>GP</th><th scope=col>G</th><th scope=col>A</th><th scope=col>P</th><th scope=col>X...</th><th scope=col>PIM</th><th scope=col>PP</th><th scope=col>SH</th><th scope=col>GW</th><th scope=col>GT</th><th scope=col>OT</th><th scope=col>Shots</th><th scope=col>G_wayne</th><th scope=col>A_wayne</th></tr></thead>\n",
       "<tbody>\n",
       "\t<tr><td>101             </td><td>Patrick Kane    </td><td>C               </td><td>                </td><td>1995-1996       </td><td>2007-2008       </td><td> 731            </td><td>283             </td><td> 460            </td><td> 743            </td><td>  0             </td><td> 282            </td><td> 85             </td><td> 0              </td><td> 49             </td><td> 0              </td><td> 0              </td><td>2280            </td><td>-611            </td><td>-1917           </td></tr>\n",
       "\t<tr><td>  1             </td><td>Wayne Gretzky   </td><td>                </td><td>C               </td><td>1979-1980       </td><td>1998-1999       </td><td>1487            </td><td>894             </td><td>1963            </td><td>2857            </td><td>518             </td><td> 577            </td><td>204             </td><td>73              </td><td> 91             </td><td>12              </td><td> 1              </td><td>5089            </td><td>   0            </td><td>    0           </td></tr>\n",
       "\t<tr><td>  2             </td><td>Mark Messier    </td><td>                </td><td>C               </td><td>1979-1980       </td><td>2003-2004       </td><td>1756            </td><td>694             </td><td>1193            </td><td>1887            </td><td>210             </td><td>1910            </td><td>179             </td><td>63              </td><td> 92             </td><td>15              </td><td> 7              </td><td>4219            </td><td>-200            </td><td> -770           </td></tr>\n",
       "\t<tr><td>  3             </td><td>Gordie Howe     </td><td>                </td><td>R               </td><td>1946-1947       </td><td>1979-1980       </td><td>1767            </td><td>801             </td><td>1049            </td><td>1850            </td><td> 87             </td><td>1685            </td><td> 39             </td><td> 5              </td><td> 18             </td><td>NA              </td><td>NA              </td><td>  NA            </td><td> -93            </td><td> -914           </td></tr>\n",
       "\t<tr><td>  4             </td><td>Ron Francis     </td><td>                </td><td>C               </td><td>1981-1982       </td><td>2003-2004       </td><td>1731            </td><td>549             </td><td>1249            </td><td>1798            </td><td>-10             </td><td> 979            </td><td>188             </td><td>12              </td><td> 79             </td><td>13              </td><td> 3              </td><td>3754            </td><td>-345            </td><td> -714           </td></tr>\n",
       "\t<tr><td>  5             </td><td>Marcel Dionne   </td><td>                </td><td>C               </td><td>1971-1972       </td><td>1988-1989       </td><td>1348            </td><td>731             </td><td>1040            </td><td>1771            </td><td> 28             </td><td> 600            </td><td>234             </td><td>19              </td><td> 74             </td><td> 1              </td><td> 2              </td><td>5366            </td><td>-163            </td><td> -923           </td></tr>\n",
       "\t<tr><td>  6             </td><td>Steve Yzerman   </td><td>                </td><td>C               </td><td>1983-1984       </td><td>2005-2006       </td><td>1514            </td><td>692             </td><td>1063            </td><td>1755            </td><td>202             </td><td> 924            </td><td>202             </td><td>50              </td><td> 94             </td><td>12              </td><td> 8              </td><td>4602            </td><td>-202            </td><td> -900           </td></tr>\n",
       "\t<tr><td>  7             </td><td>Mario Lemieux   </td><td>                </td><td>C               </td><td>1984-1985       </td><td>2005-2006       </td><td> 915            </td><td>690             </td><td>1033            </td><td>1723            </td><td>115             </td><td> 834            </td><td>236             </td><td>49              </td><td> 74             </td><td> 7              </td><td> 7              </td><td>3633            </td><td>-204            </td><td> -930           </td></tr>\n",
       "\t<tr><td>  8             </td><td>Jaromir Jagr    </td><td>NJD             </td><td>R               </td><td>1990-1991       </td><td>2012-2013       </td><td>1391            </td><td>681             </td><td>1007            </td><td>1688            </td><td>278             </td><td> 959            </td><td>195             </td><td>11              </td><td>118             </td><td>11              </td><td>17              </td><td>4881            </td><td>-213            </td><td> -956           </td></tr>\n",
       "\t<tr><td>  9             </td><td>Joe Sakic       </td><td>                </td><td>C               </td><td>1988-1989       </td><td>2008-2009       </td><td>1378            </td><td>625             </td><td>1016            </td><td>1641            </td><td> 30             </td><td> 614            </td><td>205             </td><td>32              </td><td> 86             </td><td>13              </td><td> 7              </td><td>4621            </td><td>-269            </td><td> -947           </td></tr>\n",
       "\t<tr><td> 10             </td><td>Phil Esposito   </td><td>                </td><td>C               </td><td>1963-1964       </td><td>1980-1981       </td><td>1282            </td><td>717             </td><td> 873            </td><td>1590            </td><td>197             </td><td> 910            </td><td>249             </td><td>23              </td><td>118             </td><td>NA              </td><td>NA              </td><td>  NA            </td><td>-177            </td><td>-1090           </td></tr>\n",
       "\t<tr><td> 11             </td><td>Ray Bourque     </td><td>                </td><td>D               </td><td>1979-1980       </td><td>2000-2001       </td><td>1612            </td><td>410             </td><td>1169            </td><td>1579            </td><td>528             </td><td>1141            </td><td>173             </td><td>16              </td><td> 60             </td><td>14              </td><td> 4              </td><td>6206            </td><td>-484            </td><td> -794           </td></tr>\n",
       "\t<tr><td> 12             </td><td>Mark Recchi     </td><td>                </td><td>R               </td><td>1988-1989       </td><td>2010-2011       </td><td>1652            </td><td>577             </td><td> 956            </td><td>1533            </td><td>  0             </td><td>1033            </td><td>200             </td><td>18              </td><td> 91             </td><td> 6              </td><td> 6              </td><td>3820            </td><td>-317            </td><td>-1007           </td></tr>\n",
       "\t<tr><td> 13             </td><td>Paul Coffey     </td><td>                </td><td>D               </td><td>1980-1981       </td><td>2000-2001       </td><td>1409            </td><td>396             </td><td>1135            </td><td>1531            </td><td>294             </td><td>1802            </td><td>135             </td><td>20              </td><td> 43             </td><td> 4              </td><td> 0              </td><td>4385            </td><td>-498            </td><td> -828           </td></tr>\n",
       "\t<tr><td> 14             </td><td>Stan Mikita     </td><td>                </td><td>C               </td><td>1958-1959       </td><td>1979-1980       </td><td>1394            </td><td>541             </td><td> 926            </td><td>1467            </td><td>159             </td><td>1270            </td><td> 86             </td><td> 9              </td><td> 48             </td><td>NA              </td><td>NA              </td><td>  NA            </td><td>-353            </td><td>-1037           </td></tr>\n",
       "\t<tr><td> 15             </td><td>Teemu Selanne   </td><td>                </td><td>R               </td><td>1992-1993       </td><td>2012-2013       </td><td>1387            </td><td>675             </td><td> 755            </td><td>1430            </td><td> 87             </td><td> 648            </td><td>251             </td><td> 7              </td><td>107             </td><td>11              </td><td> 9              </td><td>4429            </td><td>-219            </td><td>-1208           </td></tr>\n",
       "\t<tr><td> 16             </td><td>Bryan Trottier  </td><td>                </td><td>C               </td><td>1975-1976       </td><td>1993-1994       </td><td>1279            </td><td>524             </td><td> 901            </td><td>1425            </td><td>452             </td><td> 912            </td><td>161             </td><td>19              </td><td> 68             </td><td> 2              </td><td> 0              </td><td>2841            </td><td>-370            </td><td>-1062           </td></tr>\n",
       "\t<tr><td> 17             </td><td>Adam Oates      </td><td>                </td><td>C               </td><td>1985-1986       </td><td>2003-2004       </td><td>1337            </td><td>341             </td><td>1079            </td><td>1420            </td><td> 35             </td><td> 415            </td><td>103             </td><td>12              </td><td> 56             </td><td> 6              </td><td> 5              </td><td>2392            </td><td>-553            </td><td> -884           </td></tr>\n",
       "\t<tr><td> 18             </td><td>Doug Gilmour    </td><td>                </td><td>C               </td><td>1983-1984       </td><td>2002-2003       </td><td>1474            </td><td>450             </td><td> 964            </td><td>1414            </td><td>132             </td><td>1301            </td><td>153             </td><td>18              </td><td> 56             </td><td>15              </td><td> 2              </td><td>2833            </td><td>-444            </td><td> -999           </td></tr>\n",
       "\t<tr><td> 19             </td><td>Dale Hawerchuk  </td><td>                </td><td>C               </td><td>1981-1982       </td><td>1996-1997       </td><td>1188            </td><td>518             </td><td> 891            </td><td>1409            </td><td>-92             </td><td> 740            </td><td>182             </td><td>13              </td><td> 49             </td><td> 3              </td><td> 2              </td><td>3754            </td><td>-376            </td><td>-1072           </td></tr>\n",
       "\t<tr><td> 20             </td><td>Jari Kurri      </td><td>                </td><td>R               </td><td>1980-1981       </td><td>1997-1998       </td><td>1251            </td><td>601             </td><td> 797            </td><td>1398            </td><td>282             </td><td> 545            </td><td>150             </td><td>37              </td><td> 67             </td><td> 7              </td><td> 3              </td><td>3142            </td><td>-293            </td><td>-1166           </td></tr>\n",
       "\t<tr><td> 21             </td><td>Luc Robitaille  </td><td>                </td><td>L               </td><td>1986-1987       </td><td>2005-2006       </td><td>1431            </td><td>668             </td><td> 726            </td><td>1394            </td><td> 72             </td><td>1177            </td><td>247             </td><td> 3              </td><td> 89             </td><td>14              </td><td> 7              </td><td>3961            </td><td>-226            </td><td>-1237           </td></tr>\n",
       "\t<tr><td> 22             </td><td>Brett Hull      </td><td>                </td><td>R               </td><td>1985-1986       </td><td>2005-2006       </td><td>1269            </td><td>741             </td><td> 650            </td><td>1391            </td><td> 23             </td><td> 458            </td><td>265             </td><td>20              </td><td>110             </td><td>12              </td><td>12              </td><td>4876            </td><td>-153            </td><td>-1313           </td></tr>\n",
       "\t<tr><td> 23             </td><td>Mike Modano     </td><td>                </td><td>C               </td><td>1988-1989       </td><td>2010-2011       </td><td>1499            </td><td>561             </td><td> 813            </td><td>1374            </td><td>114             </td><td> 926            </td><td>157             </td><td>29              </td><td> 92             </td><td>15              </td><td> 9              </td><td>4273            </td><td>-333            </td><td>-1150           </td></tr>\n",
       "\t<tr><td> 24             </td><td>John Bucyk      </td><td>                </td><td>L               </td><td>1955-1956       </td><td>1977-1978       </td><td>1540            </td><td>556             </td><td> 813            </td><td>1369            </td><td>146             </td><td> 497            </td><td>121             </td><td> 1              </td><td> 59             </td><td>NA              </td><td>NA              </td><td>  NA            </td><td>-338            </td><td>-1150           </td></tr>\n",
       "\t<tr><td> 25             </td><td>Brendan Shanahan</td><td>                </td><td>L               </td><td>1987-1988       </td><td>2008-2009       </td><td>1524            </td><td>656             </td><td> 698            </td><td>1354            </td><td>151             </td><td>2489            </td><td>237             </td><td>23              </td><td>109             </td><td>15              </td><td>12              </td><td>5086            </td><td>-238            </td><td>-1265           </td></tr>\n",
       "\t<tr><td> 26             </td><td>Guy Lafleur     </td><td>                </td><td>R               </td><td>1971-1972       </td><td>1990-1991       </td><td>1126            </td><td>560             </td><td> 793            </td><td>1353            </td><td>453             </td><td> 399            </td><td>153             </td><td> 3              </td><td> 97             </td><td> 0              </td><td> 0              </td><td>3521            </td><td>-334            </td><td>-1170           </td></tr>\n",
       "\t<tr><td> 27             </td><td>Mats Sundin     </td><td>                </td><td>C               </td><td>1990-1991       </td><td>2008-2009       </td><td>1346            </td><td>564             </td><td> 785            </td><td>1349            </td><td> 73             </td><td>1093            </td><td>160             </td><td>31              </td><td> 96             </td><td>11              </td><td>15              </td><td>4015            </td><td>-330            </td><td>-1178           </td></tr>\n",
       "\t<tr><td> 28             </td><td>Dave Andreychuk </td><td>                </td><td>L               </td><td>1982-1983       </td><td>2005-2006       </td><td>1639            </td><td>640             </td><td> 698            </td><td>1338            </td><td> 38             </td><td>1125            </td><td>274             </td><td>11              </td><td> 77             </td><td>17              </td><td> 5              </td><td>4556            </td><td>-254            </td><td>-1265           </td></tr>\n",
       "\t<tr><td> 29             </td><td>Denis Savard    </td><td>                </td><td>C               </td><td>1980-1981       </td><td>1996-1997       </td><td>1196            </td><td>473             </td><td> 865            </td><td>1338            </td><td> 97             </td><td>1336            </td><td>127             </td><td>20              </td><td> 56             </td><td> 4              </td><td> 1              </td><td>3143            </td><td>-421            </td><td>-1098           </td></tr>\n",
       "\t<tr><td>...</td><td>...</td><td>...</td><td>...</td><td>...</td><td>...</td><td>...</td><td>...</td><td>...</td><td>...</td><td>...</td><td>...</td><td>...</td><td>...</td><td>...</td><td>...</td><td>...</td><td>...</td><td>...</td><td>...</td></tr>\n",
       "\t<tr><td> 71            </td><td>Alex Kovalev   </td><td>               </td><td>R              </td><td>1992-1993      </td><td>2012-2013      </td><td>1316           </td><td>430            </td><td>599            </td><td>1029           </td><td> -31           </td><td>1304           </td><td>133            </td><td> 9             </td><td>70             </td><td> 8             </td><td> 8             </td><td>3585           </td><td>-464           </td><td>-1364          </td></tr>\n",
       "\t<tr><td> 72            </td><td>Brian Leetch   </td><td>               </td><td>D              </td><td>1987-1988      </td><td>2005-2006      </td><td>1205           </td><td>247            </td><td>781            </td><td>1028           </td><td>  25           </td><td> 571           </td><td>111            </td><td> 8             </td><td>38             </td><td> 9             </td><td> 7             </td><td>3640           </td><td>-647           </td><td>-1182          </td></tr>\n",
       "\t<tr><td> 73            </td><td>Brian Bellows  </td><td>               </td><td>L              </td><td>1982-1983      </td><td>1998-1999      </td><td>1188           </td><td>485            </td><td>537            </td><td>1022           </td><td>-125           </td><td> 718           </td><td>198            </td><td>13             </td><td>58             </td><td> 2             </td><td> 5             </td><td>3588           </td><td>-409           </td><td>-1426          </td></tr>\n",
       "\t<tr><td> 74            </td><td>Rod Gilbert    </td><td>               </td><td>R              </td><td>1960-1961      </td><td>1977-1978      </td><td>1065           </td><td>406            </td><td>615            </td><td>1021           </td><td>  89           </td><td> 508           </td><td> 83            </td><td> 0             </td><td>40             </td><td>NA             </td><td>NA             </td><td>  NA           </td><td>-488           </td><td>-1348          </td></tr>\n",
       "\t<tr><td> 75            </td><td>Dale Hunter    </td><td>               </td><td>C              </td><td>1980-1981      </td><td>1998-1999      </td><td>1407           </td><td>323            </td><td>697            </td><td>1020           </td><td>  98           </td><td>3565           </td><td> 92            </td><td>10             </td><td>41             </td><td> 5             </td><td> 3             </td><td>2045           </td><td>-571           </td><td>-1266          </td></tr>\n",
       "\t<tr><td> 76            </td><td>Pat LaFontaine </td><td>               </td><td>C              </td><td>1983-1984      </td><td>1997-1998      </td><td> 865           </td><td>468            </td><td>545            </td><td>1013           </td><td>  -4           </td><td> 552           </td><td>156            </td><td>11             </td><td>59             </td><td>11             </td><td> 3             </td><td>2665           </td><td>-426           </td><td>-1418          </td></tr>\n",
       "\t<tr><td> 77            </td><td>Steve Larmer   </td><td>               </td><td>R              </td><td>1980-1981      </td><td>1994-1995      </td><td>1006           </td><td>441            </td><td>571            </td><td>1012           </td><td> 204           </td><td> 532           </td><td>162            </td><td>24             </td><td>60             </td><td> 1             </td><td> 1             </td><td>2803           </td><td>-453           </td><td>-1392          </td></tr>\n",
       "\t<tr><td> 78            </td><td>Lanny Mcdonald </td><td>               </td><td>R              </td><td>1973-1974      </td><td>1988-1989      </td><td>1111           </td><td>500            </td><td>506            </td><td>1006           </td><td>  41           </td><td> 899           </td><td>139            </td><td>11             </td><td>53             </td><td> 0             </td><td> 0             </td><td>3444           </td><td>-394           </td><td>-1457          </td></tr>\n",
       "\t<tr><td> 79            </td><td>Brian Propp    </td><td>               </td><td>L              </td><td>1979-1980      </td><td>1993-1994      </td><td>1016           </td><td>425            </td><td>579            </td><td>1004           </td><td> 310           </td><td> 830           </td><td>120            </td><td>22             </td><td>59             </td><td> 1             </td><td> 1             </td><td>3111           </td><td>-469           </td><td>-1384          </td></tr>\n",
       "\t<tr><td> 80            </td><td>Paul Kariya    </td><td>               </td><td>L              </td><td>1994-1995      </td><td>2009-2010      </td><td> 989           </td><td>402            </td><td>587            </td><td> 989           </td><td>  31           </td><td> 399           </td><td>139            </td><td>17             </td><td>53             </td><td> 4             </td><td> 4             </td><td>3509           </td><td>-492           </td><td>-1376          </td></tr>\n",
       "\t<tr><td> 81            </td><td>Rick Middleton </td><td>               </td><td>R              </td><td>1974-1975      </td><td>1987-1988      </td><td>1005           </td><td>448            </td><td>540            </td><td> 988           </td><td> 180           </td><td> 157           </td><td>115            </td><td>25             </td><td>59             </td><td> 0             </td><td> 0             </td><td>2275           </td><td>-446           </td><td>-1423          </td></tr>\n",
       "\t<tr><td> 82            </td><td>David Keon     </td><td>               </td><td>C              </td><td>1960-1961      </td><td>1981-1982      </td><td>1296           </td><td>396            </td><td>590            </td><td> 986           </td><td> -12           </td><td> 117           </td><td> 32            </td><td>24             </td><td>40             </td><td>NA             </td><td>NA             </td><td>  NA           </td><td>-498           </td><td>-1373          </td></tr>\n",
       "\t<tr><td> 83            </td><td>Andy Bathgate  </td><td>               </td><td>R              </td><td>1952-1953      </td><td>1970-1971      </td><td>1069           </td><td>349            </td><td>624            </td><td> 973           </td><td> -22           </td><td> 624           </td><td>  9            </td><td> 0             </td><td> 7             </td><td>NA             </td><td>NA             </td><td>  NA           </td><td>-545           </td><td>-1339          </td></tr>\n",
       "\t<tr><td> 84            </td><td>Maurice Richard</td><td>               </td><td>R              </td><td>1942-1943      </td><td>1959-1960      </td><td> 978           </td><td>544            </td><td>421            </td><td> 965           </td><td>  NA           </td><td>1285           </td><td> NA            </td><td>NA             </td><td>NA             </td><td>NA             </td><td>NA             </td><td>  NA           </td><td>-350           </td><td>-1542          </td></tr>\n",
       "\t<tr><td> 85            </td><td>Kirk Muller    </td><td>               </td><td>L              </td><td>1984-1985      </td><td>2002-2003      </td><td>1349           </td><td>357            </td><td>602            </td><td> 959           </td><td>-146           </td><td>1223           </td><td>134            </td><td>11             </td><td>47             </td><td> 6             </td><td> 5             </td><td>2792           </td><td>-537           </td><td>-1361          </td></tr>\n",
       "\t<tr><td> 86            </td><td>Larry Robinson </td><td>               </td><td>D              </td><td>1972-1973      </td><td>1991-1992      </td><td>1384           </td><td>208            </td><td>750            </td><td> 958           </td><td> 730           </td><td> 793           </td><td> 66            </td><td> 3             </td><td>29             </td><td> 2             </td><td> 0             </td><td>2338           </td><td>-686           </td><td>-1213          </td></tr>\n",
       "\t<tr><td> 87            </td><td>Rick Tocchet   </td><td>               </td><td>R              </td><td>1984-1985      </td><td>2001-2002      </td><td>1144           </td><td>440            </td><td>512            </td><td> 952           </td><td>  82           </td><td>2972           </td><td>130            </td><td>13             </td><td>50             </td><td> 9             </td><td> 2             </td><td>2804           </td><td>-454           </td><td>-1451          </td></tr>\n",
       "\t<tr><td> 88            </td><td>Chris Chelios  </td><td>               </td><td>D              </td><td>1983-1984      </td><td>2009-2010      </td><td>1651           </td><td>185            </td><td>763            </td><td> 948           </td><td> 350           </td><td>2891           </td><td> 69            </td><td>13             </td><td>31             </td><td> 5             </td><td> 1             </td><td>3626           </td><td>-709           </td><td>-1200          </td></tr>\n",
       "\t<tr><td> 89            </td><td>Jason Arnott   </td><td>               </td><td>C              </td><td>1993-1994      </td><td>2011-2012      </td><td>1244           </td><td>417            </td><td>521            </td><td> 938           </td><td>  81           </td><td>1242           </td><td>145            </td><td> 2             </td><td>64             </td><td> 7             </td><td> 6             </td><td>3460           </td><td>-477           </td><td>-1442          </td></tr>\n",
       "\t<tr><td> 90            </td><td>Marian Hossa   </td><td>CHI            </td><td>R              </td><td>1997-1998      </td><td>2012-2013      </td><td>1018           </td><td>434            </td><td>501            </td><td> 935           </td><td> 183           </td><td> 544           </td><td>126            </td><td>26             </td><td>70             </td><td> 5             </td><td>11             </td><td>3383           </td><td>-460           </td><td>-1462          </td></tr>\n",
       "\t<tr><td> 91            </td><td>Steve Thomas   </td><td>               </td><td>R              </td><td>1984-1985      </td><td>2003-2004      </td><td>1235           </td><td>421            </td><td>512            </td><td> 933           </td><td>  30           </td><td>1306           </td><td>106            </td><td> 0             </td><td>78             </td><td> 7             </td><td>10             </td><td>3170           </td><td>-473           </td><td>-1451          </td></tr>\n",
       "\t<tr><td> 92            </td><td>Patrik Elias   </td><td>NJD            </td><td>L              </td><td>1995-1996      </td><td>2012-2013      </td><td>1090           </td><td>375            </td><td>555            </td><td> 930           </td><td> 191           </td><td> 497           </td><td>104            </td><td>14             </td><td>78             </td><td> 4             </td><td>15             </td><td>3036           </td><td>-519           </td><td>-1408          </td></tr>\n",
       "\t<tr><td> 93            </td><td>Neal Broten    </td><td>               </td><td>C              </td><td>1980-1981      </td><td>1996-1997      </td><td>1099           </td><td>289            </td><td>634            </td><td> 923           </td><td>  18           </td><td> 569           </td><td> 67            </td><td>25             </td><td>34             </td><td> 3             </td><td> 2             </td><td>2316           </td><td>-605           </td><td>-1329          </td></tr>\n",
       "\t<tr><td> 94            </td><td>Bobby Orr      </td><td>               </td><td>D              </td><td>1966-1967      </td><td>1978-1979      </td><td> 657           </td><td>270            </td><td>645            </td><td> 915           </td><td> 597           </td><td> 953           </td><td> 73            </td><td>15             </td><td>26             </td><td>NA             </td><td>NA             </td><td>  NA           </td><td>-624           </td><td>-1318          </td></tr>\n",
       "\t<tr><td> 95            </td><td>Martin St Louis</td><td>TBL            </td><td>R              </td><td>1998-1999      </td><td>2012-2013      </td><td> 979           </td><td>340            </td><td>572            </td><td> 912           </td><td>  12           </td><td> 280           </td><td> 87            </td><td>28             </td><td>60             </td><td> 5             </td><td> 9             </td><td>2536           </td><td>-554           </td><td>-1391          </td></tr>\n",
       "\t<tr><td> 96            </td><td>Gary Roberts   </td><td>               </td><td>L              </td><td>1986-1987      </td><td>2008-2009      </td><td>1224           </td><td>438            </td><td>472            </td><td> 910           </td><td> 229           </td><td>2560           </td><td>109            </td><td>13             </td><td>52             </td><td>11             </td><td> 5             </td><td>2374           </td><td>-456           </td><td>-1491          </td></tr>\n",
       "\t<tr><td> 97            </td><td>Scott Stevens  </td><td>               </td><td>D              </td><td>1982-1983      </td><td>2003-2004      </td><td>1635           </td><td>196            </td><td>712            </td><td> 908           </td><td> 377           </td><td>2785           </td><td> 75            </td><td> 5             </td><td>34             </td><td> 0             </td><td> 2             </td><td>3240           </td><td>-698           </td><td>-1251          </td></tr>\n",
       "\t<tr><td> 98            </td><td>Tony Amonte    </td><td>               </td><td>R              </td><td>1990-1991      </td><td>2006-2007      </td><td>1174           </td><td>416            </td><td>484            </td><td> 900           </td><td>  96           </td><td> 752           </td><td>108            </td><td>23             </td><td>58             </td><td> 7             </td><td> 6             </td><td>3260           </td><td>-478           </td><td>-1479          </td></tr>\n",
       "\t<tr><td> 99            </td><td>Ray Ferraro    </td><td>               </td><td>C              </td><td>1984-1985      </td><td>2001-2002      </td><td>1258           </td><td>408            </td><td>490            </td><td> 898           </td><td>-104           </td><td>1288           </td><td>130            </td><td> 0             </td><td>45             </td><td>11             </td><td> 6             </td><td>2164           </td><td>-486           </td><td>-1473          </td></tr>\n",
       "\t<tr><td>100            </td><td>Brad Park      </td><td>               </td><td>D              </td><td>1968-1969      </td><td>1984-1985      </td><td>1113           </td><td>213            </td><td>683            </td><td> 896           </td><td> 358           </td><td>1429           </td><td> 93            </td><td> 5             </td><td>28             </td><td>NA             </td><td>NA             </td><td>2820           </td><td>-681           </td><td>-1280          </td></tr>\n",
       "</tbody>\n",
       "</table>\n"
      ],
      "text/latex": [
       "\\begin{tabular}{r|llllllllllllllllllll}\n",
       " Rank & Player & Team & Pos & X1st.NHL.Season & Last.NHL.Season & GP & G & A & P & X... & PIM & PP & SH & GW & GT & OT & Shots & G\\_wayne & A\\_wayne\\\\\n",
       "\\hline\n",
       "\t 101              & Patrick Kane     & C                &                  & 1995-1996        & 2007-2008        &  731             & 283              &  460             &  743             &   0              &  282             &  85              &  0               &  49              &  0               &  0               & 2280             & -611             & -1917           \\\\\n",
       "\t   1              & Wayne Gretzky    &                  & C                & 1979-1980        & 1998-1999        & 1487             & 894              & 1963             & 2857             & 518              &  577             & 204              & 73               &  91              & 12               &  1               & 5089             &    0             &     0           \\\\\n",
       "\t   2              & Mark Messier     &                  & C                & 1979-1980        & 2003-2004        & 1756             & 694              & 1193             & 1887             & 210              & 1910             & 179              & 63               &  92              & 15               &  7               & 4219             & -200             &  -770           \\\\\n",
       "\t   3              & Gordie Howe      &                  & R                & 1946-1947        & 1979-1980        & 1767             & 801              & 1049             & 1850             &  87              & 1685             &  39              &  5               &  18              & NA               & NA               &   NA             &  -93             &  -914           \\\\\n",
       "\t   4              & Ron Francis      &                  & C                & 1981-1982        & 2003-2004        & 1731             & 549              & 1249             & 1798             & -10              &  979             & 188              & 12               &  79              & 13               &  3               & 3754             & -345             &  -714           \\\\\n",
       "\t   5              & Marcel Dionne    &                  & C                & 1971-1972        & 1988-1989        & 1348             & 731              & 1040             & 1771             &  28              &  600             & 234              & 19               &  74              &  1               &  2               & 5366             & -163             &  -923           \\\\\n",
       "\t   6              & Steve Yzerman    &                  & C                & 1983-1984        & 2005-2006        & 1514             & 692              & 1063             & 1755             & 202              &  924             & 202              & 50               &  94              & 12               &  8               & 4602             & -202             &  -900           \\\\\n",
       "\t   7              & Mario Lemieux    &                  & C                & 1984-1985        & 2005-2006        &  915             & 690              & 1033             & 1723             & 115              &  834             & 236              & 49               &  74              &  7               &  7               & 3633             & -204             &  -930           \\\\\n",
       "\t   8              & Jaromir Jagr     & NJD              & R                & 1990-1991        & 2012-2013        & 1391             & 681              & 1007             & 1688             & 278              &  959             & 195              & 11               & 118              & 11               & 17               & 4881             & -213             &  -956           \\\\\n",
       "\t   9              & Joe Sakic        &                  & C                & 1988-1989        & 2008-2009        & 1378             & 625              & 1016             & 1641             &  30              &  614             & 205              & 32               &  86              & 13               &  7               & 4621             & -269             &  -947           \\\\\n",
       "\t  10              & Phil Esposito    &                  & C                & 1963-1964        & 1980-1981        & 1282             & 717              &  873             & 1590             & 197              &  910             & 249              & 23               & 118              & NA               & NA               &   NA             & -177             & -1090           \\\\\n",
       "\t  11              & Ray Bourque      &                  & D                & 1979-1980        & 2000-2001        & 1612             & 410              & 1169             & 1579             & 528              & 1141             & 173              & 16               &  60              & 14               &  4               & 6206             & -484             &  -794           \\\\\n",
       "\t  12              & Mark Recchi      &                  & R                & 1988-1989        & 2010-2011        & 1652             & 577              &  956             & 1533             &   0              & 1033             & 200              & 18               &  91              &  6               &  6               & 3820             & -317             & -1007           \\\\\n",
       "\t  13              & Paul Coffey      &                  & D                & 1980-1981        & 2000-2001        & 1409             & 396              & 1135             & 1531             & 294              & 1802             & 135              & 20               &  43              &  4               &  0               & 4385             & -498             &  -828           \\\\\n",
       "\t  14              & Stan Mikita      &                  & C                & 1958-1959        & 1979-1980        & 1394             & 541              &  926             & 1467             & 159              & 1270             &  86              &  9               &  48              & NA               & NA               &   NA             & -353             & -1037           \\\\\n",
       "\t  15              & Teemu Selanne    &                  & R                & 1992-1993        & 2012-2013        & 1387             & 675              &  755             & 1430             &  87              &  648             & 251              &  7               & 107              & 11               &  9               & 4429             & -219             & -1208           \\\\\n",
       "\t  16              & Bryan Trottier   &                  & C                & 1975-1976        & 1993-1994        & 1279             & 524              &  901             & 1425             & 452              &  912             & 161              & 19               &  68              &  2               &  0               & 2841             & -370             & -1062           \\\\\n",
       "\t  17              & Adam Oates       &                  & C                & 1985-1986        & 2003-2004        & 1337             & 341              & 1079             & 1420             &  35              &  415             & 103              & 12               &  56              &  6               &  5               & 2392             & -553             &  -884           \\\\\n",
       "\t  18              & Doug Gilmour     &                  & C                & 1983-1984        & 2002-2003        & 1474             & 450              &  964             & 1414             & 132              & 1301             & 153              & 18               &  56              & 15               &  2               & 2833             & -444             &  -999           \\\\\n",
       "\t  19              & Dale Hawerchuk   &                  & C                & 1981-1982        & 1996-1997        & 1188             & 518              &  891             & 1409             & -92              &  740             & 182              & 13               &  49              &  3               &  2               & 3754             & -376             & -1072           \\\\\n",
       "\t  20              & Jari Kurri       &                  & R                & 1980-1981        & 1997-1998        & 1251             & 601              &  797             & 1398             & 282              &  545             & 150              & 37               &  67              &  7               &  3               & 3142             & -293             & -1166           \\\\\n",
       "\t  21              & Luc Robitaille   &                  & L                & 1986-1987        & 2005-2006        & 1431             & 668              &  726             & 1394             &  72              & 1177             & 247              &  3               &  89              & 14               &  7               & 3961             & -226             & -1237           \\\\\n",
       "\t  22              & Brett Hull       &                  & R                & 1985-1986        & 2005-2006        & 1269             & 741              &  650             & 1391             &  23              &  458             & 265              & 20               & 110              & 12               & 12               & 4876             & -153             & -1313           \\\\\n",
       "\t  23              & Mike Modano      &                  & C                & 1988-1989        & 2010-2011        & 1499             & 561              &  813             & 1374             & 114              &  926             & 157              & 29               &  92              & 15               &  9               & 4273             & -333             & -1150           \\\\\n",
       "\t  24              & John Bucyk       &                  & L                & 1955-1956        & 1977-1978        & 1540             & 556              &  813             & 1369             & 146              &  497             & 121              &  1               &  59              & NA               & NA               &   NA             & -338             & -1150           \\\\\n",
       "\t  25              & Brendan Shanahan &                  & L                & 1987-1988        & 2008-2009        & 1524             & 656              &  698             & 1354             & 151              & 2489             & 237              & 23               & 109              & 15               & 12               & 5086             & -238             & -1265           \\\\\n",
       "\t  26              & Guy Lafleur      &                  & R                & 1971-1972        & 1990-1991        & 1126             & 560              &  793             & 1353             & 453              &  399             & 153              &  3               &  97              &  0               &  0               & 3521             & -334             & -1170           \\\\\n",
       "\t  27              & Mats Sundin      &                  & C                & 1990-1991        & 2008-2009        & 1346             & 564              &  785             & 1349             &  73              & 1093             & 160              & 31               &  96              & 11               & 15               & 4015             & -330             & -1178           \\\\\n",
       "\t  28              & Dave Andreychuk  &                  & L                & 1982-1983        & 2005-2006        & 1639             & 640              &  698             & 1338             &  38              & 1125             & 274              & 11               &  77              & 17               &  5               & 4556             & -254             & -1265           \\\\\n",
       "\t  29              & Denis Savard     &                  & C                & 1980-1981        & 1996-1997        & 1196             & 473              &  865             & 1338             &  97              & 1336             & 127              & 20               &  56              &  4               &  1               & 3143             & -421             & -1098           \\\\\n",
       "\t ... & ... & ... & ... & ... & ... & ... & ... & ... & ... & ... & ... & ... & ... & ... & ... & ... & ... & ... & ...\\\\\n",
       "\t  71             & Alex Kovalev    &                 & R               & 1992-1993       & 2012-2013       & 1316            & 430             & 599             & 1029            &  -31            & 1304            & 133             &  9              & 70              &  8              &  8              & 3585            & -464            & -1364          \\\\\n",
       "\t  72             & Brian Leetch    &                 & D               & 1987-1988       & 2005-2006       & 1205            & 247             & 781             & 1028            &   25            &  571            & 111             &  8              & 38              &  9              &  7              & 3640            & -647            & -1182          \\\\\n",
       "\t  73             & Brian Bellows   &                 & L               & 1982-1983       & 1998-1999       & 1188            & 485             & 537             & 1022            & -125            &  718            & 198             & 13              & 58              &  2              &  5              & 3588            & -409            & -1426          \\\\\n",
       "\t  74             & Rod Gilbert     &                 & R               & 1960-1961       & 1977-1978       & 1065            & 406             & 615             & 1021            &   89            &  508            &  83             &  0              & 40              & NA              & NA              &   NA            & -488            & -1348          \\\\\n",
       "\t  75             & Dale Hunter     &                 & C               & 1980-1981       & 1998-1999       & 1407            & 323             & 697             & 1020            &   98            & 3565            &  92             & 10              & 41              &  5              &  3              & 2045            & -571            & -1266          \\\\\n",
       "\t  76             & Pat LaFontaine  &                 & C               & 1983-1984       & 1997-1998       &  865            & 468             & 545             & 1013            &   -4            &  552            & 156             & 11              & 59              & 11              &  3              & 2665            & -426            & -1418          \\\\\n",
       "\t  77             & Steve Larmer    &                 & R               & 1980-1981       & 1994-1995       & 1006            & 441             & 571             & 1012            &  204            &  532            & 162             & 24              & 60              &  1              &  1              & 2803            & -453            & -1392          \\\\\n",
       "\t  78             & Lanny Mcdonald  &                 & R               & 1973-1974       & 1988-1989       & 1111            & 500             & 506             & 1006            &   41            &  899            & 139             & 11              & 53              &  0              &  0              & 3444            & -394            & -1457          \\\\\n",
       "\t  79             & Brian Propp     &                 & L               & 1979-1980       & 1993-1994       & 1016            & 425             & 579             & 1004            &  310            &  830            & 120             & 22              & 59              &  1              &  1              & 3111            & -469            & -1384          \\\\\n",
       "\t  80             & Paul Kariya     &                 & L               & 1994-1995       & 2009-2010       &  989            & 402             & 587             &  989            &   31            &  399            & 139             & 17              & 53              &  4              &  4              & 3509            & -492            & -1376          \\\\\n",
       "\t  81             & Rick Middleton  &                 & R               & 1974-1975       & 1987-1988       & 1005            & 448             & 540             &  988            &  180            &  157            & 115             & 25              & 59              &  0              &  0              & 2275            & -446            & -1423          \\\\\n",
       "\t  82             & David Keon      &                 & C               & 1960-1961       & 1981-1982       & 1296            & 396             & 590             &  986            &  -12            &  117            &  32             & 24              & 40              & NA              & NA              &   NA            & -498            & -1373          \\\\\n",
       "\t  83             & Andy Bathgate   &                 & R               & 1952-1953       & 1970-1971       & 1069            & 349             & 624             &  973            &  -22            &  624            &   9             &  0              &  7              & NA              & NA              &   NA            & -545            & -1339          \\\\\n",
       "\t  84             & Maurice Richard &                 & R               & 1942-1943       & 1959-1960       &  978            & 544             & 421             &  965            &   NA            & 1285            &  NA             & NA              & NA              & NA              & NA              &   NA            & -350            & -1542          \\\\\n",
       "\t  85             & Kirk Muller     &                 & L               & 1984-1985       & 2002-2003       & 1349            & 357             & 602             &  959            & -146            & 1223            & 134             & 11              & 47              &  6              &  5              & 2792            & -537            & -1361          \\\\\n",
       "\t  86             & Larry Robinson  &                 & D               & 1972-1973       & 1991-1992       & 1384            & 208             & 750             &  958            &  730            &  793            &  66             &  3              & 29              &  2              &  0              & 2338            & -686            & -1213          \\\\\n",
       "\t  87             & Rick Tocchet    &                 & R               & 1984-1985       & 2001-2002       & 1144            & 440             & 512             &  952            &   82            & 2972            & 130             & 13              & 50              &  9              &  2              & 2804            & -454            & -1451          \\\\\n",
       "\t  88             & Chris Chelios   &                 & D               & 1983-1984       & 2009-2010       & 1651            & 185             & 763             &  948            &  350            & 2891            &  69             & 13              & 31              &  5              &  1              & 3626            & -709            & -1200          \\\\\n",
       "\t  89             & Jason Arnott    &                 & C               & 1993-1994       & 2011-2012       & 1244            & 417             & 521             &  938            &   81            & 1242            & 145             &  2              & 64              &  7              &  6              & 3460            & -477            & -1442          \\\\\n",
       "\t  90             & Marian Hossa    & CHI             & R               & 1997-1998       & 2012-2013       & 1018            & 434             & 501             &  935            &  183            &  544            & 126             & 26              & 70              &  5              & 11              & 3383            & -460            & -1462          \\\\\n",
       "\t  91             & Steve Thomas    &                 & R               & 1984-1985       & 2003-2004       & 1235            & 421             & 512             &  933            &   30            & 1306            & 106             &  0              & 78              &  7              & 10              & 3170            & -473            & -1451          \\\\\n",
       "\t  92             & Patrik Elias    & NJD             & L               & 1995-1996       & 2012-2013       & 1090            & 375             & 555             &  930            &  191            &  497            & 104             & 14              & 78              &  4              & 15              & 3036            & -519            & -1408          \\\\\n",
       "\t  93             & Neal Broten     &                 & C               & 1980-1981       & 1996-1997       & 1099            & 289             & 634             &  923            &   18            &  569            &  67             & 25              & 34              &  3              &  2              & 2316            & -605            & -1329          \\\\\n",
       "\t  94             & Bobby Orr       &                 & D               & 1966-1967       & 1978-1979       &  657            & 270             & 645             &  915            &  597            &  953            &  73             & 15              & 26              & NA              & NA              &   NA            & -624            & -1318          \\\\\n",
       "\t  95             & Martin St Louis & TBL             & R               & 1998-1999       & 2012-2013       &  979            & 340             & 572             &  912            &   12            &  280            &  87             & 28              & 60              &  5              &  9              & 2536            & -554            & -1391          \\\\\n",
       "\t  96             & Gary Roberts    &                 & L               & 1986-1987       & 2008-2009       & 1224            & 438             & 472             &  910            &  229            & 2560            & 109             & 13              & 52              & 11              &  5              & 2374            & -456            & -1491          \\\\\n",
       "\t  97             & Scott Stevens   &                 & D               & 1982-1983       & 2003-2004       & 1635            & 196             & 712             &  908            &  377            & 2785            &  75             &  5              & 34              &  0              &  2              & 3240            & -698            & -1251          \\\\\n",
       "\t  98             & Tony Amonte     &                 & R               & 1990-1991       & 2006-2007       & 1174            & 416             & 484             &  900            &   96            &  752            & 108             & 23              & 58              &  7              &  6              & 3260            & -478            & -1479          \\\\\n",
       "\t  99             & Ray Ferraro     &                 & C               & 1984-1985       & 2001-2002       & 1258            & 408             & 490             &  898            & -104            & 1288            & 130             &  0              & 45              & 11              &  6              & 2164            & -486            & -1473          \\\\\n",
       "\t 100             & Brad Park       &                 & D               & 1968-1969       & 1984-1985       & 1113            & 213             & 683             &  896            &  358            & 1429            &  93             &  5              & 28              & NA              & NA              & 2820            & -681            & -1280          \\\\\n",
       "\\end{tabular}\n"
      ],
      "text/markdown": [
       "\n",
       "Rank | Player | Team | Pos | X1st.NHL.Season | Last.NHL.Season | GP | G | A | P | X... | PIM | PP | SH | GW | GT | OT | Shots | G_wayne | A_wayne | \n",
       "|---|---|---|---|---|---|---|---|---|---|---|---|---|---|---|---|---|---|---|---|---|---|---|---|---|---|---|---|---|---|---|---|---|---|---|---|---|---|---|---|---|---|---|---|---|---|---|---|---|---|---|---|---|---|---|---|---|---|---|---|---|\n",
       "| 101              | Patrick Kane     | C                |                  | 1995-1996        | 2007-2008        |  731             | 283              |  460             |  743             |   0              |  282             |  85              |  0               |  49              |  0               |  0               | 2280             | -611             | -1917            | \n",
       "|   1              | Wayne Gretzky    |                  | C                | 1979-1980        | 1998-1999        | 1487             | 894              | 1963             | 2857             | 518              |  577             | 204              | 73               |  91              | 12               |  1               | 5089             |    0             |     0            | \n",
       "|   2              | Mark Messier     |                  | C                | 1979-1980        | 2003-2004        | 1756             | 694              | 1193             | 1887             | 210              | 1910             | 179              | 63               |  92              | 15               |  7               | 4219             | -200             |  -770            | \n",
       "|   3              | Gordie Howe      |                  | R                | 1946-1947        | 1979-1980        | 1767             | 801              | 1049             | 1850             |  87              | 1685             |  39              |  5               |  18              | NA               | NA               |   NA             |  -93             |  -914            | \n",
       "|   4              | Ron Francis      |                  | C                | 1981-1982        | 2003-2004        | 1731             | 549              | 1249             | 1798             | -10              |  979             | 188              | 12               |  79              | 13               |  3               | 3754             | -345             |  -714            | \n",
       "|   5              | Marcel Dionne    |                  | C                | 1971-1972        | 1988-1989        | 1348             | 731              | 1040             | 1771             |  28              |  600             | 234              | 19               |  74              |  1               |  2               | 5366             | -163             |  -923            | \n",
       "|   6              | Steve Yzerman    |                  | C                | 1983-1984        | 2005-2006        | 1514             | 692              | 1063             | 1755             | 202              |  924             | 202              | 50               |  94              | 12               |  8               | 4602             | -202             |  -900            | \n",
       "|   7              | Mario Lemieux    |                  | C                | 1984-1985        | 2005-2006        |  915             | 690              | 1033             | 1723             | 115              |  834             | 236              | 49               |  74              |  7               |  7               | 3633             | -204             |  -930            | \n",
       "|   8              | Jaromir Jagr     | NJD              | R                | 1990-1991        | 2012-2013        | 1391             | 681              | 1007             | 1688             | 278              |  959             | 195              | 11               | 118              | 11               | 17               | 4881             | -213             |  -956            | \n",
       "|   9              | Joe Sakic        |                  | C                | 1988-1989        | 2008-2009        | 1378             | 625              | 1016             | 1641             |  30              |  614             | 205              | 32               |  86              | 13               |  7               | 4621             | -269             |  -947            | \n",
       "|  10              | Phil Esposito    |                  | C                | 1963-1964        | 1980-1981        | 1282             | 717              |  873             | 1590             | 197              |  910             | 249              | 23               | 118              | NA               | NA               |   NA             | -177             | -1090            | \n",
       "|  11              | Ray Bourque      |                  | D                | 1979-1980        | 2000-2001        | 1612             | 410              | 1169             | 1579             | 528              | 1141             | 173              | 16               |  60              | 14               |  4               | 6206             | -484             |  -794            | \n",
       "|  12              | Mark Recchi      |                  | R                | 1988-1989        | 2010-2011        | 1652             | 577              |  956             | 1533             |   0              | 1033             | 200              | 18               |  91              |  6               |  6               | 3820             | -317             | -1007            | \n",
       "|  13              | Paul Coffey      |                  | D                | 1980-1981        | 2000-2001        | 1409             | 396              | 1135             | 1531             | 294              | 1802             | 135              | 20               |  43              |  4               |  0               | 4385             | -498             |  -828            | \n",
       "|  14              | Stan Mikita      |                  | C                | 1958-1959        | 1979-1980        | 1394             | 541              |  926             | 1467             | 159              | 1270             |  86              |  9               |  48              | NA               | NA               |   NA             | -353             | -1037            | \n",
       "|  15              | Teemu Selanne    |                  | R                | 1992-1993        | 2012-2013        | 1387             | 675              |  755             | 1430             |  87              |  648             | 251              |  7               | 107              | 11               |  9               | 4429             | -219             | -1208            | \n",
       "|  16              | Bryan Trottier   |                  | C                | 1975-1976        | 1993-1994        | 1279             | 524              |  901             | 1425             | 452              |  912             | 161              | 19               |  68              |  2               |  0               | 2841             | -370             | -1062            | \n",
       "|  17              | Adam Oates       |                  | C                | 1985-1986        | 2003-2004        | 1337             | 341              | 1079             | 1420             |  35              |  415             | 103              | 12               |  56              |  6               |  5               | 2392             | -553             |  -884            | \n",
       "|  18              | Doug Gilmour     |                  | C                | 1983-1984        | 2002-2003        | 1474             | 450              |  964             | 1414             | 132              | 1301             | 153              | 18               |  56              | 15               |  2               | 2833             | -444             |  -999            | \n",
       "|  19              | Dale Hawerchuk   |                  | C                | 1981-1982        | 1996-1997        | 1188             | 518              |  891             | 1409             | -92              |  740             | 182              | 13               |  49              |  3               |  2               | 3754             | -376             | -1072            | \n",
       "|  20              | Jari Kurri       |                  | R                | 1980-1981        | 1997-1998        | 1251             | 601              |  797             | 1398             | 282              |  545             | 150              | 37               |  67              |  7               |  3               | 3142             | -293             | -1166            | \n",
       "|  21              | Luc Robitaille   |                  | L                | 1986-1987        | 2005-2006        | 1431             | 668              |  726             | 1394             |  72              | 1177             | 247              |  3               |  89              | 14               |  7               | 3961             | -226             | -1237            | \n",
       "|  22              | Brett Hull       |                  | R                | 1985-1986        | 2005-2006        | 1269             | 741              |  650             | 1391             |  23              |  458             | 265              | 20               | 110              | 12               | 12               | 4876             | -153             | -1313            | \n",
       "|  23              | Mike Modano      |                  | C                | 1988-1989        | 2010-2011        | 1499             | 561              |  813             | 1374             | 114              |  926             | 157              | 29               |  92              | 15               |  9               | 4273             | -333             | -1150            | \n",
       "|  24              | John Bucyk       |                  | L                | 1955-1956        | 1977-1978        | 1540             | 556              |  813             | 1369             | 146              |  497             | 121              |  1               |  59              | NA               | NA               |   NA             | -338             | -1150            | \n",
       "|  25              | Brendan Shanahan |                  | L                | 1987-1988        | 2008-2009        | 1524             | 656              |  698             | 1354             | 151              | 2489             | 237              | 23               | 109              | 15               | 12               | 5086             | -238             | -1265            | \n",
       "|  26              | Guy Lafleur      |                  | R                | 1971-1972        | 1990-1991        | 1126             | 560              |  793             | 1353             | 453              |  399             | 153              |  3               |  97              |  0               |  0               | 3521             | -334             | -1170            | \n",
       "|  27              | Mats Sundin      |                  | C                | 1990-1991        | 2008-2009        | 1346             | 564              |  785             | 1349             |  73              | 1093             | 160              | 31               |  96              | 11               | 15               | 4015             | -330             | -1178            | \n",
       "|  28              | Dave Andreychuk  |                  | L                | 1982-1983        | 2005-2006        | 1639             | 640              |  698             | 1338             |  38              | 1125             | 274              | 11               |  77              | 17               |  5               | 4556             | -254             | -1265            | \n",
       "|  29              | Denis Savard     |                  | C                | 1980-1981        | 1996-1997        | 1196             | 473              |  865             | 1338             |  97              | 1336             | 127              | 20               |  56              |  4               |  1               | 3143             | -421             | -1098            | \n",
       "| ... | ... | ... | ... | ... | ... | ... | ... | ... | ... | ... | ... | ... | ... | ... | ... | ... | ... | ... | ... | \n",
       "|  71             | Alex Kovalev    |                 | R               | 1992-1993       | 2012-2013       | 1316            | 430             | 599             | 1029            |  -31            | 1304            | 133             |  9              | 70              |  8              |  8              | 3585            | -464            | -1364           | \n",
       "|  72             | Brian Leetch    |                 | D               | 1987-1988       | 2005-2006       | 1205            | 247             | 781             | 1028            |   25            |  571            | 111             |  8              | 38              |  9              |  7              | 3640            | -647            | -1182           | \n",
       "|  73             | Brian Bellows   |                 | L               | 1982-1983       | 1998-1999       | 1188            | 485             | 537             | 1022            | -125            |  718            | 198             | 13              | 58              |  2              |  5              | 3588            | -409            | -1426           | \n",
       "|  74             | Rod Gilbert     |                 | R               | 1960-1961       | 1977-1978       | 1065            | 406             | 615             | 1021            |   89            |  508            |  83             |  0              | 40              | NA              | NA              |   NA            | -488            | -1348           | \n",
       "|  75             | Dale Hunter     |                 | C               | 1980-1981       | 1998-1999       | 1407            | 323             | 697             | 1020            |   98            | 3565            |  92             | 10              | 41              |  5              |  3              | 2045            | -571            | -1266           | \n",
       "|  76             | Pat LaFontaine  |                 | C               | 1983-1984       | 1997-1998       |  865            | 468             | 545             | 1013            |   -4            |  552            | 156             | 11              | 59              | 11              |  3              | 2665            | -426            | -1418           | \n",
       "|  77             | Steve Larmer    |                 | R               | 1980-1981       | 1994-1995       | 1006            | 441             | 571             | 1012            |  204            |  532            | 162             | 24              | 60              |  1              |  1              | 2803            | -453            | -1392           | \n",
       "|  78             | Lanny Mcdonald  |                 | R               | 1973-1974       | 1988-1989       | 1111            | 500             | 506             | 1006            |   41            |  899            | 139             | 11              | 53              |  0              |  0              | 3444            | -394            | -1457           | \n",
       "|  79             | Brian Propp     |                 | L               | 1979-1980       | 1993-1994       | 1016            | 425             | 579             | 1004            |  310            |  830            | 120             | 22              | 59              |  1              |  1              | 3111            | -469            | -1384           | \n",
       "|  80             | Paul Kariya     |                 | L               | 1994-1995       | 2009-2010       |  989            | 402             | 587             |  989            |   31            |  399            | 139             | 17              | 53              |  4              |  4              | 3509            | -492            | -1376           | \n",
       "|  81             | Rick Middleton  |                 | R               | 1974-1975       | 1987-1988       | 1005            | 448             | 540             |  988            |  180            |  157            | 115             | 25              | 59              |  0              |  0              | 2275            | -446            | -1423           | \n",
       "|  82             | David Keon      |                 | C               | 1960-1961       | 1981-1982       | 1296            | 396             | 590             |  986            |  -12            |  117            |  32             | 24              | 40              | NA              | NA              |   NA            | -498            | -1373           | \n",
       "|  83             | Andy Bathgate   |                 | R               | 1952-1953       | 1970-1971       | 1069            | 349             | 624             |  973            |  -22            |  624            |   9             |  0              |  7              | NA              | NA              |   NA            | -545            | -1339           | \n",
       "|  84             | Maurice Richard |                 | R               | 1942-1943       | 1959-1960       |  978            | 544             | 421             |  965            |   NA            | 1285            |  NA             | NA              | NA              | NA              | NA              |   NA            | -350            | -1542           | \n",
       "|  85             | Kirk Muller     |                 | L               | 1984-1985       | 2002-2003       | 1349            | 357             | 602             |  959            | -146            | 1223            | 134             | 11              | 47              |  6              |  5              | 2792            | -537            | -1361           | \n",
       "|  86             | Larry Robinson  |                 | D               | 1972-1973       | 1991-1992       | 1384            | 208             | 750             |  958            |  730            |  793            |  66             |  3              | 29              |  2              |  0              | 2338            | -686            | -1213           | \n",
       "|  87             | Rick Tocchet    |                 | R               | 1984-1985       | 2001-2002       | 1144            | 440             | 512             |  952            |   82            | 2972            | 130             | 13              | 50              |  9              |  2              | 2804            | -454            | -1451           | \n",
       "|  88             | Chris Chelios   |                 | D               | 1983-1984       | 2009-2010       | 1651            | 185             | 763             |  948            |  350            | 2891            |  69             | 13              | 31              |  5              |  1              | 3626            | -709            | -1200           | \n",
       "|  89             | Jason Arnott    |                 | C               | 1993-1994       | 2011-2012       | 1244            | 417             | 521             |  938            |   81            | 1242            | 145             |  2              | 64              |  7              |  6              | 3460            | -477            | -1442           | \n",
       "|  90             | Marian Hossa    | CHI             | R               | 1997-1998       | 2012-2013       | 1018            | 434             | 501             |  935            |  183            |  544            | 126             | 26              | 70              |  5              | 11              | 3383            | -460            | -1462           | \n",
       "|  91             | Steve Thomas    |                 | R               | 1984-1985       | 2003-2004       | 1235            | 421             | 512             |  933            |   30            | 1306            | 106             |  0              | 78              |  7              | 10              | 3170            | -473            | -1451           | \n",
       "|  92             | Patrik Elias    | NJD             | L               | 1995-1996       | 2012-2013       | 1090            | 375             | 555             |  930            |  191            |  497            | 104             | 14              | 78              |  4              | 15              | 3036            | -519            | -1408           | \n",
       "|  93             | Neal Broten     |                 | C               | 1980-1981       | 1996-1997       | 1099            | 289             | 634             |  923            |   18            |  569            |  67             | 25              | 34              |  3              |  2              | 2316            | -605            | -1329           | \n",
       "|  94             | Bobby Orr       |                 | D               | 1966-1967       | 1978-1979       |  657            | 270             | 645             |  915            |  597            |  953            |  73             | 15              | 26              | NA              | NA              |   NA            | -624            | -1318           | \n",
       "|  95             | Martin St Louis | TBL             | R               | 1998-1999       | 2012-2013       |  979            | 340             | 572             |  912            |   12            |  280            |  87             | 28              | 60              |  5              |  9              | 2536            | -554            | -1391           | \n",
       "|  96             | Gary Roberts    |                 | L               | 1986-1987       | 2008-2009       | 1224            | 438             | 472             |  910            |  229            | 2560            | 109             | 13              | 52              | 11              |  5              | 2374            | -456            | -1491           | \n",
       "|  97             | Scott Stevens   |                 | D               | 1982-1983       | 2003-2004       | 1635            | 196             | 712             |  908            |  377            | 2785            |  75             |  5              | 34              |  0              |  2              | 3240            | -698            | -1251           | \n",
       "|  98             | Tony Amonte     |                 | R               | 1990-1991       | 2006-2007       | 1174            | 416             | 484             |  900            |   96            |  752            | 108             | 23              | 58              |  7              |  6              | 3260            | -478            | -1479           | \n",
       "|  99             | Ray Ferraro     |                 | C               | 1984-1985       | 2001-2002       | 1258            | 408             | 490             |  898            | -104            | 1288            | 130             |  0              | 45              | 11              |  6              | 2164            | -486            | -1473           | \n",
       "| 100             | Brad Park       |                 | D               | 1968-1969       | 1984-1985       | 1113            | 213             | 683             |  896            |  358            | 1429            |  93             |  5              | 28              | NA              | NA              | 2820            | -681            | -1280           | \n",
       "\n",
       "\n"
      ],
      "text/plain": [
       "    Rank Player           Team Pos X1st.NHL.Season Last.NHL.Season GP   G  \n",
       "1   101  Patrick Kane     C        1995-1996       2007-2008        731 283\n",
       "2     1  Wayne Gretzky         C   1979-1980       1998-1999       1487 894\n",
       "3     2  Mark Messier          C   1979-1980       2003-2004       1756 694\n",
       "4     3  Gordie Howe           R   1946-1947       1979-1980       1767 801\n",
       "5     4  Ron Francis           C   1981-1982       2003-2004       1731 549\n",
       "6     5  Marcel Dionne         C   1971-1972       1988-1989       1348 731\n",
       "7     6  Steve Yzerman         C   1983-1984       2005-2006       1514 692\n",
       "8     7  Mario Lemieux         C   1984-1985       2005-2006        915 690\n",
       "9     8  Jaromir Jagr     NJD  R   1990-1991       2012-2013       1391 681\n",
       "10    9  Joe Sakic             C   1988-1989       2008-2009       1378 625\n",
       "11   10  Phil Esposito         C   1963-1964       1980-1981       1282 717\n",
       "12   11  Ray Bourque           D   1979-1980       2000-2001       1612 410\n",
       "13   12  Mark Recchi           R   1988-1989       2010-2011       1652 577\n",
       "14   13  Paul Coffey           D   1980-1981       2000-2001       1409 396\n",
       "15   14  Stan Mikita           C   1958-1959       1979-1980       1394 541\n",
       "16   15  Teemu Selanne         R   1992-1993       2012-2013       1387 675\n",
       "17   16  Bryan Trottier        C   1975-1976       1993-1994       1279 524\n",
       "18   17  Adam Oates            C   1985-1986       2003-2004       1337 341\n",
       "19   18  Doug Gilmour          C   1983-1984       2002-2003       1474 450\n",
       "20   19  Dale Hawerchuk        C   1981-1982       1996-1997       1188 518\n",
       "21   20  Jari Kurri            R   1980-1981       1997-1998       1251 601\n",
       "22   21  Luc Robitaille        L   1986-1987       2005-2006       1431 668\n",
       "23   22  Brett Hull            R   1985-1986       2005-2006       1269 741\n",
       "24   23  Mike Modano           C   1988-1989       2010-2011       1499 561\n",
       "25   24  John Bucyk            L   1955-1956       1977-1978       1540 556\n",
       "26   25  Brendan Shanahan      L   1987-1988       2008-2009       1524 656\n",
       "27   26  Guy Lafleur           R   1971-1972       1990-1991       1126 560\n",
       "28   27  Mats Sundin           C   1990-1991       2008-2009       1346 564\n",
       "29   28  Dave Andreychuk       L   1982-1983       2005-2006       1639 640\n",
       "30   29  Denis Savard          C   1980-1981       1996-1997       1196 473\n",
       "... ...  ...              ...  ... ...             ...             ...  ...\n",
       "72   71  Alex Kovalev          R   1992-1993       2012-2013       1316 430\n",
       "73   72  Brian Leetch          D   1987-1988       2005-2006       1205 247\n",
       "74   73  Brian Bellows         L   1982-1983       1998-1999       1188 485\n",
       "75   74  Rod Gilbert           R   1960-1961       1977-1978       1065 406\n",
       "76   75  Dale Hunter           C   1980-1981       1998-1999       1407 323\n",
       "77   76  Pat LaFontaine        C   1983-1984       1997-1998        865 468\n",
       "78   77  Steve Larmer          R   1980-1981       1994-1995       1006 441\n",
       "79   78  Lanny Mcdonald        R   1973-1974       1988-1989       1111 500\n",
       "80   79  Brian Propp           L   1979-1980       1993-1994       1016 425\n",
       "81   80  Paul Kariya           L   1994-1995       2009-2010        989 402\n",
       "82   81  Rick Middleton        R   1974-1975       1987-1988       1005 448\n",
       "83   82  David Keon            C   1960-1961       1981-1982       1296 396\n",
       "84   83  Andy Bathgate         R   1952-1953       1970-1971       1069 349\n",
       "85   84  Maurice Richard       R   1942-1943       1959-1960        978 544\n",
       "86   85  Kirk Muller           L   1984-1985       2002-2003       1349 357\n",
       "87   86  Larry Robinson        D   1972-1973       1991-1992       1384 208\n",
       "88   87  Rick Tocchet          R   1984-1985       2001-2002       1144 440\n",
       "89   88  Chris Chelios         D   1983-1984       2009-2010       1651 185\n",
       "90   89  Jason Arnott          C   1993-1994       2011-2012       1244 417\n",
       "91   90  Marian Hossa     CHI  R   1997-1998       2012-2013       1018 434\n",
       "92   91  Steve Thomas          R   1984-1985       2003-2004       1235 421\n",
       "93   92  Patrik Elias     NJD  L   1995-1996       2012-2013       1090 375\n",
       "94   93  Neal Broten           C   1980-1981       1996-1997       1099 289\n",
       "95   94  Bobby Orr             D   1966-1967       1978-1979        657 270\n",
       "96   95  Martin St Louis  TBL  R   1998-1999       2012-2013        979 340\n",
       "97   96  Gary Roberts          L   1986-1987       2008-2009       1224 438\n",
       "98   97  Scott Stevens         D   1982-1983       2003-2004       1635 196\n",
       "99   98  Tony Amonte           R   1990-1991       2006-2007       1174 416\n",
       "100  99  Ray Ferraro           C   1984-1985       2001-2002       1258 408\n",
       "101 100  Brad Park             D   1968-1969       1984-1985       1113 213\n",
       "    A    P    X... PIM  PP  SH  GW  GT  OT  Shots G_wayne A_wayne\n",
       "1    460  743   0   282  85  0   49  0   0  2280  -611    -1917  \n",
       "2   1963 2857 518   577 204 73   91 12   1  5089     0        0  \n",
       "3   1193 1887 210  1910 179 63   92 15   7  4219  -200     -770  \n",
       "4   1049 1850  87  1685  39  5   18 NA  NA    NA   -93     -914  \n",
       "5   1249 1798 -10   979 188 12   79 13   3  3754  -345     -714  \n",
       "6   1040 1771  28   600 234 19   74  1   2  5366  -163     -923  \n",
       "7   1063 1755 202   924 202 50   94 12   8  4602  -202     -900  \n",
       "8   1033 1723 115   834 236 49   74  7   7  3633  -204     -930  \n",
       "9   1007 1688 278   959 195 11  118 11  17  4881  -213     -956  \n",
       "10  1016 1641  30   614 205 32   86 13   7  4621  -269     -947  \n",
       "11   873 1590 197   910 249 23  118 NA  NA    NA  -177    -1090  \n",
       "12  1169 1579 528  1141 173 16   60 14   4  6206  -484     -794  \n",
       "13   956 1533   0  1033 200 18   91  6   6  3820  -317    -1007  \n",
       "14  1135 1531 294  1802 135 20   43  4   0  4385  -498     -828  \n",
       "15   926 1467 159  1270  86  9   48 NA  NA    NA  -353    -1037  \n",
       "16   755 1430  87   648 251  7  107 11   9  4429  -219    -1208  \n",
       "17   901 1425 452   912 161 19   68  2   0  2841  -370    -1062  \n",
       "18  1079 1420  35   415 103 12   56  6   5  2392  -553     -884  \n",
       "19   964 1414 132  1301 153 18   56 15   2  2833  -444     -999  \n",
       "20   891 1409 -92   740 182 13   49  3   2  3754  -376    -1072  \n",
       "21   797 1398 282   545 150 37   67  7   3  3142  -293    -1166  \n",
       "22   726 1394  72  1177 247  3   89 14   7  3961  -226    -1237  \n",
       "23   650 1391  23   458 265 20  110 12  12  4876  -153    -1313  \n",
       "24   813 1374 114   926 157 29   92 15   9  4273  -333    -1150  \n",
       "25   813 1369 146   497 121  1   59 NA  NA    NA  -338    -1150  \n",
       "26   698 1354 151  2489 237 23  109 15  12  5086  -238    -1265  \n",
       "27   793 1353 453   399 153  3   97  0   0  3521  -334    -1170  \n",
       "28   785 1349  73  1093 160 31   96 11  15  4015  -330    -1178  \n",
       "29   698 1338  38  1125 274 11   77 17   5  4556  -254    -1265  \n",
       "30   865 1338  97  1336 127 20   56  4   1  3143  -421    -1098  \n",
       "... ...  ...  ...  ...  ... ... ... ... ... ...   ...     ...    \n",
       "72  599  1029  -31 1304 133  9  70   8   8  3585  -464    -1364  \n",
       "73  781  1028   25  571 111  8  38   9   7  3640  -647    -1182  \n",
       "74  537  1022 -125  718 198 13  58   2   5  3588  -409    -1426  \n",
       "75  615  1021   89  508  83  0  40  NA  NA    NA  -488    -1348  \n",
       "76  697  1020   98 3565  92 10  41   5   3  2045  -571    -1266  \n",
       "77  545  1013   -4  552 156 11  59  11   3  2665  -426    -1418  \n",
       "78  571  1012  204  532 162 24  60   1   1  2803  -453    -1392  \n",
       "79  506  1006   41  899 139 11  53   0   0  3444  -394    -1457  \n",
       "80  579  1004  310  830 120 22  59   1   1  3111  -469    -1384  \n",
       "81  587   989   31  399 139 17  53   4   4  3509  -492    -1376  \n",
       "82  540   988  180  157 115 25  59   0   0  2275  -446    -1423  \n",
       "83  590   986  -12  117  32 24  40  NA  NA    NA  -498    -1373  \n",
       "84  624   973  -22  624   9  0   7  NA  NA    NA  -545    -1339  \n",
       "85  421   965   NA 1285  NA NA  NA  NA  NA    NA  -350    -1542  \n",
       "86  602   959 -146 1223 134 11  47   6   5  2792  -537    -1361  \n",
       "87  750   958  730  793  66  3  29   2   0  2338  -686    -1213  \n",
       "88  512   952   82 2972 130 13  50   9   2  2804  -454    -1451  \n",
       "89  763   948  350 2891  69 13  31   5   1  3626  -709    -1200  \n",
       "90  521   938   81 1242 145  2  64   7   6  3460  -477    -1442  \n",
       "91  501   935  183  544 126 26  70   5  11  3383  -460    -1462  \n",
       "92  512   933   30 1306 106  0  78   7  10  3170  -473    -1451  \n",
       "93  555   930  191  497 104 14  78   4  15  3036  -519    -1408  \n",
       "94  634   923   18  569  67 25  34   3   2  2316  -605    -1329  \n",
       "95  645   915  597  953  73 15  26  NA  NA    NA  -624    -1318  \n",
       "96  572   912   12  280  87 28  60   5   9  2536  -554    -1391  \n",
       "97  472   910  229 2560 109 13  52  11   5  2374  -456    -1491  \n",
       "98  712   908  377 2785  75  5  34   0   2  3240  -698    -1251  \n",
       "99  484   900   96  752 108 23  58   7   6  3260  -478    -1479  \n",
       "100 490   898 -104 1288 130  0  45  11   6  2164  -486    -1473  \n",
       "101 683   896  358 1429  93  5  28  NA  NA  2820  -681    -1280  "
      ]
     },
     "metadata": {},
     "output_type": "display_data"
    }
   ],
   "source": [
    "data"
   ]
  },
  {
   "cell_type": "markdown",
   "metadata": {},
   "source": [
    "Updating the G and A values and adding two new columns with updated G and A values for the line to pass through Patrick Kane data"
   ]
  },
  {
   "cell_type": "code",
   "execution_count": 21,
   "metadata": {
    "collapsed": false
   },
   "outputs": [
    {
     "data": {
      "text/html": [
       "<table>\n",
       "<thead><tr><th scope=col>Rank</th><th scope=col>Player</th><th scope=col>Team</th><th scope=col>Pos</th><th scope=col>X1st.NHL.Season</th><th scope=col>Last.NHL.Season</th><th scope=col>GP</th><th scope=col>G</th><th scope=col>A</th><th scope=col>P</th><th scope=col>X...</th><th scope=col>PIM</th><th scope=col>PP</th><th scope=col>SH</th><th scope=col>GW</th><th scope=col>GT</th><th scope=col>OT</th><th scope=col>Shots</th><th scope=col>G_wayne</th><th scope=col>A_wayne</th></tr></thead>\n",
       "<tbody>\n",
       "\t<tr><td>101         </td><td>Patrick Kane</td><td>C           </td><td>            </td><td>1995-1996   </td><td>2007-2008   </td><td>731         </td><td>283         </td><td>460         </td><td>743         </td><td>0           </td><td>282         </td><td>85          </td><td>0           </td><td>49          </td><td>0           </td><td>0           </td><td>2280        </td><td>-611        </td><td>-1917       </td></tr>\n",
       "</tbody>\n",
       "</table>\n"
      ],
      "text/latex": [
       "\\begin{tabular}{r|llllllllllllllllllll}\n",
       " Rank & Player & Team & Pos & X1st.NHL.Season & Last.NHL.Season & GP & G & A & P & X... & PIM & PP & SH & GW & GT & OT & Shots & G\\_wayne & A\\_wayne\\\\\n",
       "\\hline\n",
       "\t 101          & Patrick Kane & C            &              & 1995-1996    & 2007-2008    & 731          & 283          & 460          & 743          & 0            & 282          & 85           & 0            & 49           & 0            & 0            & 2280         & -611         & -1917       \\\\\n",
       "\\end{tabular}\n"
      ],
      "text/markdown": [
       "\n",
       "Rank | Player | Team | Pos | X1st.NHL.Season | Last.NHL.Season | GP | G | A | P | X... | PIM | PP | SH | GW | GT | OT | Shots | G_wayne | A_wayne | \n",
       "|---|\n",
       "| 101          | Patrick Kane | C            |              | 1995-1996    | 2007-2008    | 731          | 283          | 460          | 743          | 0            | 282          | 85           | 0            | 49           | 0            | 0            | 2280         | -611         | -1917        | \n",
       "\n",
       "\n"
      ],
      "text/plain": [
       "  Rank Player       Team Pos X1st.NHL.Season Last.NHL.Season GP  G   A   P  \n",
       "1 101  Patrick Kane C        1995-1996       2007-2008       731 283 460 743\n",
       "  X... PIM PP SH GW GT OT Shots G_wayne A_wayne\n",
       "1 0    282 85 0  49 0  0  2280  -611    -1917  "
      ]
     },
     "metadata": {},
     "output_type": "display_data"
    }
   ],
   "source": [
    "library(sqldf)\n",
    "sqldf(\"Select * from data where Player='Patrick Kane'\")"
   ]
  },
  {
   "cell_type": "code",
   "execution_count": 178,
   "metadata": {
    "collapsed": true
   },
   "outputs": [],
   "source": [
    "G_Patrick <- sqldf(\"select G from data\")\n",
    "G_Patrick <- data.frame(G_Patrick-283)\n",
    "data[\"G_Patrick\"] <- G_Patrick\n",
    "A_Patrick <- sqldf(\"select A from data\")\n",
    "A_Patrick <- data.frame(A_Patrick-460)\n",
    "data[\"A_Patrick\"] <- A_Patrick"
   ]
  },
  {
   "cell_type": "code",
   "execution_count": 28,
   "metadata": {
    "collapsed": false
   },
   "outputs": [
    {
     "data": {
      "text/html": [
       "<table>\n",
       "<thead><tr><th scope=col>Rank</th><th scope=col>Player</th><th scope=col>Team</th><th scope=col>Pos</th><th scope=col>X1st.NHL.Season</th><th scope=col>Last.NHL.Season</th><th scope=col>GP</th><th scope=col>G</th><th scope=col>A</th><th scope=col>P</th><th scope=col>...</th><th scope=col>PP</th><th scope=col>SH</th><th scope=col>GW</th><th scope=col>GT</th><th scope=col>OT</th><th scope=col>Shots</th><th scope=col>G_wayne</th><th scope=col>A_wayne</th><th scope=col>G_Patrick</th><th scope=col>A_Patrick</th></tr></thead>\n",
       "<tbody>\n",
       "\t<tr><td>101             </td><td>Patrick Kane    </td><td>C               </td><td>                </td><td>1995-1996       </td><td>2007-2008       </td><td> 731            </td><td>283             </td><td> 460            </td><td> 743            </td><td>...             </td><td> 85             </td><td> 0              </td><td> 49             </td><td> 0              </td><td> 0              </td><td>2280            </td><td>-611            </td><td>-1917           </td><td>  0             </td><td>   0            </td></tr>\n",
       "\t<tr><td>  1             </td><td>Wayne Gretzky   </td><td>                </td><td>C               </td><td>1979-1980       </td><td>1998-1999       </td><td>1487            </td><td>894             </td><td>1963            </td><td>2857            </td><td>...             </td><td>204             </td><td>73              </td><td> 91             </td><td>12              </td><td> 1              </td><td>5089            </td><td>   0            </td><td>    0           </td><td>611             </td><td>1503            </td></tr>\n",
       "\t<tr><td>  2             </td><td>Mark Messier    </td><td>                </td><td>C               </td><td>1979-1980       </td><td>2003-2004       </td><td>1756            </td><td>694             </td><td>1193            </td><td>1887            </td><td>...             </td><td>179             </td><td>63              </td><td> 92             </td><td>15              </td><td> 7              </td><td>4219            </td><td>-200            </td><td> -770           </td><td>411             </td><td> 733            </td></tr>\n",
       "\t<tr><td>  3             </td><td>Gordie Howe     </td><td>                </td><td>R               </td><td>1946-1947       </td><td>1979-1980       </td><td>1767            </td><td>801             </td><td>1049            </td><td>1850            </td><td>...             </td><td> 39             </td><td> 5              </td><td> 18             </td><td>NA              </td><td>NA              </td><td>  NA            </td><td> -93            </td><td> -914           </td><td>518             </td><td> 589            </td></tr>\n",
       "\t<tr><td>  4             </td><td>Ron Francis     </td><td>                </td><td>C               </td><td>1981-1982       </td><td>2003-2004       </td><td>1731            </td><td>549             </td><td>1249            </td><td>1798            </td><td>...             </td><td>188             </td><td>12              </td><td> 79             </td><td>13              </td><td> 3              </td><td>3754            </td><td>-345            </td><td> -714           </td><td>266             </td><td> 789            </td></tr>\n",
       "\t<tr><td>  5             </td><td>Marcel Dionne   </td><td>                </td><td>C               </td><td>1971-1972       </td><td>1988-1989       </td><td>1348            </td><td>731             </td><td>1040            </td><td>1771            </td><td>...             </td><td>234             </td><td>19              </td><td> 74             </td><td> 1              </td><td> 2              </td><td>5366            </td><td>-163            </td><td> -923           </td><td>448             </td><td> 580            </td></tr>\n",
       "\t<tr><td>  6             </td><td>Steve Yzerman   </td><td>                </td><td>C               </td><td>1983-1984       </td><td>2005-2006       </td><td>1514            </td><td>692             </td><td>1063            </td><td>1755            </td><td>...             </td><td>202             </td><td>50              </td><td> 94             </td><td>12              </td><td> 8              </td><td>4602            </td><td>-202            </td><td> -900           </td><td>409             </td><td> 603            </td></tr>\n",
       "\t<tr><td>  7             </td><td>Mario Lemieux   </td><td>                </td><td>C               </td><td>1984-1985       </td><td>2005-2006       </td><td> 915            </td><td>690             </td><td>1033            </td><td>1723            </td><td>...             </td><td>236             </td><td>49              </td><td> 74             </td><td> 7              </td><td> 7              </td><td>3633            </td><td>-204            </td><td> -930           </td><td>407             </td><td> 573            </td></tr>\n",
       "\t<tr><td>  8             </td><td>Jaromir Jagr    </td><td>NJD             </td><td>R               </td><td>1990-1991       </td><td>2012-2013       </td><td>1391            </td><td>681             </td><td>1007            </td><td>1688            </td><td>...             </td><td>195             </td><td>11              </td><td>118             </td><td>11              </td><td>17              </td><td>4881            </td><td>-213            </td><td> -956           </td><td>398             </td><td> 547            </td></tr>\n",
       "\t<tr><td>  9             </td><td>Joe Sakic       </td><td>                </td><td>C               </td><td>1988-1989       </td><td>2008-2009       </td><td>1378            </td><td>625             </td><td>1016            </td><td>1641            </td><td>...             </td><td>205             </td><td>32              </td><td> 86             </td><td>13              </td><td> 7              </td><td>4621            </td><td>-269            </td><td> -947           </td><td>342             </td><td> 556            </td></tr>\n",
       "\t<tr><td> 10             </td><td>Phil Esposito   </td><td>                </td><td>C               </td><td>1963-1964       </td><td>1980-1981       </td><td>1282            </td><td>717             </td><td> 873            </td><td>1590            </td><td>...             </td><td>249             </td><td>23              </td><td>118             </td><td>NA              </td><td>NA              </td><td>  NA            </td><td>-177            </td><td>-1090           </td><td>434             </td><td> 413            </td></tr>\n",
       "\t<tr><td> 11             </td><td>Ray Bourque     </td><td>                </td><td>D               </td><td>1979-1980       </td><td>2000-2001       </td><td>1612            </td><td>410             </td><td>1169            </td><td>1579            </td><td>...             </td><td>173             </td><td>16              </td><td> 60             </td><td>14              </td><td> 4              </td><td>6206            </td><td>-484            </td><td> -794           </td><td>127             </td><td> 709            </td></tr>\n",
       "\t<tr><td> 12             </td><td>Mark Recchi     </td><td>                </td><td>R               </td><td>1988-1989       </td><td>2010-2011       </td><td>1652            </td><td>577             </td><td> 956            </td><td>1533            </td><td>...             </td><td>200             </td><td>18              </td><td> 91             </td><td> 6              </td><td> 6              </td><td>3820            </td><td>-317            </td><td>-1007           </td><td>294             </td><td> 496            </td></tr>\n",
       "\t<tr><td> 13             </td><td>Paul Coffey     </td><td>                </td><td>D               </td><td>1980-1981       </td><td>2000-2001       </td><td>1409            </td><td>396             </td><td>1135            </td><td>1531            </td><td>...             </td><td>135             </td><td>20              </td><td> 43             </td><td> 4              </td><td> 0              </td><td>4385            </td><td>-498            </td><td> -828           </td><td>113             </td><td> 675            </td></tr>\n",
       "\t<tr><td> 14             </td><td>Stan Mikita     </td><td>                </td><td>C               </td><td>1958-1959       </td><td>1979-1980       </td><td>1394            </td><td>541             </td><td> 926            </td><td>1467            </td><td>...             </td><td> 86             </td><td> 9              </td><td> 48             </td><td>NA              </td><td>NA              </td><td>  NA            </td><td>-353            </td><td>-1037           </td><td>258             </td><td> 466            </td></tr>\n",
       "\t<tr><td> 15             </td><td>Teemu Selanne   </td><td>                </td><td>R               </td><td>1992-1993       </td><td>2012-2013       </td><td>1387            </td><td>675             </td><td> 755            </td><td>1430            </td><td>...             </td><td>251             </td><td> 7              </td><td>107             </td><td>11              </td><td> 9              </td><td>4429            </td><td>-219            </td><td>-1208           </td><td>392             </td><td> 295            </td></tr>\n",
       "\t<tr><td> 16             </td><td>Bryan Trottier  </td><td>                </td><td>C               </td><td>1975-1976       </td><td>1993-1994       </td><td>1279            </td><td>524             </td><td> 901            </td><td>1425            </td><td>...             </td><td>161             </td><td>19              </td><td> 68             </td><td> 2              </td><td> 0              </td><td>2841            </td><td>-370            </td><td>-1062           </td><td>241             </td><td> 441            </td></tr>\n",
       "\t<tr><td> 17             </td><td>Adam Oates      </td><td>                </td><td>C               </td><td>1985-1986       </td><td>2003-2004       </td><td>1337            </td><td>341             </td><td>1079            </td><td>1420            </td><td>...             </td><td>103             </td><td>12              </td><td> 56             </td><td> 6              </td><td> 5              </td><td>2392            </td><td>-553            </td><td> -884           </td><td> 58             </td><td> 619            </td></tr>\n",
       "\t<tr><td> 18             </td><td>Doug Gilmour    </td><td>                </td><td>C               </td><td>1983-1984       </td><td>2002-2003       </td><td>1474            </td><td>450             </td><td> 964            </td><td>1414            </td><td>...             </td><td>153             </td><td>18              </td><td> 56             </td><td>15              </td><td> 2              </td><td>2833            </td><td>-444            </td><td> -999           </td><td>167             </td><td> 504            </td></tr>\n",
       "\t<tr><td> 19             </td><td>Dale Hawerchuk  </td><td>                </td><td>C               </td><td>1981-1982       </td><td>1996-1997       </td><td>1188            </td><td>518             </td><td> 891            </td><td>1409            </td><td>...             </td><td>182             </td><td>13              </td><td> 49             </td><td> 3              </td><td> 2              </td><td>3754            </td><td>-376            </td><td>-1072           </td><td>235             </td><td> 431            </td></tr>\n",
       "\t<tr><td> 20             </td><td>Jari Kurri      </td><td>                </td><td>R               </td><td>1980-1981       </td><td>1997-1998       </td><td>1251            </td><td>601             </td><td> 797            </td><td>1398            </td><td>...             </td><td>150             </td><td>37              </td><td> 67             </td><td> 7              </td><td> 3              </td><td>3142            </td><td>-293            </td><td>-1166           </td><td>318             </td><td> 337            </td></tr>\n",
       "\t<tr><td> 21             </td><td>Luc Robitaille  </td><td>                </td><td>L               </td><td>1986-1987       </td><td>2005-2006       </td><td>1431            </td><td>668             </td><td> 726            </td><td>1394            </td><td>...             </td><td>247             </td><td> 3              </td><td> 89             </td><td>14              </td><td> 7              </td><td>3961            </td><td>-226            </td><td>-1237           </td><td>385             </td><td> 266            </td></tr>\n",
       "\t<tr><td> 22             </td><td>Brett Hull      </td><td>                </td><td>R               </td><td>1985-1986       </td><td>2005-2006       </td><td>1269            </td><td>741             </td><td> 650            </td><td>1391            </td><td>...             </td><td>265             </td><td>20              </td><td>110             </td><td>12              </td><td>12              </td><td>4876            </td><td>-153            </td><td>-1313           </td><td>458             </td><td> 190            </td></tr>\n",
       "\t<tr><td> 23             </td><td>Mike Modano     </td><td>                </td><td>C               </td><td>1988-1989       </td><td>2010-2011       </td><td>1499            </td><td>561             </td><td> 813            </td><td>1374            </td><td>...             </td><td>157             </td><td>29              </td><td> 92             </td><td>15              </td><td> 9              </td><td>4273            </td><td>-333            </td><td>-1150           </td><td>278             </td><td> 353            </td></tr>\n",
       "\t<tr><td> 24             </td><td>John Bucyk      </td><td>                </td><td>L               </td><td>1955-1956       </td><td>1977-1978       </td><td>1540            </td><td>556             </td><td> 813            </td><td>1369            </td><td>...             </td><td>121             </td><td> 1              </td><td> 59             </td><td>NA              </td><td>NA              </td><td>  NA            </td><td>-338            </td><td>-1150           </td><td>273             </td><td> 353            </td></tr>\n",
       "\t<tr><td> 25             </td><td>Brendan Shanahan</td><td>                </td><td>L               </td><td>1987-1988       </td><td>2008-2009       </td><td>1524            </td><td>656             </td><td> 698            </td><td>1354            </td><td>...             </td><td>237             </td><td>23              </td><td>109             </td><td>15              </td><td>12              </td><td>5086            </td><td>-238            </td><td>-1265           </td><td>373             </td><td> 238            </td></tr>\n",
       "\t<tr><td> 26             </td><td>Guy Lafleur     </td><td>                </td><td>R               </td><td>1971-1972       </td><td>1990-1991       </td><td>1126            </td><td>560             </td><td> 793            </td><td>1353            </td><td>...             </td><td>153             </td><td> 3              </td><td> 97             </td><td> 0              </td><td> 0              </td><td>3521            </td><td>-334            </td><td>-1170           </td><td>277             </td><td> 333            </td></tr>\n",
       "\t<tr><td> 27             </td><td>Mats Sundin     </td><td>                </td><td>C               </td><td>1990-1991       </td><td>2008-2009       </td><td>1346            </td><td>564             </td><td> 785            </td><td>1349            </td><td>...             </td><td>160             </td><td>31              </td><td> 96             </td><td>11              </td><td>15              </td><td>4015            </td><td>-330            </td><td>-1178           </td><td>281             </td><td> 325            </td></tr>\n",
       "\t<tr><td> 28             </td><td>Dave Andreychuk </td><td>                </td><td>L               </td><td>1982-1983       </td><td>2005-2006       </td><td>1639            </td><td>640             </td><td> 698            </td><td>1338            </td><td>...             </td><td>274             </td><td>11              </td><td> 77             </td><td>17              </td><td> 5              </td><td>4556            </td><td>-254            </td><td>-1265           </td><td>357             </td><td> 238            </td></tr>\n",
       "\t<tr><td> 29             </td><td>Denis Savard    </td><td>                </td><td>C               </td><td>1980-1981       </td><td>1996-1997       </td><td>1196            </td><td>473             </td><td> 865            </td><td>1338            </td><td>...             </td><td>127             </td><td>20              </td><td> 56             </td><td> 4              </td><td> 1              </td><td>3143            </td><td>-421            </td><td>-1098           </td><td>190             </td><td> 405            </td></tr>\n",
       "\t<tr><td>...</td><td>...</td><td>...</td><td>...</td><td>...</td><td>...</td><td>...</td><td>...</td><td>...</td><td>...</td><td>   </td><td>...</td><td>...</td><td>...</td><td>...</td><td>...</td><td>...</td><td>...</td><td>...</td><td>...</td><td>...</td></tr>\n",
       "\t<tr><td> 71            </td><td>Alex Kovalev   </td><td>               </td><td>R              </td><td>1992-1993      </td><td>2012-2013      </td><td>1316           </td><td>430            </td><td>599            </td><td>1029           </td><td>...            </td><td>133            </td><td> 9             </td><td>70             </td><td> 8             </td><td> 8             </td><td>3585           </td><td>-464           </td><td>-1364          </td><td>147            </td><td>139            </td></tr>\n",
       "\t<tr><td> 72            </td><td>Brian Leetch   </td><td>               </td><td>D              </td><td>1987-1988      </td><td>2005-2006      </td><td>1205           </td><td>247            </td><td>781            </td><td>1028           </td><td>...            </td><td>111            </td><td> 8             </td><td>38             </td><td> 9             </td><td> 7             </td><td>3640           </td><td>-647           </td><td>-1182          </td><td>-36            </td><td>321            </td></tr>\n",
       "\t<tr><td> 73            </td><td>Brian Bellows  </td><td>               </td><td>L              </td><td>1982-1983      </td><td>1998-1999      </td><td>1188           </td><td>485            </td><td>537            </td><td>1022           </td><td>...            </td><td>198            </td><td>13             </td><td>58             </td><td> 2             </td><td> 5             </td><td>3588           </td><td>-409           </td><td>-1426          </td><td>202            </td><td> 77            </td></tr>\n",
       "\t<tr><td> 74            </td><td>Rod Gilbert    </td><td>               </td><td>R              </td><td>1960-1961      </td><td>1977-1978      </td><td>1065           </td><td>406            </td><td>615            </td><td>1021           </td><td>...            </td><td> 83            </td><td> 0             </td><td>40             </td><td>NA             </td><td>NA             </td><td>  NA           </td><td>-488           </td><td>-1348          </td><td>123            </td><td>155            </td></tr>\n",
       "\t<tr><td> 75            </td><td>Dale Hunter    </td><td>               </td><td>C              </td><td>1980-1981      </td><td>1998-1999      </td><td>1407           </td><td>323            </td><td>697            </td><td>1020           </td><td>...            </td><td> 92            </td><td>10             </td><td>41             </td><td> 5             </td><td> 3             </td><td>2045           </td><td>-571           </td><td>-1266          </td><td> 40            </td><td>237            </td></tr>\n",
       "\t<tr><td> 76            </td><td>Pat LaFontaine </td><td>               </td><td>C              </td><td>1983-1984      </td><td>1997-1998      </td><td> 865           </td><td>468            </td><td>545            </td><td>1013           </td><td>...            </td><td>156            </td><td>11             </td><td>59             </td><td>11             </td><td> 3             </td><td>2665           </td><td>-426           </td><td>-1418          </td><td>185            </td><td> 85            </td></tr>\n",
       "\t<tr><td> 77            </td><td>Steve Larmer   </td><td>               </td><td>R              </td><td>1980-1981      </td><td>1994-1995      </td><td>1006           </td><td>441            </td><td>571            </td><td>1012           </td><td>...            </td><td>162            </td><td>24             </td><td>60             </td><td> 1             </td><td> 1             </td><td>2803           </td><td>-453           </td><td>-1392          </td><td>158            </td><td>111            </td></tr>\n",
       "\t<tr><td> 78            </td><td>Lanny Mcdonald </td><td>               </td><td>R              </td><td>1973-1974      </td><td>1988-1989      </td><td>1111           </td><td>500            </td><td>506            </td><td>1006           </td><td>...            </td><td>139            </td><td>11             </td><td>53             </td><td> 0             </td><td> 0             </td><td>3444           </td><td>-394           </td><td>-1457          </td><td>217            </td><td> 46            </td></tr>\n",
       "\t<tr><td> 79            </td><td>Brian Propp    </td><td>               </td><td>L              </td><td>1979-1980      </td><td>1993-1994      </td><td>1016           </td><td>425            </td><td>579            </td><td>1004           </td><td>...            </td><td>120            </td><td>22             </td><td>59             </td><td> 1             </td><td> 1             </td><td>3111           </td><td>-469           </td><td>-1384          </td><td>142            </td><td>119            </td></tr>\n",
       "\t<tr><td> 80            </td><td>Paul Kariya    </td><td>               </td><td>L              </td><td>1994-1995      </td><td>2009-2010      </td><td> 989           </td><td>402            </td><td>587            </td><td> 989           </td><td>...            </td><td>139            </td><td>17             </td><td>53             </td><td> 4             </td><td> 4             </td><td>3509           </td><td>-492           </td><td>-1376          </td><td>119            </td><td>127            </td></tr>\n",
       "\t<tr><td> 81            </td><td>Rick Middleton </td><td>               </td><td>R              </td><td>1974-1975      </td><td>1987-1988      </td><td>1005           </td><td>448            </td><td>540            </td><td> 988           </td><td>...            </td><td>115            </td><td>25             </td><td>59             </td><td> 0             </td><td> 0             </td><td>2275           </td><td>-446           </td><td>-1423          </td><td>165            </td><td> 80            </td></tr>\n",
       "\t<tr><td> 82            </td><td>David Keon     </td><td>               </td><td>C              </td><td>1960-1961      </td><td>1981-1982      </td><td>1296           </td><td>396            </td><td>590            </td><td> 986           </td><td>...            </td><td> 32            </td><td>24             </td><td>40             </td><td>NA             </td><td>NA             </td><td>  NA           </td><td>-498           </td><td>-1373          </td><td>113            </td><td>130            </td></tr>\n",
       "\t<tr><td> 83            </td><td>Andy Bathgate  </td><td>               </td><td>R              </td><td>1952-1953      </td><td>1970-1971      </td><td>1069           </td><td>349            </td><td>624            </td><td> 973           </td><td>...            </td><td>  9            </td><td> 0             </td><td> 7             </td><td>NA             </td><td>NA             </td><td>  NA           </td><td>-545           </td><td>-1339          </td><td> 66            </td><td>164            </td></tr>\n",
       "\t<tr><td> 84            </td><td>Maurice Richard</td><td>               </td><td>R              </td><td>1942-1943      </td><td>1959-1960      </td><td> 978           </td><td>544            </td><td>421            </td><td> 965           </td><td>...            </td><td> NA            </td><td>NA             </td><td>NA             </td><td>NA             </td><td>NA             </td><td>  NA           </td><td>-350           </td><td>-1542          </td><td>261            </td><td>-39            </td></tr>\n",
       "\t<tr><td> 85            </td><td>Kirk Muller    </td><td>               </td><td>L              </td><td>1984-1985      </td><td>2002-2003      </td><td>1349           </td><td>357            </td><td>602            </td><td> 959           </td><td>...            </td><td>134            </td><td>11             </td><td>47             </td><td> 6             </td><td> 5             </td><td>2792           </td><td>-537           </td><td>-1361          </td><td> 74            </td><td>142            </td></tr>\n",
       "\t<tr><td> 86            </td><td>Larry Robinson </td><td>               </td><td>D              </td><td>1972-1973      </td><td>1991-1992      </td><td>1384           </td><td>208            </td><td>750            </td><td> 958           </td><td>...            </td><td> 66            </td><td> 3             </td><td>29             </td><td> 2             </td><td> 0             </td><td>2338           </td><td>-686           </td><td>-1213          </td><td>-75            </td><td>290            </td></tr>\n",
       "\t<tr><td> 87            </td><td>Rick Tocchet   </td><td>               </td><td>R              </td><td>1984-1985      </td><td>2001-2002      </td><td>1144           </td><td>440            </td><td>512            </td><td> 952           </td><td>...            </td><td>130            </td><td>13             </td><td>50             </td><td> 9             </td><td> 2             </td><td>2804           </td><td>-454           </td><td>-1451          </td><td>157            </td><td> 52            </td></tr>\n",
       "\t<tr><td> 88            </td><td>Chris Chelios  </td><td>               </td><td>D              </td><td>1983-1984      </td><td>2009-2010      </td><td>1651           </td><td>185            </td><td>763            </td><td> 948           </td><td>...            </td><td> 69            </td><td>13             </td><td>31             </td><td> 5             </td><td> 1             </td><td>3626           </td><td>-709           </td><td>-1200          </td><td>-98            </td><td>303            </td></tr>\n",
       "\t<tr><td> 89            </td><td>Jason Arnott   </td><td>               </td><td>C              </td><td>1993-1994      </td><td>2011-2012      </td><td>1244           </td><td>417            </td><td>521            </td><td> 938           </td><td>...            </td><td>145            </td><td> 2             </td><td>64             </td><td> 7             </td><td> 6             </td><td>3460           </td><td>-477           </td><td>-1442          </td><td>134            </td><td> 61            </td></tr>\n",
       "\t<tr><td> 90            </td><td>Marian Hossa   </td><td>CHI            </td><td>R              </td><td>1997-1998      </td><td>2012-2013      </td><td>1018           </td><td>434            </td><td>501            </td><td> 935           </td><td>...            </td><td>126            </td><td>26             </td><td>70             </td><td> 5             </td><td>11             </td><td>3383           </td><td>-460           </td><td>-1462          </td><td>151            </td><td> 41            </td></tr>\n",
       "\t<tr><td> 91            </td><td>Steve Thomas   </td><td>               </td><td>R              </td><td>1984-1985      </td><td>2003-2004      </td><td>1235           </td><td>421            </td><td>512            </td><td> 933           </td><td>...            </td><td>106            </td><td> 0             </td><td>78             </td><td> 7             </td><td>10             </td><td>3170           </td><td>-473           </td><td>-1451          </td><td>138            </td><td> 52            </td></tr>\n",
       "\t<tr><td> 92            </td><td>Patrik Elias   </td><td>NJD            </td><td>L              </td><td>1995-1996      </td><td>2012-2013      </td><td>1090           </td><td>375            </td><td>555            </td><td> 930           </td><td>...            </td><td>104            </td><td>14             </td><td>78             </td><td> 4             </td><td>15             </td><td>3036           </td><td>-519           </td><td>-1408          </td><td> 92            </td><td> 95            </td></tr>\n",
       "\t<tr><td> 93            </td><td>Neal Broten    </td><td>               </td><td>C              </td><td>1980-1981      </td><td>1996-1997      </td><td>1099           </td><td>289            </td><td>634            </td><td> 923           </td><td>...            </td><td> 67            </td><td>25             </td><td>34             </td><td> 3             </td><td> 2             </td><td>2316           </td><td>-605           </td><td>-1329          </td><td>  6            </td><td>174            </td></tr>\n",
       "\t<tr><td> 94            </td><td>Bobby Orr      </td><td>               </td><td>D              </td><td>1966-1967      </td><td>1978-1979      </td><td> 657           </td><td>270            </td><td>645            </td><td> 915           </td><td>...            </td><td> 73            </td><td>15             </td><td>26             </td><td>NA             </td><td>NA             </td><td>  NA           </td><td>-624           </td><td>-1318          </td><td>-13            </td><td>185            </td></tr>\n",
       "\t<tr><td> 95            </td><td>Martin St Louis</td><td>TBL            </td><td>R              </td><td>1998-1999      </td><td>2012-2013      </td><td> 979           </td><td>340            </td><td>572            </td><td> 912           </td><td>...            </td><td> 87            </td><td>28             </td><td>60             </td><td> 5             </td><td> 9             </td><td>2536           </td><td>-554           </td><td>-1391          </td><td> 57            </td><td>112            </td></tr>\n",
       "\t<tr><td> 96            </td><td>Gary Roberts   </td><td>               </td><td>L              </td><td>1986-1987      </td><td>2008-2009      </td><td>1224           </td><td>438            </td><td>472            </td><td> 910           </td><td>...            </td><td>109            </td><td>13             </td><td>52             </td><td>11             </td><td> 5             </td><td>2374           </td><td>-456           </td><td>-1491          </td><td>155            </td><td> 12            </td></tr>\n",
       "\t<tr><td> 97            </td><td>Scott Stevens  </td><td>               </td><td>D              </td><td>1982-1983      </td><td>2003-2004      </td><td>1635           </td><td>196            </td><td>712            </td><td> 908           </td><td>...            </td><td> 75            </td><td> 5             </td><td>34             </td><td> 0             </td><td> 2             </td><td>3240           </td><td>-698           </td><td>-1251          </td><td>-87            </td><td>252            </td></tr>\n",
       "\t<tr><td> 98            </td><td>Tony Amonte    </td><td>               </td><td>R              </td><td>1990-1991      </td><td>2006-2007      </td><td>1174           </td><td>416            </td><td>484            </td><td> 900           </td><td>...            </td><td>108            </td><td>23             </td><td>58             </td><td> 7             </td><td> 6             </td><td>3260           </td><td>-478           </td><td>-1479          </td><td>133            </td><td> 24            </td></tr>\n",
       "\t<tr><td> 99            </td><td>Ray Ferraro    </td><td>               </td><td>C              </td><td>1984-1985      </td><td>2001-2002      </td><td>1258           </td><td>408            </td><td>490            </td><td> 898           </td><td>...            </td><td>130            </td><td> 0             </td><td>45             </td><td>11             </td><td> 6             </td><td>2164           </td><td>-486           </td><td>-1473          </td><td>125            </td><td> 30            </td></tr>\n",
       "\t<tr><td>100            </td><td>Brad Park      </td><td>               </td><td>D              </td><td>1968-1969      </td><td>1984-1985      </td><td>1113           </td><td>213            </td><td>683            </td><td> 896           </td><td>...            </td><td> 93            </td><td> 5             </td><td>28             </td><td>NA             </td><td>NA             </td><td>2820           </td><td>-681           </td><td>-1280          </td><td>-70            </td><td>223            </td></tr>\n",
       "</tbody>\n",
       "</table>\n"
      ],
      "text/latex": [
       "\\begin{tabular}{r|llllllllllllllllllllll}\n",
       " Rank & Player & Team & Pos & X1st.NHL.Season & Last.NHL.Season & GP & G & A & P & ... & PP & SH & GW & GT & OT & Shots & G\\_wayne & A\\_wayne & G\\_Patrick & A\\_Patrick\\\\\n",
       "\\hline\n",
       "\t 101              & Patrick Kane     & C                &                  & 1995-1996        & 2007-2008        &  731             & 283              &  460             &  743             & ...              &  85              &  0               &  49              &  0               &  0               & 2280             & -611             & -1917            &   0              &    0            \\\\\n",
       "\t   1              & Wayne Gretzky    &                  & C                & 1979-1980        & 1998-1999        & 1487             & 894              & 1963             & 2857             & ...              & 204              & 73               &  91              & 12               &  1               & 5089             &    0             &     0            & 611              & 1503            \\\\\n",
       "\t   2              & Mark Messier     &                  & C                & 1979-1980        & 2003-2004        & 1756             & 694              & 1193             & 1887             & ...              & 179              & 63               &  92              & 15               &  7               & 4219             & -200             &  -770            & 411              &  733            \\\\\n",
       "\t   3              & Gordie Howe      &                  & R                & 1946-1947        & 1979-1980        & 1767             & 801              & 1049             & 1850             & ...              &  39              &  5               &  18              & NA               & NA               &   NA             &  -93             &  -914            & 518              &  589            \\\\\n",
       "\t   4              & Ron Francis      &                  & C                & 1981-1982        & 2003-2004        & 1731             & 549              & 1249             & 1798             & ...              & 188              & 12               &  79              & 13               &  3               & 3754             & -345             &  -714            & 266              &  789            \\\\\n",
       "\t   5              & Marcel Dionne    &                  & C                & 1971-1972        & 1988-1989        & 1348             & 731              & 1040             & 1771             & ...              & 234              & 19               &  74              &  1               &  2               & 5366             & -163             &  -923            & 448              &  580            \\\\\n",
       "\t   6              & Steve Yzerman    &                  & C                & 1983-1984        & 2005-2006        & 1514             & 692              & 1063             & 1755             & ...              & 202              & 50               &  94              & 12               &  8               & 4602             & -202             &  -900            & 409              &  603            \\\\\n",
       "\t   7              & Mario Lemieux    &                  & C                & 1984-1985        & 2005-2006        &  915             & 690              & 1033             & 1723             & ...              & 236              & 49               &  74              &  7               &  7               & 3633             & -204             &  -930            & 407              &  573            \\\\\n",
       "\t   8              & Jaromir Jagr     & NJD              & R                & 1990-1991        & 2012-2013        & 1391             & 681              & 1007             & 1688             & ...              & 195              & 11               & 118              & 11               & 17               & 4881             & -213             &  -956            & 398              &  547            \\\\\n",
       "\t   9              & Joe Sakic        &                  & C                & 1988-1989        & 2008-2009        & 1378             & 625              & 1016             & 1641             & ...              & 205              & 32               &  86              & 13               &  7               & 4621             & -269             &  -947            & 342              &  556            \\\\\n",
       "\t  10              & Phil Esposito    &                  & C                & 1963-1964        & 1980-1981        & 1282             & 717              &  873             & 1590             & ...              & 249              & 23               & 118              & NA               & NA               &   NA             & -177             & -1090            & 434              &  413            \\\\\n",
       "\t  11              & Ray Bourque      &                  & D                & 1979-1980        & 2000-2001        & 1612             & 410              & 1169             & 1579             & ...              & 173              & 16               &  60              & 14               &  4               & 6206             & -484             &  -794            & 127              &  709            \\\\\n",
       "\t  12              & Mark Recchi      &                  & R                & 1988-1989        & 2010-2011        & 1652             & 577              &  956             & 1533             & ...              & 200              & 18               &  91              &  6               &  6               & 3820             & -317             & -1007            & 294              &  496            \\\\\n",
       "\t  13              & Paul Coffey      &                  & D                & 1980-1981        & 2000-2001        & 1409             & 396              & 1135             & 1531             & ...              & 135              & 20               &  43              &  4               &  0               & 4385             & -498             &  -828            & 113              &  675            \\\\\n",
       "\t  14              & Stan Mikita      &                  & C                & 1958-1959        & 1979-1980        & 1394             & 541              &  926             & 1467             & ...              &  86              &  9               &  48              & NA               & NA               &   NA             & -353             & -1037            & 258              &  466            \\\\\n",
       "\t  15              & Teemu Selanne    &                  & R                & 1992-1993        & 2012-2013        & 1387             & 675              &  755             & 1430             & ...              & 251              &  7               & 107              & 11               &  9               & 4429             & -219             & -1208            & 392              &  295            \\\\\n",
       "\t  16              & Bryan Trottier   &                  & C                & 1975-1976        & 1993-1994        & 1279             & 524              &  901             & 1425             & ...              & 161              & 19               &  68              &  2               &  0               & 2841             & -370             & -1062            & 241              &  441            \\\\\n",
       "\t  17              & Adam Oates       &                  & C                & 1985-1986        & 2003-2004        & 1337             & 341              & 1079             & 1420             & ...              & 103              & 12               &  56              &  6               &  5               & 2392             & -553             &  -884            &  58              &  619            \\\\\n",
       "\t  18              & Doug Gilmour     &                  & C                & 1983-1984        & 2002-2003        & 1474             & 450              &  964             & 1414             & ...              & 153              & 18               &  56              & 15               &  2               & 2833             & -444             &  -999            & 167              &  504            \\\\\n",
       "\t  19              & Dale Hawerchuk   &                  & C                & 1981-1982        & 1996-1997        & 1188             & 518              &  891             & 1409             & ...              & 182              & 13               &  49              &  3               &  2               & 3754             & -376             & -1072            & 235              &  431            \\\\\n",
       "\t  20              & Jari Kurri       &                  & R                & 1980-1981        & 1997-1998        & 1251             & 601              &  797             & 1398             & ...              & 150              & 37               &  67              &  7               &  3               & 3142             & -293             & -1166            & 318              &  337            \\\\\n",
       "\t  21              & Luc Robitaille   &                  & L                & 1986-1987        & 2005-2006        & 1431             & 668              &  726             & 1394             & ...              & 247              &  3               &  89              & 14               &  7               & 3961             & -226             & -1237            & 385              &  266            \\\\\n",
       "\t  22              & Brett Hull       &                  & R                & 1985-1986        & 2005-2006        & 1269             & 741              &  650             & 1391             & ...              & 265              & 20               & 110              & 12               & 12               & 4876             & -153             & -1313            & 458              &  190            \\\\\n",
       "\t  23              & Mike Modano      &                  & C                & 1988-1989        & 2010-2011        & 1499             & 561              &  813             & 1374             & ...              & 157              & 29               &  92              & 15               &  9               & 4273             & -333             & -1150            & 278              &  353            \\\\\n",
       "\t  24              & John Bucyk       &                  & L                & 1955-1956        & 1977-1978        & 1540             & 556              &  813             & 1369             & ...              & 121              &  1               &  59              & NA               & NA               &   NA             & -338             & -1150            & 273              &  353            \\\\\n",
       "\t  25              & Brendan Shanahan &                  & L                & 1987-1988        & 2008-2009        & 1524             & 656              &  698             & 1354             & ...              & 237              & 23               & 109              & 15               & 12               & 5086             & -238             & -1265            & 373              &  238            \\\\\n",
       "\t  26              & Guy Lafleur      &                  & R                & 1971-1972        & 1990-1991        & 1126             & 560              &  793             & 1353             & ...              & 153              &  3               &  97              &  0               &  0               & 3521             & -334             & -1170            & 277              &  333            \\\\\n",
       "\t  27              & Mats Sundin      &                  & C                & 1990-1991        & 2008-2009        & 1346             & 564              &  785             & 1349             & ...              & 160              & 31               &  96              & 11               & 15               & 4015             & -330             & -1178            & 281              &  325            \\\\\n",
       "\t  28              & Dave Andreychuk  &                  & L                & 1982-1983        & 2005-2006        & 1639             & 640              &  698             & 1338             & ...              & 274              & 11               &  77              & 17               &  5               & 4556             & -254             & -1265            & 357              &  238            \\\\\n",
       "\t  29              & Denis Savard     &                  & C                & 1980-1981        & 1996-1997        & 1196             & 473              &  865             & 1338             & ...              & 127              & 20               &  56              &  4               &  1               & 3143             & -421             & -1098            & 190              &  405            \\\\\n",
       "\t ... & ... & ... & ... & ... & ... & ... & ... & ... & ... &     & ... & ... & ... & ... & ... & ... & ... & ... & ... & ...\\\\\n",
       "\t  71             & Alex Kovalev    &                 & R               & 1992-1993       & 2012-2013       & 1316            & 430             & 599             & 1029            & ...             & 133             &  9              & 70              &  8              &  8              & 3585            & -464            & -1364           & 147             & 139            \\\\\n",
       "\t  72             & Brian Leetch    &                 & D               & 1987-1988       & 2005-2006       & 1205            & 247             & 781             & 1028            & ...             & 111             &  8              & 38              &  9              &  7              & 3640            & -647            & -1182           & -36             & 321            \\\\\n",
       "\t  73             & Brian Bellows   &                 & L               & 1982-1983       & 1998-1999       & 1188            & 485             & 537             & 1022            & ...             & 198             & 13              & 58              &  2              &  5              & 3588            & -409            & -1426           & 202             &  77            \\\\\n",
       "\t  74             & Rod Gilbert     &                 & R               & 1960-1961       & 1977-1978       & 1065            & 406             & 615             & 1021            & ...             &  83             &  0              & 40              & NA              & NA              &   NA            & -488            & -1348           & 123             & 155            \\\\\n",
       "\t  75             & Dale Hunter     &                 & C               & 1980-1981       & 1998-1999       & 1407            & 323             & 697             & 1020            & ...             &  92             & 10              & 41              &  5              &  3              & 2045            & -571            & -1266           &  40             & 237            \\\\\n",
       "\t  76             & Pat LaFontaine  &                 & C               & 1983-1984       & 1997-1998       &  865            & 468             & 545             & 1013            & ...             & 156             & 11              & 59              & 11              &  3              & 2665            & -426            & -1418           & 185             &  85            \\\\\n",
       "\t  77             & Steve Larmer    &                 & R               & 1980-1981       & 1994-1995       & 1006            & 441             & 571             & 1012            & ...             & 162             & 24              & 60              &  1              &  1              & 2803            & -453            & -1392           & 158             & 111            \\\\\n",
       "\t  78             & Lanny Mcdonald  &                 & R               & 1973-1974       & 1988-1989       & 1111            & 500             & 506             & 1006            & ...             & 139             & 11              & 53              &  0              &  0              & 3444            & -394            & -1457           & 217             &  46            \\\\\n",
       "\t  79             & Brian Propp     &                 & L               & 1979-1980       & 1993-1994       & 1016            & 425             & 579             & 1004            & ...             & 120             & 22              & 59              &  1              &  1              & 3111            & -469            & -1384           & 142             & 119            \\\\\n",
       "\t  80             & Paul Kariya     &                 & L               & 1994-1995       & 2009-2010       &  989            & 402             & 587             &  989            & ...             & 139             & 17              & 53              &  4              &  4              & 3509            & -492            & -1376           & 119             & 127            \\\\\n",
       "\t  81             & Rick Middleton  &                 & R               & 1974-1975       & 1987-1988       & 1005            & 448             & 540             &  988            & ...             & 115             & 25              & 59              &  0              &  0              & 2275            & -446            & -1423           & 165             &  80            \\\\\n",
       "\t  82             & David Keon      &                 & C               & 1960-1961       & 1981-1982       & 1296            & 396             & 590             &  986            & ...             &  32             & 24              & 40              & NA              & NA              &   NA            & -498            & -1373           & 113             & 130            \\\\\n",
       "\t  83             & Andy Bathgate   &                 & R               & 1952-1953       & 1970-1971       & 1069            & 349             & 624             &  973            & ...             &   9             &  0              &  7              & NA              & NA              &   NA            & -545            & -1339           &  66             & 164            \\\\\n",
       "\t  84             & Maurice Richard &                 & R               & 1942-1943       & 1959-1960       &  978            & 544             & 421             &  965            & ...             &  NA             & NA              & NA              & NA              & NA              &   NA            & -350            & -1542           & 261             & -39            \\\\\n",
       "\t  85             & Kirk Muller     &                 & L               & 1984-1985       & 2002-2003       & 1349            & 357             & 602             &  959            & ...             & 134             & 11              & 47              &  6              &  5              & 2792            & -537            & -1361           &  74             & 142            \\\\\n",
       "\t  86             & Larry Robinson  &                 & D               & 1972-1973       & 1991-1992       & 1384            & 208             & 750             &  958            & ...             &  66             &  3              & 29              &  2              &  0              & 2338            & -686            & -1213           & -75             & 290            \\\\\n",
       "\t  87             & Rick Tocchet    &                 & R               & 1984-1985       & 2001-2002       & 1144            & 440             & 512             &  952            & ...             & 130             & 13              & 50              &  9              &  2              & 2804            & -454            & -1451           & 157             &  52            \\\\\n",
       "\t  88             & Chris Chelios   &                 & D               & 1983-1984       & 2009-2010       & 1651            & 185             & 763             &  948            & ...             &  69             & 13              & 31              &  5              &  1              & 3626            & -709            & -1200           & -98             & 303            \\\\\n",
       "\t  89             & Jason Arnott    &                 & C               & 1993-1994       & 2011-2012       & 1244            & 417             & 521             &  938            & ...             & 145             &  2              & 64              &  7              &  6              & 3460            & -477            & -1442           & 134             &  61            \\\\\n",
       "\t  90             & Marian Hossa    & CHI             & R               & 1997-1998       & 2012-2013       & 1018            & 434             & 501             &  935            & ...             & 126             & 26              & 70              &  5              & 11              & 3383            & -460            & -1462           & 151             &  41            \\\\\n",
       "\t  91             & Steve Thomas    &                 & R               & 1984-1985       & 2003-2004       & 1235            & 421             & 512             &  933            & ...             & 106             &  0              & 78              &  7              & 10              & 3170            & -473            & -1451           & 138             &  52            \\\\\n",
       "\t  92             & Patrik Elias    & NJD             & L               & 1995-1996       & 2012-2013       & 1090            & 375             & 555             &  930            & ...             & 104             & 14              & 78              &  4              & 15              & 3036            & -519            & -1408           &  92             &  95            \\\\\n",
       "\t  93             & Neal Broten     &                 & C               & 1980-1981       & 1996-1997       & 1099            & 289             & 634             &  923            & ...             &  67             & 25              & 34              &  3              &  2              & 2316            & -605            & -1329           &   6             & 174            \\\\\n",
       "\t  94             & Bobby Orr       &                 & D               & 1966-1967       & 1978-1979       &  657            & 270             & 645             &  915            & ...             &  73             & 15              & 26              & NA              & NA              &   NA            & -624            & -1318           & -13             & 185            \\\\\n",
       "\t  95             & Martin St Louis & TBL             & R               & 1998-1999       & 2012-2013       &  979            & 340             & 572             &  912            & ...             &  87             & 28              & 60              &  5              &  9              & 2536            & -554            & -1391           &  57             & 112            \\\\\n",
       "\t  96             & Gary Roberts    &                 & L               & 1986-1987       & 2008-2009       & 1224            & 438             & 472             &  910            & ...             & 109             & 13              & 52              & 11              &  5              & 2374            & -456            & -1491           & 155             &  12            \\\\\n",
       "\t  97             & Scott Stevens   &                 & D               & 1982-1983       & 2003-2004       & 1635            & 196             & 712             &  908            & ...             &  75             &  5              & 34              &  0              &  2              & 3240            & -698            & -1251           & -87             & 252            \\\\\n",
       "\t  98             & Tony Amonte     &                 & R               & 1990-1991       & 2006-2007       & 1174            & 416             & 484             &  900            & ...             & 108             & 23              & 58              &  7              &  6              & 3260            & -478            & -1479           & 133             &  24            \\\\\n",
       "\t  99             & Ray Ferraro     &                 & C               & 1984-1985       & 2001-2002       & 1258            & 408             & 490             &  898            & ...             & 130             &  0              & 45              & 11              &  6              & 2164            & -486            & -1473           & 125             &  30            \\\\\n",
       "\t 100             & Brad Park       &                 & D               & 1968-1969       & 1984-1985       & 1113            & 213             & 683             &  896            & ...             &  93             &  5              & 28              & NA              & NA              & 2820            & -681            & -1280           & -70             & 223            \\\\\n",
       "\\end{tabular}\n"
      ],
      "text/markdown": [
       "\n",
       "Rank | Player | Team | Pos | X1st.NHL.Season | Last.NHL.Season | GP | G | A | P | ... | PP | SH | GW | GT | OT | Shots | G_wayne | A_wayne | G_Patrick | A_Patrick | \n",
       "|---|---|---|---|---|---|---|---|---|---|---|---|---|---|---|---|---|---|---|---|---|---|---|---|---|---|---|---|---|---|---|---|---|---|---|---|---|---|---|---|---|---|---|---|---|---|---|---|---|---|---|---|---|---|---|---|---|---|---|---|---|\n",
       "| 101              | Patrick Kane     | C                |                  | 1995-1996        | 2007-2008        |  731             | 283              |  460             |  743             | ...              |  85              |  0               |  49              |  0               |  0               | 2280             | -611             | -1917            |   0              |    0             | \n",
       "|   1              | Wayne Gretzky    |                  | C                | 1979-1980        | 1998-1999        | 1487             | 894              | 1963             | 2857             | ...              | 204              | 73               |  91              | 12               |  1               | 5089             |    0             |     0            | 611              | 1503             | \n",
       "|   2              | Mark Messier     |                  | C                | 1979-1980        | 2003-2004        | 1756             | 694              | 1193             | 1887             | ...              | 179              | 63               |  92              | 15               |  7               | 4219             | -200             |  -770            | 411              |  733             | \n",
       "|   3              | Gordie Howe      |                  | R                | 1946-1947        | 1979-1980        | 1767             | 801              | 1049             | 1850             | ...              |  39              |  5               |  18              | NA               | NA               |   NA             |  -93             |  -914            | 518              |  589             | \n",
       "|   4              | Ron Francis      |                  | C                | 1981-1982        | 2003-2004        | 1731             | 549              | 1249             | 1798             | ...              | 188              | 12               |  79              | 13               |  3               | 3754             | -345             |  -714            | 266              |  789             | \n",
       "|   5              | Marcel Dionne    |                  | C                | 1971-1972        | 1988-1989        | 1348             | 731              | 1040             | 1771             | ...              | 234              | 19               |  74              |  1               |  2               | 5366             | -163             |  -923            | 448              |  580             | \n",
       "|   6              | Steve Yzerman    |                  | C                | 1983-1984        | 2005-2006        | 1514             | 692              | 1063             | 1755             | ...              | 202              | 50               |  94              | 12               |  8               | 4602             | -202             |  -900            | 409              |  603             | \n",
       "|   7              | Mario Lemieux    |                  | C                | 1984-1985        | 2005-2006        |  915             | 690              | 1033             | 1723             | ...              | 236              | 49               |  74              |  7               |  7               | 3633             | -204             |  -930            | 407              |  573             | \n",
       "|   8              | Jaromir Jagr     | NJD              | R                | 1990-1991        | 2012-2013        | 1391             | 681              | 1007             | 1688             | ...              | 195              | 11               | 118              | 11               | 17               | 4881             | -213             |  -956            | 398              |  547             | \n",
       "|   9              | Joe Sakic        |                  | C                | 1988-1989        | 2008-2009        | 1378             | 625              | 1016             | 1641             | ...              | 205              | 32               |  86              | 13               |  7               | 4621             | -269             |  -947            | 342              |  556             | \n",
       "|  10              | Phil Esposito    |                  | C                | 1963-1964        | 1980-1981        | 1282             | 717              |  873             | 1590             | ...              | 249              | 23               | 118              | NA               | NA               |   NA             | -177             | -1090            | 434              |  413             | \n",
       "|  11              | Ray Bourque      |                  | D                | 1979-1980        | 2000-2001        | 1612             | 410              | 1169             | 1579             | ...              | 173              | 16               |  60              | 14               |  4               | 6206             | -484             |  -794            | 127              |  709             | \n",
       "|  12              | Mark Recchi      |                  | R                | 1988-1989        | 2010-2011        | 1652             | 577              |  956             | 1533             | ...              | 200              | 18               |  91              |  6               |  6               | 3820             | -317             | -1007            | 294              |  496             | \n",
       "|  13              | Paul Coffey      |                  | D                | 1980-1981        | 2000-2001        | 1409             | 396              | 1135             | 1531             | ...              | 135              | 20               |  43              |  4               |  0               | 4385             | -498             |  -828            | 113              |  675             | \n",
       "|  14              | Stan Mikita      |                  | C                | 1958-1959        | 1979-1980        | 1394             | 541              |  926             | 1467             | ...              |  86              |  9               |  48              | NA               | NA               |   NA             | -353             | -1037            | 258              |  466             | \n",
       "|  15              | Teemu Selanne    |                  | R                | 1992-1993        | 2012-2013        | 1387             | 675              |  755             | 1430             | ...              | 251              |  7               | 107              | 11               |  9               | 4429             | -219             | -1208            | 392              |  295             | \n",
       "|  16              | Bryan Trottier   |                  | C                | 1975-1976        | 1993-1994        | 1279             | 524              |  901             | 1425             | ...              | 161              | 19               |  68              |  2               |  0               | 2841             | -370             | -1062            | 241              |  441             | \n",
       "|  17              | Adam Oates       |                  | C                | 1985-1986        | 2003-2004        | 1337             | 341              | 1079             | 1420             | ...              | 103              | 12               |  56              |  6               |  5               | 2392             | -553             |  -884            |  58              |  619             | \n",
       "|  18              | Doug Gilmour     |                  | C                | 1983-1984        | 2002-2003        | 1474             | 450              |  964             | 1414             | ...              | 153              | 18               |  56              | 15               |  2               | 2833             | -444             |  -999            | 167              |  504             | \n",
       "|  19              | Dale Hawerchuk   |                  | C                | 1981-1982        | 1996-1997        | 1188             | 518              |  891             | 1409             | ...              | 182              | 13               |  49              |  3               |  2               | 3754             | -376             | -1072            | 235              |  431             | \n",
       "|  20              | Jari Kurri       |                  | R                | 1980-1981        | 1997-1998        | 1251             | 601              |  797             | 1398             | ...              | 150              | 37               |  67              |  7               |  3               | 3142             | -293             | -1166            | 318              |  337             | \n",
       "|  21              | Luc Robitaille   |                  | L                | 1986-1987        | 2005-2006        | 1431             | 668              |  726             | 1394             | ...              | 247              |  3               |  89              | 14               |  7               | 3961             | -226             | -1237            | 385              |  266             | \n",
       "|  22              | Brett Hull       |                  | R                | 1985-1986        | 2005-2006        | 1269             | 741              |  650             | 1391             | ...              | 265              | 20               | 110              | 12               | 12               | 4876             | -153             | -1313            | 458              |  190             | \n",
       "|  23              | Mike Modano      |                  | C                | 1988-1989        | 2010-2011        | 1499             | 561              |  813             | 1374             | ...              | 157              | 29               |  92              | 15               |  9               | 4273             | -333             | -1150            | 278              |  353             | \n",
       "|  24              | John Bucyk       |                  | L                | 1955-1956        | 1977-1978        | 1540             | 556              |  813             | 1369             | ...              | 121              |  1               |  59              | NA               | NA               |   NA             | -338             | -1150            | 273              |  353             | \n",
       "|  25              | Brendan Shanahan |                  | L                | 1987-1988        | 2008-2009        | 1524             | 656              |  698             | 1354             | ...              | 237              | 23               | 109              | 15               | 12               | 5086             | -238             | -1265            | 373              |  238             | \n",
       "|  26              | Guy Lafleur      |                  | R                | 1971-1972        | 1990-1991        | 1126             | 560              |  793             | 1353             | ...              | 153              |  3               |  97              |  0               |  0               | 3521             | -334             | -1170            | 277              |  333             | \n",
       "|  27              | Mats Sundin      |                  | C                | 1990-1991        | 2008-2009        | 1346             | 564              |  785             | 1349             | ...              | 160              | 31               |  96              | 11               | 15               | 4015             | -330             | -1178            | 281              |  325             | \n",
       "|  28              | Dave Andreychuk  |                  | L                | 1982-1983        | 2005-2006        | 1639             | 640              |  698             | 1338             | ...              | 274              | 11               |  77              | 17               |  5               | 4556             | -254             | -1265            | 357              |  238             | \n",
       "|  29              | Denis Savard     |                  | C                | 1980-1981        | 1996-1997        | 1196             | 473              |  865             | 1338             | ...              | 127              | 20               |  56              |  4               |  1               | 3143             | -421             | -1098            | 190              |  405             | \n",
       "| ... | ... | ... | ... | ... | ... | ... | ... | ... | ... |     | ... | ... | ... | ... | ... | ... | ... | ... | ... | ... | \n",
       "|  71             | Alex Kovalev    |                 | R               | 1992-1993       | 2012-2013       | 1316            | 430             | 599             | 1029            | ...             | 133             |  9              | 70              |  8              |  8              | 3585            | -464            | -1364           | 147             | 139             | \n",
       "|  72             | Brian Leetch    |                 | D               | 1987-1988       | 2005-2006       | 1205            | 247             | 781             | 1028            | ...             | 111             |  8              | 38              |  9              |  7              | 3640            | -647            | -1182           | -36             | 321             | \n",
       "|  73             | Brian Bellows   |                 | L               | 1982-1983       | 1998-1999       | 1188            | 485             | 537             | 1022            | ...             | 198             | 13              | 58              |  2              |  5              | 3588            | -409            | -1426           | 202             |  77             | \n",
       "|  74             | Rod Gilbert     |                 | R               | 1960-1961       | 1977-1978       | 1065            | 406             | 615             | 1021            | ...             |  83             |  0              | 40              | NA              | NA              |   NA            | -488            | -1348           | 123             | 155             | \n",
       "|  75             | Dale Hunter     |                 | C               | 1980-1981       | 1998-1999       | 1407            | 323             | 697             | 1020            | ...             |  92             | 10              | 41              |  5              |  3              | 2045            | -571            | -1266           |  40             | 237             | \n",
       "|  76             | Pat LaFontaine  |                 | C               | 1983-1984       | 1997-1998       |  865            | 468             | 545             | 1013            | ...             | 156             | 11              | 59              | 11              |  3              | 2665            | -426            | -1418           | 185             |  85             | \n",
       "|  77             | Steve Larmer    |                 | R               | 1980-1981       | 1994-1995       | 1006            | 441             | 571             | 1012            | ...             | 162             | 24              | 60              |  1              |  1              | 2803            | -453            | -1392           | 158             | 111             | \n",
       "|  78             | Lanny Mcdonald  |                 | R               | 1973-1974       | 1988-1989       | 1111            | 500             | 506             | 1006            | ...             | 139             | 11              | 53              |  0              |  0              | 3444            | -394            | -1457           | 217             |  46             | \n",
       "|  79             | Brian Propp     |                 | L               | 1979-1980       | 1993-1994       | 1016            | 425             | 579             | 1004            | ...             | 120             | 22              | 59              |  1              |  1              | 3111            | -469            | -1384           | 142             | 119             | \n",
       "|  80             | Paul Kariya     |                 | L               | 1994-1995       | 2009-2010       |  989            | 402             | 587             |  989            | ...             | 139             | 17              | 53              |  4              |  4              | 3509            | -492            | -1376           | 119             | 127             | \n",
       "|  81             | Rick Middleton  |                 | R               | 1974-1975       | 1987-1988       | 1005            | 448             | 540             |  988            | ...             | 115             | 25              | 59              |  0              |  0              | 2275            | -446            | -1423           | 165             |  80             | \n",
       "|  82             | David Keon      |                 | C               | 1960-1961       | 1981-1982       | 1296            | 396             | 590             |  986            | ...             |  32             | 24              | 40              | NA              | NA              |   NA            | -498            | -1373           | 113             | 130             | \n",
       "|  83             | Andy Bathgate   |                 | R               | 1952-1953       | 1970-1971       | 1069            | 349             | 624             |  973            | ...             |   9             |  0              |  7              | NA              | NA              |   NA            | -545            | -1339           |  66             | 164             | \n",
       "|  84             | Maurice Richard |                 | R               | 1942-1943       | 1959-1960       |  978            | 544             | 421             |  965            | ...             |  NA             | NA              | NA              | NA              | NA              |   NA            | -350            | -1542           | 261             | -39             | \n",
       "|  85             | Kirk Muller     |                 | L               | 1984-1985       | 2002-2003       | 1349            | 357             | 602             |  959            | ...             | 134             | 11              | 47              |  6              |  5              | 2792            | -537            | -1361           |  74             | 142             | \n",
       "|  86             | Larry Robinson  |                 | D               | 1972-1973       | 1991-1992       | 1384            | 208             | 750             |  958            | ...             |  66             |  3              | 29              |  2              |  0              | 2338            | -686            | -1213           | -75             | 290             | \n",
       "|  87             | Rick Tocchet    |                 | R               | 1984-1985       | 2001-2002       | 1144            | 440             | 512             |  952            | ...             | 130             | 13              | 50              |  9              |  2              | 2804            | -454            | -1451           | 157             |  52             | \n",
       "|  88             | Chris Chelios   |                 | D               | 1983-1984       | 2009-2010       | 1651            | 185             | 763             |  948            | ...             |  69             | 13              | 31              |  5              |  1              | 3626            | -709            | -1200           | -98             | 303             | \n",
       "|  89             | Jason Arnott    |                 | C               | 1993-1994       | 2011-2012       | 1244            | 417             | 521             |  938            | ...             | 145             |  2              | 64              |  7              |  6              | 3460            | -477            | -1442           | 134             |  61             | \n",
       "|  90             | Marian Hossa    | CHI             | R               | 1997-1998       | 2012-2013       | 1018            | 434             | 501             |  935            | ...             | 126             | 26              | 70              |  5              | 11              | 3383            | -460            | -1462           | 151             |  41             | \n",
       "|  91             | Steve Thomas    |                 | R               | 1984-1985       | 2003-2004       | 1235            | 421             | 512             |  933            | ...             | 106             |  0              | 78              |  7              | 10              | 3170            | -473            | -1451           | 138             |  52             | \n",
       "|  92             | Patrik Elias    | NJD             | L               | 1995-1996       | 2012-2013       | 1090            | 375             | 555             |  930            | ...             | 104             | 14              | 78              |  4              | 15              | 3036            | -519            | -1408           |  92             |  95             | \n",
       "|  93             | Neal Broten     |                 | C               | 1980-1981       | 1996-1997       | 1099            | 289             | 634             |  923            | ...             |  67             | 25              | 34              |  3              |  2              | 2316            | -605            | -1329           |   6             | 174             | \n",
       "|  94             | Bobby Orr       |                 | D               | 1966-1967       | 1978-1979       |  657            | 270             | 645             |  915            | ...             |  73             | 15              | 26              | NA              | NA              |   NA            | -624            | -1318           | -13             | 185             | \n",
       "|  95             | Martin St Louis | TBL             | R               | 1998-1999       | 2012-2013       |  979            | 340             | 572             |  912            | ...             |  87             | 28              | 60              |  5              |  9              | 2536            | -554            | -1391           |  57             | 112             | \n",
       "|  96             | Gary Roberts    |                 | L               | 1986-1987       | 2008-2009       | 1224            | 438             | 472             |  910            | ...             | 109             | 13              | 52              | 11              |  5              | 2374            | -456            | -1491           | 155             |  12             | \n",
       "|  97             | Scott Stevens   |                 | D               | 1982-1983       | 2003-2004       | 1635            | 196             | 712             |  908            | ...             |  75             |  5              | 34              |  0              |  2              | 3240            | -698            | -1251           | -87             | 252             | \n",
       "|  98             | Tony Amonte     |                 | R               | 1990-1991       | 2006-2007       | 1174            | 416             | 484             |  900            | ...             | 108             | 23              | 58              |  7              |  6              | 3260            | -478            | -1479           | 133             |  24             | \n",
       "|  99             | Ray Ferraro     |                 | C               | 1984-1985       | 2001-2002       | 1258            | 408             | 490             |  898            | ...             | 130             |  0              | 45              | 11              |  6              | 2164            | -486            | -1473           | 125             |  30             | \n",
       "| 100             | Brad Park       |                 | D               | 1968-1969       | 1984-1985       | 1113            | 213             | 683             |  896            | ...             |  93             |  5              | 28              | NA              | NA              | 2820            | -681            | -1280           | -70             | 223             | \n",
       "\n",
       "\n"
      ],
      "text/plain": [
       "    Rank Player           Team Pos X1st.NHL.Season Last.NHL.Season GP   G  \n",
       "1   101  Patrick Kane     C        1995-1996       2007-2008        731 283\n",
       "2     1  Wayne Gretzky         C   1979-1980       1998-1999       1487 894\n",
       "3     2  Mark Messier          C   1979-1980       2003-2004       1756 694\n",
       "4     3  Gordie Howe           R   1946-1947       1979-1980       1767 801\n",
       "5     4  Ron Francis           C   1981-1982       2003-2004       1731 549\n",
       "6     5  Marcel Dionne         C   1971-1972       1988-1989       1348 731\n",
       "7     6  Steve Yzerman         C   1983-1984       2005-2006       1514 692\n",
       "8     7  Mario Lemieux         C   1984-1985       2005-2006        915 690\n",
       "9     8  Jaromir Jagr     NJD  R   1990-1991       2012-2013       1391 681\n",
       "10    9  Joe Sakic             C   1988-1989       2008-2009       1378 625\n",
       "11   10  Phil Esposito         C   1963-1964       1980-1981       1282 717\n",
       "12   11  Ray Bourque           D   1979-1980       2000-2001       1612 410\n",
       "13   12  Mark Recchi           R   1988-1989       2010-2011       1652 577\n",
       "14   13  Paul Coffey           D   1980-1981       2000-2001       1409 396\n",
       "15   14  Stan Mikita           C   1958-1959       1979-1980       1394 541\n",
       "16   15  Teemu Selanne         R   1992-1993       2012-2013       1387 675\n",
       "17   16  Bryan Trottier        C   1975-1976       1993-1994       1279 524\n",
       "18   17  Adam Oates            C   1985-1986       2003-2004       1337 341\n",
       "19   18  Doug Gilmour          C   1983-1984       2002-2003       1474 450\n",
       "20   19  Dale Hawerchuk        C   1981-1982       1996-1997       1188 518\n",
       "21   20  Jari Kurri            R   1980-1981       1997-1998       1251 601\n",
       "22   21  Luc Robitaille        L   1986-1987       2005-2006       1431 668\n",
       "23   22  Brett Hull            R   1985-1986       2005-2006       1269 741\n",
       "24   23  Mike Modano           C   1988-1989       2010-2011       1499 561\n",
       "25   24  John Bucyk            L   1955-1956       1977-1978       1540 556\n",
       "26   25  Brendan Shanahan      L   1987-1988       2008-2009       1524 656\n",
       "27   26  Guy Lafleur           R   1971-1972       1990-1991       1126 560\n",
       "28   27  Mats Sundin           C   1990-1991       2008-2009       1346 564\n",
       "29   28  Dave Andreychuk       L   1982-1983       2005-2006       1639 640\n",
       "30   29  Denis Savard          C   1980-1981       1996-1997       1196 473\n",
       "... ...  ...              ...  ... ...             ...             ...  ...\n",
       "72   71  Alex Kovalev          R   1992-1993       2012-2013       1316 430\n",
       "73   72  Brian Leetch          D   1987-1988       2005-2006       1205 247\n",
       "74   73  Brian Bellows         L   1982-1983       1998-1999       1188 485\n",
       "75   74  Rod Gilbert           R   1960-1961       1977-1978       1065 406\n",
       "76   75  Dale Hunter           C   1980-1981       1998-1999       1407 323\n",
       "77   76  Pat LaFontaine        C   1983-1984       1997-1998        865 468\n",
       "78   77  Steve Larmer          R   1980-1981       1994-1995       1006 441\n",
       "79   78  Lanny Mcdonald        R   1973-1974       1988-1989       1111 500\n",
       "80   79  Brian Propp           L   1979-1980       1993-1994       1016 425\n",
       "81   80  Paul Kariya           L   1994-1995       2009-2010        989 402\n",
       "82   81  Rick Middleton        R   1974-1975       1987-1988       1005 448\n",
       "83   82  David Keon            C   1960-1961       1981-1982       1296 396\n",
       "84   83  Andy Bathgate         R   1952-1953       1970-1971       1069 349\n",
       "85   84  Maurice Richard       R   1942-1943       1959-1960        978 544\n",
       "86   85  Kirk Muller           L   1984-1985       2002-2003       1349 357\n",
       "87   86  Larry Robinson        D   1972-1973       1991-1992       1384 208\n",
       "88   87  Rick Tocchet          R   1984-1985       2001-2002       1144 440\n",
       "89   88  Chris Chelios         D   1983-1984       2009-2010       1651 185\n",
       "90   89  Jason Arnott          C   1993-1994       2011-2012       1244 417\n",
       "91   90  Marian Hossa     CHI  R   1997-1998       2012-2013       1018 434\n",
       "92   91  Steve Thomas          R   1984-1985       2003-2004       1235 421\n",
       "93   92  Patrik Elias     NJD  L   1995-1996       2012-2013       1090 375\n",
       "94   93  Neal Broten           C   1980-1981       1996-1997       1099 289\n",
       "95   94  Bobby Orr             D   1966-1967       1978-1979        657 270\n",
       "96   95  Martin St Louis  TBL  R   1998-1999       2012-2013        979 340\n",
       "97   96  Gary Roberts          L   1986-1987       2008-2009       1224 438\n",
       "98   97  Scott Stevens         D   1982-1983       2003-2004       1635 196\n",
       "99   98  Tony Amonte           R   1990-1991       2006-2007       1174 416\n",
       "100  99  Ray Ferraro           C   1984-1985       2001-2002       1258 408\n",
       "101 100  Brad Park             D   1968-1969       1984-1985       1113 213\n",
       "    A    P    ... PP  SH  GW  GT  OT  Shots G_wayne A_wayne G_Patrick A_Patrick\n",
       "1    460  743 ...  85  0   49  0   0  2280  -611    -1917     0          0     \n",
       "2   1963 2857 ... 204 73   91 12   1  5089     0        0   611       1503     \n",
       "3   1193 1887 ... 179 63   92 15   7  4219  -200     -770   411        733     \n",
       "4   1049 1850 ...  39  5   18 NA  NA    NA   -93     -914   518        589     \n",
       "5   1249 1798 ... 188 12   79 13   3  3754  -345     -714   266        789     \n",
       "6   1040 1771 ... 234 19   74  1   2  5366  -163     -923   448        580     \n",
       "7   1063 1755 ... 202 50   94 12   8  4602  -202     -900   409        603     \n",
       "8   1033 1723 ... 236 49   74  7   7  3633  -204     -930   407        573     \n",
       "9   1007 1688 ... 195 11  118 11  17  4881  -213     -956   398        547     \n",
       "10  1016 1641 ... 205 32   86 13   7  4621  -269     -947   342        556     \n",
       "11   873 1590 ... 249 23  118 NA  NA    NA  -177    -1090   434        413     \n",
       "12  1169 1579 ... 173 16   60 14   4  6206  -484     -794   127        709     \n",
       "13   956 1533 ... 200 18   91  6   6  3820  -317    -1007   294        496     \n",
       "14  1135 1531 ... 135 20   43  4   0  4385  -498     -828   113        675     \n",
       "15   926 1467 ...  86  9   48 NA  NA    NA  -353    -1037   258        466     \n",
       "16   755 1430 ... 251  7  107 11   9  4429  -219    -1208   392        295     \n",
       "17   901 1425 ... 161 19   68  2   0  2841  -370    -1062   241        441     \n",
       "18  1079 1420 ... 103 12   56  6   5  2392  -553     -884    58        619     \n",
       "19   964 1414 ... 153 18   56 15   2  2833  -444     -999   167        504     \n",
       "20   891 1409 ... 182 13   49  3   2  3754  -376    -1072   235        431     \n",
       "21   797 1398 ... 150 37   67  7   3  3142  -293    -1166   318        337     \n",
       "22   726 1394 ... 247  3   89 14   7  3961  -226    -1237   385        266     \n",
       "23   650 1391 ... 265 20  110 12  12  4876  -153    -1313   458        190     \n",
       "24   813 1374 ... 157 29   92 15   9  4273  -333    -1150   278        353     \n",
       "25   813 1369 ... 121  1   59 NA  NA    NA  -338    -1150   273        353     \n",
       "26   698 1354 ... 237 23  109 15  12  5086  -238    -1265   373        238     \n",
       "27   793 1353 ... 153  3   97  0   0  3521  -334    -1170   277        333     \n",
       "28   785 1349 ... 160 31   96 11  15  4015  -330    -1178   281        325     \n",
       "29   698 1338 ... 274 11   77 17   5  4556  -254    -1265   357        238     \n",
       "30   865 1338 ... 127 20   56  4   1  3143  -421    -1098   190        405     \n",
       "... ...  ...      ... ... ... ... ... ...   ...     ...     ...       ...      \n",
       "72  599  1029 ... 133  9  70   8   8  3585  -464    -1364   147       139      \n",
       "73  781  1028 ... 111  8  38   9   7  3640  -647    -1182   -36       321      \n",
       "74  537  1022 ... 198 13  58   2   5  3588  -409    -1426   202        77      \n",
       "75  615  1021 ...  83  0  40  NA  NA    NA  -488    -1348   123       155      \n",
       "76  697  1020 ...  92 10  41   5   3  2045  -571    -1266    40       237      \n",
       "77  545  1013 ... 156 11  59  11   3  2665  -426    -1418   185        85      \n",
       "78  571  1012 ... 162 24  60   1   1  2803  -453    -1392   158       111      \n",
       "79  506  1006 ... 139 11  53   0   0  3444  -394    -1457   217        46      \n",
       "80  579  1004 ... 120 22  59   1   1  3111  -469    -1384   142       119      \n",
       "81  587   989 ... 139 17  53   4   4  3509  -492    -1376   119       127      \n",
       "82  540   988 ... 115 25  59   0   0  2275  -446    -1423   165        80      \n",
       "83  590   986 ...  32 24  40  NA  NA    NA  -498    -1373   113       130      \n",
       "84  624   973 ...   9  0   7  NA  NA    NA  -545    -1339    66       164      \n",
       "85  421   965 ...  NA NA  NA  NA  NA    NA  -350    -1542   261       -39      \n",
       "86  602   959 ... 134 11  47   6   5  2792  -537    -1361    74       142      \n",
       "87  750   958 ...  66  3  29   2   0  2338  -686    -1213   -75       290      \n",
       "88  512   952 ... 130 13  50   9   2  2804  -454    -1451   157        52      \n",
       "89  763   948 ...  69 13  31   5   1  3626  -709    -1200   -98       303      \n",
       "90  521   938 ... 145  2  64   7   6  3460  -477    -1442   134        61      \n",
       "91  501   935 ... 126 26  70   5  11  3383  -460    -1462   151        41      \n",
       "92  512   933 ... 106  0  78   7  10  3170  -473    -1451   138        52      \n",
       "93  555   930 ... 104 14  78   4  15  3036  -519    -1408    92        95      \n",
       "94  634   923 ...  67 25  34   3   2  2316  -605    -1329     6       174      \n",
       "95  645   915 ...  73 15  26  NA  NA    NA  -624    -1318   -13       185      \n",
       "96  572   912 ...  87 28  60   5   9  2536  -554    -1391    57       112      \n",
       "97  472   910 ... 109 13  52  11   5  2374  -456    -1491   155        12      \n",
       "98  712   908 ...  75  5  34   0   2  3240  -698    -1251   -87       252      \n",
       "99  484   900 ... 108 23  58   7   6  3260  -478    -1479   133        24      \n",
       "100 490   898 ... 130  0  45  11   6  2164  -486    -1473   125        30      \n",
       "101 683   896 ...  93  5  28  NA  NA  2820  -681    -1280   -70       223      "
      ]
     },
     "metadata": {},
     "output_type": "display_data"
    }
   ],
   "source": [
    "data"
   ]
  },
  {
   "cell_type": "markdown",
   "metadata": {},
   "source": [
    "Plotting the patrick kane Model"
   ]
  },
  {
   "cell_type": "code",
   "execution_count": 179,
   "metadata": {
    "collapsed": false
   },
   "outputs": [
    {
     "data": {
      "image/png": "[encoded data removed]",
      "text/plain": [
       "plot without title"
      ]
     },
     "metadata": {},
     "output_type": "display_data"
    }
   ],
   "source": [
    "model_patrick <- lm(A_Patrick ~ G_Patrick,data)\n",
    "coefs <- coef(model_patrick)\n",
    "plot(data$G, data$A, pch=20,col=\"blue\", xlab=\"G\",ylab=\"A\")\n",
    "abline(coefs[1],(460-coefs[1])/283)"
   ]
  },
  {
   "cell_type": "markdown",
   "metadata": {},
   "source": [
    "\n",
    "Noting r2 and p values for Patrick Kane model"
   ]
  },
  {
   "cell_type": "code",
   "execution_count": 188,
   "metadata": {
    "collapsed": false
   },
   "outputs": [
    {
     "data": {
      "text/html": [
       "<table>\n",
       "<thead><tr><th scope=col>Model</th><th scope=col>R_sqaured</th><th scope=col>p_Value</th></tr></thead>\n",
       "<tbody>\n",
       "\t<tr><td>LinearModel               </td><td>0.10823050447434          </td><td>0.000831716923854345      </td></tr>\n",
       "\t<tr><td>Wayne Gretzky Model       </td><td>0.10823050447434          </td><td>0.000831716923854359      </td></tr>\n",
       "\t<tr><td>Wayne Gretzky Model Origin</td><td>0.970653958204801         </td><td>1.12996626811667e-77      </td></tr>\n",
       "\t<tr><td>Patrick Kane Model        </td><td>0.10823050447434          </td><td>0.000831716923854363      </td></tr>\n",
       "</tbody>\n",
       "</table>\n"
      ],
      "text/latex": [
       "\\begin{tabular}{r|lll}\n",
       " Model & R\\_sqaured & p\\_Value\\\\\n",
       "\\hline\n",
       "\t LinearModel                & 0.10823050447434           & 0.000831716923854345      \\\\\n",
       "\t Wayne Gretzky Model        & 0.10823050447434           & 0.000831716923854359      \\\\\n",
       "\t Wayne Gretzky Model Origin & 0.970653958204801          & 1.12996626811667e-77      \\\\\n",
       "\t Patrick Kane Model         & 0.10823050447434           & 0.000831716923854363      \\\\\n",
       "\\end{tabular}\n"
      ],
      "text/markdown": [
       "\n",
       "Model | R_sqaured | p_Value | \n",
       "|---|---|---|---|\n",
       "| LinearModel                | 0.10823050447434           | 0.000831716923854345       | \n",
       "| Wayne Gretzky Model        | 0.10823050447434           | 0.000831716923854359       | \n",
       "| Wayne Gretzky Model Origin | 0.970653958204801          | 1.12996626811667e-77       | \n",
       "| Patrick Kane Model         | 0.10823050447434           | 0.000831716923854363       | \n",
       "\n",
       "\n"
      ],
      "text/plain": [
       "  Model                      R_sqaured         p_Value             \n",
       "1 LinearModel                0.10823050447434  0.000831716923854345\n",
       "2 Wayne Gretzky Model        0.10823050447434  0.000831716923854359\n",
       "3 Wayne Gretzky Model Origin 0.970653958204801 1.12996626811667e-77\n",
       "4 Patrick Kane Model         0.10823050447434  0.000831716923854363"
      ]
     },
     "metadata": {},
     "output_type": "display_data"
    }
   ],
   "source": [
    "summary_table[4,] <- c(\"Patrick Kane Model\",glance(model_patrick)$r.squared,glance(model_patrick)$p.value)\n",
    "head(summary_table)"
   ]
  },
  {
   "cell_type": "markdown",
   "metadata": {},
   "source": [
    "Plotting the patrick kane Model through origin"
   ]
  },
  {
   "cell_type": "code",
   "execution_count": 180,
   "metadata": {
    "collapsed": true
   },
   "outputs": [],
   "source": [
    "model_patrick_origin <- lm(A_Patrick ~ G_Patrick+0,data)"
   ]
  },
  {
   "cell_type": "code",
   "execution_count": 181,
   "metadata": {
    "collapsed": false
   },
   "outputs": [
    {
     "data": {
      "image/png": "[encoded data removed]",
      "text/plain": [
       "plot without title"
      ]
     },
     "metadata": {},
     "output_type": "display_data"
    }
   ],
   "source": [
    "plot(data$G_Patrick, data$A_Patrick, pch=20,col=\"red\", xlab=\"G\",ylab=\"A\")\n",
    "abline(model_patrick_origin)"
   ]
  },
  {
   "cell_type": "markdown",
   "metadata": {},
   "source": [
    "Noting r2 and p values for Patrick Kane model origin"
   ]
  },
  {
   "cell_type": "code",
   "execution_count": 189,
   "metadata": {
    "collapsed": false
   },
   "outputs": [
    {
     "data": {
      "text/html": [
       "<table>\n",
       "<thead><tr><th scope=col>Model</th><th scope=col>R_sqaured</th><th scope=col>p_Value</th></tr></thead>\n",
       "<tbody>\n",
       "\t<tr><td>LinearModel               </td><td>0.10823050447434          </td><td>0.000831716923854345      </td></tr>\n",
       "\t<tr><td>Wayne Gretzky Model       </td><td>0.10823050447434          </td><td>0.000831716923854359      </td></tr>\n",
       "\t<tr><td>Wayne Gretzky Model Origin</td><td>0.970653958204801         </td><td>1.12996626811667e-77      </td></tr>\n",
       "\t<tr><td>Patrick Kane Model        </td><td>0.10823050447434          </td><td>0.000831716923854363      </td></tr>\n",
       "\t<tr><td>Patrick Kane Model Origin </td><td>0.579980304611218         </td><td>2.34480030357911e-20      </td></tr>\n",
       "</tbody>\n",
       "</table>\n"
      ],
      "text/latex": [
       "\\begin{tabular}{r|lll}\n",
       " Model & R\\_sqaured & p\\_Value\\\\\n",
       "\\hline\n",
       "\t LinearModel                & 0.10823050447434           & 0.000831716923854345      \\\\\n",
       "\t Wayne Gretzky Model        & 0.10823050447434           & 0.000831716923854359      \\\\\n",
       "\t Wayne Gretzky Model Origin & 0.970653958204801          & 1.12996626811667e-77      \\\\\n",
       "\t Patrick Kane Model         & 0.10823050447434           & 0.000831716923854363      \\\\\n",
       "\t Patrick Kane Model Origin  & 0.579980304611218          & 2.34480030357911e-20      \\\\\n",
       "\\end{tabular}\n"
      ],
      "text/markdown": [
       "\n",
       "Model | R_sqaured | p_Value | \n",
       "|---|---|---|---|---|\n",
       "| LinearModel                | 0.10823050447434           | 0.000831716923854345       | \n",
       "| Wayne Gretzky Model        | 0.10823050447434           | 0.000831716923854359       | \n",
       "| Wayne Gretzky Model Origin | 0.970653958204801          | 1.12996626811667e-77       | \n",
       "| Patrick Kane Model         | 0.10823050447434           | 0.000831716923854363       | \n",
       "| Patrick Kane Model Origin  | 0.579980304611218          | 2.34480030357911e-20       | \n",
       "\n",
       "\n"
      ],
      "text/plain": [
       "  Model                      R_sqaured         p_Value             \n",
       "1 LinearModel                0.10823050447434  0.000831716923854345\n",
       "2 Wayne Gretzky Model        0.10823050447434  0.000831716923854359\n",
       "3 Wayne Gretzky Model Origin 0.970653958204801 1.12996626811667e-77\n",
       "4 Patrick Kane Model         0.10823050447434  0.000831716923854363\n",
       "5 Patrick Kane Model Origin  0.579980304611218 2.34480030357911e-20"
      ]
     },
     "metadata": {},
     "output_type": "display_data"
    }
   ],
   "source": [
    "summary_table[5,] <- c(\"Patrick Kane Model Origin\",glance(model_patrick_origin)$r.squared,glance(model_patrick_origin)$p.value)\n",
    "head(summary_table)"
   ]
  },
  {
   "cell_type": "markdown",
   "metadata": {},
   "source": [
    "-----------Model passing through origin--------------"
   ]
  },
  {
   "cell_type": "code",
   "execution_count": 159,
   "metadata": {
    "collapsed": true
   },
   "outputs": [
    {
     "data": {
      "image/png": "[encoded data removed]",
      "text/plain": [
       "plot without title"
      ]
     },
     "metadata": {},
     "output_type": "display_data"
    }
   ],
   "source": [
    "plot(data$G, data$A, pch=20,col=\"blue\", xlab=\"G\",ylab=\"A\")\n",
    "abline(lm(A ~ G+0,data))"
   ]
  },
  {
   "cell_type": "markdown",
   "metadata": {},
   "source": [
    "Noting r2 and p values for original model through origin"
   ]
  },
  {
   "cell_type": "code",
   "execution_count": 190,
   "metadata": {
    "collapsed": false
   },
   "outputs": [
    {
     "data": {
      "text/html": [
       "<table>\n",
       "<thead><tr><th scope=col>Model</th><th scope=col>R_sqaured</th><th scope=col>p_Value</th></tr></thead>\n",
       "<tbody>\n",
       "\t<tr><td>LinearModel               </td><td>0.10823050447434          </td><td>0.000831716923854345      </td></tr>\n",
       "\t<tr><td>Wayne Gretzky Model       </td><td>0.10823050447434          </td><td>0.000831716923854359      </td></tr>\n",
       "\t<tr><td>Wayne Gretzky Model Origin</td><td>0.970653958204801         </td><td>1.12996626811667e-77      </td></tr>\n",
       "\t<tr><td>Patrick Kane Model        </td><td>0.10823050447434          </td><td>0.000831716923854363      </td></tr>\n",
       "\t<tr><td>Patrick Kane Model Origin </td><td>0.579980304611218         </td><td>2.34480030357911e-20      </td></tr>\n",
       "\t<tr><td>Origin Model              </td><td>0.89818610880756          </td><td>6.49089821934292e-51      </td></tr>\n",
       "</tbody>\n",
       "</table>\n"
      ],
      "text/latex": [
       "\\begin{tabular}{r|lll}\n",
       " Model & R\\_sqaured & p\\_Value\\\\\n",
       "\\hline\n",
       "\t LinearModel                & 0.10823050447434           & 0.000831716923854345      \\\\\n",
       "\t Wayne Gretzky Model        & 0.10823050447434           & 0.000831716923854359      \\\\\n",
       "\t Wayne Gretzky Model Origin & 0.970653958204801          & 1.12996626811667e-77      \\\\\n",
       "\t Patrick Kane Model         & 0.10823050447434           & 0.000831716923854363      \\\\\n",
       "\t Patrick Kane Model Origin  & 0.579980304611218          & 2.34480030357911e-20      \\\\\n",
       "\t Origin Model               & 0.89818610880756           & 6.49089821934292e-51      \\\\\n",
       "\\end{tabular}\n"
      ],
      "text/markdown": [
       "\n",
       "Model | R_sqaured | p_Value | \n",
       "|---|---|---|---|---|---|\n",
       "| LinearModel                | 0.10823050447434           | 0.000831716923854345       | \n",
       "| Wayne Gretzky Model        | 0.10823050447434           | 0.000831716923854359       | \n",
       "| Wayne Gretzky Model Origin | 0.970653958204801          | 1.12996626811667e-77       | \n",
       "| Patrick Kane Model         | 0.10823050447434           | 0.000831716923854363       | \n",
       "| Patrick Kane Model Origin  | 0.579980304611218          | 2.34480030357911e-20       | \n",
       "| Origin Model               | 0.89818610880756           | 6.49089821934292e-51       | \n",
       "\n",
       "\n"
      ],
      "text/plain": [
       "  Model                      R_sqaured         p_Value             \n",
       "1 LinearModel                0.10823050447434  0.000831716923854345\n",
       "2 Wayne Gretzky Model        0.10823050447434  0.000831716923854359\n",
       "3 Wayne Gretzky Model Origin 0.970653958204801 1.12996626811667e-77\n",
       "4 Patrick Kane Model         0.10823050447434  0.000831716923854363\n",
       "5 Patrick Kane Model Origin  0.579980304611218 2.34480030357911e-20\n",
       "6 Origin Model               0.89818610880756  6.49089821934292e-51"
      ]
     },
     "metadata": {},
     "output_type": "display_data"
    }
   ],
   "source": [
    "model_origin <- lm(A ~ G+0,data)\n",
    "summary_table[6,] <- c(\"Origin Model\",glance(model_origin)$r.squared,glance(model_origin)$p.value)\n",
    "head(summary_table)"
   ]
  },
  {
   "cell_type": "code",
   "execution_count": null,
   "metadata": {
    "collapsed": true
   },
   "outputs": [],
   "source": []
  }
 ],
 "metadata": {
  "kernelspec": {
   "display_name": "R",
   "language": "R",
   "name": "ir"
  },
  "language_info": {
   "codemirror_mode": "r",
   "file_extension": ".r",
   "mimetype": "text/x-r-source",
   "name": "R",
   "pygments_lexer": "r",
   "version": "3.3.2"
  }
 },
 "nbformat": 4,
 "nbformat_minor": 2
}
