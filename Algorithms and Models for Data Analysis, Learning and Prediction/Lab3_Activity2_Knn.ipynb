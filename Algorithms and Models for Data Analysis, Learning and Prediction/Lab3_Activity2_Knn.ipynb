{
 "cells": [
  {
   "cell_type": "markdown",
   "metadata": {},
   "source": [
    "Reading data from csv"
   ]
  },
  {
   "cell_type": "code",
   "execution_count": 71,
   "metadata": {
    "collapsed": true
   },
   "outputs": [],
   "source": [
    "data <-read.csv(\"D:/MS_Spring2017/DIC/Lab3/Data/german_credit_data1.csv\")"
   ]
  },
  {
   "cell_type": "markdown",
   "metadata": {},
   "source": [
    "Removing rows with NA values as knn does not accept NA values"
   ]
  },
  {
   "cell_type": "code",
   "execution_count": 75,
   "metadata": {
    "collapsed": true
   },
   "outputs": [],
   "source": [
    "data <-  data[complete.cases(data), ]"
   ]
  },
  {
   "cell_type": "markdown",
   "metadata": {},
   "source": [
    "Reading the no of rows in data "
   ]
  },
  {
   "cell_type": "code",
   "execution_count": 78,
   "metadata": {
    "collapsed": true
   },
   "outputs": [],
   "source": [
    "n.points <- nrow(data)"
   ]
  },
  {
   "cell_type": "markdown",
   "metadata": {},
   "source": [
    "Setting sampling rate, Portion of data used for training purpose and other as test data"
   ]
  },
  {
   "cell_type": "code",
   "execution_count": 79,
   "metadata": {
    "collapsed": true
   },
   "outputs": [],
   "source": [
    "sampling.rate <- 0.8"
   ]
  },
  {
   "cell_type": "markdown",
   "metadata": {},
   "source": [
    "Setting the number of rows used for testing purpose "
   ]
  },
  {
   "cell_type": "code",
   "execution_count": 80,
   "metadata": {
    "collapsed": true
   },
   "outputs": [],
   "source": [
    "num.test.set.labels <- n.points * (1 - sampling.rate)"
   ]
  },
  {
   "cell_type": "markdown",
   "metadata": {},
   "source": [
    "Randomly picking rows for training purpose"
   ]
  },
  {
   "cell_type": "markdown",
   "metadata": {},
   "source": [
    "random row numbers will be taken into the training variable"
   ]
  },
  {
   "cell_type": "code",
   "execution_count": 81,
   "metadata": {
    "collapsed": false
   },
   "outputs": [],
   "source": [
    "training <- sample(1:n.points, sampling.rate * n.points,\n",
    "replace=FALSE)"
   ]
  },
  {
   "cell_type": "code",
   "execution_count": 82,
   "metadata": {
    "collapsed": false
   },
   "outputs": [
    {
     "data": {
      "text/html": [
       "<table>\n",
       "<thead><tr><th></th><th scope=col>X.</th><th scope=col>Age</th><th scope=col>Sex</th><th scope=col>Job</th><th scope=col>Housing</th><th scope=col>Saving.accounts</th><th scope=col>Checking.account</th><th scope=col>Credit.amount</th><th scope=col>Duration</th><th scope=col>Purpose</th><th scope=col>Credit.Risks</th></tr></thead>\n",
       "<tbody>\n",
       "\t<tr><th scope=row>2</th><td> 1                 </td><td>22                 </td><td>female             </td><td>2                  </td><td>own                </td><td>little             </td><td>moderate           </td><td> 5951              </td><td>48                 </td><td>radio/TV           </td><td>2                  </td></tr>\n",
       "\t<tr><th scope=row>4</th><td> 3                 </td><td>45                 </td><td>male               </td><td>2                  </td><td>free               </td><td>little             </td><td>little             </td><td> 7882              </td><td>42                 </td><td>furniture/equipment</td><td>1                  </td></tr>\n",
       "\t<tr><th scope=row>5</th><td> 4                 </td><td>53                 </td><td>male               </td><td>2                  </td><td>free               </td><td>little             </td><td>little             </td><td> 4870              </td><td>24                 </td><td>car                </td><td>2                  </td></tr>\n",
       "\t<tr><th scope=row>8</th><td> 7                 </td><td>35                 </td><td>male               </td><td>3                  </td><td>rent               </td><td>little             </td><td>moderate           </td><td> 6948              </td><td>36                 </td><td>car                </td><td>1                  </td></tr>\n",
       "\t<tr><th scope=row>10</th><td> 9                 </td><td>28                 </td><td>male               </td><td>3                  </td><td>own                </td><td>little             </td><td>moderate           </td><td> 5234              </td><td>30                 </td><td>car                </td><td>2                  </td></tr>\n",
       "\t<tr><th scope=row>11</th><td>10                 </td><td>25                 </td><td>female             </td><td>2                  </td><td>rent               </td><td>little             </td><td>moderate           </td><td> 1295              </td><td>12                 </td><td>car                </td><td>2                  </td></tr>\n",
       "\t<tr><th scope=row>12</th><td>11                 </td><td>24                 </td><td>female             </td><td>2                  </td><td>rent               </td><td>little             </td><td>little             </td><td> 4308              </td><td>48                 </td><td>business           </td><td>2                  </td></tr>\n",
       "\t<tr><th scope=row>13</th><td>12                 </td><td>22                 </td><td>female             </td><td>2                  </td><td>own                </td><td>little             </td><td>moderate           </td><td> 1567              </td><td>12                 </td><td>radio/TV           </td><td>1                  </td></tr>\n",
       "\t<tr><th scope=row>14</th><td>13                 </td><td>60                 </td><td>male               </td><td>1                  </td><td>own                </td><td>little             </td><td>little             </td><td> 1199              </td><td>24                 </td><td>car                </td><td>2                  </td></tr>\n",
       "\t<tr><th scope=row>15</th><td>14                 </td><td>28                 </td><td>female             </td><td>2                  </td><td>rent               </td><td>little             </td><td>little             </td><td> 1403              </td><td>15                 </td><td>car                </td><td>1                  </td></tr>\n",
       "\t<tr><th scope=row>16</th><td>15                 </td><td>32                 </td><td>female             </td><td>1                  </td><td>own                </td><td>moderate           </td><td>little             </td><td> 1282              </td><td>24                 </td><td>radio/TV           </td><td>2                  </td></tr>\n",
       "\t<tr><th scope=row>19</th><td>18                 </td><td>44                 </td><td>female             </td><td>3                  </td><td>free               </td><td>little             </td><td>moderate           </td><td>12579              </td><td>24                 </td><td>car                </td><td>2                  </td></tr>\n",
       "\t<tr><th scope=row>22</th><td>21                 </td><td>44                 </td><td>male               </td><td>2                  </td><td>rent               </td><td>quite rich         </td><td>little             </td><td> 2647              </td><td> 6                 </td><td>radio/TV           </td><td>1                  </td></tr>\n",
       "\t<tr><th scope=row>23</th><td>22                 </td><td>48                 </td><td>male               </td><td>1                  </td><td>rent               </td><td>little             </td><td>little             </td><td> 2241              </td><td>10                 </td><td>car                </td><td>1                  </td></tr>\n",
       "\t<tr><th scope=row>24</th><td>23                 </td><td>44                 </td><td>male               </td><td>2                  </td><td>own                </td><td>moderate           </td><td>moderate           </td><td> 1804              </td><td>12                 </td><td>car                </td><td>1                  </td></tr>\n",
       "\t<tr><th scope=row>26</th><td>25                 </td><td>36                 </td><td>male               </td><td>1                  </td><td>own                </td><td>little             </td><td>little             </td><td> 1374              </td><td> 6                 </td><td>furniture/equipment</td><td>1                  </td></tr>\n",
       "\t<tr><th scope=row>28</th><td>27                 </td><td>42                 </td><td>female             </td><td>2                  </td><td>rent               </td><td>rich               </td><td>rich               </td><td>  409              </td><td>12                 </td><td>radio/TV           </td><td>1                  </td></tr>\n",
       "\t<tr><th scope=row>29</th><td>28                 </td><td>34                 </td><td>male               </td><td>2                  </td><td>own                </td><td>little             </td><td>moderate           </td><td> 2415              </td><td> 7                 </td><td>radio/TV           </td><td>1                  </td></tr>\n",
       "\t<tr><th scope=row>30</th><td>29                 </td><td>63                 </td><td>male               </td><td>2                  </td><td>own                </td><td>little             </td><td>little             </td><td> 6836              </td><td>60                 </td><td>business           </td><td>2                  </td></tr>\n",
       "\t<tr><th scope=row>31</th><td>30                 </td><td>36                 </td><td>male               </td><td>2                  </td><td>own                </td><td>rich               </td><td>moderate           </td><td> 1913              </td><td>18                 </td><td>business           </td><td>1                  </td></tr>\n",
       "\t<tr><th scope=row>32</th><td>31                 </td><td>27                 </td><td>male               </td><td>2                  </td><td>own                </td><td>little             </td><td>little             </td><td> 4020              </td><td>24                 </td><td>furniture/equipment</td><td>1                  </td></tr>\n",
       "\t<tr><th scope=row>33</th><td>32                 </td><td>30                 </td><td>male               </td><td>2                  </td><td>own                </td><td>moderate           </td><td>moderate           </td><td> 5866              </td><td>18                 </td><td>car                </td><td>1                  </td></tr>\n",
       "\t<tr><th scope=row>35</th><td>34                 </td><td>33                 </td><td>female             </td><td>3                  </td><td>own                </td><td>little             </td><td>rich               </td><td> 1474              </td><td>12                 </td><td>furniture/equipment</td><td>1                  </td></tr>\n",
       "\t<tr><th scope=row>36</th><td>35                 </td><td>25                 </td><td>male               </td><td>1                  </td><td>own                </td><td>little             </td><td>moderate           </td><td> 4746              </td><td>45                 </td><td>radio/TV           </td><td>2                  </td></tr>\n",
       "\t<tr><th scope=row>38</th><td>37                 </td><td>37                 </td><td>male               </td><td>2                  </td><td>own                </td><td>little             </td><td>rich               </td><td> 2100              </td><td>18                 </td><td>radio/TV           </td><td>2                  </td></tr>\n",
       "\t<tr><th scope=row>39</th><td>38                 </td><td>37                 </td><td>male               </td><td>2                  </td><td>own                </td><td>little             </td><td>rich               </td><td> 1225              </td><td>10                 </td><td>domestic appliances</td><td>1                  </td></tr>\n",
       "\t<tr><th scope=row>40</th><td>39                 </td><td>24                 </td><td>male               </td><td>2                  </td><td>own                </td><td>little             </td><td>moderate           </td><td>  458              </td><td> 9                 </td><td>radio/TV           </td><td>1                  </td></tr>\n",
       "\t<tr><th scope=row>42</th><td>41                 </td><td>26                 </td><td>male               </td><td>2                  </td><td>own                </td><td>quite rich         </td><td>moderate           </td><td> 1158              </td><td>12                 </td><td>radio/TV           </td><td>1                  </td></tr>\n",
       "\t<tr><th scope=row>43</th><td>42                 </td><td>44                 </td><td>male               </td><td>1                  </td><td>own                </td><td>little             </td><td>moderate           </td><td> 6204              </td><td>18                 </td><td>repairs            </td><td>1                  </td></tr>\n",
       "\t<tr><th scope=row>44</th><td>43                 </td><td>24                 </td><td>male               </td><td>2                  </td><td>rent               </td><td>moderate           </td><td>little             </td><td> 6187              </td><td>30                 </td><td>car                </td><td>1                  </td></tr>\n",
       "\t<tr><th scope=row>...</th><td>...</td><td>...</td><td>...</td><td>...</td><td>...</td><td>...</td><td>...</td><td>...</td><td>...</td><td>...</td><td>...</td></tr>\n",
       "\t<tr><th scope=row>947</th><td>946                </td><td>30                 </td><td>male               </td><td>2                  </td><td>free               </td><td>quite rich         </td><td>little             </td><td>3349               </td><td>24                 </td><td>furniture/equipment</td><td>2                  </td></tr>\n",
       "\t<tr><th scope=row>951</th><td>950                </td><td>40                 </td><td>male               </td><td>0                  </td><td>own                </td><td>little             </td><td>moderate           </td><td>3590               </td><td>18                 </td><td>business           </td><td>1                  </td></tr>\n",
       "\t<tr><th scope=row>952</th><td>951                </td><td>24                 </td><td>male               </td><td>2                  </td><td>own                </td><td>little             </td><td>little             </td><td>2145               </td><td>36                 </td><td>business           </td><td>2                  </td></tr>\n",
       "\t<tr><th scope=row>953</th><td>952                </td><td>28                 </td><td>female             </td><td>2                  </td><td>rent               </td><td>quite rich         </td><td>moderate           </td><td>4113               </td><td>24                 </td><td>car                </td><td>2                  </td></tr>\n",
       "\t<tr><th scope=row>955</th><td>954                </td><td>29                 </td><td>female             </td><td>2                  </td><td>own                </td><td>little             </td><td>little             </td><td>1893               </td><td>12                 </td><td>car                </td><td>1                  </td></tr>\n",
       "\t<tr><th scope=row>956</th><td>955                </td><td>57                 </td><td>female             </td><td>3                  </td><td>rent               </td><td>rich               </td><td>little             </td><td>1231               </td><td>24                 </td><td>radio/TV           </td><td>1                  </td></tr>\n",
       "\t<tr><th scope=row>958</th><td>957                </td><td>37                 </td><td>male               </td><td>1                  </td><td>own                </td><td>little             </td><td>moderate           </td><td>1154               </td><td> 9                 </td><td>radio/TV           </td><td>1                  </td></tr>\n",
       "\t<tr><th scope=row>959</th><td>958                </td><td>45                 </td><td>male               </td><td>1                  </td><td>own                </td><td>little             </td><td>little             </td><td>4006               </td><td>28                 </td><td>car                </td><td>2                  </td></tr>\n",
       "\t<tr><th scope=row>960</th><td>959                </td><td>30                 </td><td>male               </td><td>2                  </td><td>free               </td><td>moderate           </td><td>moderate           </td><td>3069               </td><td>24                 </td><td>furniture/equipment</td><td>1                  </td></tr>\n",
       "\t<tr><th scope=row>962</th><td>961                </td><td>47                 </td><td>male               </td><td>2                  </td><td>own                </td><td>little             </td><td>moderate           </td><td>2353               </td><td>21                 </td><td>car                </td><td>1                  </td></tr>\n",
       "\t<tr><th scope=row>965</th><td>964                </td><td>22                 </td><td>male               </td><td>1                  </td><td>own                </td><td>little             </td><td>moderate           </td><td> 454               </td><td> 6                 </td><td>repairs            </td><td>1                  </td></tr>\n",
       "\t<tr><th scope=row>967</th><td>966                </td><td>23                 </td><td>male               </td><td>1                  </td><td>own                </td><td>quite rich         </td><td>moderate           </td><td>2520               </td><td>27                 </td><td>radio/TV           </td><td>2                  </td></tr>\n",
       "\t<tr><th scope=row>970</th><td>969                </td><td>40                 </td><td>male               </td><td>1                  </td><td>own                </td><td>little             </td><td>little             </td><td>3939               </td><td>11                 </td><td>car                </td><td>1                  </td></tr>\n",
       "\t<tr><th scope=row>971</th><td>970                </td><td>22                 </td><td>male               </td><td>2                  </td><td>own                </td><td>moderate           </td><td>moderate           </td><td>1514               </td><td>15                 </td><td>repairs            </td><td>1                  </td></tr>\n",
       "\t<tr><th scope=row>973</th><td>972                </td><td>29                 </td><td>female             </td><td>0                  </td><td>rent               </td><td>little             </td><td>little             </td><td>1193               </td><td>24                 </td><td>car                </td><td>2                  </td></tr>\n",
       "\t<tr><th scope=row>974</th><td>973                </td><td>36                 </td><td>male               </td><td>2                  </td><td>rent               </td><td>little             </td><td>little             </td><td>7297               </td><td>60                 </td><td>business           </td><td>2                  </td></tr>\n",
       "\t<tr><th scope=row>976</th><td>975                </td><td>57                 </td><td>female             </td><td>1                  </td><td>own                </td><td>quite rich         </td><td>rich               </td><td>1258               </td><td>24                 </td><td>radio/TV           </td><td>1                  </td></tr>\n",
       "\t<tr><th scope=row>977</th><td>976                </td><td>64                 </td><td>female             </td><td>2                  </td><td>own                </td><td>little             </td><td>moderate           </td><td> 753               </td><td> 6                 </td><td>radio/TV           </td><td>1                  </td></tr>\n",
       "\t<tr><th scope=row>980</th><td>979                </td><td>25                 </td><td>male               </td><td>2                  </td><td>rent               </td><td>moderate           </td><td>moderate           </td><td>1264               </td><td>15                 </td><td>car                </td><td>2                  </td></tr>\n",
       "\t<tr><th scope=row>981</th><td>980                </td><td>49                 </td><td>male               </td><td>2                  </td><td>own                </td><td>little             </td><td>moderate           </td><td>8386               </td><td>30                 </td><td>furniture/equipment</td><td>2                  </td></tr>\n",
       "\t<tr><th scope=row>983</th><td>982                </td><td>28                 </td><td>female             </td><td>3                  </td><td>own                </td><td>moderate           </td><td>rich               </td><td>2923               </td><td>21                 </td><td>car                </td><td>1                  </td></tr>\n",
       "\t<tr><th scope=row>984</th><td>983                </td><td>26                 </td><td>male               </td><td>2                  </td><td>own                </td><td>little             </td><td>little             </td><td>8229               </td><td>36                 </td><td>car                </td><td>2                  </td></tr>\n",
       "\t<tr><th scope=row>986</th><td>985                </td><td>25                 </td><td>female             </td><td>2                  </td><td>rent               </td><td>little             </td><td>little             </td><td>1433               </td><td>15                 </td><td>furniture/equipment</td><td>1                  </td></tr>\n",
       "\t<tr><th scope=row>987</th><td>986                </td><td>33                 </td><td>male               </td><td>2                  </td><td>own                </td><td>little             </td><td>rich               </td><td>6289               </td><td>42                 </td><td>business           </td><td>1                  </td></tr>\n",
       "\t<tr><th scope=row>989</th><td>988                </td><td>29                 </td><td>male               </td><td>3                  </td><td>free               </td><td>little             </td><td>little             </td><td>6579               </td><td>24                 </td><td>car                </td><td>1                  </td></tr>\n",
       "\t<tr><th scope=row>990</th><td>989                </td><td>48                 </td><td>male               </td><td>1                  </td><td>own                </td><td>little             </td><td>moderate           </td><td>1743               </td><td>24                 </td><td>radio/TV           </td><td>1                  </td></tr>\n",
       "\t<tr><th scope=row>994</th><td>993                </td><td>30                 </td><td>male               </td><td>3                  </td><td>own                </td><td>little             </td><td>little             </td><td>3959               </td><td>36                 </td><td>furniture/equipment</td><td>1                  </td></tr>\n",
       "\t<tr><th scope=row>997</th><td>996                </td><td>40                 </td><td>male               </td><td>3                  </td><td>own                </td><td>little             </td><td>little             </td><td>3857               </td><td>30                 </td><td>car                </td><td>1                  </td></tr>\n",
       "\t<tr><th scope=row>999</th><td>998                </td><td>23                 </td><td>male               </td><td>2                  </td><td>free               </td><td>little             </td><td>little             </td><td>1845               </td><td>45                 </td><td>radio/TV           </td><td>2                  </td></tr>\n",
       "\t<tr><th scope=row>1000</th><td>999                </td><td>27                 </td><td>male               </td><td>2                  </td><td>own                </td><td>moderate           </td><td>moderate           </td><td>4576               </td><td>45                 </td><td>car                </td><td>1                  </td></tr>\n",
       "</tbody>\n",
       "</table>\n"
      ],
      "text/latex": [
       "\\begin{tabular}{r|lllllllllll}\n",
       "  & X. & Age & Sex & Job & Housing & Saving.accounts & Checking.account & Credit.amount & Duration & Purpose & Credit.Risks\\\\\n",
       "\\hline\n",
       "\t2 &  1                  & 22                  & female              & 2                   & own                 & little              & moderate            &  5951               & 48                  & radio/TV            & 2                  \\\\\n",
       "\t4 &  3                  & 45                  & male                & 2                   & free                & little              & little              &  7882               & 42                  & furniture/equipment & 1                  \\\\\n",
       "\t5 &  4                  & 53                  & male                & 2                   & free                & little              & little              &  4870               & 24                  & car                 & 2                  \\\\\n",
       "\t8 &  7                  & 35                  & male                & 3                   & rent                & little              & moderate            &  6948               & 36                  & car                 & 1                  \\\\\n",
       "\t10 &  9                  & 28                  & male                & 3                   & own                 & little              & moderate            &  5234               & 30                  & car                 & 2                  \\\\\n",
       "\t11 & 10                  & 25                  & female              & 2                   & rent                & little              & moderate            &  1295               & 12                  & car                 & 2                  \\\\\n",
       "\t12 & 11                  & 24                  & female              & 2                   & rent                & little              & little              &  4308               & 48                  & business            & 2                  \\\\\n",
       "\t13 & 12                  & 22                  & female              & 2                   & own                 & little              & moderate            &  1567               & 12                  & radio/TV            & 1                  \\\\\n",
       "\t14 & 13                  & 60                  & male                & 1                   & own                 & little              & little              &  1199               & 24                  & car                 & 2                  \\\\\n",
       "\t15 & 14                  & 28                  & female              & 2                   & rent                & little              & little              &  1403               & 15                  & car                 & 1                  \\\\\n",
       "\t16 & 15                  & 32                  & female              & 1                   & own                 & moderate            & little              &  1282               & 24                  & radio/TV            & 2                  \\\\\n",
       "\t19 & 18                  & 44                  & female              & 3                   & free                & little              & moderate            & 12579               & 24                  & car                 & 2                  \\\\\n",
       "\t22 & 21                  & 44                  & male                & 2                   & rent                & quite rich          & little              &  2647               &  6                  & radio/TV            & 1                  \\\\\n",
       "\t23 & 22                  & 48                  & male                & 1                   & rent                & little              & little              &  2241               & 10                  & car                 & 1                  \\\\\n",
       "\t24 & 23                  & 44                  & male                & 2                   & own                 & moderate            & moderate            &  1804               & 12                  & car                 & 1                  \\\\\n",
       "\t26 & 25                  & 36                  & male                & 1                   & own                 & little              & little              &  1374               &  6                  & furniture/equipment & 1                  \\\\\n",
       "\t28 & 27                  & 42                  & female              & 2                   & rent                & rich                & rich                &   409               & 12                  & radio/TV            & 1                  \\\\\n",
       "\t29 & 28                  & 34                  & male                & 2                   & own                 & little              & moderate            &  2415               &  7                  & radio/TV            & 1                  \\\\\n",
       "\t30 & 29                  & 63                  & male                & 2                   & own                 & little              & little              &  6836               & 60                  & business            & 2                  \\\\\n",
       "\t31 & 30                  & 36                  & male                & 2                   & own                 & rich                & moderate            &  1913               & 18                  & business            & 1                  \\\\\n",
       "\t32 & 31                  & 27                  & male                & 2                   & own                 & little              & little              &  4020               & 24                  & furniture/equipment & 1                  \\\\\n",
       "\t33 & 32                  & 30                  & male                & 2                   & own                 & moderate            & moderate            &  5866               & 18                  & car                 & 1                  \\\\\n",
       "\t35 & 34                  & 33                  & female              & 3                   & own                 & little              & rich                &  1474               & 12                  & furniture/equipment & 1                  \\\\\n",
       "\t36 & 35                  & 25                  & male                & 1                   & own                 & little              & moderate            &  4746               & 45                  & radio/TV            & 2                  \\\\\n",
       "\t38 & 37                  & 37                  & male                & 2                   & own                 & little              & rich                &  2100               & 18                  & radio/TV            & 2                  \\\\\n",
       "\t39 & 38                  & 37                  & male                & 2                   & own                 & little              & rich                &  1225               & 10                  & domestic appliances & 1                  \\\\\n",
       "\t40 & 39                  & 24                  & male                & 2                   & own                 & little              & moderate            &   458               &  9                  & radio/TV            & 1                  \\\\\n",
       "\t42 & 41                  & 26                  & male                & 2                   & own                 & quite rich          & moderate            &  1158               & 12                  & radio/TV            & 1                  \\\\\n",
       "\t43 & 42                  & 44                  & male                & 1                   & own                 & little              & moderate            &  6204               & 18                  & repairs             & 1                  \\\\\n",
       "\t44 & 43                  & 24                  & male                & 2                   & rent                & moderate            & little              &  6187               & 30                  & car                 & 1                  \\\\\n",
       "\t... & ... & ... & ... & ... & ... & ... & ... & ... & ... & ... & ...\\\\\n",
       "\t947 & 946                 & 30                  & male                & 2                   & free                & quite rich          & little              & 3349                & 24                  & furniture/equipment & 2                  \\\\\n",
       "\t951 & 950                 & 40                  & male                & 0                   & own                 & little              & moderate            & 3590                & 18                  & business            & 1                  \\\\\n",
       "\t952 & 951                 & 24                  & male                & 2                   & own                 & little              & little              & 2145                & 36                  & business            & 2                  \\\\\n",
       "\t953 & 952                 & 28                  & female              & 2                   & rent                & quite rich          & moderate            & 4113                & 24                  & car                 & 2                  \\\\\n",
       "\t955 & 954                 & 29                  & female              & 2                   & own                 & little              & little              & 1893                & 12                  & car                 & 1                  \\\\\n",
       "\t956 & 955                 & 57                  & female              & 3                   & rent                & rich                & little              & 1231                & 24                  & radio/TV            & 1                  \\\\\n",
       "\t958 & 957                 & 37                  & male                & 1                   & own                 & little              & moderate            & 1154                &  9                  & radio/TV            & 1                  \\\\\n",
       "\t959 & 958                 & 45                  & male                & 1                   & own                 & little              & little              & 4006                & 28                  & car                 & 2                  \\\\\n",
       "\t960 & 959                 & 30                  & male                & 2                   & free                & moderate            & moderate            & 3069                & 24                  & furniture/equipment & 1                  \\\\\n",
       "\t962 & 961                 & 47                  & male                & 2                   & own                 & little              & moderate            & 2353                & 21                  & car                 & 1                  \\\\\n",
       "\t965 & 964                 & 22                  & male                & 1                   & own                 & little              & moderate            &  454                &  6                  & repairs             & 1                  \\\\\n",
       "\t967 & 966                 & 23                  & male                & 1                   & own                 & quite rich          & moderate            & 2520                & 27                  & radio/TV            & 2                  \\\\\n",
       "\t970 & 969                 & 40                  & male                & 1                   & own                 & little              & little              & 3939                & 11                  & car                 & 1                  \\\\\n",
       "\t971 & 970                 & 22                  & male                & 2                   & own                 & moderate            & moderate            & 1514                & 15                  & repairs             & 1                  \\\\\n",
       "\t973 & 972                 & 29                  & female              & 0                   & rent                & little              & little              & 1193                & 24                  & car                 & 2                  \\\\\n",
       "\t974 & 973                 & 36                  & male                & 2                   & rent                & little              & little              & 7297                & 60                  & business            & 2                  \\\\\n",
       "\t976 & 975                 & 57                  & female              & 1                   & own                 & quite rich          & rich                & 1258                & 24                  & radio/TV            & 1                  \\\\\n",
       "\t977 & 976                 & 64                  & female              & 2                   & own                 & little              & moderate            &  753                &  6                  & radio/TV            & 1                  \\\\\n",
       "\t980 & 979                 & 25                  & male                & 2                   & rent                & moderate            & moderate            & 1264                & 15                  & car                 & 2                  \\\\\n",
       "\t981 & 980                 & 49                  & male                & 2                   & own                 & little              & moderate            & 8386                & 30                  & furniture/equipment & 2                  \\\\\n",
       "\t983 & 982                 & 28                  & female              & 3                   & own                 & moderate            & rich                & 2923                & 21                  & car                 & 1                  \\\\\n",
       "\t984 & 983                 & 26                  & male                & 2                   & own                 & little              & little              & 8229                & 36                  & car                 & 2                  \\\\\n",
       "\t986 & 985                 & 25                  & female              & 2                   & rent                & little              & little              & 1433                & 15                  & furniture/equipment & 1                  \\\\\n",
       "\t987 & 986                 & 33                  & male                & 2                   & own                 & little              & rich                & 6289                & 42                  & business            & 1                  \\\\\n",
       "\t989 & 988                 & 29                  & male                & 3                   & free                & little              & little              & 6579                & 24                  & car                 & 1                  \\\\\n",
       "\t990 & 989                 & 48                  & male                & 1                   & own                 & little              & moderate            & 1743                & 24                  & radio/TV            & 1                  \\\\\n",
       "\t994 & 993                 & 30                  & male                & 3                   & own                 & little              & little              & 3959                & 36                  & furniture/equipment & 1                  \\\\\n",
       "\t997 & 996                 & 40                  & male                & 3                   & own                 & little              & little              & 3857                & 30                  & car                 & 1                  \\\\\n",
       "\t999 & 998                 & 23                  & male                & 2                   & free                & little              & little              & 1845                & 45                  & radio/TV            & 2                  \\\\\n",
       "\t1000 & 999                 & 27                  & male                & 2                   & own                 & moderate            & moderate            & 4576                & 45                  & car                 & 1                  \\\\\n",
       "\\end{tabular}\n"
      ],
      "text/markdown": [
       "\n",
       "| <!--/--> | X. | Age | Sex | Job | Housing | Saving.accounts | Checking.account | Credit.amount | Duration | Purpose | Credit.Risks | \n",
       "|---|---|---|---|---|---|---|---|---|---|---|---|---|---|---|---|---|---|---|---|---|---|---|---|---|---|---|---|---|---|---|---|---|---|---|---|---|---|---|---|---|---|---|---|---|---|---|---|---|---|---|---|---|---|---|---|---|---|---|---|---|\n",
       "| 2 |  1                  | 22                  | female              | 2                   | own                 | little              | moderate            |  5951               | 48                  | radio/TV            | 2                   | \n",
       "| 4 |  3                  | 45                  | male                | 2                   | free                | little              | little              |  7882               | 42                  | furniture/equipment | 1                   | \n",
       "| 5 |  4                  | 53                  | male                | 2                   | free                | little              | little              |  4870               | 24                  | car                 | 2                   | \n",
       "| 8 |  7                  | 35                  | male                | 3                   | rent                | little              | moderate            |  6948               | 36                  | car                 | 1                   | \n",
       "| 10 |  9                  | 28                  | male                | 3                   | own                 | little              | moderate            |  5234               | 30                  | car                 | 2                   | \n",
       "| 11 | 10                  | 25                  | female              | 2                   | rent                | little              | moderate            |  1295               | 12                  | car                 | 2                   | \n",
       "| 12 | 11                  | 24                  | female              | 2                   | rent                | little              | little              |  4308               | 48                  | business            | 2                   | \n",
       "| 13 | 12                  | 22                  | female              | 2                   | own                 | little              | moderate            |  1567               | 12                  | radio/TV            | 1                   | \n",
       "| 14 | 13                  | 60                  | male                | 1                   | own                 | little              | little              |  1199               | 24                  | car                 | 2                   | \n",
       "| 15 | 14                  | 28                  | female              | 2                   | rent                | little              | little              |  1403               | 15                  | car                 | 1                   | \n",
       "| 16 | 15                  | 32                  | female              | 1                   | own                 | moderate            | little              |  1282               | 24                  | radio/TV            | 2                   | \n",
       "| 19 | 18                  | 44                  | female              | 3                   | free                | little              | moderate            | 12579               | 24                  | car                 | 2                   | \n",
       "| 22 | 21                  | 44                  | male                | 2                   | rent                | quite rich          | little              |  2647               |  6                  | radio/TV            | 1                   | \n",
       "| 23 | 22                  | 48                  | male                | 1                   | rent                | little              | little              |  2241               | 10                  | car                 | 1                   | \n",
       "| 24 | 23                  | 44                  | male                | 2                   | own                 | moderate            | moderate            |  1804               | 12                  | car                 | 1                   | \n",
       "| 26 | 25                  | 36                  | male                | 1                   | own                 | little              | little              |  1374               |  6                  | furniture/equipment | 1                   | \n",
       "| 28 | 27                  | 42                  | female              | 2                   | rent                | rich                | rich                |   409               | 12                  | radio/TV            | 1                   | \n",
       "| 29 | 28                  | 34                  | male                | 2                   | own                 | little              | moderate            |  2415               |  7                  | radio/TV            | 1                   | \n",
       "| 30 | 29                  | 63                  | male                | 2                   | own                 | little              | little              |  6836               | 60                  | business            | 2                   | \n",
       "| 31 | 30                  | 36                  | male                | 2                   | own                 | rich                | moderate            |  1913               | 18                  | business            | 1                   | \n",
       "| 32 | 31                  | 27                  | male                | 2                   | own                 | little              | little              |  4020               | 24                  | furniture/equipment | 1                   | \n",
       "| 33 | 32                  | 30                  | male                | 2                   | own                 | moderate            | moderate            |  5866               | 18                  | car                 | 1                   | \n",
       "| 35 | 34                  | 33                  | female              | 3                   | own                 | little              | rich                |  1474               | 12                  | furniture/equipment | 1                   | \n",
       "| 36 | 35                  | 25                  | male                | 1                   | own                 | little              | moderate            |  4746               | 45                  | radio/TV            | 2                   | \n",
       "| 38 | 37                  | 37                  | male                | 2                   | own                 | little              | rich                |  2100               | 18                  | radio/TV            | 2                   | \n",
       "| 39 | 38                  | 37                  | male                | 2                   | own                 | little              | rich                |  1225               | 10                  | domestic appliances | 1                   | \n",
       "| 40 | 39                  | 24                  | male                | 2                   | own                 | little              | moderate            |   458               |  9                  | radio/TV            | 1                   | \n",
       "| 42 | 41                  | 26                  | male                | 2                   | own                 | quite rich          | moderate            |  1158               | 12                  | radio/TV            | 1                   | \n",
       "| 43 | 42                  | 44                  | male                | 1                   | own                 | little              | moderate            |  6204               | 18                  | repairs             | 1                   | \n",
       "| 44 | 43                  | 24                  | male                | 2                   | rent                | moderate            | little              |  6187               | 30                  | car                 | 1                   | \n",
       "| ... | ... | ... | ... | ... | ... | ... | ... | ... | ... | ... | ... | \n",
       "| 947 | 946                 | 30                  | male                | 2                   | free                | quite rich          | little              | 3349                | 24                  | furniture/equipment | 2                   | \n",
       "| 951 | 950                 | 40                  | male                | 0                   | own                 | little              | moderate            | 3590                | 18                  | business            | 1                   | \n",
       "| 952 | 951                 | 24                  | male                | 2                   | own                 | little              | little              | 2145                | 36                  | business            | 2                   | \n",
       "| 953 | 952                 | 28                  | female              | 2                   | rent                | quite rich          | moderate            | 4113                | 24                  | car                 | 2                   | \n",
       "| 955 | 954                 | 29                  | female              | 2                   | own                 | little              | little              | 1893                | 12                  | car                 | 1                   | \n",
       "| 956 | 955                 | 57                  | female              | 3                   | rent                | rich                | little              | 1231                | 24                  | radio/TV            | 1                   | \n",
       "| 958 | 957                 | 37                  | male                | 1                   | own                 | little              | moderate            | 1154                |  9                  | radio/TV            | 1                   | \n",
       "| 959 | 958                 | 45                  | male                | 1                   | own                 | little              | little              | 4006                | 28                  | car                 | 2                   | \n",
       "| 960 | 959                 | 30                  | male                | 2                   | free                | moderate            | moderate            | 3069                | 24                  | furniture/equipment | 1                   | \n",
       "| 962 | 961                 | 47                  | male                | 2                   | own                 | little              | moderate            | 2353                | 21                  | car                 | 1                   | \n",
       "| 965 | 964                 | 22                  | male                | 1                   | own                 | little              | moderate            |  454                |  6                  | repairs             | 1                   | \n",
       "| 967 | 966                 | 23                  | male                | 1                   | own                 | quite rich          | moderate            | 2520                | 27                  | radio/TV            | 2                   | \n",
       "| 970 | 969                 | 40                  | male                | 1                   | own                 | little              | little              | 3939                | 11                  | car                 | 1                   | \n",
       "| 971 | 970                 | 22                  | male                | 2                   | own                 | moderate            | moderate            | 1514                | 15                  | repairs             | 1                   | \n",
       "| 973 | 972                 | 29                  | female              | 0                   | rent                | little              | little              | 1193                | 24                  | car                 | 2                   | \n",
       "| 974 | 973                 | 36                  | male                | 2                   | rent                | little              | little              | 7297                | 60                  | business            | 2                   | \n",
       "| 976 | 975                 | 57                  | female              | 1                   | own                 | quite rich          | rich                | 1258                | 24                  | radio/TV            | 1                   | \n",
       "| 977 | 976                 | 64                  | female              | 2                   | own                 | little              | moderate            |  753                |  6                  | radio/TV            | 1                   | \n",
       "| 980 | 979                 | 25                  | male                | 2                   | rent                | moderate            | moderate            | 1264                | 15                  | car                 | 2                   | \n",
       "| 981 | 980                 | 49                  | male                | 2                   | own                 | little              | moderate            | 8386                | 30                  | furniture/equipment | 2                   | \n",
       "| 983 | 982                 | 28                  | female              | 3                   | own                 | moderate            | rich                | 2923                | 21                  | car                 | 1                   | \n",
       "| 984 | 983                 | 26                  | male                | 2                   | own                 | little              | little              | 8229                | 36                  | car                 | 2                   | \n",
       "| 986 | 985                 | 25                  | female              | 2                   | rent                | little              | little              | 1433                | 15                  | furniture/equipment | 1                   | \n",
       "| 987 | 986                 | 33                  | male                | 2                   | own                 | little              | rich                | 6289                | 42                  | business            | 1                   | \n",
       "| 989 | 988                 | 29                  | male                | 3                   | free                | little              | little              | 6579                | 24                  | car                 | 1                   | \n",
       "| 990 | 989                 | 48                  | male                | 1                   | own                 | little              | moderate            | 1743                | 24                  | radio/TV            | 1                   | \n",
       "| 994 | 993                 | 30                  | male                | 3                   | own                 | little              | little              | 3959                | 36                  | furniture/equipment | 1                   | \n",
       "| 997 | 996                 | 40                  | male                | 3                   | own                 | little              | little              | 3857                | 30                  | car                 | 1                   | \n",
       "| 999 | 998                 | 23                  | male                | 2                   | free                | little              | little              | 1845                | 45                  | radio/TV            | 2                   | \n",
       "| 1000 | 999                 | 27                  | male                | 2                   | own                 | moderate            | moderate            | 4576                | 45                  | car                 | 1                   | \n",
       "\n",
       "\n"
      ],
      "text/plain": [
       "     X.  Age Sex    Job Housing Saving.accounts Checking.account Credit.amount\n",
       "2     1  22  female 2   own     little          moderate          5951        \n",
       "4     3  45  male   2   free    little          little            7882        \n",
       "5     4  53  male   2   free    little          little            4870        \n",
       "8     7  35  male   3   rent    little          moderate          6948        \n",
       "10    9  28  male   3   own     little          moderate          5234        \n",
       "11   10  25  female 2   rent    little          moderate          1295        \n",
       "12   11  24  female 2   rent    little          little            4308        \n",
       "13   12  22  female 2   own     little          moderate          1567        \n",
       "14   13  60  male   1   own     little          little            1199        \n",
       "15   14  28  female 2   rent    little          little            1403        \n",
       "16   15  32  female 1   own     moderate        little            1282        \n",
       "19   18  44  female 3   free    little          moderate         12579        \n",
       "22   21  44  male   2   rent    quite rich      little            2647        \n",
       "23   22  48  male   1   rent    little          little            2241        \n",
       "24   23  44  male   2   own     moderate        moderate          1804        \n",
       "26   25  36  male   1   own     little          little            1374        \n",
       "28   27  42  female 2   rent    rich            rich               409        \n",
       "29   28  34  male   2   own     little          moderate          2415        \n",
       "30   29  63  male   2   own     little          little            6836        \n",
       "31   30  36  male   2   own     rich            moderate          1913        \n",
       "32   31  27  male   2   own     little          little            4020        \n",
       "33   32  30  male   2   own     moderate        moderate          5866        \n",
       "35   34  33  female 3   own     little          rich              1474        \n",
       "36   35  25  male   1   own     little          moderate          4746        \n",
       "38   37  37  male   2   own     little          rich              2100        \n",
       "39   38  37  male   2   own     little          rich              1225        \n",
       "40   39  24  male   2   own     little          moderate           458        \n",
       "42   41  26  male   2   own     quite rich      moderate          1158        \n",
       "43   42  44  male   1   own     little          moderate          6204        \n",
       "44   43  24  male   2   rent    moderate        little            6187        \n",
       "...  ... ... ...    ... ...     ...             ...              ...          \n",
       "947  946 30  male   2   free    quite rich      little           3349         \n",
       "951  950 40  male   0   own     little          moderate         3590         \n",
       "952  951 24  male   2   own     little          little           2145         \n",
       "953  952 28  female 2   rent    quite rich      moderate         4113         \n",
       "955  954 29  female 2   own     little          little           1893         \n",
       "956  955 57  female 3   rent    rich            little           1231         \n",
       "958  957 37  male   1   own     little          moderate         1154         \n",
       "959  958 45  male   1   own     little          little           4006         \n",
       "960  959 30  male   2   free    moderate        moderate         3069         \n",
       "962  961 47  male   2   own     little          moderate         2353         \n",
       "965  964 22  male   1   own     little          moderate          454         \n",
       "967  966 23  male   1   own     quite rich      moderate         2520         \n",
       "970  969 40  male   1   own     little          little           3939         \n",
       "971  970 22  male   2   own     moderate        moderate         1514         \n",
       "973  972 29  female 0   rent    little          little           1193         \n",
       "974  973 36  male   2   rent    little          little           7297         \n",
       "976  975 57  female 1   own     quite rich      rich             1258         \n",
       "977  976 64  female 2   own     little          moderate          753         \n",
       "980  979 25  male   2   rent    moderate        moderate         1264         \n",
       "981  980 49  male   2   own     little          moderate         8386         \n",
       "983  982 28  female 3   own     moderate        rich             2923         \n",
       "984  983 26  male   2   own     little          little           8229         \n",
       "986  985 25  female 2   rent    little          little           1433         \n",
       "987  986 33  male   2   own     little          rich             6289         \n",
       "989  988 29  male   3   free    little          little           6579         \n",
       "990  989 48  male   1   own     little          moderate         1743         \n",
       "994  993 30  male   3   own     little          little           3959         \n",
       "997  996 40  male   3   own     little          little           3857         \n",
       "999  998 23  male   2   free    little          little           1845         \n",
       "1000 999 27  male   2   own     moderate        moderate         4576         \n",
       "     Duration Purpose             Credit.Risks\n",
       "2    48       radio/TV            2           \n",
       "4    42       furniture/equipment 1           \n",
       "5    24       car                 2           \n",
       "8    36       car                 1           \n",
       "10   30       car                 2           \n",
       "11   12       car                 2           \n",
       "12   48       business            2           \n",
       "13   12       radio/TV            1           \n",
       "14   24       car                 2           \n",
       "15   15       car                 1           \n",
       "16   24       radio/TV            2           \n",
       "19   24       car                 2           \n",
       "22    6       radio/TV            1           \n",
       "23   10       car                 1           \n",
       "24   12       car                 1           \n",
       "26    6       furniture/equipment 1           \n",
       "28   12       radio/TV            1           \n",
       "29    7       radio/TV            1           \n",
       "30   60       business            2           \n",
       "31   18       business            1           \n",
       "32   24       furniture/equipment 1           \n",
       "33   18       car                 1           \n",
       "35   12       furniture/equipment 1           \n",
       "36   45       radio/TV            2           \n",
       "38   18       radio/TV            2           \n",
       "39   10       domestic appliances 1           \n",
       "40    9       radio/TV            1           \n",
       "42   12       radio/TV            1           \n",
       "43   18       repairs             1           \n",
       "44   30       car                 1           \n",
       "...  ...      ...                 ...         \n",
       "947  24       furniture/equipment 2           \n",
       "951  18       business            1           \n",
       "952  36       business            2           \n",
       "953  24       car                 2           \n",
       "955  12       car                 1           \n",
       "956  24       radio/TV            1           \n",
       "958   9       radio/TV            1           \n",
       "959  28       car                 2           \n",
       "960  24       furniture/equipment 1           \n",
       "962  21       car                 1           \n",
       "965   6       repairs             1           \n",
       "967  27       radio/TV            2           \n",
       "970  11       car                 1           \n",
       "971  15       repairs             1           \n",
       "973  24       car                 2           \n",
       "974  60       business            2           \n",
       "976  24       radio/TV            1           \n",
       "977   6       radio/TV            1           \n",
       "980  15       car                 2           \n",
       "981  30       furniture/equipment 2           \n",
       "983  21       car                 1           \n",
       "984  36       car                 2           \n",
       "986  15       furniture/equipment 1           \n",
       "987  42       business            1           \n",
       "989  24       car                 1           \n",
       "990  24       radio/TV            1           \n",
       "994  36       furniture/equipment 1           \n",
       "997  30       car                 1           \n",
       "999  45       radio/TV            2           \n",
       "1000 45       car                 1           "
      ]
     },
     "metadata": {},
     "output_type": "display_data"
    }
   ],
   "source": [
    "data"
   ]
  },
  {
   "cell_type": "markdown",
   "metadata": {},
   "source": [
    "For Scaling purpose replacing the string(character) valued column variables with equivalent integer values"
   ]
  },
  {
   "cell_type": "markdown",
   "metadata": {},
   "source": [
    "Checking all the unique value for columns in order and inserting a new column with their respective integer values"
   ]
  },
  {
   "cell_type": "markdown",
   "metadata": {},
   "source": [
    "Adding column Sex_int with values 1 and 2 for male and female respectively"
   ]
  },
  {
   "cell_type": "code",
   "execution_count": 83,
   "metadata": {
    "collapsed": false
   },
   "outputs": [
    {
     "data": {
      "text/html": [
       "<ol class=list-inline>\n",
       "\t<li>female</li>\n",
       "\t<li>male</li>\n",
       "</ol>\n"
      ],
      "text/latex": [
       "\\begin{enumerate*}\n",
       "\\item female\n",
       "\\item male\n",
       "\\end{enumerate*}\n"
      ],
      "text/markdown": [
       "1. female\n",
       "2. male\n",
       "\n",
       "\n"
      ],
      "text/plain": [
       "[1] female male  \n",
       "Levels: female male"
      ]
     },
     "metadata": {},
     "output_type": "display_data"
    }
   ],
   "source": [
    "unique(data$Sex)"
   ]
  },
  {
   "cell_type": "code",
   "execution_count": 84,
   "metadata": {
    "collapsed": false
   },
   "outputs": [],
   "source": [
    "data$Sex_int[data$Sex=='male'] <- 1\n",
    "data$Sex_int[data$Sex=='female'] <- 2"
   ]
  },
  {
   "cell_type": "markdown",
   "metadata": {},
   "source": [
    "Adding column Housing_int with values 1,2 and 3 for own,free and rent repectively"
   ]
  },
  {
   "cell_type": "code",
   "execution_count": 85,
   "metadata": {
    "collapsed": false
   },
   "outputs": [
    {
     "data": {
      "text/html": [
       "<ol class=list-inline>\n",
       "\t<li>own</li>\n",
       "\t<li>free</li>\n",
       "\t<li>rent</li>\n",
       "</ol>\n"
      ],
      "text/latex": [
       "\\begin{enumerate*}\n",
       "\\item own\n",
       "\\item free\n",
       "\\item rent\n",
       "\\end{enumerate*}\n"
      ],
      "text/markdown": [
       "1. own\n",
       "2. free\n",
       "3. rent\n",
       "\n",
       "\n"
      ],
      "text/plain": [
       "[1] own  free rent\n",
       "Levels: free own rent"
      ]
     },
     "metadata": {},
     "output_type": "display_data"
    }
   ],
   "source": [
    "unique(data$Housing)"
   ]
  },
  {
   "cell_type": "code",
   "execution_count": 86,
   "metadata": {
    "collapsed": true
   },
   "outputs": [],
   "source": [
    "data$Housing_int[data$Housing=='own'] <- 1\n",
    "data$Housing_int[data$Housing=='free'] <- 2\n",
    "data$Housing_int[data$Housing=='rent'] <- 3"
   ]
  },
  {
   "cell_type": "markdown",
   "metadata": {},
   "source": [
    "Adding column Saving.accounts_int with values 1,2,3 and 4 for little,quite rich,rich and moderate repectively"
   ]
  },
  {
   "cell_type": "code",
   "execution_count": 87,
   "metadata": {
    "collapsed": false
   },
   "outputs": [
    {
     "data": {
      "text/html": [
       "<ol class=list-inline>\n",
       "\t<li>little</li>\n",
       "\t<li>moderate</li>\n",
       "\t<li>quite rich</li>\n",
       "\t<li>rich</li>\n",
       "</ol>\n"
      ],
      "text/latex": [
       "\\begin{enumerate*}\n",
       "\\item little\n",
       "\\item moderate\n",
       "\\item quite rich\n",
       "\\item rich\n",
       "\\end{enumerate*}\n"
      ],
      "text/markdown": [
       "1. little\n",
       "2. moderate\n",
       "3. quite rich\n",
       "4. rich\n",
       "\n",
       "\n"
      ],
      "text/plain": [
       "[1] little     moderate   quite rich rich      \n",
       "Levels: little moderate quite rich rich"
      ]
     },
     "metadata": {},
     "output_type": "display_data"
    }
   ],
   "source": [
    "unique(data$Saving.accounts)"
   ]
  },
  {
   "cell_type": "code",
   "execution_count": 89,
   "metadata": {
    "collapsed": false
   },
   "outputs": [],
   "source": [
    "data$Saving.accounts_int[data$Saving.accounts=='little'] <- 1\n",
    "data$Saving.accounts_int[data$Saving.accounts=='quite rich'] <- 2\n",
    "data$Saving.accounts_int[data$Saving.accounts=='rich'] <- 3\n",
    "data$Saving.accounts_int[data$Saving.accounts=='moderate'] <- 4"
   ]
  },
  {
   "cell_type": "markdown",
   "metadata": {},
   "source": [
    "Adding column Checking.account_int with values 1,2,3 and 4 for little,quite rich,rich and moderate repectively in Checking.accounts"
   ]
  },
  {
   "cell_type": "code",
   "execution_count": 90,
   "metadata": {
    "collapsed": false
   },
   "outputs": [
    {
     "data": {
      "text/html": [
       "<ol class=list-inline>\n",
       "\t<li>moderate</li>\n",
       "\t<li>little</li>\n",
       "\t<li>rich</li>\n",
       "</ol>\n"
      ],
      "text/latex": [
       "\\begin{enumerate*}\n",
       "\\item moderate\n",
       "\\item little\n",
       "\\item rich\n",
       "\\end{enumerate*}\n"
      ],
      "text/markdown": [
       "1. moderate\n",
       "2. little\n",
       "3. rich\n",
       "\n",
       "\n"
      ],
      "text/plain": [
       "[1] moderate little   rich    \n",
       "Levels: little moderate rich"
      ]
     },
     "metadata": {},
     "output_type": "display_data"
    }
   ],
   "source": [
    "unique(data$Checking.account)"
   ]
  },
  {
   "cell_type": "code",
   "execution_count": 91,
   "metadata": {
    "collapsed": false
   },
   "outputs": [],
   "source": [
    "data$Checking.account_int[data$Checking.account=='little'] <- 1\n",
    "data$Checking.account_int[data$Checking.account=='moderate'] <- 2\n",
    "data$Checking.account_int[data$Checking.account=='rich'] <- 3"
   ]
  },
  {
   "cell_type": "code",
   "execution_count": 92,
   "metadata": {
    "collapsed": false
   },
   "outputs": [
    {
     "data": {
      "text/html": [
       "<ol class=list-inline>\n",
       "\t<li>radio/TV</li>\n",
       "\t<li>furniture/equipment</li>\n",
       "\t<li>car</li>\n",
       "\t<li>business</li>\n",
       "\t<li>domestic appliances</li>\n",
       "\t<li>repairs</li>\n",
       "\t<li>vacation/others</li>\n",
       "\t<li>education</li>\n",
       "</ol>\n"
      ],
      "text/latex": [
       "\\begin{enumerate*}\n",
       "\\item radio/TV\n",
       "\\item furniture/equipment\n",
       "\\item car\n",
       "\\item business\n",
       "\\item domestic appliances\n",
       "\\item repairs\n",
       "\\item vacation/others\n",
       "\\item education\n",
       "\\end{enumerate*}\n"
      ],
      "text/markdown": [
       "1. radio/TV\n",
       "2. furniture/equipment\n",
       "3. car\n",
       "4. business\n",
       "5. domestic appliances\n",
       "6. repairs\n",
       "7. vacation/others\n",
       "8. education\n",
       "\n",
       "\n"
      ],
      "text/plain": [
       "[1] radio/TV            furniture/equipment car                \n",
       "[4] business            domestic appliances repairs            \n",
       "[7] vacation/others     education          \n",
       "8 Levels: business car domestic appliances education ... vacation/others"
      ]
     },
     "metadata": {},
     "output_type": "display_data"
    }
   ],
   "source": [
    "unique(data$Purpose)"
   ]
  },
  {
   "cell_type": "code",
   "execution_count": 93,
   "metadata": {
    "collapsed": false
   },
   "outputs": [],
   "source": [
    "data$Purpose_int[data$Purpose=='radio/TV'] <- 1\n",
    "data$Purpose_int[data$Purpose=='education'] <- 2\n",
    "data$Purpose_int[data$Purpose=='furniture/equipment'] <- 3\n",
    "data$Purpose_int[data$Purpose=='car'] <- 4\n",
    "data$Purpose_int[data$Purpose=='business'] <- 5\n",
    "data$Purpose_int[data$Purpose=='domestic appliances'] <- 6\n",
    "data$Purpose_int[data$Purpose=='repairs'] <- 7\n",
    "data$Purpose_int[data$Purpose=='vacation/others'] <- 8"
   ]
  },
  {
   "cell_type": "code",
   "execution_count": 94,
   "metadata": {
    "collapsed": false
   },
   "outputs": [
    {
     "data": {
      "text/html": [
       "<ol class=list-inline>\n",
       "\t<li>'X.'</li>\n",
       "\t<li>'Age'</li>\n",
       "\t<li>'Sex'</li>\n",
       "\t<li>'Job'</li>\n",
       "\t<li>'Housing'</li>\n",
       "\t<li>'Saving.accounts'</li>\n",
       "\t<li>'Checking.account'</li>\n",
       "\t<li>'Credit.amount'</li>\n",
       "\t<li>'Duration'</li>\n",
       "\t<li>'Purpose'</li>\n",
       "\t<li>'Credit.Risks'</li>\n",
       "\t<li>'Sex_int'</li>\n",
       "\t<li>'Housing_int'</li>\n",
       "\t<li>'Saving.accounts_int'</li>\n",
       "\t<li>'Checking.account_int'</li>\n",
       "\t<li>'Purpose_int'</li>\n",
       "</ol>\n"
      ],
      "text/latex": [
       "\\begin{enumerate*}\n",
       "\\item 'X.'\n",
       "\\item 'Age'\n",
       "\\item 'Sex'\n",
       "\\item 'Job'\n",
       "\\item 'Housing'\n",
       "\\item 'Saving.accounts'\n",
       "\\item 'Checking.account'\n",
       "\\item 'Credit.amount'\n",
       "\\item 'Duration'\n",
       "\\item 'Purpose'\n",
       "\\item 'Credit.Risks'\n",
       "\\item 'Sex\\_int'\n",
       "\\item 'Housing\\_int'\n",
       "\\item 'Saving.accounts\\_int'\n",
       "\\item 'Checking.account\\_int'\n",
       "\\item 'Purpose\\_int'\n",
       "\\end{enumerate*}\n"
      ],
      "text/markdown": [
       "1. 'X.'\n",
       "2. 'Age'\n",
       "3. 'Sex'\n",
       "4. 'Job'\n",
       "5. 'Housing'\n",
       "6. 'Saving.accounts'\n",
       "7. 'Checking.account'\n",
       "8. 'Credit.amount'\n",
       "9. 'Duration'\n",
       "10. 'Purpose'\n",
       "11. 'Credit.Risks'\n",
       "12. 'Sex_int'\n",
       "13. 'Housing_int'\n",
       "14. 'Saving.accounts_int'\n",
       "15. 'Checking.account_int'\n",
       "16. 'Purpose_int'\n",
       "\n",
       "\n"
      ],
      "text/plain": [
       " [1] \"X.\"                   \"Age\"                  \"Sex\"                 \n",
       " [4] \"Job\"                  \"Housing\"              \"Saving.accounts\"     \n",
       " [7] \"Checking.account\"     \"Credit.amount\"        \"Duration\"            \n",
       "[10] \"Purpose\"              \"Credit.Risks\"         \"Sex_int\"             \n",
       "[13] \"Housing_int\"          \"Saving.accounts_int\"  \"Checking.account_int\"\n",
       "[16] \"Purpose_int\"         "
      ]
     },
     "metadata": {},
     "output_type": "display_data"
    }
   ],
   "source": [
    "colnames(data)"
   ]
  },
  {
   "cell_type": "markdown",
   "metadata": {},
   "source": [
    "Defining the training set by taking all the rows for the row numbers picked up randomly above"
   ]
  },
  {
   "cell_type": "code",
   "execution_count": 99,
   "metadata": {
    "collapsed": true
   },
   "outputs": [],
   "source": [
    "train <- subset(data[training, ], select = c(Age, Sex_int,Job,Housing_int,Saving.accounts_int,Checking.account_int,\n",
    "                                            Credit.amount,Duration,Purpose_int))"
   ]
  },
  {
   "cell_type": "markdown",
   "metadata": {},
   "source": [
    "The remaining rows will go to the test data set, these are the remaining row numbers"
   ]
  },
  {
   "cell_type": "code",
   "execution_count": 100,
   "metadata": {
    "collapsed": true
   },
   "outputs": [],
   "source": [
    "testing <- setdiff(1:n.points, training)"
   ]
  },
  {
   "cell_type": "markdown",
   "metadata": {},
   "source": [
    "Defining the test set by taking all the rows for the row numbers taken above"
   ]
  },
  {
   "cell_type": "code",
   "execution_count": 101,
   "metadata": {
    "collapsed": true
   },
   "outputs": [],
   "source": [
    "test <- subset(data[testing, ], select = c(Age, Sex_int,Job,Housing_int,Saving.accounts_int,Checking.account_int,\n",
    "                                            Credit.amount,Duration,Purpose_int))"
   ]
  },
  {
   "cell_type": "markdown",
   "metadata": {},
   "source": [
    "taking the subset of labels for the training data set"
   ]
  },
  {
   "cell_type": "code",
   "execution_count": 102,
   "metadata": {
    "collapsed": true
   },
   "outputs": [],
   "source": [
    "cl <- data$Credit.Risks[training]"
   ]
  },
  {
   "cell_type": "markdown",
   "metadata": {},
   "source": [
    "taking the subset of labels for the testing data set"
   ]
  },
  {
   "cell_type": "code",
   "execution_count": 103,
   "metadata": {
    "collapsed": true
   },
   "outputs": [],
   "source": [
    "true.labels <- data$Credit.Risks[testing]"
   ]
  },
  {
   "cell_type": "code",
   "execution_count": 104,
   "metadata": {
    "collapsed": false
   },
   "outputs": [
    {
     "name": "stderr",
     "output_type": "stream",
     "text": [
      "Warning message:\n",
      "\"package 'class' is in use and will not be installed\""
     ]
    }
   ],
   "source": [
    "install.packages(\"class\",repos=\"http://cran.us.r-project.org/\")"
   ]
  },
  {
   "cell_type": "code",
   "execution_count": 105,
   "metadata": {
    "collapsed": false
   },
   "outputs": [],
   "source": [
    "library(class)"
   ]
  },
  {
   "cell_type": "markdown",
   "metadata": {},
   "source": [
    "Labels predicted for test data set using knn"
   ]
  },
  {
   "cell_type": "code",
   "execution_count": 106,
   "metadata": {
    "collapsed": false
   },
   "outputs": [
    {
     "data": {
      "text/html": [
       "<ol class=list-inline>\n",
       "\t<li>2</li>\n",
       "\t<li>1</li>\n",
       "\t<li>2</li>\n",
       "\t<li>2</li>\n",
       "\t<li>1</li>\n",
       "\t<li>1</li>\n",
       "\t<li>2</li>\n",
       "\t<li>1</li>\n",
       "\t<li>1</li>\n",
       "\t<li>2</li>\n",
       "\t<li>1</li>\n",
       "\t<li>1</li>\n",
       "\t<li>1</li>\n",
       "\t<li>2</li>\n",
       "\t<li>2</li>\n",
       "\t<li>2</li>\n",
       "\t<li>2</li>\n",
       "\t<li>2</li>\n",
       "\t<li>1</li>\n",
       "\t<li>1</li>\n",
       "\t<li>2</li>\n",
       "\t<li>2</li>\n",
       "\t<li>1</li>\n",
       "\t<li>2</li>\n",
       "\t<li>1</li>\n",
       "\t<li>2</li>\n",
       "\t<li>1</li>\n",
       "\t<li>2</li>\n",
       "\t<li>2</li>\n",
       "\t<li>1</li>\n",
       "\t<li>1</li>\n",
       "\t<li>2</li>\n",
       "\t<li>2</li>\n",
       "\t<li>1</li>\n",
       "\t<li>1</li>\n",
       "\t<li>1</li>\n",
       "\t<li>1</li>\n",
       "\t<li>2</li>\n",
       "\t<li>2</li>\n",
       "\t<li>2</li>\n",
       "\t<li>1</li>\n",
       "\t<li>2</li>\n",
       "\t<li>1</li>\n",
       "\t<li>1</li>\n",
       "\t<li>2</li>\n",
       "\t<li>2</li>\n",
       "\t<li>1</li>\n",
       "\t<li>1</li>\n",
       "\t<li>2</li>\n",
       "\t<li>2</li>\n",
       "\t<li>2</li>\n",
       "\t<li>2</li>\n",
       "\t<li>2</li>\n",
       "\t<li>2</li>\n",
       "\t<li>2</li>\n",
       "\t<li>1</li>\n",
       "\t<li>2</li>\n",
       "\t<li>1</li>\n",
       "\t<li>1</li>\n",
       "\t<li>1</li>\n",
       "\t<li>2</li>\n",
       "\t<li>1</li>\n",
       "\t<li>1</li>\n",
       "\t<li>2</li>\n",
       "\t<li>1</li>\n",
       "\t<li>2</li>\n",
       "\t<li>1</li>\n",
       "\t<li>1</li>\n",
       "\t<li>2</li>\n",
       "\t<li>1</li>\n",
       "\t<li>2</li>\n",
       "\t<li>2</li>\n",
       "\t<li>2</li>\n",
       "\t<li>1</li>\n",
       "\t<li>2</li>\n",
       "\t<li>2</li>\n",
       "\t<li>2</li>\n",
       "\t<li>1</li>\n",
       "\t<li>1</li>\n",
       "\t<li>2</li>\n",
       "\t<li>1</li>\n",
       "\t<li>1</li>\n",
       "\t<li>1</li>\n",
       "\t<li>1</li>\n",
       "\t<li>2</li>\n",
       "\t<li>2</li>\n",
       "\t<li>2</li>\n",
       "\t<li>1</li>\n",
       "\t<li>1</li>\n",
       "\t<li>2</li>\n",
       "\t<li>1</li>\n",
       "\t<li>2</li>\n",
       "\t<li>2</li>\n",
       "\t<li>1</li>\n",
       "\t<li>2</li>\n",
       "\t<li>2</li>\n",
       "\t<li>2</li>\n",
       "\t<li>1</li>\n",
       "\t<li>1</li>\n",
       "\t<li>1</li>\n",
       "\t<li>2</li>\n",
       "\t<li>1</li>\n",
       "\t<li>2</li>\n",
       "\t<li>2</li>\n",
       "\t<li>2</li>\n",
       "</ol>\n"
      ],
      "text/latex": [
       "\\begin{enumerate*}\n",
       "\\item 2\n",
       "\\item 1\n",
       "\\item 2\n",
       "\\item 2\n",
       "\\item 1\n",
       "\\item 1\n",
       "\\item 2\n",
       "\\item 1\n",
       "\\item 1\n",
       "\\item 2\n",
       "\\item 1\n",
       "\\item 1\n",
       "\\item 1\n",
       "\\item 2\n",
       "\\item 2\n",
       "\\item 2\n",
       "\\item 2\n",
       "\\item 2\n",
       "\\item 1\n",
       "\\item 1\n",
       "\\item 2\n",
       "\\item 2\n",
       "\\item 1\n",
       "\\item 2\n",
       "\\item 1\n",
       "\\item 2\n",
       "\\item 1\n",
       "\\item 2\n",
       "\\item 2\n",
       "\\item 1\n",
       "\\item 1\n",
       "\\item 2\n",
       "\\item 2\n",
       "\\item 1\n",
       "\\item 1\n",
       "\\item 1\n",
       "\\item 1\n",
       "\\item 2\n",
       "\\item 2\n",
       "\\item 2\n",
       "\\item 1\n",
       "\\item 2\n",
       "\\item 1\n",
       "\\item 1\n",
       "\\item 2\n",
       "\\item 2\n",
       "\\item 1\n",
       "\\item 1\n",
       "\\item 2\n",
       "\\item 2\n",
       "\\item 2\n",
       "\\item 2\n",
       "\\item 2\n",
       "\\item 2\n",
       "\\item 2\n",
       "\\item 1\n",
       "\\item 2\n",
       "\\item 1\n",
       "\\item 1\n",
       "\\item 1\n",
       "\\item 2\n",
       "\\item 1\n",
       "\\item 1\n",
       "\\item 2\n",
       "\\item 1\n",
       "\\item 2\n",
       "\\item 1\n",
       "\\item 1\n",
       "\\item 2\n",
       "\\item 1\n",
       "\\item 2\n",
       "\\item 2\n",
       "\\item 2\n",
       "\\item 1\n",
       "\\item 2\n",
       "\\item 2\n",
       "\\item 2\n",
       "\\item 1\n",
       "\\item 1\n",
       "\\item 2\n",
       "\\item 1\n",
       "\\item 1\n",
       "\\item 1\n",
       "\\item 1\n",
       "\\item 2\n",
       "\\item 2\n",
       "\\item 2\n",
       "\\item 1\n",
       "\\item 1\n",
       "\\item 2\n",
       "\\item 1\n",
       "\\item 2\n",
       "\\item 2\n",
       "\\item 1\n",
       "\\item 2\n",
       "\\item 2\n",
       "\\item 2\n",
       "\\item 1\n",
       "\\item 1\n",
       "\\item 1\n",
       "\\item 2\n",
       "\\item 1\n",
       "\\item 2\n",
       "\\item 2\n",
       "\\item 2\n",
       "\\end{enumerate*}\n"
      ],
      "text/markdown": [
       "1. 2\n",
       "2. 1\n",
       "3. 2\n",
       "4. 2\n",
       "5. 1\n",
       "6. 1\n",
       "7. 2\n",
       "8. 1\n",
       "9. 1\n",
       "10. 2\n",
       "11. 1\n",
       "12. 1\n",
       "13. 1\n",
       "14. 2\n",
       "15. 2\n",
       "16. 2\n",
       "17. 2\n",
       "18. 2\n",
       "19. 1\n",
       "20. 1\n",
       "21. 2\n",
       "22. 2\n",
       "23. 1\n",
       "24. 2\n",
       "25. 1\n",
       "26. 2\n",
       "27. 1\n",
       "28. 2\n",
       "29. 2\n",
       "30. 1\n",
       "31. 1\n",
       "32. 2\n",
       "33. 2\n",
       "34. 1\n",
       "35. 1\n",
       "36. 1\n",
       "37. 1\n",
       "38. 2\n",
       "39. 2\n",
       "40. 2\n",
       "41. 1\n",
       "42. 2\n",
       "43. 1\n",
       "44. 1\n",
       "45. 2\n",
       "46. 2\n",
       "47. 1\n",
       "48. 1\n",
       "49. 2\n",
       "50. 2\n",
       "51. 2\n",
       "52. 2\n",
       "53. 2\n",
       "54. 2\n",
       "55. 2\n",
       "56. 1\n",
       "57. 2\n",
       "58. 1\n",
       "59. 1\n",
       "60. 1\n",
       "61. 2\n",
       "62. 1\n",
       "63. 1\n",
       "64. 2\n",
       "65. 1\n",
       "66. 2\n",
       "67. 1\n",
       "68. 1\n",
       "69. 2\n",
       "70. 1\n",
       "71. 2\n",
       "72. 2\n",
       "73. 2\n",
       "74. 1\n",
       "75. 2\n",
       "76. 2\n",
       "77. 2\n",
       "78. 1\n",
       "79. 1\n",
       "80. 2\n",
       "81. 1\n",
       "82. 1\n",
       "83. 1\n",
       "84. 1\n",
       "85. 2\n",
       "86. 2\n",
       "87. 2\n",
       "88. 1\n",
       "89. 1\n",
       "90. 2\n",
       "91. 1\n",
       "92. 2\n",
       "93. 2\n",
       "94. 1\n",
       "95. 2\n",
       "96. 2\n",
       "97. 2\n",
       "98. 1\n",
       "99. 1\n",
       "100. 1\n",
       "101. 2\n",
       "102. 1\n",
       "103. 2\n",
       "104. 2\n",
       "105. 2\n",
       "\n",
       "\n"
      ],
      "text/plain": [
       "  [1] 2 1 2 2 1 1 2 1 1 2 1 1 1 2 2 2 2 2 1 1 2 2 1 2 1 2 1 2 2 1 1 2 2 1 1 1 1\n",
       " [38] 2 2 2 1 2 1 1 2 2 1 1 2 2 2 2 2 2 2 1 2 1 1 1 2 1 1 2 1 2 1 1 2 1 2 2 2 1\n",
       " [75] 2 2 2 1 1 2 1 1 1 1 2 2 2 1 1 2 1 2 2 1 2 2 2 1 1 1 2 1 2 2 2\n",
       "Levels: 1 2"
      ]
     },
     "metadata": {},
     "output_type": "display_data"
    }
   ],
   "source": [
    "knn (train, test, cl, k=3)"
   ]
  },
  {
   "cell_type": "markdown",
   "metadata": {},
   "source": [
    "Running knn for different values of k and checking the misclassification rate for each value"
   ]
  },
  {
   "cell_type": "code",
   "execution_count": 107,
   "metadata": {
    "collapsed": true
   },
   "outputs": [
    {
     "name": "stdout",
     "output_type": "stream",
     "text": [
      "[1] 1\n",
      "[1] 0.4885057\n",
      "[1] 2\n",
      "[1] 0.5268199\n",
      "[1] 3\n",
      "[1] 0.4118774\n",
      "[1] 4\n",
      "[1] 0.4693487\n",
      "[1] 5\n",
      "[1] 0.4310345\n",
      "[1] 6\n",
      "[1] 0.4022989\n",
      "[1] 7\n",
      "[1] 0.440613\n",
      "[1] 8\n",
      "[1] 0.3927203\n",
      "[1] 9\n",
      "[1] 0.4118774\n",
      "[1] 10\n",
      "[1] 0.3831418\n",
      "[1] 11\n",
      "[1] 0.4118774\n",
      "[1] 12\n",
      "[1] 0.3927203\n",
      "[1] 13\n",
      "[1] 0.4022989\n",
      "[1] 14\n",
      "[1] 0.4597701\n",
      "[1] 15\n",
      "[1] 0.4118774\n",
      "[1] 16\n",
      "[1] 0.4310345\n",
      "[1] 17\n",
      "[1] 0.3927203\n",
      "[1] 18\n",
      "[1] 0.335249\n",
      "[1] 19\n",
      "[1] 0.3544061\n",
      "[1] 20\n",
      "[1] 0.3927203\n"
     ]
    }
   ],
   "source": [
    "for (k in 1:20) {\n",
    "print(k)\n",
    "predicted.labels <- knn(train, test, cl, k)\n",
    "num.incorrect.labels <- sum(predicted.labels != true.labels)\n",
    "misclassification.rate <- num.incorrect.labels /\n",
    "num.test.set.labels\n",
    "    print(misclassification.rate)\n",
    "}"
   ]
  },
  {
   "cell_type": "markdown",
   "metadata": {},
   "source": [
    "Tabulating results for different values of sampling rate and noting the values for misclassifcation rate for \n",
    "different k values"
   ]
  },
  {
   "cell_type": "code",
   "execution_count": 127,
   "metadata": {
    "collapsed": false
   },
   "outputs": [],
   "source": [
    "knn_Analysis_Table <- data.frame(k_value= integer(0), \n",
    "train_90= integer(0),train_80= integer(0),\n",
    "train_70= integer(0),train_60= integer(0),\n",
    "train_50= integer(0),train_40= integer(0),\n",
    "train_30= integer(0),train_20= integer(0),\n",
    "train_10= integer(0))\n",
    "knn_Analysis_min_Table <- data.frame(Sampling_Rate= integer(0), k_value= integer(0),Misclassificaiton_Rate = integer(0))\n",
    "sampling_rate_values <- c(0.9,0.8,0.7,0.6,0.5,0.4,0.3,0.2,0.1)\n",
    "for(r in sampling_rate_values){\n",
    "sampling.rate <- r\n",
    "num.test.set.labels <- n.points * (1 - sampling.rate)\n",
    "training <- sample(1:n.points, sampling.rate * n.points,\n",
    "replace=FALSE)\n",
    "train <- subset(data[training, ], select = c(Age, Sex_int,Job,Housing_int,Saving.accounts_int,Checking.account_int,\n",
    "                                            Credit.amount,Duration,Purpose_int))\n",
    "testing <- setdiff(1:n.points, training)\n",
    "test <- subset(data[testing, ], select = c(Age, Sex_int,Job,Housing_int,Saving.accounts_int,Checking.account_int,\n",
    "                                            Credit.amount,Duration,Purpose_int))\n",
    "cl <- data$Credit.Risks[training]\n",
    "true.labels <- data$Credit.Risks[testing]\n",
    "k_value <- 0\n",
    "misclassification_rate <- 1\n",
    "for (k in 1:20) {\n",
    "predicted.labels <- knn(train, test, cl, k)\n",
    "num.incorrect.labels <- sum(predicted.labels != true.labels)\n",
    "misclassification.rate <- num.incorrect.labels / num.test.set.labels\n",
    "knn_Analysis_Table[k,1] <- k    \n",
    "knn_Analysis_Table[k,x+1] <-misclassification.rate\n",
    "if(misclassification.rate < misclassification_rate){\n",
    "    misclassification_rate <- misclassification.rate\n",
    "    k_value <- k\n",
    "}\n",
    "}\n",
    "knn_Analysis_min_Table[x,] <- c(r,k_value,misclassification_rate)\n",
    "x <- x+1\n",
    "}"
   ]
  },
  {
   "cell_type": "markdown",
   "metadata": {},
   "source": [
    "Table that demonstrates the various misclassification rate values for different sampling rate and k values"
   ]
  },
  {
   "cell_type": "code",
   "execution_count": 128,
   "metadata": {
    "collapsed": false
   },
   "outputs": [
    {
     "data": {
      "text/html": [
       "<table>\n",
       "<thead><tr><th scope=col>k_value</th><th scope=col>train_90</th><th scope=col>train_80</th><th scope=col>train_70</th><th scope=col>train_60</th><th scope=col>train_50</th><th scope=col>train_40</th><th scope=col>train_30</th><th scope=col>train_20</th><th scope=col>train_10</th></tr></thead>\n",
       "<tbody>\n",
       "\t<tr><td> 1       </td><td>0.4406130</td><td>0.4885057</td><td>0.4916986</td><td>0.4454023</td><td>0.4750958</td><td>0.4629630</td><td>0.4652436</td><td>0.4142720</td><td>0.4363559</td></tr>\n",
       "\t<tr><td> 2       </td><td>0.3639847</td><td>0.4885057</td><td>0.4022989</td><td>0.4262452</td><td>0.4904215</td><td>0.4374202</td><td>0.4871374</td><td>0.4310345</td><td>0.4384845</td></tr>\n",
       "\t<tr><td> 3       </td><td>0.3448276</td><td>0.3831418</td><td>0.4597701</td><td>0.3879310</td><td>0.4482759</td><td>0.3991060</td><td>0.4241927</td><td>0.4166667</td><td>0.4150702</td></tr>\n",
       "\t<tr><td> 4       </td><td>0.4789272</td><td>0.4980843</td><td>0.4214559</td><td>0.4166667</td><td>0.4636015</td><td>0.4182631</td><td>0.4324028</td><td>0.4022989</td><td>0.4044274</td></tr>\n",
       "\t<tr><td> 5       </td><td>0.4789272</td><td>0.4214559</td><td>0.4533844</td><td>0.4454023</td><td>0.4406130</td><td>0.4310345</td><td>0.4132458</td><td>0.4094828</td><td>0.4320988</td></tr>\n",
       "\t<tr><td> 6       </td><td>0.4406130</td><td>0.4118774</td><td>0.4661558</td><td>0.4549808</td><td>0.4521073</td><td>0.4150702</td><td>0.4296661</td><td>0.4238506</td><td>0.4320988</td></tr>\n",
       "\t<tr><td> 7       </td><td>0.4214559</td><td>0.4310345</td><td>0.4533844</td><td>0.4406130</td><td>0.4022989</td><td>0.4406130</td><td>0.4324028</td><td>0.4214559</td><td>0.4576415</td></tr>\n",
       "\t<tr><td> 8       </td><td>0.3639847</td><td>0.4118774</td><td>0.4597701</td><td>0.4214559</td><td>0.4406130</td><td>0.4438059</td><td>0.4406130</td><td>0.4310345</td><td>0.4448702</td></tr>\n",
       "\t<tr><td> 9       </td><td>0.4406130</td><td>0.4118774</td><td>0.3959132</td><td>0.4070881</td><td>0.4022989</td><td>0.4374202</td><td>0.4241927</td><td>0.4501916</td><td>0.4704129</td></tr>\n",
       "\t<tr><td>10       </td><td>0.4597701</td><td>0.4693487</td><td>0.3895275</td><td>0.4022989</td><td>0.4176245</td><td>0.4342273</td><td>0.4187192</td><td>0.4454023</td><td>0.4640272</td></tr>\n",
       "\t<tr><td>11       </td><td>0.4214559</td><td>0.3831418</td><td>0.4214559</td><td>0.4166667</td><td>0.4022989</td><td>0.4501916</td><td>0.4324028</td><td>0.4262452</td><td>0.4363559</td></tr>\n",
       "\t<tr><td>12       </td><td>0.4406130</td><td>0.3831418</td><td>0.4022989</td><td>0.4070881</td><td>0.4367816</td><td>0.4565773</td><td>0.4324028</td><td>0.4430077</td><td>0.4512559</td></tr>\n",
       "\t<tr><td>13       </td><td>0.4406130</td><td>0.3735632</td><td>0.3703704</td><td>0.4358238</td><td>0.4176245</td><td>0.4406130</td><td>0.4406130</td><td>0.4262452</td><td>0.4384845</td></tr>\n",
       "\t<tr><td>14       </td><td>0.4406130</td><td>0.4214559</td><td>0.4086845</td><td>0.4262452</td><td>0.4214559</td><td>0.4469987</td><td>0.4296661</td><td>0.4382184</td><td>0.4555130</td></tr>\n",
       "\t<tr><td>15       </td><td>0.4022989</td><td>0.4501916</td><td>0.4150702</td><td>0.4022989</td><td>0.4252874</td><td>0.4278416</td><td>0.4050356</td><td>0.4358238</td><td>0.4427416</td></tr>\n",
       "\t<tr><td>16       </td><td>0.4406130</td><td>0.4214559</td><td>0.4022989</td><td>0.4166667</td><td>0.4252874</td><td>0.4565773</td><td>0.4214559</td><td>0.4238506</td><td>0.4618987</td></tr>\n",
       "\t<tr><td>17       </td><td>0.3831418</td><td>0.4118774</td><td>0.4022989</td><td>0.4358238</td><td>0.4214559</td><td>0.4629630</td><td>0.4433498</td><td>0.4022989</td><td>0.4640272</td></tr>\n",
       "\t<tr><td>18       </td><td>0.3831418</td><td>0.4310345</td><td>0.4022989</td><td>0.4166667</td><td>0.4367816</td><td>0.4406130</td><td>0.4433498</td><td>0.4094828</td><td>0.4533844</td></tr>\n",
       "\t<tr><td>19       </td><td>0.3831418</td><td>0.4214559</td><td>0.4278416</td><td>0.4597701</td><td>0.4137931</td><td>0.4533844</td><td>0.4159825</td><td>0.4094828</td><td>0.4193274</td></tr>\n",
       "\t<tr><td>20       </td><td>0.3831418</td><td>0.4118774</td><td>0.4150702</td><td>0.4549808</td><td>0.4176245</td><td>0.4278416</td><td>0.4296661</td><td>0.4118774</td><td>0.4342273</td></tr>\n",
       "</tbody>\n",
       "</table>\n"
      ],
      "text/latex": [
       "\\begin{tabular}{r|llllllllll}\n",
       " k\\_value & train\\_90 & train\\_80 & train\\_70 & train\\_60 & train\\_50 & train\\_40 & train\\_30 & train\\_20 & train\\_10\\\\\n",
       "\\hline\n",
       "\t  1        & 0.4406130 & 0.4885057 & 0.4916986 & 0.4454023 & 0.4750958 & 0.4629630 & 0.4652436 & 0.4142720 & 0.4363559\\\\\n",
       "\t  2        & 0.3639847 & 0.4885057 & 0.4022989 & 0.4262452 & 0.4904215 & 0.4374202 & 0.4871374 & 0.4310345 & 0.4384845\\\\\n",
       "\t  3        & 0.3448276 & 0.3831418 & 0.4597701 & 0.3879310 & 0.4482759 & 0.3991060 & 0.4241927 & 0.4166667 & 0.4150702\\\\\n",
       "\t  4        & 0.4789272 & 0.4980843 & 0.4214559 & 0.4166667 & 0.4636015 & 0.4182631 & 0.4324028 & 0.4022989 & 0.4044274\\\\\n",
       "\t  5        & 0.4789272 & 0.4214559 & 0.4533844 & 0.4454023 & 0.4406130 & 0.4310345 & 0.4132458 & 0.4094828 & 0.4320988\\\\\n",
       "\t  6        & 0.4406130 & 0.4118774 & 0.4661558 & 0.4549808 & 0.4521073 & 0.4150702 & 0.4296661 & 0.4238506 & 0.4320988\\\\\n",
       "\t  7        & 0.4214559 & 0.4310345 & 0.4533844 & 0.4406130 & 0.4022989 & 0.4406130 & 0.4324028 & 0.4214559 & 0.4576415\\\\\n",
       "\t  8        & 0.3639847 & 0.4118774 & 0.4597701 & 0.4214559 & 0.4406130 & 0.4438059 & 0.4406130 & 0.4310345 & 0.4448702\\\\\n",
       "\t  9        & 0.4406130 & 0.4118774 & 0.3959132 & 0.4070881 & 0.4022989 & 0.4374202 & 0.4241927 & 0.4501916 & 0.4704129\\\\\n",
       "\t 10        & 0.4597701 & 0.4693487 & 0.3895275 & 0.4022989 & 0.4176245 & 0.4342273 & 0.4187192 & 0.4454023 & 0.4640272\\\\\n",
       "\t 11        & 0.4214559 & 0.3831418 & 0.4214559 & 0.4166667 & 0.4022989 & 0.4501916 & 0.4324028 & 0.4262452 & 0.4363559\\\\\n",
       "\t 12        & 0.4406130 & 0.3831418 & 0.4022989 & 0.4070881 & 0.4367816 & 0.4565773 & 0.4324028 & 0.4430077 & 0.4512559\\\\\n",
       "\t 13        & 0.4406130 & 0.3735632 & 0.3703704 & 0.4358238 & 0.4176245 & 0.4406130 & 0.4406130 & 0.4262452 & 0.4384845\\\\\n",
       "\t 14        & 0.4406130 & 0.4214559 & 0.4086845 & 0.4262452 & 0.4214559 & 0.4469987 & 0.4296661 & 0.4382184 & 0.4555130\\\\\n",
       "\t 15        & 0.4022989 & 0.4501916 & 0.4150702 & 0.4022989 & 0.4252874 & 0.4278416 & 0.4050356 & 0.4358238 & 0.4427416\\\\\n",
       "\t 16        & 0.4406130 & 0.4214559 & 0.4022989 & 0.4166667 & 0.4252874 & 0.4565773 & 0.4214559 & 0.4238506 & 0.4618987\\\\\n",
       "\t 17        & 0.3831418 & 0.4118774 & 0.4022989 & 0.4358238 & 0.4214559 & 0.4629630 & 0.4433498 & 0.4022989 & 0.4640272\\\\\n",
       "\t 18        & 0.3831418 & 0.4310345 & 0.4022989 & 0.4166667 & 0.4367816 & 0.4406130 & 0.4433498 & 0.4094828 & 0.4533844\\\\\n",
       "\t 19        & 0.3831418 & 0.4214559 & 0.4278416 & 0.4597701 & 0.4137931 & 0.4533844 & 0.4159825 & 0.4094828 & 0.4193274\\\\\n",
       "\t 20        & 0.3831418 & 0.4118774 & 0.4150702 & 0.4549808 & 0.4176245 & 0.4278416 & 0.4296661 & 0.4118774 & 0.4342273\\\\\n",
       "\\end{tabular}\n"
      ],
      "text/markdown": [
       "\n",
       "k_value | train_90 | train_80 | train_70 | train_60 | train_50 | train_40 | train_30 | train_20 | train_10 | \n",
       "|---|---|---|---|---|---|---|---|---|---|---|---|---|---|---|---|---|---|---|---|\n",
       "|  1        | 0.4406130 | 0.4885057 | 0.4916986 | 0.4454023 | 0.4750958 | 0.4629630 | 0.4652436 | 0.4142720 | 0.4363559 | \n",
       "|  2        | 0.3639847 | 0.4885057 | 0.4022989 | 0.4262452 | 0.4904215 | 0.4374202 | 0.4871374 | 0.4310345 | 0.4384845 | \n",
       "|  3        | 0.3448276 | 0.3831418 | 0.4597701 | 0.3879310 | 0.4482759 | 0.3991060 | 0.4241927 | 0.4166667 | 0.4150702 | \n",
       "|  4        | 0.4789272 | 0.4980843 | 0.4214559 | 0.4166667 | 0.4636015 | 0.4182631 | 0.4324028 | 0.4022989 | 0.4044274 | \n",
       "|  5        | 0.4789272 | 0.4214559 | 0.4533844 | 0.4454023 | 0.4406130 | 0.4310345 | 0.4132458 | 0.4094828 | 0.4320988 | \n",
       "|  6        | 0.4406130 | 0.4118774 | 0.4661558 | 0.4549808 | 0.4521073 | 0.4150702 | 0.4296661 | 0.4238506 | 0.4320988 | \n",
       "|  7        | 0.4214559 | 0.4310345 | 0.4533844 | 0.4406130 | 0.4022989 | 0.4406130 | 0.4324028 | 0.4214559 | 0.4576415 | \n",
       "|  8        | 0.3639847 | 0.4118774 | 0.4597701 | 0.4214559 | 0.4406130 | 0.4438059 | 0.4406130 | 0.4310345 | 0.4448702 | \n",
       "|  9        | 0.4406130 | 0.4118774 | 0.3959132 | 0.4070881 | 0.4022989 | 0.4374202 | 0.4241927 | 0.4501916 | 0.4704129 | \n",
       "| 10        | 0.4597701 | 0.4693487 | 0.3895275 | 0.4022989 | 0.4176245 | 0.4342273 | 0.4187192 | 0.4454023 | 0.4640272 | \n",
       "| 11        | 0.4214559 | 0.3831418 | 0.4214559 | 0.4166667 | 0.4022989 | 0.4501916 | 0.4324028 | 0.4262452 | 0.4363559 | \n",
       "| 12        | 0.4406130 | 0.3831418 | 0.4022989 | 0.4070881 | 0.4367816 | 0.4565773 | 0.4324028 | 0.4430077 | 0.4512559 | \n",
       "| 13        | 0.4406130 | 0.3735632 | 0.3703704 | 0.4358238 | 0.4176245 | 0.4406130 | 0.4406130 | 0.4262452 | 0.4384845 | \n",
       "| 14        | 0.4406130 | 0.4214559 | 0.4086845 | 0.4262452 | 0.4214559 | 0.4469987 | 0.4296661 | 0.4382184 | 0.4555130 | \n",
       "| 15        | 0.4022989 | 0.4501916 | 0.4150702 | 0.4022989 | 0.4252874 | 0.4278416 | 0.4050356 | 0.4358238 | 0.4427416 | \n",
       "| 16        | 0.4406130 | 0.4214559 | 0.4022989 | 0.4166667 | 0.4252874 | 0.4565773 | 0.4214559 | 0.4238506 | 0.4618987 | \n",
       "| 17        | 0.3831418 | 0.4118774 | 0.4022989 | 0.4358238 | 0.4214559 | 0.4629630 | 0.4433498 | 0.4022989 | 0.4640272 | \n",
       "| 18        | 0.3831418 | 0.4310345 | 0.4022989 | 0.4166667 | 0.4367816 | 0.4406130 | 0.4433498 | 0.4094828 | 0.4533844 | \n",
       "| 19        | 0.3831418 | 0.4214559 | 0.4278416 | 0.4597701 | 0.4137931 | 0.4533844 | 0.4159825 | 0.4094828 | 0.4193274 | \n",
       "| 20        | 0.3831418 | 0.4118774 | 0.4150702 | 0.4549808 | 0.4176245 | 0.4278416 | 0.4296661 | 0.4118774 | 0.4342273 | \n",
       "\n",
       "\n"
      ],
      "text/plain": [
       "   k_value train_90  train_80  train_70  train_60  train_50  train_40 \n",
       "1   1      0.4406130 0.4885057 0.4916986 0.4454023 0.4750958 0.4629630\n",
       "2   2      0.3639847 0.4885057 0.4022989 0.4262452 0.4904215 0.4374202\n",
       "3   3      0.3448276 0.3831418 0.4597701 0.3879310 0.4482759 0.3991060\n",
       "4   4      0.4789272 0.4980843 0.4214559 0.4166667 0.4636015 0.4182631\n",
       "5   5      0.4789272 0.4214559 0.4533844 0.4454023 0.4406130 0.4310345\n",
       "6   6      0.4406130 0.4118774 0.4661558 0.4549808 0.4521073 0.4150702\n",
       "7   7      0.4214559 0.4310345 0.4533844 0.4406130 0.4022989 0.4406130\n",
       "8   8      0.3639847 0.4118774 0.4597701 0.4214559 0.4406130 0.4438059\n",
       "9   9      0.4406130 0.4118774 0.3959132 0.4070881 0.4022989 0.4374202\n",
       "10 10      0.4597701 0.4693487 0.3895275 0.4022989 0.4176245 0.4342273\n",
       "11 11      0.4214559 0.3831418 0.4214559 0.4166667 0.4022989 0.4501916\n",
       "12 12      0.4406130 0.3831418 0.4022989 0.4070881 0.4367816 0.4565773\n",
       "13 13      0.4406130 0.3735632 0.3703704 0.4358238 0.4176245 0.4406130\n",
       "14 14      0.4406130 0.4214559 0.4086845 0.4262452 0.4214559 0.4469987\n",
       "15 15      0.4022989 0.4501916 0.4150702 0.4022989 0.4252874 0.4278416\n",
       "16 16      0.4406130 0.4214559 0.4022989 0.4166667 0.4252874 0.4565773\n",
       "17 17      0.3831418 0.4118774 0.4022989 0.4358238 0.4214559 0.4629630\n",
       "18 18      0.3831418 0.4310345 0.4022989 0.4166667 0.4367816 0.4406130\n",
       "19 19      0.3831418 0.4214559 0.4278416 0.4597701 0.4137931 0.4533844\n",
       "20 20      0.3831418 0.4118774 0.4150702 0.4549808 0.4176245 0.4278416\n",
       "   train_30  train_20  train_10 \n",
       "1  0.4652436 0.4142720 0.4363559\n",
       "2  0.4871374 0.4310345 0.4384845\n",
       "3  0.4241927 0.4166667 0.4150702\n",
       "4  0.4324028 0.4022989 0.4044274\n",
       "5  0.4132458 0.4094828 0.4320988\n",
       "6  0.4296661 0.4238506 0.4320988\n",
       "7  0.4324028 0.4214559 0.4576415\n",
       "8  0.4406130 0.4310345 0.4448702\n",
       "9  0.4241927 0.4501916 0.4704129\n",
       "10 0.4187192 0.4454023 0.4640272\n",
       "11 0.4324028 0.4262452 0.4363559\n",
       "12 0.4324028 0.4430077 0.4512559\n",
       "13 0.4406130 0.4262452 0.4384845\n",
       "14 0.4296661 0.4382184 0.4555130\n",
       "15 0.4050356 0.4358238 0.4427416\n",
       "16 0.4214559 0.4238506 0.4618987\n",
       "17 0.4433498 0.4022989 0.4640272\n",
       "18 0.4433498 0.4094828 0.4533844\n",
       "19 0.4159825 0.4094828 0.4193274\n",
       "20 0.4296661 0.4118774 0.4342273"
      ]
     },
     "metadata": {},
     "output_type": "display_data"
    }
   ],
   "source": [
    "knn_Analysis_Table"
   ]
  },
  {
   "cell_type": "markdown",
   "metadata": {},
   "source": [
    "Minimum table: this has the minimum misclassification rate noted for each sampling rate and also the k values for whch the minimu value was noted"
   ]
  },
  {
   "cell_type": "code",
   "execution_count": 130,
   "metadata": {
    "collapsed": false
   },
   "outputs": [
    {
     "data": {
      "text/html": [
       "<table>\n",
       "<thead><tr><th scope=col>Sampling_Rate</th><th scope=col>k_value</th><th scope=col>Misclassificaiton_Rate</th></tr></thead>\n",
       "<tbody>\n",
       "\t<tr><td>0.9      </td><td> 3       </td><td>0.3448276</td></tr>\n",
       "\t<tr><td>0.8      </td><td>13       </td><td>0.3735632</td></tr>\n",
       "\t<tr><td>0.7      </td><td>13       </td><td>0.3703704</td></tr>\n",
       "\t<tr><td>0.6      </td><td> 3       </td><td>0.3879310</td></tr>\n",
       "\t<tr><td>0.5      </td><td> 7       </td><td>0.4022989</td></tr>\n",
       "\t<tr><td>0.4      </td><td> 3       </td><td>0.3991060</td></tr>\n",
       "\t<tr><td>0.3      </td><td>15       </td><td>0.4050356</td></tr>\n",
       "\t<tr><td>0.2      </td><td> 4       </td><td>0.4022989</td></tr>\n",
       "\t<tr><td>0.1      </td><td> 4       </td><td>0.4044274</td></tr>\n",
       "</tbody>\n",
       "</table>\n"
      ],
      "text/latex": [
       "\\begin{tabular}{r|lll}\n",
       " Sampling\\_Rate & k\\_value & Misclassificaiton\\_Rate\\\\\n",
       "\\hline\n",
       "\t 0.9       &  3        & 0.3448276\\\\\n",
       "\t 0.8       & 13        & 0.3735632\\\\\n",
       "\t 0.7       & 13        & 0.3703704\\\\\n",
       "\t 0.6       &  3        & 0.3879310\\\\\n",
       "\t 0.5       &  7        & 0.4022989\\\\\n",
       "\t 0.4       &  3        & 0.3991060\\\\\n",
       "\t 0.3       & 15        & 0.4050356\\\\\n",
       "\t 0.2       &  4        & 0.4022989\\\\\n",
       "\t 0.1       &  4        & 0.4044274\\\\\n",
       "\\end{tabular}\n"
      ],
      "text/markdown": [
       "\n",
       "Sampling_Rate | k_value | Misclassificaiton_Rate | \n",
       "|---|---|---|---|---|---|---|---|---|\n",
       "| 0.9       |  3        | 0.3448276 | \n",
       "| 0.8       | 13        | 0.3735632 | \n",
       "| 0.7       | 13        | 0.3703704 | \n",
       "| 0.6       |  3        | 0.3879310 | \n",
       "| 0.5       |  7        | 0.4022989 | \n",
       "| 0.4       |  3        | 0.3991060 | \n",
       "| 0.3       | 15        | 0.4050356 | \n",
       "| 0.2       |  4        | 0.4022989 | \n",
       "| 0.1       |  4        | 0.4044274 | \n",
       "\n",
       "\n"
      ],
      "text/plain": [
       "  Sampling_Rate k_value Misclassificaiton_Rate\n",
       "1 0.9            3      0.3448276             \n",
       "2 0.8           13      0.3735632             \n",
       "3 0.7           13      0.3703704             \n",
       "4 0.6            3      0.3879310             \n",
       "5 0.5            7      0.4022989             \n",
       "6 0.4            3      0.3991060             \n",
       "7 0.3           15      0.4050356             \n",
       "8 0.2            4      0.4022989             \n",
       "9 0.1            4      0.4044274             "
      ]
     },
     "metadata": {},
     "output_type": "display_data"
    }
   ],
   "source": [
    "knn_Analysis_min_Table"
   ]
  },
  {
   "cell_type": "code",
   "execution_count": null,
   "metadata": {
    "collapsed": true
   },
   "outputs": [],
   "source": []
  }
 ],
 "metadata": {
  "kernelspec": {
   "display_name": "R",
   "language": "R",
   "name": "ir"
  },
  "language_info": {
   "codemirror_mode": "r",
   "file_extension": ".r",
   "mimetype": "text/x-r-source",
   "name": "R",
   "pygments_lexer": "r",
   "version": "3.3.2"
  }
 },
 "nbformat": 4,
 "nbformat_minor": 2
}
