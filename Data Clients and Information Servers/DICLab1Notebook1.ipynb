{
 "cells": [
  {
   "cell_type": "code",
   "execution_count": 1,
   "metadata": {
    "collapsed": true
   },
   "outputs": [],
   "source": [
    "a=5"
   ]
  },
  {
   "cell_type": "code",
   "execution_count": 2,
   "metadata": {
    "collapsed": false
   },
   "outputs": [
    {
     "data": {
      "text/html": [
       "5"
      ],
      "text/latex": [
       "5"
      ],
      "text/markdown": [
       "5"
      ],
      "text/plain": [
       "[1] 5"
      ]
     },
     "metadata": {},
     "output_type": "display_data"
    }
   ],
   "source": [
    "a"
   ]
  },
  {
   "cell_type": "code",
   "execution_count": 3,
   "metadata": {
    "collapsed": false
   },
   "outputs": [
    {
     "name": "stderr",
     "output_type": "stream",
     "text": [
      "also installing the dependencies 'bit', 'bit64', 'rjson'\n",
      "\n"
     ]
    },
    {
     "name": "stdout",
     "output_type": "stream",
     "text": [
      "package 'bit' successfully unpacked and MD5 sums checked\n",
      "package 'bit64' successfully unpacked and MD5 sums checked\n",
      "package 'rjson' successfully unpacked and MD5 sums checked\n",
      "package 'twitteR' successfully unpacked and MD5 sums checked\n",
      "\n",
      "The downloaded binary packages are in\n",
      "\tC:\\Users\\nitik\\AppData\\Local\\Temp\\RtmpGAH4Q1\\downloaded_packages\n"
     ]
    }
   ],
   "source": [
    "install.packages(\"twitteR\", repos=\"http://cran.us.r-project.org/\")"
   ]
  },
  {
   "cell_type": "code",
   "execution_count": 4,
   "metadata": {
    "collapsed": true
   },
   "outputs": [],
   "source": [
    "library(twitteR)"
   ]
  },
  {
   "cell_type": "code",
   "execution_count": 5,
   "metadata": {
    "collapsed": false
   },
   "outputs": [
    {
     "name": "stdout",
     "output_type": "stream",
     "text": [
      "[1] \"Using direct authentication\"\n"
     ]
    }
   ],
   "source": [
    "setup_twitter_oauth(\"***\", \"***\", \"***\", \"***\")"
   ]
  },
  {
   "cell_type": "code",
   "execution_count": 6,
   "metadata": {
    "collapsed": true
   },
   "outputs": [],
   "source": [
    "tweets <- searchTwitter('#Oscars2017', n=50)"
   ]
  },
  {
   "cell_type": "code",
   "execution_count": 7,
   "metadata": {
    "collapsed": false
   },
   "outputs": [
    {
     "data": {
      "text/html": [
       "50"
      ],
      "text/latex": [
       "50"
      ],
      "text/markdown": [
       "50"
      ],
      "text/plain": [
       "[1] 50"
      ]
     },
     "metadata": {},
     "output_type": "display_data"
    }
   ],
   "source": [
    "length(tweets)"
   ]
  },
  {
   "cell_type": "code",
   "execution_count": 8,
   "metadata": {
    "collapsed": true
   },
   "outputs": [],
   "source": [
    "crantastic <- getUser('crantastic')"
   ]
  },
  {
   "cell_type": "code",
   "execution_count": 9,
   "metadata": {
    "collapsed": false
   },
   "outputs": [
    {
     "data": {
      "text/html": [
       "'I like some things, and I dislike everything else.'"
      ],
      "text/latex": [
       "'I like some things, and I dislike everything else.'"
      ],
      "text/markdown": [
       "'I like some things, and I dislike everything else.'"
      ],
      "text/plain": [
       "[1] \"I like some things, and I dislike everything else.\""
      ]
     },
     "metadata": {},
     "output_type": "display_data"
    }
   ],
   "source": [
    "crantastic$getDescription()"
   ]
  },
  {
   "cell_type": "code",
   "execution_count": 10,
   "metadata": {
    "collapsed": false
   },
   "outputs": [
    {
     "data": {
      "text/plain": [
       "$`35985504`\n",
       "[1] \"MisElizaJane\"\n",
       "\n",
       "$`90472293`\n",
       "[1] \"emtothea\"\n",
       "\n",
       "$`30987732`\n",
       "[1] \"MelanieScrofano\"\n",
       "\n",
       "$`4709232802`\n",
       "[1] \"WynonnaEarp\"\n"
      ]
     },
     "metadata": {},
     "output_type": "display_data"
    }
   ],
   "source": [
    "crantastic$getFriends(n=5)"
   ]
  },
  {
   "cell_type": "code",
   "execution_count": 11,
   "metadata": {
    "collapsed": false
   },
   "outputs": [
    {
     "data": {
      "text/plain": [
       "[[1]]\n",
       "[1] \"erictcarrasco: That \\\"Black lung\\\" line was a @Chy_Leigh joke. Loved it so much we made her keep saying it. #Supergirl #SupergirlLives #Sanvers\"\n",
       "\n",
       "[[2]]\n",
       "[1] \"MelanieScrofano: I shall be INSUFFERABLE when the @WynonnaEarp comic I'm co-writing with @BeauSmithRanch comes out. \\\"The Earp Sister",
       " https://t.co/h0Q6XrE1dV\"\n",
       "\n",
       "[[3]]\n",
       "[1] \"katevoegele: just casually throwing my white gold hoops in the ring to play #GretchenWieners in this https://t.co/0l9FSGjTuD\"\n",
       "\n",
       "[[4]]\n",
       "[1] \"boglesthemind: Here we go, QSO - female writer, female director, female producer, female editor, female lead, female first ad #PersonOfInterest #toofemale\"\n",
       "\n",
       "[[5]]\n",
       "[1] \"ohnikkers: @keithkurson naw they did two shows in london and i went to both.  i made hannah fall in love with the scottish accent tho so NEXT TIME\"\n"
      ]
     },
     "metadata": {},
     "output_type": "display_data"
    }
   ],
   "source": [
    "crantastic$getFavorites(n=5)"
   ]
  },
  {
   "cell_type": "code",
   "execution_count": 12,
   "metadata": {
    "collapsed": true
   },
   "outputs": [],
   "source": [
    "df <- twListToDF(tweets)"
   ]
  },
  {
   "cell_type": "code",
   "execution_count": 13,
   "metadata": {
    "collapsed": false
   },
   "outputs": [
    {
     "data": {
      "text/html": [
       "<table>\n",
       "<thead><tr><th scope=col>text</th><th scope=col>favorited</th><th scope=col>favoriteCount</th><th scope=col>replyToSN</th><th scope=col>created</th><th scope=col>truncated</th><th scope=col>replyToSID</th><th scope=col>id</th><th scope=col>replyToUID</th><th scope=col>statusSource</th><th scope=col>screenName</th><th scope=col>retweetCount</th><th scope=col>isRetweet</th><th scope=col>retweeted</th><th scope=col>longitude</th><th scope=col>latitude</th></tr></thead>\n",
       "<tbody>\n",
       "\t<tr><td><span style=white-space:pre-wrap>#SuicideSquad is one of three #Makeup and #Hairstyling nominees for this year's #Oscars2017 https://t.co/8TnIHlLUbS                             </span></td><td>FALSE                                                                                                                                                                                   </td><td>0                                                                                                                                                                                       </td><td>NA                                                                                                                                                                                      </td><td>2017-02-14 22:35:04                                                                                                                                                                     </td><td>FALSE                                                                                                                                                                                   </td><td>NA                                                                                                                                                                                      </td><td>831632882644942848                                                                                                                                                                      </td><td>NA                                                                                                                                                                                      </td><td><span style=white-space:pre-wrap>&lt;a href=\"http://www.hootsuite.com\" rel=\"nofollow\"&gt;Hootsuite&lt;/a&gt;                     </span>                                                </td><td><span style=white-space:pre-wrap>JodiBee        </span>                                                                                                                                 </td><td>0                                                                                                                                                                                       </td><td>FALSE                                                                                                                                                                                   </td><td>FALSE                                                                                                                                                                                   </td><td>NA                                                                                                                                                                                      </td><td>NA                                                                                                                                                                                      </td></tr>\n",
       "\t<tr><td><span style=white-space:pre-wrap>RT @LaChicaDel_TE: Estamos preparando un especial para los #Oscars2017 con 9 críticas que no os podéis perder... ATENTOS ! \n",
       "@cooltureo mola…   </span></td><td>FALSE                                                                                                                                                                                   </td><td>0                                                                                                                                                                                       </td><td>NA                                                                                                                                                                                      </td><td>2017-02-14 22:34:37                                                                                                                                                                     </td><td>FALSE                                                                                                                                                                                   </td><td>NA                                                                                                                                                                                      </td><td>831632765783257093                                                                                                                                                                      </td><td>NA                                                                                                                                                                                      </td><td><span style=white-space:pre-wrap>&lt;a href=\"http://twitter.com/#!/download/ipad\" rel=\"nofollow\"&gt;Twitter for iPad&lt;/a&gt;   </span>                                                </td><td><span style=white-space:pre-wrap>BelPaTa        </span>                                                                                                                                 </td><td>1                                                                                                                                                                                       </td><td> TRUE                                                                                                                                                                                   </td><td>FALSE                                                                                                                                                                                   </td><td>NA                                                                                                                                                                                      </td><td>NA                                                                                                                                                                                      </td></tr>\n",
       "\t<tr><td><span style=white-space:pre-wrap>RT @cooltureo: Siguiendo con nuestro repaso a los #Oscars2017 hablamos de #Lion otra de las grandes protagonistas de este año https://t.co/…    </span></td><td>FALSE                                                                                                                                                                                   </td><td>0                                                                                                                                                                                       </td><td>NA                                                                                                                                                                                      </td><td>2017-02-14 22:33:08                                                                                                                                                                     </td><td>FALSE                                                                                                                                                                                   </td><td>NA                                                                                                                                                                                      </td><td>831632392800567296                                                                                                                                                                      </td><td>NA                                                                                                                                                                                      </td><td><span style=white-space:pre-wrap>&lt;a href=\"http://twitter.com/#!/download/ipad\" rel=\"nofollow\"&gt;Twitter for iPad&lt;/a&gt;   </span>                                                </td><td><span style=white-space:pre-wrap>BelPaTa        </span>                                                                                                                                 </td><td>4                                                                                                                                                                                       </td><td> TRUE                                                                                                                                                                                   </td><td>FALSE                                                                                                                                                                                   </td><td>NA                                                                                                                                                                                      </td><td>NA                                                                                                                                                                                      </td></tr>\n",
       "\t<tr><td><span style=white-space:pre-wrap>RT @HoyPorHoy: ¿Quién actuará en la gala de los #Oscars2017? Nos lo cuentan @Eliocastro y @Murcielago60 \n",
       "https://t.co/sr559zV3wv               </span></td><td>FALSE                                                                                                                                                                                   </td><td>0                                                                                                                                                                                       </td><td>NA                                                                                                                                                                                      </td><td>2017-02-14 22:31:57                                                                                                                                                                     </td><td>FALSE                                                                                                                                                                                   </td><td>NA                                                                                                                                                                                      </td><td>831632095302807553                                                                                                                                                                      </td><td>NA                                                                                                                                                                                      </td><td>&lt;a href=\"http://twitter.com/download/android\" rel=\"nofollow\"&gt;Twitter for Android&lt;/a&gt;                                                                                        </td><td>SalteadorNeo_34                                                                                                                                                                         </td><td>2                                                                                                                                                                                       </td><td> TRUE                                                                                                                                                                                   </td><td>FALSE                                                                                                                                                                                   </td><td>NA                                                                                                                                                                                      </td><td>NA                                                                                                                                                                                      </td></tr>\n",
       "\t<tr><td>RT @womensmediacntr: #Oscars2017: In both writing categories, the number of female nominees dipped. Our analysis of #gender &amp;amp; Oscar noms: h…</td><td>FALSE                                                                                                                                               </td><td>0                                                                                                                                                   </td><td>NA                                                                                                                                                  </td><td>2017-02-14 22:30:53                                                                                                                                 </td><td>FALSE                                                                                                                                               </td><td>NA                                                                                                                                                  </td><td>831631828884795393                                                                                                                                  </td><td>NA                                                                                                                                                  </td><td><span style=white-space:pre-wrap>&lt;a href=\"http://twitter.com/download/iphone\" rel=\"nofollow\"&gt;Twitter for iPhone&lt;/a&gt;  </span>            </td><td><span style=white-space:pre-wrap>kristen_made   </span>                                                                                             </td><td>3                                                                                                                                                   </td><td> TRUE                                                                                                                                               </td><td>FALSE                                                                                                                                               </td><td>NA                                                                                                                                                  </td><td>NA                                                                                                                                                  </td></tr>\n",
       "\t<tr><td><span style=white-space:pre-wrap>Si tú decidieras… \n",
       "¿Quién ganaba? #Oscars #Oscars2017 #Cine https://t.co/2bwnDMqQA1                                                            </span></td><td>FALSE                                                                                                                                                                                   </td><td>0                                                                                                                                                                                       </td><td>NA                                                                                                                                                                                      </td><td>2017-02-14 22:30:01                                                                                                                                                                     </td><td>FALSE                                                                                                                                                                                   </td><td>NA                                                                                                                                                                                      </td><td>831631609971437572                                                                                                                                                                      </td><td>NA                                                                                                                                                                                      </td><td>&lt;a href=\"https://about.twitter.com/products/tweetdeck\" rel=\"nofollow\"&gt;TweetDeck&lt;/a&gt;                                                                                         </td><td><span style=white-space:pre-wrap>MakingMovieA   </span>                                                                                                                                 </td><td>0                                                                                                                                                                                       </td><td>FALSE                                                                                                                                                                                   </td><td>FALSE                                                                                                                                                                                   </td><td>NA                                                                                                                                                                                      </td><td>NA                                                                                                                                                                                      </td></tr>\n",
       "</tbody>\n",
       "</table>\n"
      ],
      "text/latex": [
       "\\begin{tabular}{r|llllllllllllllll}\n",
       " text & favorited & favoriteCount & replyToSN & created & truncated & replyToSID & id & replyToUID & statusSource & screenName & retweetCount & isRetweet & retweeted & longitude & latitude\\\\\n",
       "\\hline\n",
       "\t \\#SuicideSquad is one of three \\#Makeup and \\#Hairstyling nominees for this year's \\#Oscars2017 https://t.co/8TnIHlLUbS                              & FALSE                                                                                                                                                    & 0                                                                                                                                                        & NA                                                                                                                                                       & 2017-02-14 22:35:04                                                                                                                                      & FALSE                                                                                                                                                    & NA                                                                                                                                                       & 831632882644942848                                                                                                                                       & NA                                                                                                                                                       & <a href=\"http://www.hootsuite.com\" rel=\"nofollow\">Hootsuite</a>                                                                                          & JodiBee                                                                                                                                                  & 0                                                                                                                                                        & FALSE                                                                                                                                                    & FALSE                                                                                                                                                    & NA                                                                                                                                                       & NA                                                                                                                                                      \\\\\n",
       "\t RT @LaChicaDel\\_TE: Estamos preparando un especial para los \\#Oscars2017 con 9 críticas que no os podéis perder... ATENTOS ! \n",
       "@cooltureo mola…    & FALSE                                                                                                                                                & 0                                                                                                                                                    & NA                                                                                                                                                   & 2017-02-14 22:34:37                                                                                                                                  & FALSE                                                                                                                                                & NA                                                                                                                                                   & 831632765783257093                                                                                                                                   & NA                                                                                                                                                   & <a href=\"http://twitter.com/\\#!/download/ipad\" rel=\"nofollow\">Twitter for iPad</a>                                                                  & BelPaTa                                                                                                                                              & 1                                                                                                                                                    &  TRUE                                                                                                                                                & FALSE                                                                                                                                                & NA                                                                                                                                                   & NA                                                                                                                                                  \\\\\n",
       "\t RT @cooltureo: Siguiendo con nuestro repaso a los \\#Oscars2017 hablamos de \\#Lion otra de las grandes protagonistas de este año https://t.co/…     & FALSE                                                                                                                                                & 0                                                                                                                                                    & NA                                                                                                                                                   & 2017-02-14 22:33:08                                                                                                                                  & FALSE                                                                                                                                                & NA                                                                                                                                                   & 831632392800567296                                                                                                                                   & NA                                                                                                                                                   & <a href=\"http://twitter.com/\\#!/download/ipad\" rel=\"nofollow\">Twitter for iPad</a>                                                                  & BelPaTa                                                                                                                                              & 4                                                                                                                                                    &  TRUE                                                                                                                                                & FALSE                                                                                                                                                & NA                                                                                                                                                   & NA                                                                                                                                                  \\\\\n",
       "\t RT @HoyPorHoy: ¿Quién actuará en la gala de los \\#Oscars2017? Nos lo cuentan @Eliocastro y @Murcielago60 \n",
       "https://t.co/sr559zV3wv                & FALSE                                                                                                                                              & 0                                                                                                                                                  & NA                                                                                                                                                 & 2017-02-14 22:31:57                                                                                                                                & FALSE                                                                                                                                              & NA                                                                                                                                                 & 831632095302807553                                                                                                                                 & NA                                                                                                                                                 & <a href=\"http://twitter.com/download/android\" rel=\"nofollow\">Twitter for Android</a>                                                               & SalteadorNeo\\_34                                                                                                                                  & 2                                                                                                                                                  &  TRUE                                                                                                                                              & FALSE                                                                                                                                              & NA                                                                                                                                                 & NA                                                                                                                                                \\\\\n",
       "\t RT @womensmediacntr: \\#Oscars2017: In both writing categories, the number of female nominees dipped. Our analysis of \\#gender \\&amp; Oscar noms: h… & FALSE                                                                                                                                                  & 0                                                                                                                                                      & NA                                                                                                                                                     & 2017-02-14 22:30:53                                                                                                                                    & FALSE                                                                                                                                                  & NA                                                                                                                                                     & 831631828884795393                                                                                                                                     & NA                                                                                                                                                     & <a href=\"http://twitter.com/download/iphone\" rel=\"nofollow\">Twitter for iPhone</a>                                                                     & kristen\\_made                                                                                                                                         & 3                                                                                                                                                      &  TRUE                                                                                                                                                  & FALSE                                                                                                                                                  & NA                                                                                                                                                     & NA                                                                                                                                                    \\\\\n",
       "\t Si tú decidieras… \n",
       "¿Quién ganaba? \\#Oscars \\#Oscars2017 \\#Cine https://t.co/2bwnDMqQA1                                                             & FALSE                                                                                                                                                  & 0                                                                                                                                                      & NA                                                                                                                                                     & 2017-02-14 22:30:01                                                                                                                                    & FALSE                                                                                                                                                  & NA                                                                                                                                                     & 831631609971437572                                                                                                                                     & NA                                                                                                                                                     & <a href=\"https://about.twitter.com/products/tweetdeck\" rel=\"nofollow\">TweetDeck</a>                                                                    & MakingMovieA                                                                                                                                           & 0                                                                                                                                                      & FALSE                                                                                                                                                  & FALSE                                                                                                                                                  & NA                                                                                                                                                     & NA                                                                                                                                                    \\\\\n",
       "\\end{tabular}\n"
      ],
      "text/markdown": [
       "\n",
       "text | favorited | favoriteCount | replyToSN | created | truncated | replyToSID | id | replyToUID | statusSource | screenName | retweetCount | isRetweet | retweeted | longitude | latitude | \n",
       "|---|---|---|---|---|---|\n",
       "| #SuicideSquad is one of three #Makeup and #Hairstyling nominees for this year's #Oscars2017 https://t.co/8TnIHlLUbS                              | FALSE                                                                                                                                            | 0                                                                                                                                                | NA                                                                                                                                               | 2017-02-14 22:35:04                                                                                                                              | FALSE                                                                                                                                            | NA                                                                                                                                               | 831632882644942848                                                                                                                               | NA                                                                                                                                               | <a href=\"http://www.hootsuite.com\" rel=\"nofollow\">Hootsuite</a>                                                                                  | JodiBee                                                                                                                                          | 0                                                                                                                                                | FALSE                                                                                                                                            | FALSE                                                                                                                                            | NA                                                                                                                                               | NA                                                                                                                                               | \n",
       "| RT @LaChicaDel_TE: Estamos preparando un especial para los #Oscars2017 con 9 críticas que no os podéis perder... ATENTOS ! \n",
       "@cooltureo mola…    | FALSE                                                                                                                                            | 0                                                                                                                                                | NA                                                                                                                                               | 2017-02-14 22:34:37                                                                                                                              | FALSE                                                                                                                                            | NA                                                                                                                                               | 831632765783257093                                                                                                                               | NA                                                                                                                                               | <a href=\"http://twitter.com/#!/download/ipad\" rel=\"nofollow\">Twitter for iPad</a>                                                                | BelPaTa                                                                                                                                          | 1                                                                                                                                                |  TRUE                                                                                                                                            | FALSE                                                                                                                                            | NA                                                                                                                                               | NA                                                                                                                                               | \n",
       "| RT @cooltureo: Siguiendo con nuestro repaso a los #Oscars2017 hablamos de #Lion otra de las grandes protagonistas de este año https://t.co/…     | FALSE                                                                                                                                            | 0                                                                                                                                                | NA                                                                                                                                               | 2017-02-14 22:33:08                                                                                                                              | FALSE                                                                                                                                            | NA                                                                                                                                               | 831632392800567296                                                                                                                               | NA                                                                                                                                               | <a href=\"http://twitter.com/#!/download/ipad\" rel=\"nofollow\">Twitter for iPad</a>                                                                | BelPaTa                                                                                                                                          | 4                                                                                                                                                |  TRUE                                                                                                                                            | FALSE                                                                                                                                            | NA                                                                                                                                               | NA                                                                                                                                               | \n",
       "| RT @HoyPorHoy: ¿Quién actuará en la gala de los #Oscars2017? Nos lo cuentan @Eliocastro y @Murcielago60 \n",
       "https://t.co/sr559zV3wv                | FALSE                                                                                                                                            | 0                                                                                                                                                | NA                                                                                                                                               | 2017-02-14 22:31:57                                                                                                                              | FALSE                                                                                                                                            | NA                                                                                                                                               | 831632095302807553                                                                                                                               | NA                                                                                                                                               | <a href=\"http://twitter.com/download/android\" rel=\"nofollow\">Twitter for Android</a>                                                             | SalteadorNeo_34                                                                                                                                  | 2                                                                                                                                                |  TRUE                                                                                                                                            | FALSE                                                                                                                                            | NA                                                                                                                                               | NA                                                                                                                                               | \n",
       "| RT @womensmediacntr: #Oscars2017: In both writing categories, the number of female nominees dipped. Our analysis of #gender &amp; Oscar noms: h… | FALSE                                                                                                                                            | 0                                                                                                                                                | NA                                                                                                                                               | 2017-02-14 22:30:53                                                                                                                              | FALSE                                                                                                                                            | NA                                                                                                                                               | 831631828884795393                                                                                                                               | NA                                                                                                                                               | <a href=\"http://twitter.com/download/iphone\" rel=\"nofollow\">Twitter for iPhone</a>                                                               | kristen_made                                                                                                                                     | 3                                                                                                                                                |  TRUE                                                                                                                                            | FALSE                                                                                                                                            | NA                                                                                                                                               | NA                                                                                                                                               | \n",
       "| Si tú decidieras… \n",
       "¿Quién ganaba? #Oscars #Oscars2017 #Cine https://t.co/2bwnDMqQA1                                                             | FALSE                                                                                                                                            | 0                                                                                                                                                | NA                                                                                                                                               | 2017-02-14 22:30:01                                                                                                                              | FALSE                                                                                                                                            | NA                                                                                                                                               | 831631609971437572                                                                                                                               | NA                                                                                                                                               | <a href=\"https://about.twitter.com/products/tweetdeck\" rel=\"nofollow\">TweetDeck</a>                                                              | MakingMovieA                                                                                                                                     | 0                                                                                                                                                | FALSE                                                                                                                                            | FALSE                                                                                                                                            | NA                                                                                                                                               | NA                                                                                                                                               | \n",
       "\n",
       "\n"
      ],
      "text/plain": [
       "  text                                                                                                                                            \n",
       "1 #SuicideSquad is one of three #Makeup and #Hairstyling nominees for this year's #Oscars2017 https://t.co/8TnIHlLUbS                             \n",
       "2 RT @LaChicaDel_TE: Estamos preparando un especial para los #Oscars2017 con 9 críticas que no os podéis perder... ATENTOS ! \\n@cooltureo mola",
       "   \n",
       "3 RT @cooltureo: Siguiendo con nuestro repaso a los #Oscars2017 hablamos de #Lion otra de las grandes protagonistas de este año https://t.co/",
       "    \n",
       "4 RT @HoyPorHoy: ¿Quién actuará en la gala de los #Oscars2017? Nos lo cuentan @Eliocastro y @Murcielago60 \\nhttps://t.co/sr559zV3wv               \n",
       "5 RT @womensmediacntr: #Oscars2017: In both writing categories, the number of female nominees dipped. Our analysis of #gender &amp; Oscar noms: h",
       "\n",
       "6 Si tú decidieras",
       " \\n¿Quién ganaba? #Oscars #Oscars2017 #Cine https://t.co/2bwnDMqQA1                                                            \n",
       "  favorited favoriteCount replyToSN created             truncated replyToSID\n",
       "1 FALSE     0             NA        2017-02-14 22:35:04 FALSE     NA        \n",
       "2 FALSE     0             NA        2017-02-14 22:34:37 FALSE     NA        \n",
       "3 FALSE     0             NA        2017-02-14 22:33:08 FALSE     NA        \n",
       "4 FALSE     0             NA        2017-02-14 22:31:57 FALSE     NA        \n",
       "5 FALSE     0             NA        2017-02-14 22:30:53 FALSE     NA        \n",
       "6 FALSE     0             NA        2017-02-14 22:30:01 FALSE     NA        \n",
       "  id                 replyToUID\n",
       "1 831632882644942848 NA        \n",
       "2 831632765783257093 NA        \n",
       "3 831632392800567296 NA        \n",
       "4 831632095302807553 NA        \n",
       "5 831631828884795393 NA        \n",
       "6 831631609971437572 NA        \n",
       "  statusSource                                                                        \n",
       "1 <a href=\"http://www.hootsuite.com\" rel=\"nofollow\">Hootsuite</a>                     \n",
       "2 <a href=\"http://twitter.com/#!/download/ipad\" rel=\"nofollow\">Twitter for iPad</a>   \n",
       "3 <a href=\"http://twitter.com/#!/download/ipad\" rel=\"nofollow\">Twitter for iPad</a>   \n",
       "4 <a href=\"http://twitter.com/download/android\" rel=\"nofollow\">Twitter for Android</a>\n",
       "5 <a href=\"http://twitter.com/download/iphone\" rel=\"nofollow\">Twitter for iPhone</a>  \n",
       "6 <a href=\"https://about.twitter.com/products/tweetdeck\" rel=\"nofollow\">TweetDeck</a> \n",
       "  screenName      retweetCount isRetweet retweeted longitude latitude\n",
       "1 JodiBee         0            FALSE     FALSE     NA        NA      \n",
       "2 BelPaTa         1             TRUE     FALSE     NA        NA      \n",
       "3 BelPaTa         4             TRUE     FALSE     NA        NA      \n",
       "4 SalteadorNeo_34 2             TRUE     FALSE     NA        NA      \n",
       "5 kristen_made    3             TRUE     FALSE     NA        NA      \n",
       "6 MakingMovieA    0            FALSE     FALSE     NA        NA      "
      ]
     },
     "metadata": {},
     "output_type": "display_data"
    }
   ],
   "source": [
    "head(df)"
   ]
  },
  {
   "cell_type": "code",
   "execution_count": 14,
   "metadata": {
    "collapsed": true
   },
   "outputs": [],
   "source": [
    "sql_lite_file = tempfile()"
   ]
  },
  {
   "cell_type": "code",
   "execution_count": 15,
   "metadata": {
    "collapsed": false
   },
   "outputs": [
    {
     "name": "stderr",
     "output_type": "stream",
     "text": [
      "Loading required namespace: RSQLite\n"
     ]
    },
    {
     "ename": "ERROR",
     "evalue": "Error in register_sqlite_backend(sql_lite_file): RSQLite package must be installed to generate an SQLite handle\n",
     "output_type": "error",
     "traceback": [
      "Error in register_sqlite_backend(sql_lite_file): RSQLite package must be installed to generate an SQLite handle\nTraceback:\n",
      "1. register_sqlite_backend(sql_lite_file)",
      "2. stop(\"RSQLite package must be installed to generate an SQLite handle\")"
     ]
    }
   ],
   "source": [
    "register_sqlite_backend(sql_lite_file)"
   ]
  },
  {
   "cell_type": "code",
   "execution_count": 16,
   "metadata": {
    "collapsed": false
   },
   "outputs": [
    {
     "name": "stderr",
     "output_type": "stream",
     "text": [
      "also installing the dependencies 'memoise', 'plogr'\n",
      "\n"
     ]
    },
    {
     "name": "stdout",
     "output_type": "stream",
     "text": [
      "package 'memoise' successfully unpacked and MD5 sums checked\n",
      "package 'plogr' successfully unpacked and MD5 sums checked\n",
      "package 'RSQLite' successfully unpacked and MD5 sums checked\n",
      "\n",
      "The downloaded binary packages are in\n",
      "\tC:\\Users\\nitik\\AppData\\Local\\Temp\\RtmpGAH4Q1\\downloaded_packages\n"
     ]
    }
   ],
   "source": [
    "install.packages(\"RSQLite\", repos=\"http://cran.us.r-project.org/\")"
   ]
  },
  {
   "cell_type": "code",
   "execution_count": 17,
   "metadata": {
    "collapsed": false
   },
   "outputs": [
    {
     "name": "stderr",
     "output_type": "stream",
     "text": [
      "Loading required namespace: RSQLite\n"
     ]
    }
   ],
   "source": [
    "register_sqlite_backend(sql_lite_file)"
   ]
  },
  {
   "cell_type": "code",
   "execution_count": 18,
   "metadata": {
    "collapsed": false
   },
   "outputs": [
    {
     "data": {
      "text/html": [
       "TRUE"
      ],
      "text/latex": [
       "TRUE"
      ],
      "text/markdown": [
       "TRUE"
      ],
      "text/plain": [
       "[1] TRUE"
      ]
     },
     "metadata": {},
     "output_type": "display_data"
    }
   ],
   "source": [
    "store_tweets_db(tweets)"
   ]
  },
  {
   "cell_type": "code",
   "execution_count": 19,
   "metadata": {
    "collapsed": true
   },
   "outputs": [],
   "source": [
    "from_db = load_tweets_db()"
   ]
  },
  {
   "cell_type": "code",
   "execution_count": 20,
   "metadata": {
    "collapsed": false
   },
   "outputs": [
    {
     "data": {
      "text/plain": [
       "[[1]]\n",
       "[1] \"JodiBee: #SuicideSquad is one of three #Makeup and #Hairstyling nominees for this year's #Oscars2017 https://t.co/8TnIHlLUbS\"\n",
       "\n",
       "[[2]]\n",
       "[1] \"BelPaTa: RT @LaChicaDel_TE: Estamos preparando un especial para los #Oscars2017 con 9 críticas que no os podéis perder... ATENTOS ! \\n@cooltureo mola",
       "\"\n",
       "\n",
       "[[3]]\n",
       "[1] \"BelPaTa: RT @cooltureo: Siguiendo con nuestro repaso a los #Oscars2017 hablamos de #Lion otra de las grandes protagonistas de este año https://t.co/",
       "\"\n",
       "\n",
       "[[4]]\n",
       "[1] \"SalteadorNeo_34: RT @HoyPorHoy: ¿Quién actuará en la gala de los #Oscars2017? Nos lo cuentan @Eliocastro y @Murcielago60 \\nhttps://t.co/sr559zV3wv\"\n",
       "\n",
       "[[5]]\n",
       "[1] \"kristen_made: RT @womensmediacntr: #Oscars2017: In both writing categories, the number of female nominees dipped. Our analysis of #gender &amp; Oscar noms: h",
       "\"\n",
       "\n",
       "[[6]]\n",
       "[1] \"MakingMovieA: Si tú decidieras",
       " \\n¿Quién ganaba? #Oscars #Oscars2017 #Cine https://t.co/2bwnDMqQA1\"\n"
      ]
     },
     "metadata": {},
     "output_type": "display_data"
    }
   ],
   "source": [
    "head(from_db)"
   ]
  },
  {
   "cell_type": "code",
   "execution_count": 21,
   "metadata": {
    "collapsed": true
   },
   "outputs": [],
   "source": [
    "cran_tweets <- userTimeline('cranatic')"
   ]
  },
  {
   "cell_type": "code",
   "execution_count": 22,
   "metadata": {
    "collapsed": false
   },
   "outputs": [
    {
     "data": {
      "text/plain": [
       "[[1]]\n",
       "[1] \"cranatic: Update: Bchron, BoolNet, caribou, CePa, fmri, HTSCluster, isa2, lessR, lgcp, spatstat. http://t.co/skyrajMA #rstats\"\n",
       "\n",
       "[[2]]\n",
       "[1] \"cranatic: New: extrafont, extrafontdb, Rttf2pt1, x12GUI. http://t.co/skyrajMA #rstats\"\n",
       "\n",
       "[[3]]\n",
       "[1] \"cranatic: Update: drc, RcmdrPlugin.survival, rrcov, spls. http://t.co/eEoXNifB #rstats\"\n",
       "\n",
       "[[4]]\n",
       "[1] \"cranatic: New: hzar. http://t.co/eEoXNifB #rstats\"\n",
       "\n",
       "[[5]]\n",
       "[1] \"cranatic: Update: directlabels, forensim, gdata, gWidgetstcltk, gWidgetsWWW, harvestr, rrlda, Rz, Sim.DiffProc, ... http://t.co/9JEe7K91 #rstats\"\n"
      ]
     },
     "metadata": {},
     "output_type": "display_data"
    }
   ],
   "source": [
    "cran_tweets[1:5]"
   ]
  },
  {
   "cell_type": "code",
   "execution_count": 23,
   "metadata": {
    "collapsed": true
   },
   "outputs": [],
   "source": [
    "cran_tweets_large <- userTimeline('cranatic', n=100)"
   ]
  },
  {
   "cell_type": "code",
   "execution_count": 24,
   "metadata": {
    "collapsed": false
   },
   "outputs": [
    {
     "data": {
      "text/html": [
       "100"
      ],
      "text/latex": [
       "100"
      ],
      "text/markdown": [
       "100"
      ],
      "text/plain": [
       "[1] 100"
      ]
     },
     "metadata": {},
     "output_type": "display_data"
    }
   ],
   "source": [
    "length(cran_tweets_large)"
   ]
  },
  {
   "cell_type": "code",
   "execution_count": 25,
   "metadata": {
    "collapsed": true
   },
   "outputs": [],
   "source": [
    "avail_trends = availableTrendLocations()"
   ]
  },
  {
   "cell_type": "code",
   "execution_count": 26,
   "metadata": {
    "collapsed": false
   },
   "outputs": [
    {
     "data": {
      "text/html": [
       "<table>\n",
       "<thead><tr><th scope=col>name</th><th scope=col>country</th><th scope=col>woeid</th></tr></thead>\n",
       "<tbody>\n",
       "\t<tr><td>Worldwide</td><td>         </td><td>1        </td></tr>\n",
       "\t<tr><td>Winnipeg </td><td>Canada   </td><td>2972     </td></tr>\n",
       "\t<tr><td>Ottawa   </td><td>Canada   </td><td>3369     </td></tr>\n",
       "\t<tr><td>Quebec   </td><td>Canada   </td><td>3444     </td></tr>\n",
       "\t<tr><td>Montreal </td><td>Canada   </td><td>3534     </td></tr>\n",
       "\t<tr><td>Toronto  </td><td>Canada   </td><td>4118     </td></tr>\n",
       "</tbody>\n",
       "</table>\n"
      ],
      "text/latex": [
       "\\begin{tabular}{r|lll}\n",
       " name & country & woeid\\\\\n",
       "\\hline\n",
       "\t Worldwide &           & 1        \\\\\n",
       "\t Winnipeg  & Canada    & 2972     \\\\\n",
       "\t Ottawa    & Canada    & 3369     \\\\\n",
       "\t Quebec    & Canada    & 3444     \\\\\n",
       "\t Montreal  & Canada    & 3534     \\\\\n",
       "\t Toronto   & Canada    & 4118     \\\\\n",
       "\\end{tabular}\n"
      ],
      "text/markdown": [
       "\n",
       "name | country | woeid | \n",
       "|---|---|---|---|---|---|\n",
       "| Worldwide |           | 1         | \n",
       "| Winnipeg  | Canada    | 2972      | \n",
       "| Ottawa    | Canada    | 3369      | \n",
       "| Quebec    | Canada    | 3444      | \n",
       "| Montreal  | Canada    | 3534      | \n",
       "| Toronto   | Canada    | 4118      | \n",
       "\n",
       "\n"
      ],
      "text/plain": [
       "  name      country woeid\n",
       "1 Worldwide         1    \n",
       "2 Winnipeg  Canada  2972 \n",
       "3 Ottawa    Canada  3369 \n",
       "4 Quebec    Canada  3444 \n",
       "5 Montreal  Canada  3534 \n",
       "6 Toronto   Canada  4118 "
      ]
     },
     "metadata": {},
     "output_type": "display_data"
    }
   ],
   "source": [
    "head(avail_trends)"
   ]
  },
  {
   "cell_type": "code",
   "execution_count": 27,
   "metadata": {
    "collapsed": true
   },
   "outputs": [],
   "source": [
    "close_trends = closestTrendLocations(-42.8, -71.1)"
   ]
  },
  {
   "cell_type": "code",
   "execution_count": 28,
   "metadata": {
    "collapsed": false
   },
   "outputs": [
    {
     "data": {
      "text/html": [
       "<table>\n",
       "<thead><tr><th scope=col>name</th><th scope=col>country</th><th scope=col>woeid</th></tr></thead>\n",
       "<tbody>\n",
       "\t<tr><td>Concepcion</td><td>Chile     </td><td>349860    </td></tr>\n",
       "</tbody>\n",
       "</table>\n"
      ],
      "text/latex": [
       "\\begin{tabular}{r|lll}\n",
       " name & country & woeid\\\\\n",
       "\\hline\n",
       "\t Concepcion & Chile      & 349860    \\\\\n",
       "\\end{tabular}\n"
      ],
      "text/markdown": [
       "\n",
       "name | country | woeid | \n",
       "|---|\n",
       "| Concepcion | Chile      | 349860     | \n",
       "\n",
       "\n"
      ],
      "text/plain": [
       "  name       country woeid \n",
       "1 Concepcion Chile   349860"
      ]
     },
     "metadata": {},
     "output_type": "display_data"
    }
   ],
   "source": [
    "head(close_trends)"
   ]
  },
  {
   "cell_type": "code",
   "execution_count": 29,
   "metadata": {
    "collapsed": true
   },
   "outputs": [],
   "source": [
    "trends = getTrends(2367105)"
   ]
  },
  {
   "cell_type": "code",
   "execution_count": 30,
   "metadata": {
    "collapsed": false
   },
   "outputs": [
    {
     "data": {
      "text/html": [
       "<table>\n",
       "<thead><tr><th scope=col>name</th><th scope=col>url</th><th scope=col>query</th><th scope=col>woeid</th></tr></thead>\n",
       "<tbody>\n",
       "\t<tr><td>Claude Julien                                   </td><td>http://twitter.com/search?q=%22Claude+Julien%22 </td><td>%22Claude+Julien%22                             </td><td>2367105                                         </td></tr>\n",
       "\t<tr><td>#valentinesday2017                              </td><td>http://twitter.com/search?q=%23valentinesday2017</td><td>%23valentinesday2017                            </td><td>2367105                                         </td></tr>\n",
       "\t<tr><td>Flynn                                           </td><td>http://twitter.com/search?q=Flynn               </td><td>Flynn                                           </td><td>2367105                                         </td></tr>\n",
       "\t<tr><td>#Beanpot                                        </td><td>http://twitter.com/search?q=%23Beanpot          </td><td>%23Beanpot                                      </td><td>2367105                                         </td></tr>\n",
       "\t<tr><td>Chris Sale                                      </td><td>http://twitter.com/search?q=%22Chris+Sale%22    </td><td>%22Chris+Sale%22                                </td><td>2367105                                         </td></tr>\n",
       "\t<tr><td>#WeMetOnTwitter                                 </td><td>http://twitter.com/search?q=%23WeMetOnTwitter   </td><td>%23WeMetOnTwitter                               </td><td>2367105                                         </td></tr>\n",
       "</tbody>\n",
       "</table>\n"
      ],
      "text/latex": [
       "\\begin{tabular}{r|llll}\n",
       " name & url & query & woeid\\\\\n",
       "\\hline\n",
       "\t Claude Julien                                        & http://twitter.com/search?q=\\%22Claude+Julien\\%22  & \\%22Claude+Julien\\%22                              & 2367105                                             \\\\\n",
       "\t \\#valentinesday2017                               & http://twitter.com/search?q=\\%23valentinesday2017 & \\%23valentinesday2017                             & 2367105                                           \\\\\n",
       "\t Flynn                                            & http://twitter.com/search?q=Flynn                & Flynn                                            & 2367105                                         \\\\\n",
       "\t \\#Beanpot                                         & http://twitter.com/search?q=\\%23Beanpot           & \\%23Beanpot                                       & 2367105                                           \\\\\n",
       "\t Chris Sale                                           & http://twitter.com/search?q=\\%22Chris+Sale\\%22     & \\%22Chris+Sale\\%22                                 & 2367105                                             \\\\\n",
       "\t \\#WeMetOnTwitter                                  & http://twitter.com/search?q=\\%23WeMetOnTwitter    & \\%23WeMetOnTwitter                                & 2367105                                           \\\\\n",
       "\\end{tabular}\n"
      ],
      "text/markdown": [
       "\n",
       "name | url | query | woeid | \n",
       "|---|---|---|---|---|---|\n",
       "| Claude Julien                                    | http://twitter.com/search?q=%22Claude+Julien%22  | %22Claude+Julien%22                              | 2367105                                          | \n",
       "| #valentinesday2017                               | http://twitter.com/search?q=%23valentinesday2017 | %23valentinesday2017                             | 2367105                                          | \n",
       "| Flynn                                            | http://twitter.com/search?q=Flynn                | Flynn                                            | 2367105                                          | \n",
       "| #Beanpot                                         | http://twitter.com/search?q=%23Beanpot           | %23Beanpot                                       | 2367105                                          | \n",
       "| Chris Sale                                       | http://twitter.com/search?q=%22Chris+Sale%22     | %22Chris+Sale%22                                 | 2367105                                          | \n",
       "| #WeMetOnTwitter                                  | http://twitter.com/search?q=%23WeMetOnTwitter    | %23WeMetOnTwitter                                | 2367105                                          | \n",
       "\n",
       "\n"
      ],
      "text/plain": [
       "  name               url                                             \n",
       "1 Claude Julien      http://twitter.com/search?q=%22Claude+Julien%22 \n",
       "2 #valentinesday2017 http://twitter.com/search?q=%23valentinesday2017\n",
       "3 Flynn              http://twitter.com/search?q=Flynn               \n",
       "4 #Beanpot           http://twitter.com/search?q=%23Beanpot          \n",
       "5 Chris Sale         http://twitter.com/search?q=%22Chris+Sale%22    \n",
       "6 #WeMetOnTwitter    http://twitter.com/search?q=%23WeMetOnTwitter   \n",
       "  query                woeid  \n",
       "1 %22Claude+Julien%22  2367105\n",
       "2 %23valentinesday2017 2367105\n",
       "3 Flynn                2367105\n",
       "4 %23Beanpot           2367105\n",
       "5 %22Chris+Sale%22     2367105\n",
       "6 %23WeMetOnTwitter    2367105"
      ]
     },
     "metadata": {},
     "output_type": "display_data"
    }
   ],
   "source": [
    "head(trends)"
   ]
  },
  {
   "cell_type": "code",
   "execution_count": 31,
   "metadata": {
    "collapsed": true
   },
   "outputs": [],
   "source": [
    "r_tweets <- searchTwitter(\"#rstats\", n=300)"
   ]
  },
  {
   "cell_type": "code",
   "execution_count": 32,
   "metadata": {
    "collapsed": false
   },
   "outputs": [
    {
     "data": {
      "text/html": [
       "300"
      ],
      "text/latex": [
       "300"
      ],
      "text/markdown": [
       "300"
      ],
      "text/plain": [
       "[1] 300"
      ]
     },
     "metadata": {},
     "output_type": "display_data"
    }
   ],
   "source": [
    "length(r_tweets)"
   ]
  },
  {
   "cell_type": "code",
   "execution_count": 33,
   "metadata": {
    "collapsed": true
   },
   "outputs": [],
   "source": [
    "sources <- sapply(r_tweets, function(x) x$getStatusSource())"
   ]
  },
  {
   "cell_type": "code",
   "execution_count": 34,
   "metadata": {
    "collapsed": true
   },
   "outputs": [],
   "source": [
    "sources <- gsub(\"</a>\", \"\", sources)"
   ]
  },
  {
   "cell_type": "code",
   "execution_count": 35,
   "metadata": {
    "collapsed": true
   },
   "outputs": [],
   "source": [
    "sources <- strsplit(sources, \">\")"
   ]
  },
  {
   "cell_type": "code",
   "execution_count": 36,
   "metadata": {
    "collapsed": true
   },
   "outputs": [],
   "source": [
    "sources <- sapply(sources, function(x) ifelse(length(x) > 1, x[2], x[1]))"
   ]
  },
  {
   "cell_type": "code",
   "execution_count": 37,
   "metadata": {
    "collapsed": true
   },
   "outputs": [],
   "source": [
    "source_table = table(sources)"
   ]
  },
  {
   "cell_type": "code",
   "execution_count": 38,
   "metadata": {
    "collapsed": false
   },
   "outputs": [
    {
     "data": {
      "image/png": "[encoded data removed]",
      "text/plain": [
       "plot without title"
      ]
     },
     "metadata": {},
     "output_type": "display_data"
    }
   ],
   "source": [
    "pie(source_table[source_table > 10])"
   ]
  }
 ],
 "metadata": {
  "kernelspec": {
   "display_name": "R",
   "language": "R",
   "name": "ir"
  },
  "language_info": {
   "codemirror_mode": "r",
   "file_extension": ".r",
   "mimetype": "text/x-r-source",
   "name": "R",
   "pygments_lexer": "r",
   "version": "3.3.2"
  }
 },
 "nbformat": 4,
 "nbformat_minor": 2
}
