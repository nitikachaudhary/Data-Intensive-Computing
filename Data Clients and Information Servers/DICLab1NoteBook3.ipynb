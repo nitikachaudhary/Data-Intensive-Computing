{
 "cells": [
  {
   "cell_type": "code",
   "execution_count": 4,
   "metadata": {
    "collapsed": false
   },
   "outputs": [
    {
     "name": "stdout",
     "output_type": "stream",
     "text": [
      "[1] \"Using direct authentication\"\n"
     ]
    },
    {
     "name": "stderr",
     "output_type": "stream",
     "text": [
      "Information from URL : http://maps.googleapis.com/maps/api/geocode/json?address=New%20York&sensor=false\n"
     ]
    },
    {
     "name": "stdout",
     "output_type": "stream",
     "text": [
      "The top ten trending topics are: "
     ]
    },
    {
     "data": {
      "text/html": [
       "<ol class=list-inline>\n",
       "\t<li>'Kylie Lip Kits , '</li>\n",
       "\t<li>'#SJUBase , '</li>\n",
       "\t<li>'#drummer , '</li>\n",
       "\t<li>'#RoarWithPride , '</li>\n",
       "\t<li>'#BORO , '</li>\n",
       "\t<li>'Prod , '</li>\n",
       "\t<li>'Spring , '</li>\n",
       "\t<li>'#TrumpRally , '</li>\n",
       "\t<li>'Briscoe , '</li>\n",
       "\t<li>'Adam Silver , '</li>\n",
       "</ol>\n"
      ],
      "text/latex": [
       "\\begin{enumerate*}\n",
       "\\item 'Kylie Lip Kits , '\n",
       "\\item '\\#SJUBase , '\n",
       "\\item '\\#drummer , '\n",
       "\\item '\\#RoarWithPride , '\n",
       "\\item '\\#BORO , '\n",
       "\\item 'Prod , '\n",
       "\\item 'Spring , '\n",
       "\\item '\\#TrumpRally , '\n",
       "\\item 'Briscoe , '\n",
       "\\item 'Adam Silver , '\n",
       "\\end{enumerate*}\n"
      ],
      "text/markdown": [
       "1. 'Kylie Lip Kits , '\n",
       "2. '#SJUBase , '\n",
       "3. '#drummer , '\n",
       "4. '#RoarWithPride , '\n",
       "5. '#BORO , '\n",
       "6. 'Prod , '\n",
       "7. 'Spring , '\n",
       "8. '#TrumpRally , '\n",
       "9. 'Briscoe , '\n",
       "10. 'Adam Silver , '\n",
       "\n",
       "\n"
      ],
      "text/plain": [
       " [1] \"Kylie Lip Kits , \" \"#SJUBase , \"       \"#drummer , \"      \n",
       " [4] \"#RoarWithPride , \" \"#BORO , \"          \"Prod , \"          \n",
       " [7] \"Spring , \"         \"#TrumpRally , \"    \"Briscoe , \"       \n",
       "[10] \"Adam Silver , \"   "
      ]
     },
     "metadata": {},
     "output_type": "display_data"
    }
   ],
   "source": [
    "library(twitteR)\n",
    "library(ggmap)\n",
    "setup_twitter_oauth(\"***\", \"***\", \"***\", \"***\")\n",
    "location <- \"New York\"\n",
    "if(is.character(location)){\n",
    "  location <- geocode(location)  \n",
    "}\n",
    "closestLocations <- closestTrendLocations(location$lat,location$lon)\n",
    "trends <- getTrends(closestLocations$woeid, exclude=NULL)[1:10,]\n",
    "cat(\"The top ten trending topics are: \")\n",
    "paste(trends$name, collapase=\", \")"
   ]
  },
  {
   "cell_type": "code",
   "execution_count": 1,
   "metadata": {
    "collapsed": true
   },
   "outputs": [],
   "source": [
    "library(twitteR)"
   ]
  },
  {
   "cell_type": "code",
   "execution_count": 6,
   "metadata": {
    "collapsed": false
   },
   "outputs": [
    {
     "name": "stderr",
     "output_type": "stream",
     "text": [
      "Loading required package: ggplot2\n"
     ]
    }
   ],
   "source": [
    "library(ggmap)"
   ]
  },
  {
   "cell_type": "code",
   "execution_count": 10,
   "metadata": {
    "collapsed": false
   },
   "outputs": [
    {
     "name": "stdout",
     "output_type": "stream",
     "text": [
      "[1] \"Using direct authentication\"\n"
     ]
    }
   ],
   "source": [
    "setup_twitter_oauth(\"***\", \"***\", \"***\", \"***\")"
   ]
  },
  {
   "cell_type": "code",
   "execution_count": null,
   "metadata": {
    "collapsed": true
   },
   "outputs": [],
   "source": [
    "location <- \"\"\n",
    "if(is.character(location)){\n",
    "  location <- geocode(location)  \n",
    "}\n",
    "geocode <- geocode(location)\n",
    "closestLocations <- closestTrendLocations(geocode$lon,geocode$lat)\n",
    "getTrends(closestLocations$woeid, exclude=NULL)"
   ]
  },
  {
   "cell_type": "markdown",
   "metadata": {},
   "source": [
    "if the variable is name of any location retrieving its coordinates"
   ]
  },
  {
   "cell_type": "code",
   "execution_count": 7,
   "metadata": {
    "collapsed": false
   },
   "outputs": [
    {
     "name": "stderr",
     "output_type": "stream",
     "text": [
      "Information from URL : http://maps.googleapis.com/maps/api/geocode/json?address=Buffalo&sensor=false\n"
     ]
    }
   ],
   "source": [
    "geocode <- geocode(\"Buffalo\")"
   ]
  },
  {
   "cell_type": "code",
   "execution_count": 8,
   "metadata": {
    "collapsed": false
   },
   "outputs": [
    {
     "data": {
      "text/html": [
       "<table>\n",
       "<thead><tr><th scope=col>lon</th><th scope=col>lat</th></tr></thead>\n",
       "<tbody>\n",
       "\t<tr><td>-78.87837</td><td>42.88645 </td></tr>\n",
       "</tbody>\n",
       "</table>\n"
      ],
      "text/latex": [
       "\\begin{tabular}{r|ll}\n",
       " lon & lat\\\\\n",
       "\\hline\n",
       "\t -78.87837 & 42.88645 \\\\\n",
       "\\end{tabular}\n"
      ],
      "text/markdown": [
       "\n",
       "lon | lat | \n",
       "|---|\n",
       "| -78.87837 | 42.88645  | \n",
       "\n",
       "\n"
      ],
      "text/plain": [
       "  lon       lat     \n",
       "1 -78.87837 42.88645"
      ]
     },
     "metadata": {},
     "output_type": "display_data"
    }
   ],
   "source": [
    "head(geocode)"
   ]
  },
  {
   "cell_type": "markdown",
   "metadata": {},
   "source": [
    "retrieving locations closest to the specified latitude and longitude"
   ]
  },
  {
   "cell_type": "code",
   "execution_count": 13,
   "metadata": {
    "collapsed": false
   },
   "outputs": [],
   "source": [
    "closestLocations <- closestTrendLocations(geocode$lon,geocode$lat)"
   ]
  },
  {
   "cell_type": "markdown",
   "metadata": {},
   "source": [
    "woeid is unique Id given to each location and is never changes,\n",
    "retrieving top trends of the location using its woeid"
   ]
  },
  {
   "cell_type": "code",
   "execution_count": 29,
   "metadata": {
    "collapsed": false
   },
   "outputs": [],
   "source": [
    "trends <- getTrends(closestLocations$woeid, exclude=NULL)[1:10,]"
   ]
  },
  {
   "cell_type": "markdown",
   "metadata": {},
   "source": [
    "displaying the top ten results"
   ]
  },
  {
   "cell_type": "code",
   "execution_count": 38,
   "metadata": {
    "collapsed": false
   },
   "outputs": [
    {
     "name": "stdout",
     "output_type": "stream",
     "text": [
      "The top ten trending topics are: "
     ]
    },
    {
     "data": {
      "text/html": [
       "<ol class=list-inline>\n",
       "\t<li>'#HandsOffGastor , '</li>\n",
       "\t<li>'#HesNotIntoYouWhen , '</li>\n",
       "\t<li>'Gareth Bale , '</li>\n",
       "\t<li>'#CAFSuperCup , '</li>\n",
       "\t<li>'Goal Alert , '</li>\n",
       "\t<li>'Score Update , '</li>\n",
       "\t<li>'#HBSABC2017 , '</li>\n",
       "\t<li>'Real Madrid , '</li>\n",
       "\t<li>'Chiefs , '</li>\n",
       "\t<li>'Highlands Park , '</li>\n",
       "</ol>\n"
      ],
      "text/latex": [
       "\\begin{enumerate*}\n",
       "\\item '\\#HandsOffGastor , '\n",
       "\\item '\\#HesNotIntoYouWhen , '\n",
       "\\item 'Gareth Bale , '\n",
       "\\item '\\#CAFSuperCup , '\n",
       "\\item 'Goal Alert , '\n",
       "\\item 'Score Update , '\n",
       "\\item '\\#HBSABC2017 , '\n",
       "\\item 'Real Madrid , '\n",
       "\\item 'Chiefs , '\n",
       "\\item 'Highlands Park , '\n",
       "\\end{enumerate*}\n"
      ],
      "text/markdown": [
       "1. '#HandsOffGastor , '\n",
       "2. '#HesNotIntoYouWhen , '\n",
       "3. 'Gareth Bale , '\n",
       "4. '#CAFSuperCup , '\n",
       "5. 'Goal Alert , '\n",
       "6. 'Score Update , '\n",
       "7. '#HBSABC2017 , '\n",
       "8. 'Real Madrid , '\n",
       "9. 'Chiefs , '\n",
       "10. 'Highlands Park , '\n",
       "\n",
       "\n"
      ],
      "text/plain": [
       " [1] \"#HandsOffGastor , \"    \"#HesNotIntoYouWhen , \" \"Gareth Bale , \"       \n",
       " [4] \"#CAFSuperCup , \"       \"Goal Alert , \"         \"Score Update , \"      \n",
       " [7] \"#HBSABC2017 , \"        \"Real Madrid , \"        \"Chiefs , \"            \n",
       "[10] \"Highlands Park , \"    "
      ]
     },
     "metadata": {},
     "output_type": "display_data"
    }
   ],
   "source": [
    "cat(\"The top ten trending topics are: \")\n",
    "paste(trends$name, collapase=\", \")"
   ]
  }
 ],
 "metadata": {
  "kernelspec": {
   "display_name": "R",
   "language": "R",
   "name": "ir"
  },
  "language_info": {
   "codemirror_mode": "r",
   "file_extension": ".r",
   "mimetype": "text/x-r-source",
   "name": "R",
   "pygments_lexer": "r",
   "version": "3.3.2"
  }
 },
 "nbformat": 4,
 "nbformat_minor": 2
}
