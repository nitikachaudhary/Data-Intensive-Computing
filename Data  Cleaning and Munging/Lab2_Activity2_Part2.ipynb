{
 "cells": [
  {
   "cell_type": "markdown",
   "metadata": {},
   "source": [
    "This notebook reads the created csv files and answers the set of questions."
   ]
  },
  {
   "cell_type": "code",
   "execution_count": 12,
   "metadata": {
    "collapsed": true
   },
   "outputs": [],
   "source": [
    "playerDF <- read.csv(file=\"C:/Users/nitik/Lab2/Player.csv\",head=TRUE,sep=\",\")"
   ]
  },
  {
   "cell_type": "code",
   "execution_count": 2,
   "metadata": {
    "collapsed": false
   },
   "outputs": [
    {
     "name": "stderr",
     "output_type": "stream",
     "text": [
      "Loading required package: gsubfn\n",
      "Loading required package: proto\n",
      "Could not load tcltk.  Will use slower R code instead.\n",
      "Loading required package: RSQLite\n"
     ]
    }
   ],
   "source": [
    "library(\"sqldf\")"
   ]
  },
  {
   "cell_type": "markdown",
   "metadata": {},
   "source": [
    "Question 1: Which are the top 10 players by overall rating?"
   ]
  },
  {
   "cell_type": "code",
   "execution_count": 16,
   "metadata": {
    "collapsed": false
   },
   "outputs": [
    {
     "data": {
      "text/html": [
       "<ol class=list-inline>\n",
       "\t<li>Lionel Messi</li>\n",
       "\t<li>Cristiano Ronaldo</li>\n",
       "\t<li>Gianluigi Buffon</li>\n",
       "\t<li>Wayne Rooney</li>\n",
       "\t<li>Gregory Coupet</li>\n",
       "\t<li>Xavi Hernandez</li>\n",
       "\t<li>Alessandro Nesta</li>\n",
       "\t<li>Andres Iniesta</li>\n",
       "\t<li>Fabio Cannavaro</li>\n",
       "\t<li>Iker Casillas</li>\n",
       "</ol>\n"
      ],
      "text/latex": [
       "\\begin{enumerate*}\n",
       "\\item Lionel Messi\n",
       "\\item Cristiano Ronaldo\n",
       "\\item Gianluigi Buffon\n",
       "\\item Wayne Rooney\n",
       "\\item Gregory Coupet\n",
       "\\item Xavi Hernandez\n",
       "\\item Alessandro Nesta\n",
       "\\item Andres Iniesta\n",
       "\\item Fabio Cannavaro\n",
       "\\item Iker Casillas\n",
       "\\end{enumerate*}\n"
      ],
      "text/markdown": [
       "1. Lionel Messi\n",
       "2. Cristiano Ronaldo\n",
       "3. Gianluigi Buffon\n",
       "4. Wayne Rooney\n",
       "5. Gregory Coupet\n",
       "6. Xavi Hernandez\n",
       "7. Alessandro Nesta\n",
       "8. Andres Iniesta\n",
       "9. Fabio Cannavaro\n",
       "10. Iker Casillas\n",
       "\n",
       "\n"
      ],
      "text/plain": [
       " [1] Lionel Messi      Cristiano Ronaldo Gianluigi Buffon  Wayne Rooney     \n",
       " [5] Gregory Coupet    Xavi Hernandez    Alessandro Nesta  Andres Iniesta   \n",
       " [9] Fabio Cannavaro   Iker Casillas    \n",
       "10848 Levels: Aaron Appindangoye Aaron Cresswell Aaron Doran ... Zvjezdan Misimovic"
      ]
     },
     "metadata": {},
     "output_type": "display_data"
    }
   ],
   "source": [
    "sqldf(\"select player_name from playerDF order by overall_rating desc\")[1:10,]"
   ]
  },
  {
   "cell_type": "markdown",
   "metadata": {},
   "source": [
    "Question 2: Which are the top 10 goalkeepers by sum of gk attributes?"
   ]
  },
  {
   "cell_type": "code",
   "execution_count": 17,
   "metadata": {
    "collapsed": false
   },
   "outputs": [
    {
     "data": {
      "text/html": [
       "<ol class=list-inline>\n",
       "\t<li>Gianluigi Buffon</li>\n",
       "\t<li>Gregory Coupet</li>\n",
       "\t<li>Petr Cech</li>\n",
       "\t<li>Iker Casillas</li>\n",
       "\t<li>Manuel Neuer</li>\n",
       "\t<li>Julio Cesar</li>\n",
       "\t<li>Sebastian Frey</li>\n",
       "\t<li>Edwin van der Sar</li>\n",
       "\t<li>David De Gea</li>\n",
       "\t<li>Pepe Reina</li>\n",
       "</ol>\n"
      ],
      "text/latex": [
       "\\begin{enumerate*}\n",
       "\\item Gianluigi Buffon\n",
       "\\item Gregory Coupet\n",
       "\\item Petr Cech\n",
       "\\item Iker Casillas\n",
       "\\item Manuel Neuer\n",
       "\\item Julio Cesar\n",
       "\\item Sebastian Frey\n",
       "\\item Edwin van der Sar\n",
       "\\item David De Gea\n",
       "\\item Pepe Reina\n",
       "\\end{enumerate*}\n"
      ],
      "text/markdown": [
       "1. Gianluigi Buffon\n",
       "2. Gregory Coupet\n",
       "3. Petr Cech\n",
       "4. Iker Casillas\n",
       "5. Manuel Neuer\n",
       "6. Julio Cesar\n",
       "7. Sebastian Frey\n",
       "8. Edwin van der Sar\n",
       "9. David De Gea\n",
       "10. Pepe Reina\n",
       "\n",
       "\n"
      ],
      "text/plain": [
       " [1] Gianluigi Buffon  Gregory Coupet    Petr Cech         Iker Casillas    \n",
       " [5] Manuel Neuer      Julio Cesar       Sebastian Frey    Edwin van der Sar\n",
       " [9] David De Gea      Pepe Reina       \n",
       "10848 Levels: Aaron Appindangoye Aaron Cresswell Aaron Doran ... Zvjezdan Misimovic"
      ]
     },
     "metadata": {},
     "output_type": "display_data"
    }
   ],
   "source": [
    "sqldf(\"select player_name from playerDF order by gk_rating desc\")[1:10,]"
   ]
  },
  {
   "cell_type": "markdown",
   "metadata": {},
   "source": [
    "Question 3: Which are the top 10 players by number of appearances?"
   ]
  },
  {
   "cell_type": "code",
   "execution_count": 18,
   "metadata": {
    "collapsed": false
   },
   "outputs": [
    {
     "data": {
      "text/html": [
       "<ol class=list-inline>\n",
       "\t<li>Steve Mandanda</li>\n",
       "\t<li>Stephane Ruffier</li>\n",
       "\t<li>Gorka Iraizoz Moreno</li>\n",
       "\t<li>Samir Handanovic</li>\n",
       "\t<li>Hugo Lloris</li>\n",
       "\t<li>Joe Hart</li>\n",
       "\t<li>Cedric Carrasso</li>\n",
       "\t<li>Gareth Barry</li>\n",
       "\t<li>Borja Valero</li>\n",
       "\t<li>Manuel Neuer</li>\n",
       "</ol>\n"
      ],
      "text/latex": [
       "\\begin{enumerate*}\n",
       "\\item Steve Mandanda\n",
       "\\item Stephane Ruffier\n",
       "\\item Gorka Iraizoz Moreno\n",
       "\\item Samir Handanovic\n",
       "\\item Hugo Lloris\n",
       "\\item Joe Hart\n",
       "\\item Cedric Carrasso\n",
       "\\item Gareth Barry\n",
       "\\item Borja Valero\n",
       "\\item Manuel Neuer\n",
       "\\end{enumerate*}\n"
      ],
      "text/markdown": [
       "1. Steve Mandanda\n",
       "2. Stephane Ruffier\n",
       "3. Gorka Iraizoz Moreno\n",
       "4. Samir Handanovic\n",
       "5. Hugo Lloris\n",
       "6. Joe Hart\n",
       "7. Cedric Carrasso\n",
       "8. Gareth Barry\n",
       "9. Borja Valero\n",
       "10. Manuel Neuer\n",
       "\n",
       "\n"
      ],
      "text/plain": [
       " [1] Steve Mandanda       Stephane Ruffier     Gorka Iraizoz Moreno\n",
       " [4] Samir Handanovic     Hugo Lloris          Joe Hart            \n",
       " [7] Cedric Carrasso      Gareth Barry         Borja Valero        \n",
       "[10] Manuel Neuer        \n",
       "10848 Levels: Aaron Appindangoye Aaron Cresswell Aaron Doran ... Zvjezdan Misimovic"
      ]
     },
     "metadata": {},
     "output_type": "display_data"
    }
   ],
   "source": [
    "sqldf(\"select player_name from playerDF order by no_of_appearences desc\")[1:10,]"
   ]
  },
  {
   "cell_type": "markdown",
   "metadata": {},
   "source": [
    "Question 4: Which are the top 10 players by number of leagues they played in?"
   ]
  },
  {
   "cell_type": "code",
   "execution_count": 13,
   "metadata": {
    "collapsed": false
   },
   "outputs": [
    {
     "data": {
      "text/html": [
       "<ol class=list-inline>\n",
       "\t<li>Gelson Fernandes</li>\n",
       "\t<li>Filip Djuricic</li>\n",
       "\t<li>Ricky van Wolfswinkel</li>\n",
       "\t<li>Aleksandar Tonev</li>\n",
       "\t<li>Alfred Finnbogason</li>\n",
       "\t<li>Almen Abdi</li>\n",
       "\t<li>Aly Cissokho</li>\n",
       "\t<li>Angel Di Maria</li>\n",
       "\t<li>Bojan Krkic</li>\n",
       "\t<li>Bryan Ruiz</li>\n",
       "</ol>\n"
      ],
      "text/latex": [
       "\\begin{enumerate*}\n",
       "\\item Gelson Fernandes\n",
       "\\item Filip Djuricic\n",
       "\\item Ricky van Wolfswinkel\n",
       "\\item Aleksandar Tonev\n",
       "\\item Alfred Finnbogason\n",
       "\\item Almen Abdi\n",
       "\\item Aly Cissokho\n",
       "\\item Angel Di Maria\n",
       "\\item Bojan Krkic\n",
       "\\item Bryan Ruiz\n",
       "\\end{enumerate*}\n"
      ],
      "text/markdown": [
       "1. Gelson Fernandes\n",
       "2. Filip Djuricic\n",
       "3. Ricky van Wolfswinkel\n",
       "4. Aleksandar Tonev\n",
       "5. Alfred Finnbogason\n",
       "6. Almen Abdi\n",
       "7. Aly Cissokho\n",
       "8. Angel Di Maria\n",
       "9. Bojan Krkic\n",
       "10. Bryan Ruiz\n",
       "\n",
       "\n"
      ],
      "text/plain": [
       " [1] Gelson Fernandes      Filip Djuricic        Ricky van Wolfswinkel\n",
       " [4] Aleksandar Tonev      Alfred Finnbogason    Almen Abdi           \n",
       " [7] Aly Cissokho          Angel Di Maria        Bojan Krkic          \n",
       "[10] Bryan Ruiz           \n",
       "10848 Levels: Aaron Appindangoye Aaron Cresswell Aaron Doran ... Zvjezdan Misimovic"
      ]
     },
     "metadata": {},
     "output_type": "display_data"
    }
   ],
   "source": [
    "sqldf(\"select player_name from playerDF order by no_of_leagues desc\")[1:10,]"
   ]
  },
  {
   "cell_type": "markdown",
   "metadata": {},
   "source": [
    "Reading the team.csv into team data frame"
   ]
  },
  {
   "cell_type": "code",
   "execution_count": 14,
   "metadata": {
    "collapsed": true
   },
   "outputs": [],
   "source": [
    "teamDF <- read.csv(file=\"C:/Users/nitik/Lab2/Team.csv\",head=TRUE,sep=\",\")"
   ]
  },
  {
   "cell_type": "markdown",
   "metadata": {},
   "source": [
    "Question 5: Which are the top 10 teams by sum of build up play attributes?"
   ]
  },
  {
   "cell_type": "code",
   "execution_count": 20,
   "metadata": {
    "collapsed": false
   },
   "outputs": [
    {
     "data": {
      "text/html": [
       "<ol class=list-inline>\n",
       "\t<li>Torino</li>\n",
       "\t<li>Udinese</li>\n",
       "\t<li>Fortuna Düsseldorf</li>\n",
       "\t<li>Podbeskidzie Bielsko-Biala</li>\n",
       "\t<li>Korona Kielce</li>\n",
       "\t<li>Carpi</li>\n",
       "\t<li>Widzew Lódz</li>\n",
       "\t<li>Widzew Lódz</li>\n",
       "\t<li>FC Nantes</li>\n",
       "\t<li>Lazio</li>\n",
       "</ol>\n"
      ],
      "text/latex": [
       "\\begin{enumerate*}\n",
       "\\item Torino\n",
       "\\item Udinese\n",
       "\\item Fortuna Düsseldorf\n",
       "\\item Podbeskidzie Bielsko-Biala\n",
       "\\item Korona Kielce\n",
       "\\item Carpi\n",
       "\\item Widzew Lódz\n",
       "\\item Widzew Lódz\n",
       "\\item FC Nantes\n",
       "\\item Lazio\n",
       "\\end{enumerate*}\n"
      ],
      "text/markdown": [
       "1. Torino\n",
       "2. Udinese\n",
       "3. Fortuna Düsseldorf\n",
       "4. Podbeskidzie Bielsko-Biala\n",
       "5. Korona Kielce\n",
       "6. Carpi\n",
       "7. Widzew Lódz\n",
       "8. Widzew Lódz\n",
       "9. FC Nantes\n",
       "10. Lazio\n",
       "\n",
       "\n"
      ],
      "text/plain": [
       " [1] Torino                     Udinese                   \n",
       " [3] Fortuna Düsseldorf         Podbeskidzie Bielsko-Biala\n",
       " [5] Korona Kielce              Carpi                     \n",
       " [7] Widzew Lódz                Widzew Lódz               \n",
       " [9] FC Nantes                  Lazio                     \n",
       "296 Levels: 1. FC Kaiserslautern 1. FC Köln 1. FC Nürnberg ... Zawisza Bydgoszcz"
      ]
     },
     "metadata": {},
     "output_type": "display_data"
    }
   ],
   "source": [
    "sqldf(\"select team_name from teamDF order by buildUp_rating desc\")[1:10,]"
   ]
  },
  {
   "cell_type": "markdown",
   "metadata": {},
   "source": [
    "Question 6: Which are the top 10 teams by sum of chance creation attributes?"
   ]
  },
  {
   "cell_type": "code",
   "execution_count": 21,
   "metadata": {
    "collapsed": false
   },
   "outputs": [
    {
     "data": {
      "text/html": [
       "<ol class=list-inline>\n",
       "\t<li>Lazio</li>\n",
       "\t<li>SV Werder Bremen</li>\n",
       "\t<li>Napoli</li>\n",
       "\t<li>Manchester City</li>\n",
       "\t<li>Tottenham Hotspur</li>\n",
       "\t<li>Birmingham City</li>\n",
       "\t<li>Wolverhampton Wanderers</li>\n",
       "\t<li>Burnley</li>\n",
       "\t<li>Swansea City</li>\n",
       "\t<li>Queens Park Rangers</li>\n",
       "</ol>\n"
      ],
      "text/latex": [
       "\\begin{enumerate*}\n",
       "\\item Lazio\n",
       "\\item SV Werder Bremen\n",
       "\\item Napoli\n",
       "\\item Manchester City\n",
       "\\item Tottenham Hotspur\n",
       "\\item Birmingham City\n",
       "\\item Wolverhampton Wanderers\n",
       "\\item Burnley\n",
       "\\item Swansea City\n",
       "\\item Queens Park Rangers\n",
       "\\end{enumerate*}\n"
      ],
      "text/markdown": [
       "1. Lazio\n",
       "2. SV Werder Bremen\n",
       "3. Napoli\n",
       "4. Manchester City\n",
       "5. Tottenham Hotspur\n",
       "6. Birmingham City\n",
       "7. Wolverhampton Wanderers\n",
       "8. Burnley\n",
       "9. Swansea City\n",
       "10. Queens Park Rangers\n",
       "\n",
       "\n"
      ],
      "text/plain": [
       " [1] Lazio                   SV Werder Bremen        Napoli                 \n",
       " [4] Manchester City         Tottenham Hotspur       Birmingham City        \n",
       " [7] Wolverhampton Wanderers Burnley                 Swansea City           \n",
       "[10] Queens Park Rangers    \n",
       "296 Levels: 1. FC Kaiserslautern 1. FC Köln 1. FC Nürnberg ... Zawisza Bydgoszcz"
      ]
     },
     "metadata": {},
     "output_type": "display_data"
    }
   ],
   "source": [
    "sqldf(\"select team_name from teamDF order by chance_creation_rating desc\")[1:10,]"
   ]
  },
  {
   "cell_type": "markdown",
   "metadata": {},
   "source": [
    "Question 7: Which are the top 10 teams by sum of defense attributes?"
   ]
  },
  {
   "cell_type": "code",
   "execution_count": 9,
   "metadata": {
    "collapsed": false
   },
   "outputs": [
    {
     "data": {
      "text/html": [
       "<ol class=list-inline>\n",
       "\t<li>Beerschot AC</li>\n",
       "\t<li>KVC Westerlo</li>\n",
       "\t<li>Sporting Charleroi</li>\n",
       "\t<li>West Bromwich Albion</li>\n",
       "\t<li>Hull City</li>\n",
       "\t<li>Birmingham City</li>\n",
       "\t<li>Wolverhampton Wanderers</li>\n",
       "\t<li>Blackpool</li>\n",
       "\t<li>Swansea City</li>\n",
       "\t<li>Queens Park Rangers</li>\n",
       "</ol>\n"
      ],
      "text/latex": [
       "\\begin{enumerate*}\n",
       "\\item Beerschot AC\n",
       "\\item KVC Westerlo\n",
       "\\item Sporting Charleroi\n",
       "\\item West Bromwich Albion\n",
       "\\item Hull City\n",
       "\\item Birmingham City\n",
       "\\item Wolverhampton Wanderers\n",
       "\\item Blackpool\n",
       "\\item Swansea City\n",
       "\\item Queens Park Rangers\n",
       "\\end{enumerate*}\n"
      ],
      "text/markdown": [
       "1. Beerschot AC\n",
       "2. KVC Westerlo\n",
       "3. Sporting Charleroi\n",
       "4. West Bromwich Albion\n",
       "5. Hull City\n",
       "6. Birmingham City\n",
       "7. Wolverhampton Wanderers\n",
       "8. Blackpool\n",
       "9. Swansea City\n",
       "10. Queens Park Rangers\n",
       "\n",
       "\n"
      ],
      "text/plain": [
       " [1] Beerschot AC            KVC Westerlo            Sporting Charleroi     \n",
       " [4] West Bromwich Albion    Hull City               Birmingham City        \n",
       " [7] Wolverhampton Wanderers Blackpool               Swansea City           \n",
       "[10] Queens Park Rangers    \n",
       "296 Levels: 1. FC Kaiserslautern 1. FC Köln 1. FC Nürnberg ... Zawisza Bydgoszcz"
      ]
     },
     "metadata": {},
     "output_type": "display_data"
    }
   ],
   "source": [
    "sqldf(\"select team_name from teamDF order by defense_rating desc\")[1:10,]"
   ]
  },
  {
   "cell_type": "markdown",
   "metadata": {},
   "source": [
    "Question 8: Which are the top 10 teams by number of scored goals?"
   ]
  },
  {
   "cell_type": "code",
   "execution_count": 15,
   "metadata": {
    "collapsed": false
   },
   "outputs": [
    {
     "data": {
      "text/html": [
       "<ol class=list-inline>\n",
       "\t<li>FC Barcelona</li>\n",
       "\t<li>Real Madrid CF</li>\n",
       "\t<li>Celtic</li>\n",
       "\t<li>FC Bayern Munich</li>\n",
       "\t<li>PSV</li>\n",
       "\t<li>Ajax</li>\n",
       "\t<li>FC Basel</li>\n",
       "\t<li>Manchester City</li>\n",
       "\t<li>Chelsea</li>\n",
       "\t<li>Manchester United</li>\n",
       "</ol>\n"
      ],
      "text/latex": [
       "\\begin{enumerate*}\n",
       "\\item FC Barcelona\n",
       "\\item Real Madrid CF\n",
       "\\item Celtic\n",
       "\\item FC Bayern Munich\n",
       "\\item PSV\n",
       "\\item Ajax\n",
       "\\item FC Basel\n",
       "\\item Manchester City\n",
       "\\item Chelsea\n",
       "\\item Manchester United\n",
       "\\end{enumerate*}\n"
      ],
      "text/markdown": [
       "1. FC Barcelona\n",
       "2. Real Madrid CF\n",
       "3. Celtic\n",
       "4. FC Bayern Munich\n",
       "5. PSV\n",
       "6. Ajax\n",
       "7. FC Basel\n",
       "8. Manchester City\n",
       "9. Chelsea\n",
       "10. Manchester United\n",
       "\n",
       "\n"
      ],
      "text/plain": [
       " [1] FC Barcelona      Real Madrid CF    Celtic            FC Bayern Munich \n",
       " [5] PSV               Ajax              FC Basel          Manchester City  \n",
       " [9] Chelsea           Manchester United\n",
       "296 Levels: 1. FC Kaiserslautern 1. FC Köln 1. FC Nürnberg ... Zawisza Bydgoszcz"
      ]
     },
     "metadata": {},
     "output_type": "display_data"
    }
   ],
   "source": [
    "sqldf(\"select team_name from teamDF order by total_goals desc\")[1:10,]"
   ]
  },
  {
   "cell_type": "code",
   "execution_count": null,
   "metadata": {
    "collapsed": true
   },
   "outputs": [],
   "source": []
  }
 ],
 "metadata": {
  "kernelspec": {
   "display_name": "R",
   "language": "R",
   "name": "ir"
  },
  "language_info": {
   "codemirror_mode": "r",
   "file_extension": ".r",
   "mimetype": "text/x-r-source",
   "name": "R",
   "pygments_lexer": "r",
   "version": "3.3.2"
  }
 },
 "nbformat": 4,
 "nbformat_minor": 2
}
