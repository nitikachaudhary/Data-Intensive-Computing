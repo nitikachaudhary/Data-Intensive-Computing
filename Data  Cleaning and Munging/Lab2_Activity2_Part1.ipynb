{
 "cells": [
  {
   "cell_type": "markdown",
   "metadata": {},
   "source": [
    "sqldf has been used to apply queries on data frames"
   ]
  },
  {
   "cell_type": "code",
   "execution_count": 191,
   "metadata": {
    "collapsed": false
   },
   "outputs": [
    {
     "name": "stderr",
     "output_type": "stream",
     "text": [
      "Warning message:\n",
      "\"package 'sqldf' is in use and will not be installed\""
     ]
    }
   ],
   "source": [
    "install.packages(\"sqldf\",repos=\"http://cran.us.r-project.org/\")"
   ]
  },
  {
   "cell_type": "code",
   "execution_count": 194,
   "metadata": {
    "collapsed": false
   },
   "outputs": [],
   "source": [
    "library(\"RSQLite\")\n",
    "library(\"dplyr\")\n",
    "library(\"sqldf\")"
   ]
  },
  {
   "cell_type": "markdown",
   "metadata": {},
   "source": [
    "Reading the database"
   ]
  },
  {
   "cell_type": "code",
   "execution_count": 195,
   "metadata": {
    "collapsed": false
   },
   "outputs": [],
   "source": [
    "database <- src_sqlite(\"D:/MS_Spring2017/DIC/Lab2/database.sqlite\")"
   ]
  },
  {
   "cell_type": "markdown",
   "metadata": {},
   "source": [
    "The database has the following tables"
   ]
  },
  {
   "cell_type": "code",
   "execution_count": 8,
   "metadata": {
    "collapsed": false
   },
   "outputs": [
    {
     "data": {
      "text/plain": [
       "src:  sqlite 3.11.1 [D:/MS_Spring2017/DIC/Lab2/database.sqlite]\n",
       "tbls: Country, League, Match, Player, Player_Attributes, sqlite_sequence, Team,\n",
       "  Team_Attributes"
      ]
     },
     "metadata": {},
     "output_type": "display_data"
    }
   ],
   "source": [
    "database"
   ]
  },
  {
   "cell_type": "markdown",
   "metadata": {},
   "source": [
    "Starting with creation of the player data frame, later making manipulations into it to have the desired columns"
   ]
  },
  {
   "cell_type": "code",
   "execution_count": 196,
   "metadata": {
    "collapsed": false
   },
   "outputs": [],
   "source": [
    "player <- data.frame(tbl(database,\"Player\"))"
   ]
  },
  {
   "cell_type": "code",
   "execution_count": 197,
   "metadata": {
    "collapsed": false
   },
   "outputs": [],
   "source": [
    "player_id <- data.frame(tbl(database, sql(\"SELECT distinct player_api_id FROM player\")))"
   ]
  },
  {
   "cell_type": "code",
   "execution_count": 198,
   "metadata": {
    "collapsed": false
   },
   "outputs": [
    {
     "data": {
      "text/html": [
       "11060"
      ],
      "text/latex": [
       "11060"
      ],
      "text/markdown": [
       "11060"
      ],
      "text/plain": [
       "[1] 11060"
      ]
     },
     "metadata": {},
     "output_type": "display_data"
    }
   ],
   "source": [
    "nrow(player)"
   ]
  },
  {
   "cell_type": "code",
   "execution_count": 199,
   "metadata": {
    "collapsed": false
   },
   "outputs": [
    {
     "data": {
      "text/html": [
       "<ol class=list-inline>\n",
       "\t<li>'id'</li>\n",
       "\t<li>'player_api_id'</li>\n",
       "\t<li>'player_name'</li>\n",
       "\t<li>'player_fifa_api_id'</li>\n",
       "\t<li>'birthday'</li>\n",
       "\t<li>'height'</li>\n",
       "\t<li>'weight'</li>\n",
       "</ol>\n"
      ],
      "text/latex": [
       "\\begin{enumerate*}\n",
       "\\item 'id'\n",
       "\\item 'player\\_api\\_id'\n",
       "\\item 'player\\_name'\n",
       "\\item 'player\\_fifa\\_api\\_id'\n",
       "\\item 'birthday'\n",
       "\\item 'height'\n",
       "\\item 'weight'\n",
       "\\end{enumerate*}\n"
      ],
      "text/markdown": [
       "1. 'id'\n",
       "2. 'player_api_id'\n",
       "3. 'player_name'\n",
       "4. 'player_fifa_api_id'\n",
       "5. 'birthday'\n",
       "6. 'height'\n",
       "7. 'weight'\n",
       "\n",
       "\n"
      ],
      "text/plain": [
       "[1] \"id\"                 \"player_api_id\"      \"player_name\"       \n",
       "[4] \"player_fifa_api_id\" \"birthday\"           \"height\"            \n",
       "[7] \"weight\"            "
      ]
     },
     "metadata": {},
     "output_type": "display_data"
    }
   ],
   "source": [
    "colnames(player)"
   ]
  },
  {
   "cell_type": "code",
   "execution_count": 200,
   "metadata": {
    "collapsed": false
   },
   "outputs": [],
   "source": [
    "match <- data.frame(tbl(database,\"Match\"))"
   ]
  },
  {
   "cell_type": "code",
   "execution_count": 201,
   "metadata": {
    "collapsed": false
   },
   "outputs": [
    {
     "data": {
      "text/html": [
       "<ol class=list-inline>\n",
       "\t<li>24558</li>\n",
       "\t<li>24558</li>\n",
       "</ol>\n"
      ],
      "text/latex": [
       "\\begin{enumerate*}\n",
       "\\item 24558\n",
       "\\item 24558\n",
       "\\end{enumerate*}\n"
      ],
      "text/markdown": [
       "1. 24558\n",
       "2. 24558\n",
       "\n",
       "\n"
      ],
      "text/plain": [
       "[1] 24558 24558"
      ]
     },
     "metadata": {},
     "output_type": "display_data"
    }
   ],
   "source": [
    "match[3][25500:25501,]"
   ]
  },
  {
   "cell_type": "code",
   "execution_count": 202,
   "metadata": {
    "collapsed": false
   },
   "outputs": [],
   "source": [
    " League <- data.frame(tbl(database,\"League\"))"
   ]
  },
  {
   "cell_type": "code",
   "execution_count": 203,
   "metadata": {
    "collapsed": false
   },
   "outputs": [
    {
     "data": {
      "text/html": [
       "25979"
      ],
      "text/latex": [
       "25979"
      ],
      "text/markdown": [
       "25979"
      ],
      "text/plain": [
       "[1] 25979"
      ]
     },
     "metadata": {},
     "output_type": "display_data"
    }
   ],
   "source": [
    "nrow(match)"
   ]
  },
  {
   "cell_type": "code",
   "execution_count": 146,
   "metadata": {
    "collapsed": false
   },
   "outputs": [
    {
     "data": {
      "text/html": [
       "3322"
      ],
      "text/latex": [
       "3322"
      ],
      "text/markdown": [
       "3322"
      ],
      "text/plain": [
       "[1] 3322"
      ]
     },
     "metadata": {},
     "output_type": "display_data"
    }
   ],
   "source": [
    "nrow(result)"
   ]
  },
  {
   "cell_type": "code",
   "execution_count": 204,
   "metadata": {
    "collapsed": false
   },
   "outputs": [
    {
     "data": {
      "text/html": [
       "2415"
      ],
      "text/latex": [
       "2415"
      ],
      "text/markdown": [
       "2415"
      ],
      "text/plain": [
       "[1] 2415"
      ]
     },
     "metadata": {},
     "output_type": "display_data"
    }
   ],
   "source": [
    "nrow(data.frame(tbl(database, sql(\"SELECT home_player_2 as player_id, count(*) as no_of_matches FROM match group by home_player_2\"))))"
   ]
  },
  {
   "cell_type": "markdown",
   "metadata": {},
   "source": [
    "Extracing all the players from the match table on the basis of the number of homeplayers and awayplayers played in each macth"
   ]
  },
  {
   "cell_type": "code",
   "execution_count": 18,
   "metadata": {
    "collapsed": false
   },
   "outputs": [],
   "source": [
    "result <- data.frame(tbl(database,sql(\"SELECT home_player_1 as player_id, count(*) as no_of_matches FROM match group by home_player_1\n",
    "                   union\n",
    "                 SELECT home_player_2 as player_id, count(*) as no_of_matches FROM match group by home_player_2\n",
    "                   union\n",
    "                 SELECT home_player_3 as player_id, count(*) as no_of_matches FROM match group by home_player_3\n",
    "                   union\n",
    "                 SELECT home_player_4 as player_id, count(*) as no_of_matches FROM match group by home_player_4\n",
    "                   union\n",
    "                 SELECT home_player_5 as player_id, count(*) as no_of_matches FROM match group by home_player_5\n",
    "                   union\n",
    "                 SELECT home_player_6 as player_id, count(*) as no_of_matches FROM match group by home_player_6\n",
    "                   union\n",
    "                 SELECT home_player_7 as player_id, count(*) as no_of_matches FROM match group by home_player_7\n",
    "                   union\n",
    "                 SELECT home_player_8 as player_id, count(*) as no_of_matches FROM match group by home_player_8\n",
    "                   union\n",
    "                 SELECT home_player_9 as player_id, count(*) as no_of_matches FROM match group by home_player_9\n",
    "                   union\n",
    "                 SELECT home_player_10 as player_id, count(*) as no_of_matches FROM match group by home_player_10\n",
    "                   union\n",
    "                 SELECT home_player_11 as player_id, count(*) as no_of_matches FROM match group by home_player_11\n",
    "                   union\n",
    "                 SELECT away_player_1 as player_id, count(*) as no_of_matches FROM match group by away_player_1\n",
    "                   union\n",
    "                 SELECT away_player_2 as player_id, count(*) as no_of_matches FROM match group by away_player_2\n",
    "                   union\n",
    "                 SELECT away_player_3 as player_id, count(*) as no_of_matches FROM match group by away_player_3\n",
    "                   union\n",
    "                 SELECT away_player_4 as player_id, count(*) as no_of_matches FROM match group by away_player_4\n",
    "                   union\n",
    "                 SELECT away_player_5 as player_id, count(*) as no_of_matches FROM match group by away_player_5\n",
    "                   union\n",
    "                 SELECT away_player_6 as player_id, count(*) as no_of_matches FROM match group by away_player_6\n",
    "                   union\n",
    "                 SELECT away_player_7 as player_id, count(*) as no_of_matches FROM match group by away_player_7\n",
    "                   union\n",
    "                 SELECT away_player_8 as player_id, count(*) as no_of_matches FROM match group by away_player_8\n",
    "                   union\n",
    "                 SELECT away_player_9 as player_id, count(*) as no_of_matches FROM match group by away_player_9\n",
    "                   union\n",
    "                 SELECT away_player_10 as player_id, count(*) as no_of_matches FROM match group by away_player_10\n",
    "                   union\n",
    "                 SELECT away_player_11 as player_id, count(*) as no_of_matches FROM match group by away_player_11\"\n",
    "                 )))"
   ]
  },
  {
   "cell_type": "code",
   "execution_count": 19,
   "metadata": {
    "collapsed": false
   },
   "outputs": [
    {
     "data": {
      "text/html": [
       "46691"
      ],
      "text/latex": [
       "46691"
      ],
      "text/markdown": [
       "46691"
      ],
      "text/plain": [
       "[1] 46691"
      ]
     },
     "metadata": {},
     "output_type": "display_data"
    }
   ],
   "source": [
    "nrow(result)"
   ]
  },
  {
   "cell_type": "markdown",
   "metadata": {},
   "source": [
    "All the players have been listed as the number of records retrieved is equal to the number of records in the player table"
   ]
  },
  {
   "cell_type": "code",
   "execution_count": 159,
   "metadata": {
    "collapsed": false
   },
   "outputs": [
    {
     "data": {
      "text/html": [
       "11060"
      ],
      "text/latex": [
       "11060"
      ],
      "text/markdown": [
       "11060"
      ],
      "text/plain": [
       "[1] 11060"
      ]
     },
     "metadata": {},
     "output_type": "display_data"
    }
   ],
   "source": [
    "nrow(na.omit(sqldf(\"select player_id,sum(no_of_matches) as no_of_appearences  from result group by player_id\")))"
   ]
  },
  {
   "cell_type": "markdown",
   "metadata": {},
   "source": [
    "Finding the Number of appearences by grouping the data as per player id and summing the number of matches"
   ]
  },
  {
   "cell_type": "code",
   "execution_count": 21,
   "metadata": {
    "collapsed": false
   },
   "outputs": [],
   "source": [
    "no_of_appearences <- na.omit(sqldf(\"select player_id,sum(no_of_matches) as no_of_appearences  from result group by player_id\"))"
   ]
  },
  {
   "cell_type": "markdown",
   "metadata": {},
   "source": [
    "WE have a data frame with the number of appearences for each player"
   ]
  },
  {
   "cell_type": "code",
   "execution_count": 160,
   "metadata": {
    "collapsed": false
   },
   "outputs": [
    {
     "data": {
      "text/html": [
       "<table>\n",
       "<thead><tr><th></th><th scope=col>player_id</th><th scope=col>no_of_appearences</th></tr></thead>\n",
       "<tbody>\n",
       "\t<tr><th scope=row>2</th><td>2625</td><td> 86 </td></tr>\n",
       "\t<tr><th scope=row>3</th><td>2752</td><td> 81 </td></tr>\n",
       "\t<tr><th scope=row>4</th><td>2768</td><td> 71 </td></tr>\n",
       "\t<tr><th scope=row>5</th><td>2770</td><td>  8 </td></tr>\n",
       "\t<tr><th scope=row>6</th><td>2790</td><td> 50 </td></tr>\n",
       "\t<tr><th scope=row>7</th><td>2796</td><td>  1 </td></tr>\n",
       "\t<tr><th scope=row>8</th><td>2802</td><td>142 </td></tr>\n",
       "\t<tr><th scope=row>9</th><td>2805</td><td>126 </td></tr>\n",
       "\t<tr><th scope=row>10</th><td>2857</td><td>  3 </td></tr>\n",
       "\t<tr><th scope=row>11</th><td>2862</td><td> 13 </td></tr>\n",
       "\t<tr><th scope=row>12</th><td>2907</td><td>  3 </td></tr>\n",
       "\t<tr><th scope=row>13</th><td>2973</td><td> 11 </td></tr>\n",
       "\t<tr><th scope=row>14</th><td>2977</td><td>  3 </td></tr>\n",
       "\t<tr><th scope=row>15</th><td>2983</td><td> 70 </td></tr>\n",
       "\t<tr><th scope=row>16</th><td>2984</td><td> 19 </td></tr>\n",
       "\t<tr><th scope=row>17</th><td>3140</td><td> 35 </td></tr>\n",
       "\t<tr><th scope=row>18</th><td>3204</td><td> 20 </td></tr>\n",
       "\t<tr><th scope=row>19</th><td>3263</td><td> 11 </td></tr>\n",
       "\t<tr><th scope=row>20</th><td>3264</td><td>  1 </td></tr>\n",
       "\t<tr><th scope=row>21</th><td>3316</td><td>  3 </td></tr>\n",
       "\t<tr><th scope=row>22</th><td>3329</td><td> 55 </td></tr>\n",
       "\t<tr><th scope=row>23</th><td>3377</td><td>  1 </td></tr>\n",
       "\t<tr><th scope=row>24</th><td>3441</td><td> 63 </td></tr>\n",
       "\t<tr><th scope=row>25</th><td>3512</td><td>  4 </td></tr>\n",
       "\t<tr><th scope=row>26</th><td>3517</td><td> 17 </td></tr>\n",
       "\t<tr><th scope=row>27</th><td>3520</td><td> 63 </td></tr>\n",
       "\t<tr><th scope=row>28</th><td>4747</td><td> 35 </td></tr>\n",
       "\t<tr><th scope=row>29</th><td>4863</td><td> 25 </td></tr>\n",
       "\t<tr><th scope=row>30</th><td>4902</td><td> 68 </td></tr>\n",
       "\t<tr><th scope=row>31</th><td>4939</td><td> 44 </td></tr>\n",
       "\t<tr><th scope=row>...</th><td>...</td><td>...</td></tr>\n",
       "\t<tr><th scope=row>11032</th><td>701154</td><td> 1    </td></tr>\n",
       "\t<tr><th scope=row>11033</th><td>703659</td><td> 1    </td></tr>\n",
       "\t<tr><th scope=row>11034</th><td>704523</td><td> 3    </td></tr>\n",
       "\t<tr><th scope=row>11035</th><td>705484</td><td> 3    </td></tr>\n",
       "\t<tr><th scope=row>11036</th><td>706985</td><td> 1    </td></tr>\n",
       "\t<tr><th scope=row>11037</th><td>710807</td><td> 1    </td></tr>\n",
       "\t<tr><th scope=row>11038</th><td>715642</td><td> 1    </td></tr>\n",
       "\t<tr><th scope=row>11039</th><td>716998</td><td> 1    </td></tr>\n",
       "\t<tr><th scope=row>11040</th><td>717248</td><td> 3    </td></tr>\n",
       "\t<tr><th scope=row>11041</th><td>717270</td><td> 1    </td></tr>\n",
       "\t<tr><th scope=row>11042</th><td>717557</td><td> 4    </td></tr>\n",
       "\t<tr><th scope=row>11043</th><td>719413</td><td> 3    </td></tr>\n",
       "\t<tr><th scope=row>11044</th><td>720738</td><td> 5    </td></tr>\n",
       "\t<tr><th scope=row>11045</th><td>721133</td><td>15    </td></tr>\n",
       "\t<tr><th scope=row>11046</th><td>722766</td><td>10    </td></tr>\n",
       "\t<tr><th scope=row>11047</th><td>723037</td><td> 7    </td></tr>\n",
       "\t<tr><th scope=row>11048</th><td>725718</td><td> 1    </td></tr>\n",
       "\t<tr><th scope=row>11049</th><td>726956</td><td> 4    </td></tr>\n",
       "\t<tr><th scope=row>11050</th><td>728125</td><td> 2    </td></tr>\n",
       "\t<tr><th scope=row>11051</th><td>728414</td><td> 1    </td></tr>\n",
       "\t<tr><th scope=row>11052</th><td>728478</td><td> 1    </td></tr>\n",
       "\t<tr><th scope=row>11053</th><td>730065</td><td> 1    </td></tr>\n",
       "\t<tr><th scope=row>11054</th><td>733787</td><td> 1    </td></tr>\n",
       "\t<tr><th scope=row>11055</th><td>742405</td><td> 1    </td></tr>\n",
       "\t<tr><th scope=row>11056</th><td>743720</td><td> 1    </td></tr>\n",
       "\t<tr><th scope=row>11057</th><td>744907</td><td> 1    </td></tr>\n",
       "\t<tr><th scope=row>11058</th><td>746419</td><td> 1    </td></tr>\n",
       "\t<tr><th scope=row>11059</th><td>748432</td><td> 1    </td></tr>\n",
       "\t<tr><th scope=row>11060</th><td>750435</td><td> 1    </td></tr>\n",
       "\t<tr><th scope=row>11061</th><td>750584</td><td> 1    </td></tr>\n",
       "</tbody>\n",
       "</table>\n"
      ],
      "text/latex": [
       "\\begin{tabular}{r|ll}\n",
       "  & player\\_id & no\\_of\\_appearences\\\\\n",
       "\\hline\n",
       "\t2 & 2625 &  86 \\\\\n",
       "\t3 & 2752 &  81 \\\\\n",
       "\t4 & 2768 &  71 \\\\\n",
       "\t5 & 2770 &   8 \\\\\n",
       "\t6 & 2790 &  50 \\\\\n",
       "\t7 & 2796 &   1 \\\\\n",
       "\t8 & 2802 & 142 \\\\\n",
       "\t9 & 2805 & 126 \\\\\n",
       "\t10 & 2857 &   3 \\\\\n",
       "\t11 & 2862 &  13 \\\\\n",
       "\t12 & 2907 &   3 \\\\\n",
       "\t13 & 2973 &  11 \\\\\n",
       "\t14 & 2977 &   3 \\\\\n",
       "\t15 & 2983 &  70 \\\\\n",
       "\t16 & 2984 &  19 \\\\\n",
       "\t17 & 3140 &  35 \\\\\n",
       "\t18 & 3204 &  20 \\\\\n",
       "\t19 & 3263 &  11 \\\\\n",
       "\t20 & 3264 &   1 \\\\\n",
       "\t21 & 3316 &   3 \\\\\n",
       "\t22 & 3329 &  55 \\\\\n",
       "\t23 & 3377 &   1 \\\\\n",
       "\t24 & 3441 &  63 \\\\\n",
       "\t25 & 3512 &   4 \\\\\n",
       "\t26 & 3517 &  17 \\\\\n",
       "\t27 & 3520 &  63 \\\\\n",
       "\t28 & 4747 &  35 \\\\\n",
       "\t29 & 4863 &  25 \\\\\n",
       "\t30 & 4902 &  68 \\\\\n",
       "\t31 & 4939 &  44 \\\\\n",
       "\t... & ... & ...\\\\\n",
       "\t11032 & 701154 &  1    \\\\\n",
       "\t11033 & 703659 &  1    \\\\\n",
       "\t11034 & 704523 &  3    \\\\\n",
       "\t11035 & 705484 &  3    \\\\\n",
       "\t11036 & 706985 &  1    \\\\\n",
       "\t11037 & 710807 &  1    \\\\\n",
       "\t11038 & 715642 &  1    \\\\\n",
       "\t11039 & 716998 &  1    \\\\\n",
       "\t11040 & 717248 &  3    \\\\\n",
       "\t11041 & 717270 &  1    \\\\\n",
       "\t11042 & 717557 &  4    \\\\\n",
       "\t11043 & 719413 &  3    \\\\\n",
       "\t11044 & 720738 &  5    \\\\\n",
       "\t11045 & 721133 & 15    \\\\\n",
       "\t11046 & 722766 & 10    \\\\\n",
       "\t11047 & 723037 &  7    \\\\\n",
       "\t11048 & 725718 &  1    \\\\\n",
       "\t11049 & 726956 &  4    \\\\\n",
       "\t11050 & 728125 &  2    \\\\\n",
       "\t11051 & 728414 &  1    \\\\\n",
       "\t11052 & 728478 &  1    \\\\\n",
       "\t11053 & 730065 &  1    \\\\\n",
       "\t11054 & 733787 &  1    \\\\\n",
       "\t11055 & 742405 &  1    \\\\\n",
       "\t11056 & 743720 &  1    \\\\\n",
       "\t11057 & 744907 &  1    \\\\\n",
       "\t11058 & 746419 &  1    \\\\\n",
       "\t11059 & 748432 &  1    \\\\\n",
       "\t11060 & 750435 &  1    \\\\\n",
       "\t11061 & 750584 &  1    \\\\\n",
       "\\end{tabular}\n"
      ],
      "text/markdown": [
       "\n",
       "| <!--/--> | player_id | no_of_appearences | \n",
       "|---|---|---|---|---|---|---|---|---|---|---|---|---|---|---|---|---|---|---|---|---|---|---|---|---|---|---|---|---|---|---|---|---|---|---|---|---|---|---|---|---|---|---|---|---|---|---|---|---|---|---|---|---|---|---|---|---|---|---|---|---|\n",
       "| 2 | 2625 |  86  | \n",
       "| 3 | 2752 |  81  | \n",
       "| 4 | 2768 |  71  | \n",
       "| 5 | 2770 |   8  | \n",
       "| 6 | 2790 |  50  | \n",
       "| 7 | 2796 |   1  | \n",
       "| 8 | 2802 | 142  | \n",
       "| 9 | 2805 | 126  | \n",
       "| 10 | 2857 |   3  | \n",
       "| 11 | 2862 |  13  | \n",
       "| 12 | 2907 |   3  | \n",
       "| 13 | 2973 |  11  | \n",
       "| 14 | 2977 |   3  | \n",
       "| 15 | 2983 |  70  | \n",
       "| 16 | 2984 |  19  | \n",
       "| 17 | 3140 |  35  | \n",
       "| 18 | 3204 |  20  | \n",
       "| 19 | 3263 |  11  | \n",
       "| 20 | 3264 |   1  | \n",
       "| 21 | 3316 |   3  | \n",
       "| 22 | 3329 |  55  | \n",
       "| 23 | 3377 |   1  | \n",
       "| 24 | 3441 |  63  | \n",
       "| 25 | 3512 |   4  | \n",
       "| 26 | 3517 |  17  | \n",
       "| 27 | 3520 |  63  | \n",
       "| 28 | 4747 |  35  | \n",
       "| 29 | 4863 |  25  | \n",
       "| 30 | 4902 |  68  | \n",
       "| 31 | 4939 |  44  | \n",
       "| ... | ... | ... | \n",
       "| 11032 | 701154 |  1     | \n",
       "| 11033 | 703659 |  1     | \n",
       "| 11034 | 704523 |  3     | \n",
       "| 11035 | 705484 |  3     | \n",
       "| 11036 | 706985 |  1     | \n",
       "| 11037 | 710807 |  1     | \n",
       "| 11038 | 715642 |  1     | \n",
       "| 11039 | 716998 |  1     | \n",
       "| 11040 | 717248 |  3     | \n",
       "| 11041 | 717270 |  1     | \n",
       "| 11042 | 717557 |  4     | \n",
       "| 11043 | 719413 |  3     | \n",
       "| 11044 | 720738 |  5     | \n",
       "| 11045 | 721133 | 15     | \n",
       "| 11046 | 722766 | 10     | \n",
       "| 11047 | 723037 |  7     | \n",
       "| 11048 | 725718 |  1     | \n",
       "| 11049 | 726956 |  4     | \n",
       "| 11050 | 728125 |  2     | \n",
       "| 11051 | 728414 |  1     | \n",
       "| 11052 | 728478 |  1     | \n",
       "| 11053 | 730065 |  1     | \n",
       "| 11054 | 733787 |  1     | \n",
       "| 11055 | 742405 |  1     | \n",
       "| 11056 | 743720 |  1     | \n",
       "| 11057 | 744907 |  1     | \n",
       "| 11058 | 746419 |  1     | \n",
       "| 11059 | 748432 |  1     | \n",
       "| 11060 | 750435 |  1     | \n",
       "| 11061 | 750584 |  1     | \n",
       "\n",
       "\n"
      ],
      "text/plain": [
       "      player_id no_of_appearences\n",
       "2     2625       86              \n",
       "3     2752       81              \n",
       "4     2768       71              \n",
       "5     2770        8              \n",
       "6     2790       50              \n",
       "7     2796        1              \n",
       "8     2802      142              \n",
       "9     2805      126              \n",
       "10    2857        3              \n",
       "11    2862       13              \n",
       "12    2907        3              \n",
       "13    2973       11              \n",
       "14    2977        3              \n",
       "15    2983       70              \n",
       "16    2984       19              \n",
       "17    3140       35              \n",
       "18    3204       20              \n",
       "19    3263       11              \n",
       "20    3264        1              \n",
       "21    3316        3              \n",
       "22    3329       55              \n",
       "23    3377        1              \n",
       "24    3441       63              \n",
       "25    3512        4              \n",
       "26    3517       17              \n",
       "27    3520       63              \n",
       "28    4747       35              \n",
       "29    4863       25              \n",
       "30    4902       68              \n",
       "31    4939       44              \n",
       "...   ...       ...              \n",
       "11032 701154     1               \n",
       "11033 703659     1               \n",
       "11034 704523     3               \n",
       "11035 705484     3               \n",
       "11036 706985     1               \n",
       "11037 710807     1               \n",
       "11038 715642     1               \n",
       "11039 716998     1               \n",
       "11040 717248     3               \n",
       "11041 717270     1               \n",
       "11042 717557     4               \n",
       "11043 719413     3               \n",
       "11044 720738     5               \n",
       "11045 721133    15               \n",
       "11046 722766    10               \n",
       "11047 723037     7               \n",
       "11048 725718     1               \n",
       "11049 726956     4               \n",
       "11050 728125     2               \n",
       "11051 728414     1               \n",
       "11052 728478     1               \n",
       "11053 730065     1               \n",
       "11054 733787     1               \n",
       "11055 742405     1               \n",
       "11056 743720     1               \n",
       "11057 744907     1               \n",
       "11058 746419     1               \n",
       "11059 748432     1               \n",
       "11060 750435     1               \n",
       "11061 750584     1               "
      ]
     },
     "metadata": {},
     "output_type": "display_data"
    }
   ],
   "source": [
    "no_of_appearences"
   ]
  },
  {
   "cell_type": "markdown",
   "metadata": {},
   "source": [
    "Starting with the player data frame"
   ]
  },
  {
   "cell_type": "code",
   "execution_count": 161,
   "metadata": {
    "collapsed": true
   },
   "outputs": [],
   "source": [
    "player_df <- data.frame(tbl(database,sql(\"select * from Player\" )))"
   ]
  },
  {
   "cell_type": "markdown",
   "metadata": {},
   "source": [
    "Joining player table and no of appearences table to have a collaborated data frame"
   ]
  },
  {
   "cell_type": "code",
   "execution_count": 162,
   "metadata": {
    "collapsed": false
   },
   "outputs": [],
   "source": [
    "temp <- sqldf(\"select player_df.player_api_id, player_df.player_name, no_of_appearences.no_of_appearences\n",
    "from player_df\n",
    "inner join no_of_appearences\n",
    "on player_df.player_api_id=no_of_appearences.player_id\")"
   ]
  },
  {
   "cell_type": "markdown",
   "metadata": {},
   "source": [
    "Extracting the player names from player attributes and appending them to player table"
   ]
  },
  {
   "cell_type": "code",
   "execution_count": 255,
   "metadata": {
    "collapsed": false
   },
   "outputs": [],
   "source": [
    "player_rating_table_df <- data.frame(tbl(database,sql(\"select Player.player_api_id, Player.player_name, Player_Attributes.overall_rating\n",
    "from Player\n",
    "LEFT JOIN Player_Attributes\n",
    "on Player.player_api_id=Player_Attributes.player_api_id\")))"
   ]
  },
  {
   "cell_type": "markdown",
   "metadata": {},
   "source": [
    "Extracting the record with the maximum overall rating of duplicate records of same player"
   ]
  },
  {
   "cell_type": "code",
   "execution_count": 171,
   "metadata": {
    "collapsed": false
   },
   "outputs": [],
   "source": [
    "player_rating_table_df <- data.frame(tbl(database,sql(\"select Player.player_api_id, Player.player_name, Player_Attributes.overall_rating, MAX(Player_Attributes.overall_rating)\n",
    "from Player\n",
    "LEFT JOIN Player_Attributes\n",
    "on Player.player_api_id=Player_Attributes.player_api_id\n",
    "group by Player.player_api_id\")))"
   ]
  },
  {
   "cell_type": "code",
   "execution_count": 172,
   "metadata": {
    "collapsed": false
   },
   "outputs": [],
   "source": [
    "temp <- sqldf(\"select temp.player_api_id, temp.player_name, temp.no_of_appearences, player_rating_table_df.overall_rating\n",
    "from temp\n",
    "inner join player_rating_table_df\n",
    "on temp.player_api_id=player_rating_table_df.player_api_id\")"
   ]
  },
  {
   "cell_type": "code",
   "execution_count": 173,
   "metadata": {
    "collapsed": false
   },
   "outputs": [],
   "source": [
    "player_overall_rating_table <- tbl(database,sql(\"select Player.player_api_id, Player.player_name, Player_Attributes.overall_rating, MAX(Player_Attributes.overall_rating)\n",
    "from Player\n",
    "LEFT JOIN Player_Attributes\n",
    "on Player.player_api_id=Player_Attributes.player_api_id\n",
    "group by Player.player_api_id\"))"
   ]
  },
  {
   "cell_type": "markdown",
   "metadata": {},
   "source": [
    "Gathering gk rating table"
   ]
  },
  {
   "cell_type": "code",
   "execution_count": 174,
   "metadata": {
    "collapsed": false
   },
   "outputs": [],
   "source": [
    "gk_rating_table_df <- data.frame(tbl(database,sql(\"select Player.player_api_id, Player.player_name,\n",
    "MAX(Player_Attributes.gk_diving + Player_Attributes.gk_handling + Player_Attributes.gk_kicking + Player_Attributes.gk_positioning + Player_Attributes.gk_reflexes) as gk_rating\n",
    "from Player\n",
    "LEFT JOIN Player_Attributes\n",
    "on Player.player_api_id=Player_Attributes.player_api_id\n",
    "group by Player.player_api_id\")))"
   ]
  },
  {
   "cell_type": "code",
   "execution_count": 175,
   "metadata": {
    "collapsed": false
   },
   "outputs": [],
   "source": [
    "temp <- sqldf(\"select temp.player_api_id, temp.player_name, temp.no_of_appearences, temp.overall_rating,\n",
    "              gk_rating_table_df.gk_rating\n",
    "            from temp\n",
    "            inner join gk_rating_table_df\n",
    "            on temp.player_api_id=gk_rating_table_df.player_api_id\")"
   ]
  },
  {
   "cell_type": "markdown",
   "metadata": {},
   "source": [
    "Finding leagues for all the homeplayers and awayplayers"
   ]
  },
  {
   "cell_type": "code",
   "execution_count": 178,
   "metadata": {
    "collapsed": false
   },
   "outputs": [],
   "source": [
    "leaguesDF <- data.frame(tbl(database,sql(\"SELECT home_player_1 as player_id, league_id FROM match\n",
    "                   union\n",
    "                 SELECT home_player_2 as player_id, league_id FROM match\n",
    "                   union\n",
    "                 SELECT home_player_3 as player_id, league_id FROM match\n",
    "                   union\n",
    "                 SELECT home_player_4 as player_id, league_id FROM match\n",
    "                   union\n",
    "                 SELECT home_player_5 as player_id, league_id FROM match\n",
    "                   union\n",
    "                 SELECT home_player_6 as player_id, league_id FROM match\n",
    "                   union\n",
    "                 SELECT home_player_7 as player_id, league_id FROM match\n",
    "                   union\n",
    "                 SELECT home_player_8 as player_id, league_id FROM match\n",
    "                   union\n",
    "                 SELECT home_player_9 as player_id, league_id FROM match\n",
    "                   union\n",
    "                 SELECT home_player_10 as player_id, league_id FROM match\n",
    "                   union\n",
    "                 SELECT home_player_11 as player_id, league_id FROM match\n",
    "                   union\n",
    "                 SELECT away_player_1 as player_id, league_id FROM match\n",
    "                   union\n",
    "                 SELECT away_player_2 as player_id, league_id FROM match\n",
    "                   union\n",
    "                 SELECT away_player_3 as player_id, league_id FROM match\n",
    "                   union\n",
    "                 SELECT away_player_4 as player_id, league_id FROM match\n",
    "                   union\n",
    "                 SELECT away_player_5 as player_id, league_id FROM match\n",
    "                   union\n",
    "                 SELECT away_player_6 as player_id, league_id FROM match\n",
    "                   union\n",
    "                 SELECT away_player_7 as player_id,league_id FROM match\n",
    "                   union\n",
    "                 SELECT away_player_8 as player_id, league_id FROM match\n",
    "                   union\n",
    "                 SELECT away_player_9 as player_id, league_id FROM match\n",
    "                   union\n",
    "                 SELECT away_player_10 as player_id, league_id FROM match\n",
    "                   union\n",
    "                 SELECT away_player_11 as player_id, league_id FROM match\"\n",
    "                 )))"
   ]
  },
  {
   "cell_type": "code",
   "execution_count": 179,
   "metadata": {
    "collapsed": false
   },
   "outputs": [
    {
     "data": {
      "text/html": [
       "<table>\n",
       "<thead><tr><th></th><th scope=col>player_id</th><th scope=col>league_id</th></tr></thead>\n",
       "<tbody>\n",
       "\t<tr><th scope=row>12</th><td>2625 </td><td>15722</td></tr>\n",
       "\t<tr><th scope=row>13</th><td>2752 </td><td>21518</td></tr>\n",
       "\t<tr><th scope=row>14</th><td>2768 </td><td>21518</td></tr>\n",
       "\t<tr><th scope=row>15</th><td>2770 </td><td>    1</td></tr>\n",
       "\t<tr><th scope=row>16</th><td>2770 </td><td>21518</td></tr>\n",
       "\t<tr><th scope=row>17</th><td>2790 </td><td>21518</td></tr>\n",
       "\t<tr><th scope=row>18</th><td>2796 </td><td>21518</td></tr>\n",
       "\t<tr><th scope=row>19</th><td>2802 </td><td> 1729</td></tr>\n",
       "\t<tr><th scope=row>20</th><td>2802 </td><td>21518</td></tr>\n",
       "\t<tr><th scope=row>21</th><td>2805 </td><td>21518</td></tr>\n",
       "\t<tr><th scope=row>22</th><td>2857 </td><td>21518</td></tr>\n",
       "\t<tr><th scope=row>23</th><td>2862 </td><td> 7809</td></tr>\n",
       "\t<tr><th scope=row>24</th><td>2907 </td><td> 4769</td></tr>\n",
       "\t<tr><th scope=row>25</th><td>2973 </td><td>13274</td></tr>\n",
       "\t<tr><th scope=row>26</th><td>2977 </td><td>21518</td></tr>\n",
       "\t<tr><th scope=row>27</th><td>2983 </td><td>21518</td></tr>\n",
       "\t<tr><th scope=row>28</th><td>2984 </td><td>21518</td></tr>\n",
       "\t<tr><th scope=row>29</th><td>3140 </td><td>17642</td></tr>\n",
       "\t<tr><th scope=row>30</th><td>3204 </td><td>17642</td></tr>\n",
       "\t<tr><th scope=row>31</th><td>3263 </td><td>17642</td></tr>\n",
       "\t<tr><th scope=row>32</th><td>3264 </td><td>17642</td></tr>\n",
       "\t<tr><th scope=row>33</th><td>3316 </td><td>21518</td></tr>\n",
       "\t<tr><th scope=row>34</th><td>3329 </td><td>    1</td></tr>\n",
       "\t<tr><th scope=row>35</th><td>3377 </td><td>10257</td></tr>\n",
       "\t<tr><th scope=row>36</th><td>3441 </td><td>13274</td></tr>\n",
       "\t<tr><th scope=row>37</th><td>3512 </td><td> 1729</td></tr>\n",
       "\t<tr><th scope=row>38</th><td>3517 </td><td>24558</td></tr>\n",
       "\t<tr><th scope=row>39</th><td>3520 </td><td> 1729</td></tr>\n",
       "\t<tr><th scope=row>40</th><td>4747 </td><td>19694</td></tr>\n",
       "\t<tr><th scope=row>41</th><td>4863 </td><td>    1</td></tr>\n",
       "\t<tr><th scope=row>...</th><td>...</td><td>...</td></tr>\n",
       "\t<tr><th scope=row>13198</th><td>701154</td><td> 4769 </td></tr>\n",
       "\t<tr><th scope=row>13199</th><td>703659</td><td>24558 </td></tr>\n",
       "\t<tr><th scope=row>13200</th><td>704523</td><td> 4769 </td></tr>\n",
       "\t<tr><th scope=row>13201</th><td>705484</td><td>24558 </td></tr>\n",
       "\t<tr><th scope=row>13202</th><td>706985</td><td> 1729 </td></tr>\n",
       "\t<tr><th scope=row>13203</th><td>710807</td><td>21518 </td></tr>\n",
       "\t<tr><th scope=row>13204</th><td>715642</td><td> 4769 </td></tr>\n",
       "\t<tr><th scope=row>13205</th><td>716998</td><td> 4769 </td></tr>\n",
       "\t<tr><th scope=row>13206</th><td>717248</td><td>17642 </td></tr>\n",
       "\t<tr><th scope=row>13207</th><td>717270</td><td> 4769 </td></tr>\n",
       "\t<tr><th scope=row>13208</th><td>717557</td><td>13274 </td></tr>\n",
       "\t<tr><th scope=row>13209</th><td>719413</td><td> 4769 </td></tr>\n",
       "\t<tr><th scope=row>13210</th><td>720738</td><td> 4769 </td></tr>\n",
       "\t<tr><th scope=row>13211</th><td>721133</td><td>17642 </td></tr>\n",
       "\t<tr><th scope=row>13212</th><td>722766</td><td>21518 </td></tr>\n",
       "\t<tr><th scope=row>13213</th><td>723037</td><td>17642 </td></tr>\n",
       "\t<tr><th scope=row>13214</th><td>725718</td><td>13274 </td></tr>\n",
       "\t<tr><th scope=row>13215</th><td>726956</td><td>24558 </td></tr>\n",
       "\t<tr><th scope=row>13216</th><td>728125</td><td>19694 </td></tr>\n",
       "\t<tr><th scope=row>13217</th><td>728414</td><td>13274 </td></tr>\n",
       "\t<tr><th scope=row>13218</th><td>728478</td><td>15722 </td></tr>\n",
       "\t<tr><th scope=row>13219</th><td>730065</td><td>17642 </td></tr>\n",
       "\t<tr><th scope=row>13220</th><td>733787</td><td>24558 </td></tr>\n",
       "\t<tr><th scope=row>13221</th><td>742405</td><td> 1729 </td></tr>\n",
       "\t<tr><th scope=row>13222</th><td>743720</td><td>24558 </td></tr>\n",
       "\t<tr><th scope=row>13223</th><td>744907</td><td>19694 </td></tr>\n",
       "\t<tr><th scope=row>13224</th><td>746419</td><td>17642 </td></tr>\n",
       "\t<tr><th scope=row>13225</th><td>748432</td><td> 7809 </td></tr>\n",
       "\t<tr><th scope=row>13226</th><td>750435</td><td> 1729 </td></tr>\n",
       "\t<tr><th scope=row>13227</th><td>750584</td><td>17642 </td></tr>\n",
       "</tbody>\n",
       "</table>\n"
      ],
      "text/latex": [
       "\\begin{tabular}{r|ll}\n",
       "  & player\\_id & league\\_id\\\\\n",
       "\\hline\n",
       "\t12 & 2625  & 15722\\\\\n",
       "\t13 & 2752  & 21518\\\\\n",
       "\t14 & 2768  & 21518\\\\\n",
       "\t15 & 2770  &     1\\\\\n",
       "\t16 & 2770  & 21518\\\\\n",
       "\t17 & 2790  & 21518\\\\\n",
       "\t18 & 2796  & 21518\\\\\n",
       "\t19 & 2802  &  1729\\\\\n",
       "\t20 & 2802  & 21518\\\\\n",
       "\t21 & 2805  & 21518\\\\\n",
       "\t22 & 2857  & 21518\\\\\n",
       "\t23 & 2862  &  7809\\\\\n",
       "\t24 & 2907  &  4769\\\\\n",
       "\t25 & 2973  & 13274\\\\\n",
       "\t26 & 2977  & 21518\\\\\n",
       "\t27 & 2983  & 21518\\\\\n",
       "\t28 & 2984  & 21518\\\\\n",
       "\t29 & 3140  & 17642\\\\\n",
       "\t30 & 3204  & 17642\\\\\n",
       "\t31 & 3263  & 17642\\\\\n",
       "\t32 & 3264  & 17642\\\\\n",
       "\t33 & 3316  & 21518\\\\\n",
       "\t34 & 3329  &     1\\\\\n",
       "\t35 & 3377  & 10257\\\\\n",
       "\t36 & 3441  & 13274\\\\\n",
       "\t37 & 3512  &  1729\\\\\n",
       "\t38 & 3517  & 24558\\\\\n",
       "\t39 & 3520  &  1729\\\\\n",
       "\t40 & 4747  & 19694\\\\\n",
       "\t41 & 4863  &     1\\\\\n",
       "\t... & ... & ...\\\\\n",
       "\t13198 & 701154 &  4769 \\\\\n",
       "\t13199 & 703659 & 24558 \\\\\n",
       "\t13200 & 704523 &  4769 \\\\\n",
       "\t13201 & 705484 & 24558 \\\\\n",
       "\t13202 & 706985 &  1729 \\\\\n",
       "\t13203 & 710807 & 21518 \\\\\n",
       "\t13204 & 715642 &  4769 \\\\\n",
       "\t13205 & 716998 &  4769 \\\\\n",
       "\t13206 & 717248 & 17642 \\\\\n",
       "\t13207 & 717270 &  4769 \\\\\n",
       "\t13208 & 717557 & 13274 \\\\\n",
       "\t13209 & 719413 &  4769 \\\\\n",
       "\t13210 & 720738 &  4769 \\\\\n",
       "\t13211 & 721133 & 17642 \\\\\n",
       "\t13212 & 722766 & 21518 \\\\\n",
       "\t13213 & 723037 & 17642 \\\\\n",
       "\t13214 & 725718 & 13274 \\\\\n",
       "\t13215 & 726956 & 24558 \\\\\n",
       "\t13216 & 728125 & 19694 \\\\\n",
       "\t13217 & 728414 & 13274 \\\\\n",
       "\t13218 & 728478 & 15722 \\\\\n",
       "\t13219 & 730065 & 17642 \\\\\n",
       "\t13220 & 733787 & 24558 \\\\\n",
       "\t13221 & 742405 &  1729 \\\\\n",
       "\t13222 & 743720 & 24558 \\\\\n",
       "\t13223 & 744907 & 19694 \\\\\n",
       "\t13224 & 746419 & 17642 \\\\\n",
       "\t13225 & 748432 &  7809 \\\\\n",
       "\t13226 & 750435 &  1729 \\\\\n",
       "\t13227 & 750584 & 17642 \\\\\n",
       "\\end{tabular}\n"
      ],
      "text/markdown": [
       "\n",
       "| <!--/--> | player_id | league_id | \n",
       "|---|---|---|---|---|---|---|---|---|---|---|---|---|---|---|---|---|---|---|---|---|---|---|---|---|---|---|---|---|---|---|---|---|---|---|---|---|---|---|---|---|---|---|---|---|---|---|---|---|---|---|---|---|---|---|---|---|---|---|---|---|\n",
       "| 12 | 2625  | 15722 | \n",
       "| 13 | 2752  | 21518 | \n",
       "| 14 | 2768  | 21518 | \n",
       "| 15 | 2770  |     1 | \n",
       "| 16 | 2770  | 21518 | \n",
       "| 17 | 2790  | 21518 | \n",
       "| 18 | 2796  | 21518 | \n",
       "| 19 | 2802  |  1729 | \n",
       "| 20 | 2802  | 21518 | \n",
       "| 21 | 2805  | 21518 | \n",
       "| 22 | 2857  | 21518 | \n",
       "| 23 | 2862  |  7809 | \n",
       "| 24 | 2907  |  4769 | \n",
       "| 25 | 2973  | 13274 | \n",
       "| 26 | 2977  | 21518 | \n",
       "| 27 | 2983  | 21518 | \n",
       "| 28 | 2984  | 21518 | \n",
       "| 29 | 3140  | 17642 | \n",
       "| 30 | 3204  | 17642 | \n",
       "| 31 | 3263  | 17642 | \n",
       "| 32 | 3264  | 17642 | \n",
       "| 33 | 3316  | 21518 | \n",
       "| 34 | 3329  |     1 | \n",
       "| 35 | 3377  | 10257 | \n",
       "| 36 | 3441  | 13274 | \n",
       "| 37 | 3512  |  1729 | \n",
       "| 38 | 3517  | 24558 | \n",
       "| 39 | 3520  |  1729 | \n",
       "| 40 | 4747  | 19694 | \n",
       "| 41 | 4863  |     1 | \n",
       "| ... | ... | ... | \n",
       "| 13198 | 701154 |  4769  | \n",
       "| 13199 | 703659 | 24558  | \n",
       "| 13200 | 704523 |  4769  | \n",
       "| 13201 | 705484 | 24558  | \n",
       "| 13202 | 706985 |  1729  | \n",
       "| 13203 | 710807 | 21518  | \n",
       "| 13204 | 715642 |  4769  | \n",
       "| 13205 | 716998 |  4769  | \n",
       "| 13206 | 717248 | 17642  | \n",
       "| 13207 | 717270 |  4769  | \n",
       "| 13208 | 717557 | 13274  | \n",
       "| 13209 | 719413 |  4769  | \n",
       "| 13210 | 720738 |  4769  | \n",
       "| 13211 | 721133 | 17642  | \n",
       "| 13212 | 722766 | 21518  | \n",
       "| 13213 | 723037 | 17642  | \n",
       "| 13214 | 725718 | 13274  | \n",
       "| 13215 | 726956 | 24558  | \n",
       "| 13216 | 728125 | 19694  | \n",
       "| 13217 | 728414 | 13274  | \n",
       "| 13218 | 728478 | 15722  | \n",
       "| 13219 | 730065 | 17642  | \n",
       "| 13220 | 733787 | 24558  | \n",
       "| 13221 | 742405 |  1729  | \n",
       "| 13222 | 743720 | 24558  | \n",
       "| 13223 | 744907 | 19694  | \n",
       "| 13224 | 746419 | 17642  | \n",
       "| 13225 | 748432 |  7809  | \n",
       "| 13226 | 750435 |  1729  | \n",
       "| 13227 | 750584 | 17642  | \n",
       "\n",
       "\n"
      ],
      "text/plain": [
       "      player_id league_id\n",
       "12    2625      15722    \n",
       "13    2752      21518    \n",
       "14    2768      21518    \n",
       "15    2770          1    \n",
       "16    2770      21518    \n",
       "17    2790      21518    \n",
       "18    2796      21518    \n",
       "19    2802       1729    \n",
       "20    2802      21518    \n",
       "21    2805      21518    \n",
       "22    2857      21518    \n",
       "23    2862       7809    \n",
       "24    2907       4769    \n",
       "25    2973      13274    \n",
       "26    2977      21518    \n",
       "27    2983      21518    \n",
       "28    2984      21518    \n",
       "29    3140      17642    \n",
       "30    3204      17642    \n",
       "31    3263      17642    \n",
       "32    3264      17642    \n",
       "33    3316      21518    \n",
       "34    3329          1    \n",
       "35    3377      10257    \n",
       "36    3441      13274    \n",
       "37    3512       1729    \n",
       "38    3517      24558    \n",
       "39    3520       1729    \n",
       "40    4747      19694    \n",
       "41    4863          1    \n",
       "...   ...       ...      \n",
       "13198 701154     4769    \n",
       "13199 703659    24558    \n",
       "13200 704523     4769    \n",
       "13201 705484    24558    \n",
       "13202 706985     1729    \n",
       "13203 710807    21518    \n",
       "13204 715642     4769    \n",
       "13205 716998     4769    \n",
       "13206 717248    17642    \n",
       "13207 717270     4769    \n",
       "13208 717557    13274    \n",
       "13209 719413     4769    \n",
       "13210 720738     4769    \n",
       "13211 721133    17642    \n",
       "13212 722766    21518    \n",
       "13213 723037    17642    \n",
       "13214 725718    13274    \n",
       "13215 726956    24558    \n",
       "13216 728125    19694    \n",
       "13217 728414    13274    \n",
       "13218 728478    15722    \n",
       "13219 730065    17642    \n",
       "13220 733787    24558    \n",
       "13221 742405     1729    \n",
       "13222 743720    24558    \n",
       "13223 744907    19694    \n",
       "13224 746419    17642    \n",
       "13225 748432     7809    \n",
       "13226 750435     1729    \n",
       "13227 750584    17642    "
      ]
     },
     "metadata": {},
     "output_type": "display_data"
    }
   ],
   "source": [
    "na.omit(sqldf(\"select * from leaguesDF order by player_id\"))"
   ]
  },
  {
   "cell_type": "code",
   "execution_count": 180,
   "metadata": {
    "collapsed": false
   },
   "outputs": [
    {
     "data": {
      "text/html": [
       "11061"
      ],
      "text/latex": [
       "11061"
      ],
      "text/markdown": [
       "11061"
      ],
      "text/plain": [
       "[1] 11061"
      ]
     },
     "metadata": {},
     "output_type": "display_data"
    }
   ],
   "source": [
    "nrow(sqldf(\"select player_id, count(distinct league_id) from leaguesDF group by player_id\"))"
   ]
  },
  {
   "cell_type": "code",
   "execution_count": 185,
   "metadata": {
    "collapsed": false
   },
   "outputs": [],
   "source": [
    "no_of_leagues_df <- sqldf(\"select player_id, count(distinct league_id) as no_of_leagues from leaguesDF group by player_id\")"
   ]
  },
  {
   "cell_type": "code",
   "execution_count": 186,
   "metadata": {
    "collapsed": false
   },
   "outputs": [
    {
     "data": {
      "text/html": [
       "<table>\n",
       "<thead><tr><th scope=col>player_id</th><th scope=col>no_of_leagues</th></tr></thead>\n",
       "<tbody>\n",
       "\t<tr><td>  NA</td><td>11  </td></tr>\n",
       "\t<tr><td>2625</td><td> 1  </td></tr>\n",
       "\t<tr><td>2752</td><td> 1  </td></tr>\n",
       "\t<tr><td>2768</td><td> 1  </td></tr>\n",
       "\t<tr><td>2770</td><td> 2  </td></tr>\n",
       "\t<tr><td>2790</td><td> 1  </td></tr>\n",
       "\t<tr><td>2796</td><td> 1  </td></tr>\n",
       "\t<tr><td>2802</td><td> 2  </td></tr>\n",
       "\t<tr><td>2805</td><td> 1  </td></tr>\n",
       "\t<tr><td>2857</td><td> 1  </td></tr>\n",
       "\t<tr><td>2862</td><td> 1  </td></tr>\n",
       "\t<tr><td>2907</td><td> 1  </td></tr>\n",
       "\t<tr><td>2973</td><td> 1  </td></tr>\n",
       "\t<tr><td>2977</td><td> 1  </td></tr>\n",
       "\t<tr><td>2983</td><td> 1  </td></tr>\n",
       "\t<tr><td>2984</td><td> 1  </td></tr>\n",
       "\t<tr><td>3140</td><td> 1  </td></tr>\n",
       "\t<tr><td>3204</td><td> 1  </td></tr>\n",
       "\t<tr><td>3263</td><td> 1  </td></tr>\n",
       "\t<tr><td>3264</td><td> 1  </td></tr>\n",
       "\t<tr><td>3316</td><td> 1  </td></tr>\n",
       "\t<tr><td>3329</td><td> 1  </td></tr>\n",
       "\t<tr><td>3377</td><td> 1  </td></tr>\n",
       "\t<tr><td>3441</td><td> 1  </td></tr>\n",
       "\t<tr><td>3512</td><td> 1  </td></tr>\n",
       "\t<tr><td>3517</td><td> 1  </td></tr>\n",
       "\t<tr><td>3520</td><td> 1  </td></tr>\n",
       "\t<tr><td>4747</td><td> 1  </td></tr>\n",
       "\t<tr><td>4863</td><td> 1  </td></tr>\n",
       "\t<tr><td>4902</td><td> 1  </td></tr>\n",
       "\t<tr><td>...</td><td>...</td></tr>\n",
       "\t<tr><td>701154</td><td>1     </td></tr>\n",
       "\t<tr><td>703659</td><td>1     </td></tr>\n",
       "\t<tr><td>704523</td><td>1     </td></tr>\n",
       "\t<tr><td>705484</td><td>1     </td></tr>\n",
       "\t<tr><td>706985</td><td>1     </td></tr>\n",
       "\t<tr><td>710807</td><td>1     </td></tr>\n",
       "\t<tr><td>715642</td><td>1     </td></tr>\n",
       "\t<tr><td>716998</td><td>1     </td></tr>\n",
       "\t<tr><td>717248</td><td>1     </td></tr>\n",
       "\t<tr><td>717270</td><td>1     </td></tr>\n",
       "\t<tr><td>717557</td><td>1     </td></tr>\n",
       "\t<tr><td>719413</td><td>1     </td></tr>\n",
       "\t<tr><td>720738</td><td>1     </td></tr>\n",
       "\t<tr><td>721133</td><td>1     </td></tr>\n",
       "\t<tr><td>722766</td><td>1     </td></tr>\n",
       "\t<tr><td>723037</td><td>1     </td></tr>\n",
       "\t<tr><td>725718</td><td>1     </td></tr>\n",
       "\t<tr><td>726956</td><td>1     </td></tr>\n",
       "\t<tr><td>728125</td><td>1     </td></tr>\n",
       "\t<tr><td>728414</td><td>1     </td></tr>\n",
       "\t<tr><td>728478</td><td>1     </td></tr>\n",
       "\t<tr><td>730065</td><td>1     </td></tr>\n",
       "\t<tr><td>733787</td><td>1     </td></tr>\n",
       "\t<tr><td>742405</td><td>1     </td></tr>\n",
       "\t<tr><td>743720</td><td>1     </td></tr>\n",
       "\t<tr><td>744907</td><td>1     </td></tr>\n",
       "\t<tr><td>746419</td><td>1     </td></tr>\n",
       "\t<tr><td>748432</td><td>1     </td></tr>\n",
       "\t<tr><td>750435</td><td>1     </td></tr>\n",
       "\t<tr><td>750584</td><td>1     </td></tr>\n",
       "</tbody>\n",
       "</table>\n"
      ],
      "text/latex": [
       "\\begin{tabular}{r|ll}\n",
       " player\\_id & no\\_of\\_leagues\\\\\n",
       "\\hline\n",
       "\t   NA & 11  \\\\\n",
       "\t 2625 &  1  \\\\\n",
       "\t 2752 &  1  \\\\\n",
       "\t 2768 &  1  \\\\\n",
       "\t 2770 &  2  \\\\\n",
       "\t 2790 &  1  \\\\\n",
       "\t 2796 &  1  \\\\\n",
       "\t 2802 &  2  \\\\\n",
       "\t 2805 &  1  \\\\\n",
       "\t 2857 &  1  \\\\\n",
       "\t 2862 &  1  \\\\\n",
       "\t 2907 &  1  \\\\\n",
       "\t 2973 &  1  \\\\\n",
       "\t 2977 &  1  \\\\\n",
       "\t 2983 &  1  \\\\\n",
       "\t 2984 &  1  \\\\\n",
       "\t 3140 &  1  \\\\\n",
       "\t 3204 &  1  \\\\\n",
       "\t 3263 &  1  \\\\\n",
       "\t 3264 &  1  \\\\\n",
       "\t 3316 &  1  \\\\\n",
       "\t 3329 &  1  \\\\\n",
       "\t 3377 &  1  \\\\\n",
       "\t 3441 &  1  \\\\\n",
       "\t 3512 &  1  \\\\\n",
       "\t 3517 &  1  \\\\\n",
       "\t 3520 &  1  \\\\\n",
       "\t 4747 &  1  \\\\\n",
       "\t 4863 &  1  \\\\\n",
       "\t 4902 &  1  \\\\\n",
       "\t ... & ...\\\\\n",
       "\t 701154 & 1     \\\\\n",
       "\t 703659 & 1     \\\\\n",
       "\t 704523 & 1     \\\\\n",
       "\t 705484 & 1     \\\\\n",
       "\t 706985 & 1     \\\\\n",
       "\t 710807 & 1     \\\\\n",
       "\t 715642 & 1     \\\\\n",
       "\t 716998 & 1     \\\\\n",
       "\t 717248 & 1     \\\\\n",
       "\t 717270 & 1     \\\\\n",
       "\t 717557 & 1     \\\\\n",
       "\t 719413 & 1     \\\\\n",
       "\t 720738 & 1     \\\\\n",
       "\t 721133 & 1     \\\\\n",
       "\t 722766 & 1     \\\\\n",
       "\t 723037 & 1     \\\\\n",
       "\t 725718 & 1     \\\\\n",
       "\t 726956 & 1     \\\\\n",
       "\t 728125 & 1     \\\\\n",
       "\t 728414 & 1     \\\\\n",
       "\t 728478 & 1     \\\\\n",
       "\t 730065 & 1     \\\\\n",
       "\t 733787 & 1     \\\\\n",
       "\t 742405 & 1     \\\\\n",
       "\t 743720 & 1     \\\\\n",
       "\t 744907 & 1     \\\\\n",
       "\t 746419 & 1     \\\\\n",
       "\t 748432 & 1     \\\\\n",
       "\t 750435 & 1     \\\\\n",
       "\t 750584 & 1     \\\\\n",
       "\\end{tabular}\n"
      ],
      "text/markdown": [
       "\n",
       "player_id | no_of_leagues | \n",
       "|---|---|---|---|---|---|---|---|---|---|---|---|---|---|---|---|---|---|---|---|---|---|---|---|---|---|---|---|---|---|---|---|---|---|---|---|---|---|---|---|---|---|---|---|---|---|---|---|---|---|---|---|---|---|---|---|---|---|---|---|---|\n",
       "|   NA | 11   | \n",
       "| 2625 |  1   | \n",
       "| 2752 |  1   | \n",
       "| 2768 |  1   | \n",
       "| 2770 |  2   | \n",
       "| 2790 |  1   | \n",
       "| 2796 |  1   | \n",
       "| 2802 |  2   | \n",
       "| 2805 |  1   | \n",
       "| 2857 |  1   | \n",
       "| 2862 |  1   | \n",
       "| 2907 |  1   | \n",
       "| 2973 |  1   | \n",
       "| 2977 |  1   | \n",
       "| 2983 |  1   | \n",
       "| 2984 |  1   | \n",
       "| 3140 |  1   | \n",
       "| 3204 |  1   | \n",
       "| 3263 |  1   | \n",
       "| 3264 |  1   | \n",
       "| 3316 |  1   | \n",
       "| 3329 |  1   | \n",
       "| 3377 |  1   | \n",
       "| 3441 |  1   | \n",
       "| 3512 |  1   | \n",
       "| 3517 |  1   | \n",
       "| 3520 |  1   | \n",
       "| 4747 |  1   | \n",
       "| 4863 |  1   | \n",
       "| 4902 |  1   | \n",
       "| ... | ... | \n",
       "| 701154 | 1      | \n",
       "| 703659 | 1      | \n",
       "| 704523 | 1      | \n",
       "| 705484 | 1      | \n",
       "| 706985 | 1      | \n",
       "| 710807 | 1      | \n",
       "| 715642 | 1      | \n",
       "| 716998 | 1      | \n",
       "| 717248 | 1      | \n",
       "| 717270 | 1      | \n",
       "| 717557 | 1      | \n",
       "| 719413 | 1      | \n",
       "| 720738 | 1      | \n",
       "| 721133 | 1      | \n",
       "| 722766 | 1      | \n",
       "| 723037 | 1      | \n",
       "| 725718 | 1      | \n",
       "| 726956 | 1      | \n",
       "| 728125 | 1      | \n",
       "| 728414 | 1      | \n",
       "| 728478 | 1      | \n",
       "| 730065 | 1      | \n",
       "| 733787 | 1      | \n",
       "| 742405 | 1      | \n",
       "| 743720 | 1      | \n",
       "| 744907 | 1      | \n",
       "| 746419 | 1      | \n",
       "| 748432 | 1      | \n",
       "| 750435 | 1      | \n",
       "| 750584 | 1      | \n",
       "\n",
       "\n"
      ],
      "text/plain": [
       "      player_id no_of_leagues\n",
       "1       NA      11           \n",
       "2     2625       1           \n",
       "3     2752       1           \n",
       "4     2768       1           \n",
       "5     2770       2           \n",
       "6     2790       1           \n",
       "7     2796       1           \n",
       "8     2802       2           \n",
       "9     2805       1           \n",
       "10    2857       1           \n",
       "11    2862       1           \n",
       "12    2907       1           \n",
       "13    2973       1           \n",
       "14    2977       1           \n",
       "15    2983       1           \n",
       "16    2984       1           \n",
       "17    3140       1           \n",
       "18    3204       1           \n",
       "19    3263       1           \n",
       "20    3264       1           \n",
       "21    3316       1           \n",
       "22    3329       1           \n",
       "23    3377       1           \n",
       "24    3441       1           \n",
       "25    3512       1           \n",
       "26    3517       1           \n",
       "27    3520       1           \n",
       "28    4747       1           \n",
       "29    4863       1           \n",
       "30    4902       1           \n",
       "...   ...       ...          \n",
       "11032 701154    1            \n",
       "11033 703659    1            \n",
       "11034 704523    1            \n",
       "11035 705484    1            \n",
       "11036 706985    1            \n",
       "11037 710807    1            \n",
       "11038 715642    1            \n",
       "11039 716998    1            \n",
       "11040 717248    1            \n",
       "11041 717270    1            \n",
       "11042 717557    1            \n",
       "11043 719413    1            \n",
       "11044 720738    1            \n",
       "11045 721133    1            \n",
       "11046 722766    1            \n",
       "11047 723037    1            \n",
       "11048 725718    1            \n",
       "11049 726956    1            \n",
       "11050 728125    1            \n",
       "11051 728414    1            \n",
       "11052 728478    1            \n",
       "11053 730065    1            \n",
       "11054 733787    1            \n",
       "11055 742405    1            \n",
       "11056 743720    1            \n",
       "11057 744907    1            \n",
       "11058 746419    1            \n",
       "11059 748432    1            \n",
       "11060 750435    1            \n",
       "11061 750584    1            "
      ]
     },
     "metadata": {},
     "output_type": "display_data"
    }
   ],
   "source": [
    "no_of_leagues_df"
   ]
  },
  {
   "cell_type": "markdown",
   "metadata": {},
   "source": [
    "Combining all the columns into final data frame"
   ]
  },
  {
   "cell_type": "code",
   "execution_count": 187,
   "metadata": {
    "collapsed": false
   },
   "outputs": [],
   "source": [
    "Final_Player_DF <- sqldf(\"select temp.player_api_id, temp.player_name, temp.no_of_appearences, temp.overall_rating,\n",
    "              temp.gk_rating,no_of_leagues_df.no_of_leagues\n",
    "            from temp\n",
    "            inner join no_of_leagues_df\n",
    "            on temp.player_api_id=no_of_leagues_df.player_id\")"
   ]
  },
  {
   "cell_type": "code",
   "execution_count": 276,
   "metadata": {
    "collapsed": false
   },
   "outputs": [
    {
     "data": {
      "text/html": [
       "<table>\n",
       "<thead><tr><th scope=col>player_api_id</th><th scope=col>player_name</th><th scope=col>no_of_appearences</th><th scope=col>overall_rating</th><th scope=col>gk_rating</th><th scope=col>no_of_leagues</th></tr></thead>\n",
       "<tbody>\n",
       "\t<tr><td>505942                </td><td>Aaron Appindangoye    </td><td>  5                   </td><td>67                    </td><td> 43                   </td><td>1                     </td></tr>\n",
       "\t<tr><td>155782                </td><td>Aaron Cresswell       </td><td> 75                   </td><td>74                    </td><td>121                   </td><td>1                     </td></tr>\n",
       "\t<tr><td>162549                </td><td>Aaron Doran           </td><td> 90                   </td><td>71                    </td><td>125                   </td><td>1                     </td></tr>\n",
       "\t<tr><td> 30572                </td><td>Aaron Galindo         </td><td>  7                   </td><td>75                    </td><td>111                   </td><td>1                     </td></tr>\n",
       "\t<tr><td> 23780                </td><td>Aaron Hughes          </td><td>162                   </td><td>78                    </td><td>129                   </td><td>1                     </td></tr>\n",
       "\t<tr><td> 27316                </td><td>Aaron Hunt            </td><td>155                   </td><td>79                    </td><td>132                   </td><td>1                     </td></tr>\n",
       "\t<tr><td>564793                </td><td>Aaron Kuhl            </td><td>  4                   </td><td>61                    </td><td> 64                   </td><td>1                     </td></tr>\n",
       "\t<tr><td> 30895                </td><td>Aaron Lennon          </td><td>179                   </td><td>84                    </td><td>146                   </td><td>1                     </td></tr>\n",
       "\t<tr><td>528212                </td><td>Aaron Lennox          </td><td>  1                   </td><td>48                    </td><td>237                   </td><td>1                     </td></tr>\n",
       "\t<tr><td>101042                </td><td>Aaron Meijers         </td><td>157                   </td><td>69                    </td><td> 54                   </td><td>1                     </td></tr>\n",
       "\t<tr><td> 23889                </td><td>Aaron Mokoena         </td><td> 22                   </td><td>75                    </td><td>154                   </td><td>1                     </td></tr>\n",
       "\t<tr><td>231592                </td><td>Aaron Mooy            </td><td>  6                   </td><td>75                    </td><td> 54                   </td><td>1                     </td></tr>\n",
       "\t<tr><td>163222                </td><td>Aaron Muirhead        </td><td> 16                   </td><td>63                    </td><td> 38                   </td><td>1                     </td></tr>\n",
       "\t<tr><td> 40719                </td><td>Aaron Niguez          </td><td> 21                   </td><td>71                    </td><td>129                   </td><td>2                     </td></tr>\n",
       "\t<tr><td> 75489                </td><td>Aaron Ramsey          </td><td>116                   </td><td>83                    </td><td>150                   </td><td>1                     </td></tr>\n",
       "\t<tr><td>597948                </td><td>Aaron Splaine         </td><td>  2                   </td><td>55                    </td><td> 55                   </td><td>1                     </td></tr>\n",
       "\t<tr><td>161644                </td><td>Aaron Taylor-Sinclair </td><td> 35                   </td><td>65                    </td><td> 49                   </td><td>1                     </td></tr>\n",
       "\t<tr><td> 23499                </td><td>Aaron Wilbraham       </td><td>  1                   </td><td>67                    </td><td>163                   </td><td>1                     </td></tr>\n",
       "\t<tr><td>120919                </td><td>Aatif Chahechouhe     </td><td>  1                   </td><td>77                    </td><td> 50                   </td><td>1                     </td></tr>\n",
       "\t<tr><td> 46447                </td><td>Abasse Ba             </td><td> 11                   </td><td>68                    </td><td>111                   </td><td>1                     </td></tr>\n",
       "\t<tr><td>167027                </td><td>Abdelaziz Barrada     </td><td> 72                   </td><td>76                    </td><td> 47                   </td><td>2                     </td></tr>\n",
       "\t<tr><td>245653                </td><td>Abdelfettah Boukhriss </td><td>  1                   </td><td>64                    </td><td> 51                   </td><td>1                     </td></tr>\n",
       "\t<tr><td>128456                </td><td>Abdelhamid El Kaoutari</td><td>142                   </td><td>73                    </td><td>118                   </td><td>2                     </td></tr>\n",
       "\t<tr><td> 42664                </td><td>Abdelkader Ghezzal    </td><td> 86                   </td><td>73                    </td><td>122                   </td><td>2                     </td></tr>\n",
       "\t<tr><td>425950                </td><td>Abdellah Zoubir       </td><td>  1                   </td><td>59                    </td><td> 62                   </td><td>1                     </td></tr>\n",
       "\t<tr><td> 38423                </td><td>Abdelmajid Oulmers    </td><td> 23                   </td><td>70                    </td><td>129                   </td><td>1                     </td></tr>\n",
       "\t<tr><td>  3264                </td><td>Abdelmalek Cherrad    </td><td>  1                   </td><td>62                    </td><td> 98                   </td><td>1                     </td></tr>\n",
       "\t<tr><td>467485                </td><td>Abdelmalek El Hasnaoui</td><td>  3                   </td><td>63                    </td><td> 52                   </td><td>1                     </td></tr>\n",
       "\t<tr><td>306735                </td><td>Abdelouahed Chakhsi   </td><td> 68                   </td><td>56                    </td><td> 46                   </td><td>1                     </td></tr>\n",
       "\t<tr><td> 41659                </td><td>Abderrazak Jadid      </td><td> 18                   </td><td>71                    </td><td>133                   </td><td>2                     </td></tr>\n",
       "\t<tr><td>...</td><td>...</td><td>...</td><td>...</td><td>...</td><td>...</td></tr>\n",
       "\t<tr><td>244155             </td><td>Zezinho            </td><td>  2                </td><td>69                 </td><td> 51                </td><td>1                  </td></tr>\n",
       "\t<tr><td> 19696             </td><td>Zhi Zheng          </td><td>  6                </td><td>73                 </td><td>154                </td><td>1                  </td></tr>\n",
       "\t<tr><td>290868             </td><td>Zhi-Gin Lam        </td><td> 10                </td><td>68                 </td><td> 58                </td><td>1                  </td></tr>\n",
       "\t<tr><td>169594             </td><td>Zie Diabate        </td><td> 12                </td><td>65                 </td><td> 59                </td><td>2                  </td></tr>\n",
       "\t<tr><td>244953             </td><td>Ziggy Gordon       </td><td> 62                </td><td>64                 </td><td> 51                </td><td>1                  </td></tr>\n",
       "\t<tr><td>200607             </td><td>Ziguy Badibanga    </td><td> 16                </td><td>64                 </td><td> 50                </td><td>2                  </td></tr>\n",
       "\t<tr><td>642618             </td><td>Zinedine Machach   </td><td>  9                </td><td>67                 </td><td> 52                </td><td>1                  </td></tr>\n",
       "\t<tr><td>277772             </td><td>Zinho Gano         </td><td> 22                </td><td>67                 </td><td> 53                </td><td>1                  </td></tr>\n",
       "\t<tr><td>246332             </td><td>Ziri Hammar        </td><td>  1                </td><td>65                 </td><td> 60                </td><td>1                  </td></tr>\n",
       "\t<tr><td>532766             </td><td>Zizo               </td><td> 16                </td><td>63                 </td><td> 43                </td><td>1                  </td></tr>\n",
       "\t<tr><td> 27305             </td><td>Zlatan Bajramovic  </td><td>  6                </td><td>78                 </td><td>158                </td><td>1                  </td></tr>\n",
       "\t<tr><td> 35724             </td><td>Zlatan Ibrahimovic </td><td>235                </td><td>90                 </td><td>156                </td><td>3                  </td></tr>\n",
       "\t<tr><td> 12574             </td><td>Zlatan Ljubijankic </td><td> 52                </td><td>72                 </td><td>146                </td><td>1                  </td></tr>\n",
       "\t<tr><td> 39494             </td><td>Zlatko Dedic       </td><td> 10                </td><td>71                 </td><td>105                </td><td>1                  </td></tr>\n",
       "\t<tr><td> 17233             </td><td>Zlatko Janjic      </td><td>  1                </td><td>66                 </td><td> 90                </td><td>1                  </td></tr>\n",
       "\t<tr><td> 42860             </td><td>Zlatko Junuzovic   </td><td>101                </td><td>79                 </td><td>128                </td><td>1                  </td></tr>\n",
       "\t<tr><td> 37128             </td><td>Zola Matumona      </td><td> 32                </td><td>68                 </td><td> 95                </td><td>1                  </td></tr>\n",
       "\t<tr><td> 24737             </td><td>Zoltan Gera        </td><td> 59                </td><td>77                 </td><td>147                </td><td>1                  </td></tr>\n",
       "\t<tr><td>107281             </td><td>Zoltan Stieber     </td><td> 35                </td><td>73                 </td><td>128                </td><td>1                  </td></tr>\n",
       "\t<tr><td> 39801             </td><td>Zoltan Szelesi     </td><td>  6                </td><td>70                 </td><td>135                </td><td>1                  </td></tr>\n",
       "\t<tr><td>491794             </td><td>Zoran Josipovic    </td><td>  1                </td><td>60                 </td><td> 46                </td><td>1                  </td></tr>\n",
       "\t<tr><td> 56929             </td><td>Zoran Rendulic     </td><td>  6                </td><td>66                 </td><td> 57                </td><td>1                  </td></tr>\n",
       "\t<tr><td> 99031             </td><td>Zoran Tosic        </td><td>  7                </td><td>80                 </td><td>136                </td><td>1                  </td></tr>\n",
       "\t<tr><td>192132             </td><td>Zouhaier Dhaouadhi </td><td>  1                </td><td>64                 </td><td> 54                </td><td>1                  </td></tr>\n",
       "\t<tr><td>282473             </td><td>Zouhair Feddal     </td><td> 43                </td><td>75                 </td><td> 57                </td><td>2                  </td></tr>\n",
       "\t<tr><td> 26357             </td><td>Zoumana Camara     </td><td>102                </td><td>77                 </td><td>125                </td><td>1                  </td></tr>\n",
       "\t<tr><td>111182             </td><td>Zsolt Laczko       </td><td>  6                </td><td>68                 </td><td> 35                </td><td>1                  </td></tr>\n",
       "\t<tr><td> 36491             </td><td>Zsolt Low          </td><td> 15                </td><td>68                 </td><td>128                </td><td>1                  </td></tr>\n",
       "\t<tr><td> 35506             </td><td>Zurab Khizanishvili</td><td>  1                </td><td>78                 </td><td>140                </td><td>1                  </td></tr>\n",
       "\t<tr><td> 39902             </td><td>Zvjezdan Misimovic </td><td> 63                </td><td>83                 </td><td>153                </td><td>1                  </td></tr>\n",
       "</tbody>\n",
       "</table>\n"
      ],
      "text/latex": [
       "\\begin{tabular}{r|llllll}\n",
       " player\\_api\\_id & player\\_name & no\\_of\\_appearences & overall\\_rating & gk\\_rating & no\\_of\\_leagues\\\\\n",
       "\\hline\n",
       "\t 505942                 & Aaron Appindangoye     &   5                    & 67                     &  43                    & 1                     \\\\\n",
       "\t 155782                 & Aaron Cresswell        &  75                    & 74                     & 121                    & 1                     \\\\\n",
       "\t 162549                 & Aaron Doran            &  90                    & 71                     & 125                    & 1                     \\\\\n",
       "\t  30572                 & Aaron Galindo          &   7                    & 75                     & 111                    & 1                     \\\\\n",
       "\t  23780                 & Aaron Hughes           & 162                    & 78                     & 129                    & 1                     \\\\\n",
       "\t  27316                 & Aaron Hunt             & 155                    & 79                     & 132                    & 1                     \\\\\n",
       "\t 564793                 & Aaron Kuhl             &   4                    & 61                     &  64                    & 1                     \\\\\n",
       "\t  30895                 & Aaron Lennon           & 179                    & 84                     & 146                    & 1                     \\\\\n",
       "\t 528212                 & Aaron Lennox           &   1                    & 48                     & 237                    & 1                     \\\\\n",
       "\t 101042                 & Aaron Meijers          & 157                    & 69                     &  54                    & 1                     \\\\\n",
       "\t  23889                 & Aaron Mokoena          &  22                    & 75                     & 154                    & 1                     \\\\\n",
       "\t 231592                 & Aaron Mooy             &   6                    & 75                     &  54                    & 1                     \\\\\n",
       "\t 163222                 & Aaron Muirhead         &  16                    & 63                     &  38                    & 1                     \\\\\n",
       "\t  40719                 & Aaron Niguez           &  21                    & 71                     & 129                    & 2                     \\\\\n",
       "\t  75489                 & Aaron Ramsey           & 116                    & 83                     & 150                    & 1                     \\\\\n",
       "\t 597948                 & Aaron Splaine          &   2                    & 55                     &  55                    & 1                     \\\\\n",
       "\t 161644                 & Aaron Taylor-Sinclair  &  35                    & 65                     &  49                    & 1                     \\\\\n",
       "\t  23499                 & Aaron Wilbraham        &   1                    & 67                     & 163                    & 1                     \\\\\n",
       "\t 120919                 & Aatif Chahechouhe      &   1                    & 77                     &  50                    & 1                     \\\\\n",
       "\t  46447                 & Abasse Ba              &  11                    & 68                     & 111                    & 1                     \\\\\n",
       "\t 167027                 & Abdelaziz Barrada      &  72                    & 76                     &  47                    & 2                     \\\\\n",
       "\t 245653                 & Abdelfettah Boukhriss  &   1                    & 64                     &  51                    & 1                     \\\\\n",
       "\t 128456                 & Abdelhamid El Kaoutari & 142                    & 73                     & 118                    & 2                     \\\\\n",
       "\t  42664                 & Abdelkader Ghezzal     &  86                    & 73                     & 122                    & 2                     \\\\\n",
       "\t 425950                 & Abdellah Zoubir        &   1                    & 59                     &  62                    & 1                     \\\\\n",
       "\t  38423                 & Abdelmajid Oulmers     &  23                    & 70                     & 129                    & 1                     \\\\\n",
       "\t   3264                 & Abdelmalek Cherrad     &   1                    & 62                     &  98                    & 1                     \\\\\n",
       "\t 467485                 & Abdelmalek El Hasnaoui &   3                    & 63                     &  52                    & 1                     \\\\\n",
       "\t 306735                 & Abdelouahed Chakhsi    &  68                    & 56                     &  46                    & 1                     \\\\\n",
       "\t  41659                 & Abderrazak Jadid       &  18                    & 71                     & 133                    & 2                     \\\\\n",
       "\t ... & ... & ... & ... & ... & ...\\\\\n",
       "\t 244155              & Zezinho             &   2                 & 69                  &  51                 & 1                  \\\\\n",
       "\t  19696              & Zhi Zheng           &   6                 & 73                  & 154                 & 1                  \\\\\n",
       "\t 290868              & Zhi-Gin Lam         &  10                 & 68                  &  58                 & 1                  \\\\\n",
       "\t 169594              & Zie Diabate         &  12                 & 65                  &  59                 & 2                  \\\\\n",
       "\t 244953              & Ziggy Gordon        &  62                 & 64                  &  51                 & 1                  \\\\\n",
       "\t 200607              & Ziguy Badibanga     &  16                 & 64                  &  50                 & 2                  \\\\\n",
       "\t 642618              & Zinedine Machach    &   9                 & 67                  &  52                 & 1                  \\\\\n",
       "\t 277772              & Zinho Gano          &  22                 & 67                  &  53                 & 1                  \\\\\n",
       "\t 246332              & Ziri Hammar         &   1                 & 65                  &  60                 & 1                  \\\\\n",
       "\t 532766              & Zizo                &  16                 & 63                  &  43                 & 1                  \\\\\n",
       "\t  27305              & Zlatan Bajramovic   &   6                 & 78                  & 158                 & 1                  \\\\\n",
       "\t  35724              & Zlatan Ibrahimovic  & 235                 & 90                  & 156                 & 3                  \\\\\n",
       "\t  12574              & Zlatan Ljubijankic  &  52                 & 72                  & 146                 & 1                  \\\\\n",
       "\t  39494              & Zlatko Dedic        &  10                 & 71                  & 105                 & 1                  \\\\\n",
       "\t  17233              & Zlatko Janjic       &   1                 & 66                  &  90                 & 1                  \\\\\n",
       "\t  42860              & Zlatko Junuzovic    & 101                 & 79                  & 128                 & 1                  \\\\\n",
       "\t  37128              & Zola Matumona       &  32                 & 68                  &  95                 & 1                  \\\\\n",
       "\t  24737              & Zoltan Gera         &  59                 & 77                  & 147                 & 1                  \\\\\n",
       "\t 107281              & Zoltan Stieber      &  35                 & 73                  & 128                 & 1                  \\\\\n",
       "\t  39801              & Zoltan Szelesi      &   6                 & 70                  & 135                 & 1                  \\\\\n",
       "\t 491794              & Zoran Josipovic     &   1                 & 60                  &  46                 & 1                  \\\\\n",
       "\t  56929              & Zoran Rendulic      &   6                 & 66                  &  57                 & 1                  \\\\\n",
       "\t  99031              & Zoran Tosic         &   7                 & 80                  & 136                 & 1                  \\\\\n",
       "\t 192132              & Zouhaier Dhaouadhi  &   1                 & 64                  &  54                 & 1                  \\\\\n",
       "\t 282473              & Zouhair Feddal      &  43                 & 75                  &  57                 & 2                  \\\\\n",
       "\t  26357              & Zoumana Camara      & 102                 & 77                  & 125                 & 1                  \\\\\n",
       "\t 111182              & Zsolt Laczko        &   6                 & 68                  &  35                 & 1                  \\\\\n",
       "\t  36491              & Zsolt Low           &  15                 & 68                  & 128                 & 1                  \\\\\n",
       "\t  35506              & Zurab Khizanishvili &   1                 & 78                  & 140                 & 1                  \\\\\n",
       "\t  39902              & Zvjezdan Misimovic  &  63                 & 83                  & 153                 & 1                  \\\\\n",
       "\\end{tabular}\n"
      ],
      "text/markdown": [
       "\n",
       "player_api_id | player_name | no_of_appearences | overall_rating | gk_rating | no_of_leagues | \n",
       "|---|---|---|---|---|---|---|---|---|---|---|---|---|---|---|---|---|---|---|---|---|---|---|---|---|---|---|---|---|---|---|---|---|---|---|---|---|---|---|---|---|---|---|---|---|---|---|---|---|---|---|---|---|---|---|---|---|---|---|---|---|\n",
       "| 505942                 | Aaron Appindangoye     |   5                    | 67                     |  43                    | 1                      | \n",
       "| 155782                 | Aaron Cresswell        |  75                    | 74                     | 121                    | 1                      | \n",
       "| 162549                 | Aaron Doran            |  90                    | 71                     | 125                    | 1                      | \n",
       "|  30572                 | Aaron Galindo          |   7                    | 75                     | 111                    | 1                      | \n",
       "|  23780                 | Aaron Hughes           | 162                    | 78                     | 129                    | 1                      | \n",
       "|  27316                 | Aaron Hunt             | 155                    | 79                     | 132                    | 1                      | \n",
       "| 564793                 | Aaron Kuhl             |   4                    | 61                     |  64                    | 1                      | \n",
       "|  30895                 | Aaron Lennon           | 179                    | 84                     | 146                    | 1                      | \n",
       "| 528212                 | Aaron Lennox           |   1                    | 48                     | 237                    | 1                      | \n",
       "| 101042                 | Aaron Meijers          | 157                    | 69                     |  54                    | 1                      | \n",
       "|  23889                 | Aaron Mokoena          |  22                    | 75                     | 154                    | 1                      | \n",
       "| 231592                 | Aaron Mooy             |   6                    | 75                     |  54                    | 1                      | \n",
       "| 163222                 | Aaron Muirhead         |  16                    | 63                     |  38                    | 1                      | \n",
       "|  40719                 | Aaron Niguez           |  21                    | 71                     | 129                    | 2                      | \n",
       "|  75489                 | Aaron Ramsey           | 116                    | 83                     | 150                    | 1                      | \n",
       "| 597948                 | Aaron Splaine          |   2                    | 55                     |  55                    | 1                      | \n",
       "| 161644                 | Aaron Taylor-Sinclair  |  35                    | 65                     |  49                    | 1                      | \n",
       "|  23499                 | Aaron Wilbraham        |   1                    | 67                     | 163                    | 1                      | \n",
       "| 120919                 | Aatif Chahechouhe      |   1                    | 77                     |  50                    | 1                      | \n",
       "|  46447                 | Abasse Ba              |  11                    | 68                     | 111                    | 1                      | \n",
       "| 167027                 | Abdelaziz Barrada      |  72                    | 76                     |  47                    | 2                      | \n",
       "| 245653                 | Abdelfettah Boukhriss  |   1                    | 64                     |  51                    | 1                      | \n",
       "| 128456                 | Abdelhamid El Kaoutari | 142                    | 73                     | 118                    | 2                      | \n",
       "|  42664                 | Abdelkader Ghezzal     |  86                    | 73                     | 122                    | 2                      | \n",
       "| 425950                 | Abdellah Zoubir        |   1                    | 59                     |  62                    | 1                      | \n",
       "|  38423                 | Abdelmajid Oulmers     |  23                    | 70                     | 129                    | 1                      | \n",
       "|   3264                 | Abdelmalek Cherrad     |   1                    | 62                     |  98                    | 1                      | \n",
       "| 467485                 | Abdelmalek El Hasnaoui |   3                    | 63                     |  52                    | 1                      | \n",
       "| 306735                 | Abdelouahed Chakhsi    |  68                    | 56                     |  46                    | 1                      | \n",
       "|  41659                 | Abderrazak Jadid       |  18                    | 71                     | 133                    | 2                      | \n",
       "| ... | ... | ... | ... | ... | ... | \n",
       "| 244155              | Zezinho             |   2                 | 69                  |  51                 | 1                   | \n",
       "|  19696              | Zhi Zheng           |   6                 | 73                  | 154                 | 1                   | \n",
       "| 290868              | Zhi-Gin Lam         |  10                 | 68                  |  58                 | 1                   | \n",
       "| 169594              | Zie Diabate         |  12                 | 65                  |  59                 | 2                   | \n",
       "| 244953              | Ziggy Gordon        |  62                 | 64                  |  51                 | 1                   | \n",
       "| 200607              | Ziguy Badibanga     |  16                 | 64                  |  50                 | 2                   | \n",
       "| 642618              | Zinedine Machach    |   9                 | 67                  |  52                 | 1                   | \n",
       "| 277772              | Zinho Gano          |  22                 | 67                  |  53                 | 1                   | \n",
       "| 246332              | Ziri Hammar         |   1                 | 65                  |  60                 | 1                   | \n",
       "| 532766              | Zizo                |  16                 | 63                  |  43                 | 1                   | \n",
       "|  27305              | Zlatan Bajramovic   |   6                 | 78                  | 158                 | 1                   | \n",
       "|  35724              | Zlatan Ibrahimovic  | 235                 | 90                  | 156                 | 3                   | \n",
       "|  12574              | Zlatan Ljubijankic  |  52                 | 72                  | 146                 | 1                   | \n",
       "|  39494              | Zlatko Dedic        |  10                 | 71                  | 105                 | 1                   | \n",
       "|  17233              | Zlatko Janjic       |   1                 | 66                  |  90                 | 1                   | \n",
       "|  42860              | Zlatko Junuzovic    | 101                 | 79                  | 128                 | 1                   | \n",
       "|  37128              | Zola Matumona       |  32                 | 68                  |  95                 | 1                   | \n",
       "|  24737              | Zoltan Gera         |  59                 | 77                  | 147                 | 1                   | \n",
       "| 107281              | Zoltan Stieber      |  35                 | 73                  | 128                 | 1                   | \n",
       "|  39801              | Zoltan Szelesi      |   6                 | 70                  | 135                 | 1                   | \n",
       "| 491794              | Zoran Josipovic     |   1                 | 60                  |  46                 | 1                   | \n",
       "|  56929              | Zoran Rendulic      |   6                 | 66                  |  57                 | 1                   | \n",
       "|  99031              | Zoran Tosic         |   7                 | 80                  | 136                 | 1                   | \n",
       "| 192132              | Zouhaier Dhaouadhi  |   1                 | 64                  |  54                 | 1                   | \n",
       "| 282473              | Zouhair Feddal      |  43                 | 75                  |  57                 | 2                   | \n",
       "|  26357              | Zoumana Camara      | 102                 | 77                  | 125                 | 1                   | \n",
       "| 111182              | Zsolt Laczko        |   6                 | 68                  |  35                 | 1                   | \n",
       "|  36491              | Zsolt Low           |  15                 | 68                  | 128                 | 1                   | \n",
       "|  35506              | Zurab Khizanishvili |   1                 | 78                  | 140                 | 1                   | \n",
       "|  39902              | Zvjezdan Misimovic  |  63                 | 83                  | 153                 | 1                   | \n",
       "\n",
       "\n"
      ],
      "text/plain": [
       "      player_api_id player_name            no_of_appearences overall_rating\n",
       "1     505942        Aaron Appindangoye       5               67            \n",
       "2     155782        Aaron Cresswell         75               74            \n",
       "3     162549        Aaron Doran             90               71            \n",
       "4      30572        Aaron Galindo            7               75            \n",
       "5      23780        Aaron Hughes           162               78            \n",
       "6      27316        Aaron Hunt             155               79            \n",
       "7     564793        Aaron Kuhl               4               61            \n",
       "8      30895        Aaron Lennon           179               84            \n",
       "9     528212        Aaron Lennox             1               48            \n",
       "10    101042        Aaron Meijers          157               69            \n",
       "11     23889        Aaron Mokoena           22               75            \n",
       "12    231592        Aaron Mooy               6               75            \n",
       "13    163222        Aaron Muirhead          16               63            \n",
       "14     40719        Aaron Niguez            21               71            \n",
       "15     75489        Aaron Ramsey           116               83            \n",
       "16    597948        Aaron Splaine            2               55            \n",
       "17    161644        Aaron Taylor-Sinclair   35               65            \n",
       "18     23499        Aaron Wilbraham          1               67            \n",
       "19    120919        Aatif Chahechouhe        1               77            \n",
       "20     46447        Abasse Ba               11               68            \n",
       "21    167027        Abdelaziz Barrada       72               76            \n",
       "22    245653        Abdelfettah Boukhriss    1               64            \n",
       "23    128456        Abdelhamid El Kaoutari 142               73            \n",
       "24     42664        Abdelkader Ghezzal      86               73            \n",
       "25    425950        Abdellah Zoubir          1               59            \n",
       "26     38423        Abdelmajid Oulmers      23               70            \n",
       "27      3264        Abdelmalek Cherrad       1               62            \n",
       "28    467485        Abdelmalek El Hasnaoui   3               63            \n",
       "29    306735        Abdelouahed Chakhsi     68               56            \n",
       "30     41659        Abderrazak Jadid        18               71            \n",
       "...   ...           ...                    ...               ...           \n",
       "11031 244155        Zezinho                  2               69            \n",
       "11032  19696        Zhi Zheng                6               73            \n",
       "11033 290868        Zhi-Gin Lam             10               68            \n",
       "11034 169594        Zie Diabate             12               65            \n",
       "11035 244953        Ziggy Gordon            62               64            \n",
       "11036 200607        Ziguy Badibanga         16               64            \n",
       "11037 642618        Zinedine Machach         9               67            \n",
       "11038 277772        Zinho Gano              22               67            \n",
       "11039 246332        Ziri Hammar              1               65            \n",
       "11040 532766        Zizo                    16               63            \n",
       "11041  27305        Zlatan Bajramovic        6               78            \n",
       "11042  35724        Zlatan Ibrahimovic     235               90            \n",
       "11043  12574        Zlatan Ljubijankic      52               72            \n",
       "11044  39494        Zlatko Dedic            10               71            \n",
       "11045  17233        Zlatko Janjic            1               66            \n",
       "11046  42860        Zlatko Junuzovic       101               79            \n",
       "11047  37128        Zola Matumona           32               68            \n",
       "11048  24737        Zoltan Gera             59               77            \n",
       "11049 107281        Zoltan Stieber          35               73            \n",
       "11050  39801        Zoltan Szelesi           6               70            \n",
       "11051 491794        Zoran Josipovic          1               60            \n",
       "11052  56929        Zoran Rendulic           6               66            \n",
       "11053  99031        Zoran Tosic              7               80            \n",
       "11054 192132        Zouhaier Dhaouadhi       1               64            \n",
       "11055 282473        Zouhair Feddal          43               75            \n",
       "11056  26357        Zoumana Camara         102               77            \n",
       "11057 111182        Zsolt Laczko             6               68            \n",
       "11058  36491        Zsolt Low               15               68            \n",
       "11059  35506        Zurab Khizanishvili      1               78            \n",
       "11060  39902        Zvjezdan Misimovic      63               83            \n",
       "      gk_rating no_of_leagues\n",
       "1      43       1            \n",
       "2     121       1            \n",
       "3     125       1            \n",
       "4     111       1            \n",
       "5     129       1            \n",
       "6     132       1            \n",
       "7      64       1            \n",
       "8     146       1            \n",
       "9     237       1            \n",
       "10     54       1            \n",
       "11    154       1            \n",
       "12     54       1            \n",
       "13     38       1            \n",
       "14    129       2            \n",
       "15    150       1            \n",
       "16     55       1            \n",
       "17     49       1            \n",
       "18    163       1            \n",
       "19     50       1            \n",
       "20    111       1            \n",
       "21     47       2            \n",
       "22     51       1            \n",
       "23    118       2            \n",
       "24    122       2            \n",
       "25     62       1            \n",
       "26    129       1            \n",
       "27     98       1            \n",
       "28     52       1            \n",
       "29     46       1            \n",
       "30    133       2            \n",
       "...   ...       ...          \n",
       "11031  51       1            \n",
       "11032 154       1            \n",
       "11033  58       1            \n",
       "11034  59       2            \n",
       "11035  51       1            \n",
       "11036  50       2            \n",
       "11037  52       1            \n",
       "11038  53       1            \n",
       "11039  60       1            \n",
       "11040  43       1            \n",
       "11041 158       1            \n",
       "11042 156       3            \n",
       "11043 146       1            \n",
       "11044 105       1            \n",
       "11045  90       1            \n",
       "11046 128       1            \n",
       "11047  95       1            \n",
       "11048 147       1            \n",
       "11049 128       1            \n",
       "11050 135       1            \n",
       "11051  46       1            \n",
       "11052  57       1            \n",
       "11053 136       1            \n",
       "11054  54       1            \n",
       "11055  57       2            \n",
       "11056 125       1            \n",
       "11057  35       1            \n",
       "11058 128       1            \n",
       "11059 140       1            \n",
       "11060 153       1            "
      ]
     },
     "metadata": {},
     "output_type": "display_data"
    }
   ],
   "source": [
    "Final_Player_DF"
   ]
  },
  {
   "cell_type": "code",
   "execution_count": 188,
   "metadata": {
    "collapsed": true
   },
   "outputs": [],
   "source": [
    "team_df <- data.frame(tbl(database,sql(\"select * from Team\")))"
   ]
  },
  {
   "cell_type": "code",
   "execution_count": 302,
   "metadata": {
    "collapsed": false
   },
   "outputs": [
    {
     "data": {
      "text/plain": [
       "Source:   query [?? x 4]\n",
       "Database: sqlite 3.11.1 [D:/MS_Spring2017/DIC/Lab2/database.sqlite]\n",
       "\n",
       "   team_api_id buildUpPlaySpeed buildUpPlayDribbling buildUpPlayPassing\n",
       "         <int>            <int>                <int>              <int>\n",
       "1         9930               60                   NA                 50\n",
       "2         9930               52                   48                 56\n",
       "3         9930               47                   41                 54\n",
       "4         8485               70                   NA                 70\n",
       "5         8485               47                   NA                 52\n",
       "6         8485               58                   NA                 62\n",
       "7         8485               62                   NA                 45\n",
       "8         8485               58                   64                 62\n",
       "9         8485               59                   64                 53\n",
       "10        8576               60                   NA                 40\n",
       "# ... with more rows"
      ]
     },
     "metadata": {},
     "output_type": "display_data"
    }
   ],
   "source": [
    "tbl(database,sql(\"Select team_api_id,buildUpPlaySpeed,buildUpPlayDribbling,buildUpPlayPassing from Team_Attributes\"))"
   ]
  },
  {
   "cell_type": "markdown",
   "metadata": {},
   "source": [
    "Gathering build rating attributes"
   ]
  },
  {
   "cell_type": "code",
   "execution_count": 100,
   "metadata": {
    "collapsed": false
   },
   "outputs": [],
   "source": [
    "buildUp_rating_df <- data.frame(tbl(database,sql(\"select Team.team_api_id, Team.team_long_name,\n",
    "MAX( Team_Attributes.buildUpPlaySpeed + Team_Attributes.buildUpPlayDribbling + Team_Attributes.buildUpPlayPassing)\n",
    "     as buildUp_rating\n",
    "from Team\n",
    "LEFT JOIN Team_Attributes\n",
    "on Team.team_api_id=Team_Attributes.team_api_id\n",
    "group by Team.team_api_id\")))"
   ]
  },
  {
   "cell_type": "markdown",
   "metadata": {},
   "source": [
    "making temporary data frame with team name, id and build rating"
   ]
  },
  {
   "cell_type": "code",
   "execution_count": 101,
   "metadata": {
    "collapsed": false
   },
   "outputs": [],
   "source": [
    "temp_df <- sqldf(\"select team_df.team_api_id, team_df.team_long_name as team_name, buildUp_rating_df.buildUp_rating\n",
    "from team_df\n",
    "inner join buildUp_rating_df\n",
    "on team_df.team_api_id=buildUp_rating_df.team_api_id\")"
   ]
  },
  {
   "cell_type": "markdown",
   "metadata": {},
   "source": [
    "Gathering chance creation attributes"
   ]
  },
  {
   "cell_type": "code",
   "execution_count": 102,
   "metadata": {
    "collapsed": false
   },
   "outputs": [],
   "source": [
    "chance_creation_rating_df <- data.frame(tbl(database,sql(\"select Team.team_api_id, Team.team_long_name,\n",
    "MAX( Team_Attributes.chanceCreationPassing + Team_Attributes.chanceCreationCrossing + Team_Attributes.chanceCreationCrossingClass+ Team_Attributes.chanceCreationShooting)\n",
    "     as chance_creation_rating\n",
    "from Team\n",
    "LEFT JOIN Team_Attributes\n",
    "on Team.team_api_id=Team_Attributes.team_api_id\n",
    "group by Team.team_api_id\")))"
   ]
  },
  {
   "cell_type": "code",
   "execution_count": 103,
   "metadata": {
    "collapsed": false
   },
   "outputs": [],
   "source": [
    "temp_df <- sqldf(\"select temp_df.team_api_id, temp_df.team_name, temp_df.buildUp_rating, chance_creation_rating_df.chance_creation_rating\n",
    "from temp_df\n",
    "inner join chance_creation_rating_df\n",
    "on temp_df.team_api_id=chance_creation_rating_df.team_api_id\")"
   ]
  },
  {
   "cell_type": "markdown",
   "metadata": {},
   "source": [
    "Gathering defense rating attributes"
   ]
  },
  {
   "cell_type": "code",
   "execution_count": 104,
   "metadata": {
    "collapsed": false
   },
   "outputs": [],
   "source": [
    "defense_rating_table_df <- data.frame(tbl(database,sql(\"select Team.team_api_id, Team.team_long_name,\n",
    "MAX( Team_Attributes.defencePressure + Team_Attributes.defenceAggression + Team_Attributes.defenceTeamWidth)\n",
    "   as defense_rating\n",
    "from Team\n",
    "LEFT JOIN Team_Attributes\n",
    "on Team.team_api_id=Team_Attributes.team_api_id\n",
    "group by Team.team_api_id\")))"
   ]
  },
  {
   "cell_type": "code",
   "execution_count": 105,
   "metadata": {
    "collapsed": false
   },
   "outputs": [],
   "source": [
    "temp_df <- sqldf(\"select temp_df.team_api_id, temp_df.team_name, temp_df.buildUp_rating, temp_df.chance_creation_rating,\n",
    "defense_rating_table_df.defense_rating\n",
    "from temp_df\n",
    "inner join defense_rating_table_df\n",
    "on temp_df.team_api_id=defense_rating_table_df.team_api_id\")"
   ]
  },
  {
   "cell_type": "markdown",
   "metadata": {},
   "source": [
    "Counting the number of goals for each match "
   ]
  },
  {
   "cell_type": "code",
   "execution_count": 146,
   "metadata": {
    "collapsed": true
   },
   "outputs": [],
   "source": [
    "home_team_goals <- sqldf(\"select home_team_api_id as team_id,sum(home_team_goal) as \n",
    "       no_of_goals from match group by home_team_api_id \")\n",
    "away_team_goals <- sqldf(\"select away_team_api_id as team_id,sum(away_team_goal) as \n",
    "       no_of_goals from match group by away_team_api_id \")"
   ]
  },
  {
   "cell_type": "code",
   "execution_count": 149,
   "metadata": {
    "collapsed": false
   },
   "outputs": [],
   "source": [
    "goalsDF <- sqldf(\"select * from home_team_goals\n",
    "                union all\n",
    "                select * from away_team_goals\")\n",
    "goalsDF <- sqldf(\"Select team_id,sum(no_of_goals) as total_goals from goalsDF group by team_id\")"
   ]
  },
  {
   "cell_type": "code",
   "execution_count": 150,
   "metadata": {
    "collapsed": false
   },
   "outputs": [
    {
     "data": {
      "text/html": [
       "<table>\n",
       "<thead><tr><th scope=col>team_id</th><th scope=col>total_goals</th></tr></thead>\n",
       "<tbody>\n",
       "\t<tr><td>1601</td><td>280 </td></tr>\n",
       "\t<tr><td>1773</td><td>126 </td></tr>\n",
       "\t<tr><td>1957</td><td>287 </td></tr>\n",
       "\t<tr><td>2033</td><td>138 </td></tr>\n",
       "\t<tr><td>2182</td><td>372 </td></tr>\n",
       "\t<tr><td>2183</td><td>184 </td></tr>\n",
       "\t<tr><td>2186</td><td>235 </td></tr>\n",
       "\t<tr><td>4049</td><td> 35 </td></tr>\n",
       "\t<tr><td>4064</td><td> 27 </td></tr>\n",
       "\t<tr><td>4087</td><td>180 </td></tr>\n",
       "\t<tr><td>4170</td><td> 31 </td></tr>\n",
       "\t<tr><td>6269</td><td> 34 </td></tr>\n",
       "\t<tr><td>6351</td><td> 28 </td></tr>\n",
       "\t<tr><td>6367</td><td> 27 </td></tr>\n",
       "\t<tr><td>6391</td><td> 37 </td></tr>\n",
       "\t<tr><td>6403</td><td>292 </td></tr>\n",
       "\t<tr><td>6413</td><td>204 </td></tr>\n",
       "\t<tr><td>6421</td><td> 55 </td></tr>\n",
       "\t<tr><td>6433</td><td> 74 </td></tr>\n",
       "\t<tr><td>6493</td><td>128 </td></tr>\n",
       "\t<tr><td>6547</td><td> 29 </td></tr>\n",
       "\t<tr><td>6601</td><td> 38 </td></tr>\n",
       "\t<tr><td>6631</td><td> 24 </td></tr>\n",
       "\t<tr><td>7730</td><td> 99 </td></tr>\n",
       "\t<tr><td>7788</td><td>119 </td></tr>\n",
       "\t<tr><td>7794</td><td>165 </td></tr>\n",
       "\t<tr><td>7819</td><td>220 </td></tr>\n",
       "\t<tr><td>7841</td><td>248 </td></tr>\n",
       "\t<tr><td>7842</td><td>167 </td></tr>\n",
       "\t<tr><td>7844</td><td>300 </td></tr>\n",
       "\t<tr><td>...</td><td>...</td></tr>\n",
       "\t<tr><td> 10214</td><td>332   </td></tr>\n",
       "\t<tr><td> 10215</td><td>240   </td></tr>\n",
       "\t<tr><td> 10217</td><td>366   </td></tr>\n",
       "\t<tr><td> 10218</td><td>154   </td></tr>\n",
       "\t<tr><td> 10219</td><td>153   </td></tr>\n",
       "\t<tr><td> 10228</td><td>470   </td></tr>\n",
       "\t<tr><td> 10229</td><td>492   </td></tr>\n",
       "\t<tr><td> 10233</td><td>392   </td></tr>\n",
       "\t<tr><td> 10235</td><td>489   </td></tr>\n",
       "\t<tr><td> 10238</td><td>238   </td></tr>\n",
       "\t<tr><td> 10242</td><td> 71   </td></tr>\n",
       "\t<tr><td> 10243</td><td>468   </td></tr>\n",
       "\t<tr><td> 10249</td><td>344   </td></tr>\n",
       "\t<tr><td> 10251</td><td>259   </td></tr>\n",
       "\t<tr><td> 10252</td><td>335   </td></tr>\n",
       "\t<tr><td> 10260</td><td>582   </td></tr>\n",
       "\t<tr><td> 10261</td><td>324   </td></tr>\n",
       "\t<tr><td> 10264</td><td>398   </td></tr>\n",
       "\t<tr><td> 10265</td><td>332   </td></tr>\n",
       "\t<tr><td> 10267</td><td>484   </td></tr>\n",
       "\t<tr><td> 10268</td><td> 65   </td></tr>\n",
       "\t<tr><td> 10269</td><td>415   </td></tr>\n",
       "\t<tr><td> 10278</td><td> 36   </td></tr>\n",
       "\t<tr><td> 10281</td><td>170   </td></tr>\n",
       "\t<tr><td>108893</td><td> 21   </td></tr>\n",
       "\t<tr><td>158085</td><td>101   </td></tr>\n",
       "\t<tr><td>177361</td><td> 33   </td></tr>\n",
       "\t<tr><td>188163</td><td> 34   </td></tr>\n",
       "\t<tr><td>208931</td><td> 37   </td></tr>\n",
       "\t<tr><td>274581</td><td> 71   </td></tr>\n",
       "</tbody>\n",
       "</table>\n"
      ],
      "text/latex": [
       "\\begin{tabular}{r|ll}\n",
       " team\\_id & total\\_goals\\\\\n",
       "\\hline\n",
       "\t 1601 & 280 \\\\\n",
       "\t 1773 & 126 \\\\\n",
       "\t 1957 & 287 \\\\\n",
       "\t 2033 & 138 \\\\\n",
       "\t 2182 & 372 \\\\\n",
       "\t 2183 & 184 \\\\\n",
       "\t 2186 & 235 \\\\\n",
       "\t 4049 &  35 \\\\\n",
       "\t 4064 &  27 \\\\\n",
       "\t 4087 & 180 \\\\\n",
       "\t 4170 &  31 \\\\\n",
       "\t 6269 &  34 \\\\\n",
       "\t 6351 &  28 \\\\\n",
       "\t 6367 &  27 \\\\\n",
       "\t 6391 &  37 \\\\\n",
       "\t 6403 & 292 \\\\\n",
       "\t 6413 & 204 \\\\\n",
       "\t 6421 &  55 \\\\\n",
       "\t 6433 &  74 \\\\\n",
       "\t 6493 & 128 \\\\\n",
       "\t 6547 &  29 \\\\\n",
       "\t 6601 &  38 \\\\\n",
       "\t 6631 &  24 \\\\\n",
       "\t 7730 &  99 \\\\\n",
       "\t 7788 & 119 \\\\\n",
       "\t 7794 & 165 \\\\\n",
       "\t 7819 & 220 \\\\\n",
       "\t 7841 & 248 \\\\\n",
       "\t 7842 & 167 \\\\\n",
       "\t 7844 & 300 \\\\\n",
       "\t ... & ...\\\\\n",
       "\t  10214 & 332   \\\\\n",
       "\t  10215 & 240   \\\\\n",
       "\t  10217 & 366   \\\\\n",
       "\t  10218 & 154   \\\\\n",
       "\t  10219 & 153   \\\\\n",
       "\t  10228 & 470   \\\\\n",
       "\t  10229 & 492   \\\\\n",
       "\t  10233 & 392   \\\\\n",
       "\t  10235 & 489   \\\\\n",
       "\t  10238 & 238   \\\\\n",
       "\t  10242 &  71   \\\\\n",
       "\t  10243 & 468   \\\\\n",
       "\t  10249 & 344   \\\\\n",
       "\t  10251 & 259   \\\\\n",
       "\t  10252 & 335   \\\\\n",
       "\t  10260 & 582   \\\\\n",
       "\t  10261 & 324   \\\\\n",
       "\t  10264 & 398   \\\\\n",
       "\t  10265 & 332   \\\\\n",
       "\t  10267 & 484   \\\\\n",
       "\t  10268 &  65   \\\\\n",
       "\t  10269 & 415   \\\\\n",
       "\t  10278 &  36   \\\\\n",
       "\t  10281 & 170   \\\\\n",
       "\t 108893 &  21   \\\\\n",
       "\t 158085 & 101   \\\\\n",
       "\t 177361 &  33   \\\\\n",
       "\t 188163 &  34   \\\\\n",
       "\t 208931 &  37   \\\\\n",
       "\t 274581 &  71   \\\\\n",
       "\\end{tabular}\n"
      ],
      "text/markdown": [
       "\n",
       "team_id | total_goals | \n",
       "|---|---|---|---|---|---|---|---|---|---|---|---|---|---|---|---|---|---|---|---|---|---|---|---|---|---|---|---|---|---|---|---|---|---|---|---|---|---|---|---|---|---|---|---|---|---|---|---|---|---|---|---|---|---|---|---|---|---|---|---|---|\n",
       "| 1601 | 280  | \n",
       "| 1773 | 126  | \n",
       "| 1957 | 287  | \n",
       "| 2033 | 138  | \n",
       "| 2182 | 372  | \n",
       "| 2183 | 184  | \n",
       "| 2186 | 235  | \n",
       "| 4049 |  35  | \n",
       "| 4064 |  27  | \n",
       "| 4087 | 180  | \n",
       "| 4170 |  31  | \n",
       "| 6269 |  34  | \n",
       "| 6351 |  28  | \n",
       "| 6367 |  27  | \n",
       "| 6391 |  37  | \n",
       "| 6403 | 292  | \n",
       "| 6413 | 204  | \n",
       "| 6421 |  55  | \n",
       "| 6433 |  74  | \n",
       "| 6493 | 128  | \n",
       "| 6547 |  29  | \n",
       "| 6601 |  38  | \n",
       "| 6631 |  24  | \n",
       "| 7730 |  99  | \n",
       "| 7788 | 119  | \n",
       "| 7794 | 165  | \n",
       "| 7819 | 220  | \n",
       "| 7841 | 248  | \n",
       "| 7842 | 167  | \n",
       "| 7844 | 300  | \n",
       "| ... | ... | \n",
       "|  10214 | 332    | \n",
       "|  10215 | 240    | \n",
       "|  10217 | 366    | \n",
       "|  10218 | 154    | \n",
       "|  10219 | 153    | \n",
       "|  10228 | 470    | \n",
       "|  10229 | 492    | \n",
       "|  10233 | 392    | \n",
       "|  10235 | 489    | \n",
       "|  10238 | 238    | \n",
       "|  10242 |  71    | \n",
       "|  10243 | 468    | \n",
       "|  10249 | 344    | \n",
       "|  10251 | 259    | \n",
       "|  10252 | 335    | \n",
       "|  10260 | 582    | \n",
       "|  10261 | 324    | \n",
       "|  10264 | 398    | \n",
       "|  10265 | 332    | \n",
       "|  10267 | 484    | \n",
       "|  10268 |  65    | \n",
       "|  10269 | 415    | \n",
       "|  10278 |  36    | \n",
       "|  10281 | 170    | \n",
       "| 108893 |  21    | \n",
       "| 158085 | 101    | \n",
       "| 177361 |  33    | \n",
       "| 188163 |  34    | \n",
       "| 208931 |  37    | \n",
       "| 274581 |  71    | \n",
       "\n",
       "\n"
      ],
      "text/plain": [
       "    team_id total_goals\n",
       "1   1601    280        \n",
       "2   1773    126        \n",
       "3   1957    287        \n",
       "4   2033    138        \n",
       "5   2182    372        \n",
       "6   2183    184        \n",
       "7   2186    235        \n",
       "8   4049     35        \n",
       "9   4064     27        \n",
       "10  4087    180        \n",
       "11  4170     31        \n",
       "12  6269     34        \n",
       "13  6351     28        \n",
       "14  6367     27        \n",
       "15  6391     37        \n",
       "16  6403    292        \n",
       "17  6413    204        \n",
       "18  6421     55        \n",
       "19  6433     74        \n",
       "20  6493    128        \n",
       "21  6547     29        \n",
       "22  6601     38        \n",
       "23  6631     24        \n",
       "24  7730     99        \n",
       "25  7788    119        \n",
       "26  7794    165        \n",
       "27  7819    220        \n",
       "28  7841    248        \n",
       "29  7842    167        \n",
       "30  7844    300        \n",
       "... ...     ...        \n",
       "270  10214  332        \n",
       "271  10215  240        \n",
       "272  10217  366        \n",
       "273  10218  154        \n",
       "274  10219  153        \n",
       "275  10228  470        \n",
       "276  10229  492        \n",
       "277  10233  392        \n",
       "278  10235  489        \n",
       "279  10238  238        \n",
       "280  10242   71        \n",
       "281  10243  468        \n",
       "282  10249  344        \n",
       "283  10251  259        \n",
       "284  10252  335        \n",
       "285  10260  582        \n",
       "286  10261  324        \n",
       "287  10264  398        \n",
       "288  10265  332        \n",
       "289  10267  484        \n",
       "290  10268   65        \n",
       "291  10269  415        \n",
       "292  10278   36        \n",
       "293  10281  170        \n",
       "294 108893   21        \n",
       "295 158085  101        \n",
       "296 177361   33        \n",
       "297 188163   34        \n",
       "298 208931   37        \n",
       "299 274581   71        "
      ]
     },
     "metadata": {},
     "output_type": "display_data"
    }
   ],
   "source": [
    "goalsDF"
   ]
  },
  {
   "cell_type": "code",
   "execution_count": 151,
   "metadata": {
    "collapsed": false
   },
   "outputs": [
    {
     "data": {
      "text/html": [
       "299"
      ],
      "text/latex": [
       "299"
      ],
      "text/markdown": [
       "299"
      ],
      "text/plain": [
       "[1] 299"
      ]
     },
     "metadata": {},
     "output_type": "display_data"
    }
   ],
   "source": [
    "nrow(data.frame(tbl(database,sql(\"select * from Team\"))))"
   ]
  },
  {
   "cell_type": "markdown",
   "metadata": {},
   "source": [
    "Final team data frame having all the desired data frames"
   ]
  },
  {
   "cell_type": "code",
   "execution_count": 152,
   "metadata": {
    "collapsed": false
   },
   "outputs": [],
   "source": [
    "Final_Team_DF <- sqldf(\"select temp_df.team_api_id, temp_df.team_name, temp_df.buildUp_rating, temp_df.chance_creation_rating,\n",
    "temp_df.defense_rating, goalsDF.total_goals\n",
    "from temp_df\n",
    "inner join goalsDF\n",
    "on temp_df.team_api_id=goalsDF.team_id\")"
   ]
  },
  {
   "cell_type": "markdown",
   "metadata": {},
   "source": [
    "Writing the data frames into csv files"
   ]
  },
  {
   "cell_type": "code",
   "execution_count": 189,
   "metadata": {
    "collapsed": false
   },
   "outputs": [],
   "source": [
    "write.csv(Final_Player_DF, file = \"C:/Users/nitik/Lab2/Player.csv\")"
   ]
  },
  {
   "cell_type": "code",
   "execution_count": 190,
   "metadata": {
    "collapsed": true
   },
   "outputs": [],
   "source": [
    "write.csv(Final_Team_DF, file = \"C:/Users/nitik/Lab2/Team.csv\")"
   ]
  },
  {
   "cell_type": "code",
   "execution_count": null,
   "metadata": {
    "collapsed": true
   },
   "outputs": [],
   "source": []
  }
 ],
 "metadata": {
  "kernelspec": {
   "display_name": "R",
   "language": "R",
   "name": "ir"
  },
  "language_info": {
   "codemirror_mode": "r",
   "file_extension": ".r",
   "mimetype": "text/x-r-source",
   "name": "R",
   "pygments_lexer": "r",
   "version": "3.3.2"
  }
 },
 "nbformat": 4,
 "nbformat_minor": 2
}
