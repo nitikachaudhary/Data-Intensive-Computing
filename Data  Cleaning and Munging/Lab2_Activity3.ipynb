{
 "cells": [
  {
   "cell_type": "markdown",
   "metadata": {},
   "source": [
    "Reading the data from csv into a data frame"
   ]
  },
  {
   "cell_type": "code",
   "execution_count": 3,
   "metadata": {
    "collapsed": true
   },
   "outputs": [],
   "source": [
    "dataDF <- read.csv(file=\"D:/MS_Spring2017/DIC/Lab2/June 10-July 12, 2015 - Gaming, Jobs and Broadband/June 10-July 12, 2015 - Gaming, Jobs and Broadband - CSV.csv\",\n",
    "         head=TRUE,sep=\",\")"
   ]
  },
  {
   "cell_type": "markdown",
   "metadata": {},
   "source": [
    "Data had 2001 records and 140 columns"
   ]
  },
  {
   "cell_type": "code",
   "execution_count": 350,
   "metadata": {
    "collapsed": false
   },
   "outputs": [
    {
     "data": {
      "text/html": [
       "2001"
      ],
      "text/latex": [
       "2001"
      ],
      "text/markdown": [
       "2001"
      ],
      "text/plain": [
       "[1] 2001"
      ]
     },
     "metadata": {},
     "output_type": "display_data"
    },
    {
     "data": {
      "text/html": [
       "140"
      ],
      "text/latex": [
       "140"
      ],
      "text/markdown": [
       "140"
      ],
      "text/plain": [
       "[1] 140"
      ]
     },
     "metadata": {},
     "output_type": "display_data"
    }
   ],
   "source": [
    "nrow(dataDF)\n",
    "length(dataDF)"
   ]
  },
  {
   "cell_type": "code",
   "execution_count": 351,
   "metadata": {
    "collapsed": false
   },
   "outputs": [],
   "source": [
    "library(sqldf)"
   ]
  },
  {
   "cell_type": "markdown",
   "metadata": {},
   "source": [
    "List of all the columns in the data frame"
   ]
  },
  {
   "cell_type": "code",
   "execution_count": 13,
   "metadata": {
    "collapsed": false
   },
   "outputs": [
    {
     "data": {
      "text/html": [
       "<ol class=list-inline>\n",
       "\t<li>'ï..psraid'</li>\n",
       "\t<li>'sample'</li>\n",
       "\t<li>'int_date'</li>\n",
       "\t<li>'lang'</li>\n",
       "\t<li>'usr'</li>\n",
       "\t<li>'cregion'</li>\n",
       "\t<li>'state'</li>\n",
       "\t<li>'form'</li>\n",
       "\t<li>'sex'</li>\n",
       "\t<li>'q1'</li>\n",
       "\t<li>'q3'</li>\n",
       "\t<li>'eminuse'</li>\n",
       "\t<li>'intmob'</li>\n",
       "\t<li>'intfreq'</li>\n",
       "\t<li>'home4nw'</li>\n",
       "\t<li>'bbhome1'</li>\n",
       "\t<li>'bbhome2'</li>\n",
       "\t<li>'bbhome3a'</li>\n",
       "\t<li>'bbhome3b'</li>\n",
       "\t<li>'bbhome3c'</li>\n",
       "\t<li>'bbhome3d'</li>\n",
       "\t<li>'bbhome3e'</li>\n",
       "\t<li>'device1a'</li>\n",
       "\t<li>'smart1'</li>\n",
       "\t<li>'q4'</li>\n",
       "\t<li>'bbsmart1'</li>\n",
       "\t<li>'bbsmart2'</li>\n",
       "\t<li>'bbsmart3a'</li>\n",
       "\t<li>'bbsmart3b'</li>\n",
       "\t<li>'bbsmart3c'</li>\n",
       "\t<li>'bbsmart3d'</li>\n",
       "\t<li>'bbsmart3e'</li>\n",
       "\t<li>'bbsmart3f'</li>\n",
       "\t<li>'bbsmart4'</li>\n",
       "\t<li>'cable1'</li>\n",
       "\t<li>'cable2'</li>\n",
       "\t<li>'cable3a'</li>\n",
       "\t<li>'cable3b'</li>\n",
       "\t<li>'cable3c'</li>\n",
       "\t<li>'act19'</li>\n",
       "\t<li>'act87a'</li>\n",
       "\t<li>'act87b'</li>\n",
       "\t<li>'act137'</li>\n",
       "\t<li>'q5a'</li>\n",
       "\t<li>'q5b'</li>\n",
       "\t<li>'q5c'</li>\n",
       "\t<li>'q5d'</li>\n",
       "\t<li>'q5e'</li>\n",
       "\t<li>'q5f'</li>\n",
       "\t<li>'date1a'</li>\n",
       "\t<li>'date2a'</li>\n",
       "\t<li>'date3a'</li>\n",
       "\t<li>'date3b'</li>\n",
       "\t<li>'date4a'</li>\n",
       "\t<li>'date4b'</li>\n",
       "\t<li>'date4c'</li>\n",
       "\t<li>'date4d'</li>\n",
       "\t<li>'date4e'</li>\n",
       "\t<li>'date4f'</li>\n",
       "\t<li>'game1'</li>\n",
       "\t<li>'game2a'</li>\n",
       "\t<li>'game2b'</li>\n",
       "\t<li>'game2c'</li>\n",
       "\t<li>'game2d'</li>\n",
       "\t<li>'game2e'</li>\n",
       "\t<li>'game2f'</li>\n",
       "\t<li>'game3a'</li>\n",
       "\t<li>'game3b'</li>\n",
       "\t<li>'game4'</li>\n",
       "\t<li>'emplnw'</li>\n",
       "\t<li>'emptype1'</li>\n",
       "\t<li>'emptype2'</li>\n",
       "\t<li>'emptype3'</li>\n",
       "\t<li>'stud'</li>\n",
       "\t<li>'job1a'</li>\n",
       "\t<li>'job1b'</li>\n",
       "\t<li>'job1c'</li>\n",
       "\t<li>'job1d'</li>\n",
       "\t<li>'job1e'</li>\n",
       "\t<li>'job1f'</li>\n",
       "\t<li>'job2'</li>\n",
       "\t<li>'job3a'</li>\n",
       "\t<li>'job3b'</li>\n",
       "\t<li>'job3c'</li>\n",
       "\t<li>'job3d'</li>\n",
       "\t<li>'job3e'</li>\n",
       "\t<li>'job3f'</li>\n",
       "\t<li>'job3g'</li>\n",
       "\t<li>'job3h'</li>\n",
       "\t<li>'job4'</li>\n",
       "\t<li>'smjob1'</li>\n",
       "\t<li>'smjob2a'</li>\n",
       "\t<li>'smjob2b'</li>\n",
       "\t<li>'smjob2c'</li>\n",
       "\t<li>'smjob2d'</li>\n",
       "\t<li>'smjob2e'</li>\n",
       "\t<li>'smjob3'</li>\n",
       "\t<li>'smjob4a'</li>\n",
       "\t<li>'smjob4b'</li>\n",
       "\t<li>'smjob4c'</li>\n",
       "\t<li>'smjob4d'</li>\n",
       "\t<li>'smjob4e'</li>\n",
       "\t<li>'snsjob1a'</li>\n",
       "\t<li>'snsjob1b'</li>\n",
       "\t<li>'snsjob1c'</li>\n",
       "\t<li>'snsjob2a'</li>\n",
       "\t<li>'snsjob2b'</li>\n",
       "\t<li>'job5a'</li>\n",
       "\t<li>'job5b'</li>\n",
       "\t<li>'job5c'</li>\n",
       "\t<li>'job5d'</li>\n",
       "\t<li>'auto1a'</li>\n",
       "\t<li>'auto1b'</li>\n",
       "\t<li>'auto1c'</li>\n",
       "\t<li>'auto1d'</li>\n",
       "\t<li>'auto1e'</li>\n",
       "\t<li>'auto2'</li>\n",
       "\t<li>'auto3'</li>\n",
       "\t<li>'age'</li>\n",
       "\t<li>'marital'</li>\n",
       "\t<li>'hh1'</li>\n",
       "\t<li>'par'</li>\n",
       "\t<li>'kidage1'</li>\n",
       "\t<li>'kidage2'</li>\n",
       "\t<li>'kidage3'</li>\n",
       "\t<li>'educ2'</li>\n",
       "\t<li>'edinst'</li>\n",
       "\t<li>'disa'</li>\n",
       "\t<li>'party'</li>\n",
       "\t<li>'partyln'</li>\n",
       "\t<li>'ideo'</li>\n",
       "\t<li>'hisp'</li>\n",
       "\t<li>'birth_hisp'</li>\n",
       "\t<li>'race'</li>\n",
       "\t<li>'inc'</li>\n",
       "\t<li>'ql1a'</li>\n",
       "\t<li>'qc1'</li>\n",
       "\t<li>'zipcode'</li>\n",
       "\t<li>'weight'</li>\n",
       "\t<li>'standwt'</li>\n",
       "</ol>\n"
      ],
      "text/latex": [
       "\\begin{enumerate*}\n",
       "\\item 'ï..psraid'\n",
       "\\item 'sample'\n",
       "\\item 'int\\_date'\n",
       "\\item 'lang'\n",
       "\\item 'usr'\n",
       "\\item 'cregion'\n",
       "\\item 'state'\n",
       "\\item 'form'\n",
       "\\item 'sex'\n",
       "\\item 'q1'\n",
       "\\item 'q3'\n",
       "\\item 'eminuse'\n",
       "\\item 'intmob'\n",
       "\\item 'intfreq'\n",
       "\\item 'home4nw'\n",
       "\\item 'bbhome1'\n",
       "\\item 'bbhome2'\n",
       "\\item 'bbhome3a'\n",
       "\\item 'bbhome3b'\n",
       "\\item 'bbhome3c'\n",
       "\\item 'bbhome3d'\n",
       "\\item 'bbhome3e'\n",
       "\\item 'device1a'\n",
       "\\item 'smart1'\n",
       "\\item 'q4'\n",
       "\\item 'bbsmart1'\n",
       "\\item 'bbsmart2'\n",
       "\\item 'bbsmart3a'\n",
       "\\item 'bbsmart3b'\n",
       "\\item 'bbsmart3c'\n",
       "\\item 'bbsmart3d'\n",
       "\\item 'bbsmart3e'\n",
       "\\item 'bbsmart3f'\n",
       "\\item 'bbsmart4'\n",
       "\\item 'cable1'\n",
       "\\item 'cable2'\n",
       "\\item 'cable3a'\n",
       "\\item 'cable3b'\n",
       "\\item 'cable3c'\n",
       "\\item 'act19'\n",
       "\\item 'act87a'\n",
       "\\item 'act87b'\n",
       "\\item 'act137'\n",
       "\\item 'q5a'\n",
       "\\item 'q5b'\n",
       "\\item 'q5c'\n",
       "\\item 'q5d'\n",
       "\\item 'q5e'\n",
       "\\item 'q5f'\n",
       "\\item 'date1a'\n",
       "\\item 'date2a'\n",
       "\\item 'date3a'\n",
       "\\item 'date3b'\n",
       "\\item 'date4a'\n",
       "\\item 'date4b'\n",
       "\\item 'date4c'\n",
       "\\item 'date4d'\n",
       "\\item 'date4e'\n",
       "\\item 'date4f'\n",
       "\\item 'game1'\n",
       "\\item 'game2a'\n",
       "\\item 'game2b'\n",
       "\\item 'game2c'\n",
       "\\item 'game2d'\n",
       "\\item 'game2e'\n",
       "\\item 'game2f'\n",
       "\\item 'game3a'\n",
       "\\item 'game3b'\n",
       "\\item 'game4'\n",
       "\\item 'emplnw'\n",
       "\\item 'emptype1'\n",
       "\\item 'emptype2'\n",
       "\\item 'emptype3'\n",
       "\\item 'stud'\n",
       "\\item 'job1a'\n",
       "\\item 'job1b'\n",
       "\\item 'job1c'\n",
       "\\item 'job1d'\n",
       "\\item 'job1e'\n",
       "\\item 'job1f'\n",
       "\\item 'job2'\n",
       "\\item 'job3a'\n",
       "\\item 'job3b'\n",
       "\\item 'job3c'\n",
       "\\item 'job3d'\n",
       "\\item 'job3e'\n",
       "\\item 'job3f'\n",
       "\\item 'job3g'\n",
       "\\item 'job3h'\n",
       "\\item 'job4'\n",
       "\\item 'smjob1'\n",
       "\\item 'smjob2a'\n",
       "\\item 'smjob2b'\n",
       "\\item 'smjob2c'\n",
       "\\item 'smjob2d'\n",
       "\\item 'smjob2e'\n",
       "\\item 'smjob3'\n",
       "\\item 'smjob4a'\n",
       "\\item 'smjob4b'\n",
       "\\item 'smjob4c'\n",
       "\\item 'smjob4d'\n",
       "\\item 'smjob4e'\n",
       "\\item 'snsjob1a'\n",
       "\\item 'snsjob1b'\n",
       "\\item 'snsjob1c'\n",
       "\\item 'snsjob2a'\n",
       "\\item 'snsjob2b'\n",
       "\\item 'job5a'\n",
       "\\item 'job5b'\n",
       "\\item 'job5c'\n",
       "\\item 'job5d'\n",
       "\\item 'auto1a'\n",
       "\\item 'auto1b'\n",
       "\\item 'auto1c'\n",
       "\\item 'auto1d'\n",
       "\\item 'auto1e'\n",
       "\\item 'auto2'\n",
       "\\item 'auto3'\n",
       "\\item 'age'\n",
       "\\item 'marital'\n",
       "\\item 'hh1'\n",
       "\\item 'par'\n",
       "\\item 'kidage1'\n",
       "\\item 'kidage2'\n",
       "\\item 'kidage3'\n",
       "\\item 'educ2'\n",
       "\\item 'edinst'\n",
       "\\item 'disa'\n",
       "\\item 'party'\n",
       "\\item 'partyln'\n",
       "\\item 'ideo'\n",
       "\\item 'hisp'\n",
       "\\item 'birth\\_hisp'\n",
       "\\item 'race'\n",
       "\\item 'inc'\n",
       "\\item 'ql1a'\n",
       "\\item 'qc1'\n",
       "\\item 'zipcode'\n",
       "\\item 'weight'\n",
       "\\item 'standwt'\n",
       "\\end{enumerate*}\n"
      ],
      "text/markdown": [
       "1. 'ï..psraid'\n",
       "2. 'sample'\n",
       "3. 'int_date'\n",
       "4. 'lang'\n",
       "5. 'usr'\n",
       "6. 'cregion'\n",
       "7. 'state'\n",
       "8. 'form'\n",
       "9. 'sex'\n",
       "10. 'q1'\n",
       "11. 'q3'\n",
       "12. 'eminuse'\n",
       "13. 'intmob'\n",
       "14. 'intfreq'\n",
       "15. 'home4nw'\n",
       "16. 'bbhome1'\n",
       "17. 'bbhome2'\n",
       "18. 'bbhome3a'\n",
       "19. 'bbhome3b'\n",
       "20. 'bbhome3c'\n",
       "21. 'bbhome3d'\n",
       "22. 'bbhome3e'\n",
       "23. 'device1a'\n",
       "24. 'smart1'\n",
       "25. 'q4'\n",
       "26. 'bbsmart1'\n",
       "27. 'bbsmart2'\n",
       "28. 'bbsmart3a'\n",
       "29. 'bbsmart3b'\n",
       "30. 'bbsmart3c'\n",
       "31. 'bbsmart3d'\n",
       "32. 'bbsmart3e'\n",
       "33. 'bbsmart3f'\n",
       "34. 'bbsmart4'\n",
       "35. 'cable1'\n",
       "36. 'cable2'\n",
       "37. 'cable3a'\n",
       "38. 'cable3b'\n",
       "39. 'cable3c'\n",
       "40. 'act19'\n",
       "41. 'act87a'\n",
       "42. 'act87b'\n",
       "43. 'act137'\n",
       "44. 'q5a'\n",
       "45. 'q5b'\n",
       "46. 'q5c'\n",
       "47. 'q5d'\n",
       "48. 'q5e'\n",
       "49. 'q5f'\n",
       "50. 'date1a'\n",
       "51. 'date2a'\n",
       "52. 'date3a'\n",
       "53. 'date3b'\n",
       "54. 'date4a'\n",
       "55. 'date4b'\n",
       "56. 'date4c'\n",
       "57. 'date4d'\n",
       "58. 'date4e'\n",
       "59. 'date4f'\n",
       "60. 'game1'\n",
       "61. 'game2a'\n",
       "62. 'game2b'\n",
       "63. 'game2c'\n",
       "64. 'game2d'\n",
       "65. 'game2e'\n",
       "66. 'game2f'\n",
       "67. 'game3a'\n",
       "68. 'game3b'\n",
       "69. 'game4'\n",
       "70. 'emplnw'\n",
       "71. 'emptype1'\n",
       "72. 'emptype2'\n",
       "73. 'emptype3'\n",
       "74. 'stud'\n",
       "75. 'job1a'\n",
       "76. 'job1b'\n",
       "77. 'job1c'\n",
       "78. 'job1d'\n",
       "79. 'job1e'\n",
       "80. 'job1f'\n",
       "81. 'job2'\n",
       "82. 'job3a'\n",
       "83. 'job3b'\n",
       "84. 'job3c'\n",
       "85. 'job3d'\n",
       "86. 'job3e'\n",
       "87. 'job3f'\n",
       "88. 'job3g'\n",
       "89. 'job3h'\n",
       "90. 'job4'\n",
       "91. 'smjob1'\n",
       "92. 'smjob2a'\n",
       "93. 'smjob2b'\n",
       "94. 'smjob2c'\n",
       "95. 'smjob2d'\n",
       "96. 'smjob2e'\n",
       "97. 'smjob3'\n",
       "98. 'smjob4a'\n",
       "99. 'smjob4b'\n",
       "100. 'smjob4c'\n",
       "101. 'smjob4d'\n",
       "102. 'smjob4e'\n",
       "103. 'snsjob1a'\n",
       "104. 'snsjob1b'\n",
       "105. 'snsjob1c'\n",
       "106. 'snsjob2a'\n",
       "107. 'snsjob2b'\n",
       "108. 'job5a'\n",
       "109. 'job5b'\n",
       "110. 'job5c'\n",
       "111. 'job5d'\n",
       "112. 'auto1a'\n",
       "113. 'auto1b'\n",
       "114. 'auto1c'\n",
       "115. 'auto1d'\n",
       "116. 'auto1e'\n",
       "117. 'auto2'\n",
       "118. 'auto3'\n",
       "119. 'age'\n",
       "120. 'marital'\n",
       "121. 'hh1'\n",
       "122. 'par'\n",
       "123. 'kidage1'\n",
       "124. 'kidage2'\n",
       "125. 'kidage3'\n",
       "126. 'educ2'\n",
       "127. 'edinst'\n",
       "128. 'disa'\n",
       "129. 'party'\n",
       "130. 'partyln'\n",
       "131. 'ideo'\n",
       "132. 'hisp'\n",
       "133. 'birth_hisp'\n",
       "134. 'race'\n",
       "135. 'inc'\n",
       "136. 'ql1a'\n",
       "137. 'qc1'\n",
       "138. 'zipcode'\n",
       "139. 'weight'\n",
       "140. 'standwt'\n",
       "\n",
       "\n"
      ],
      "text/plain": [
       "  [1] \"ï..psraid\"  \"sample\"     \"int_date\"   \"lang\"       \"usr\"       \n",
       "  [6] \"cregion\"    \"state\"      \"form\"       \"sex\"        \"q1\"        \n",
       " [11] \"q3\"         \"eminuse\"    \"intmob\"     \"intfreq\"    \"home4nw\"   \n",
       " [16] \"bbhome1\"    \"bbhome2\"    \"bbhome3a\"   \"bbhome3b\"   \"bbhome3c\"  \n",
       " [21] \"bbhome3d\"   \"bbhome3e\"   \"device1a\"   \"smart1\"     \"q4\"        \n",
       " [26] \"bbsmart1\"   \"bbsmart2\"   \"bbsmart3a\"  \"bbsmart3b\"  \"bbsmart3c\" \n",
       " [31] \"bbsmart3d\"  \"bbsmart3e\"  \"bbsmart3f\"  \"bbsmart4\"   \"cable1\"    \n",
       " [36] \"cable2\"     \"cable3a\"    \"cable3b\"    \"cable3c\"    \"act19\"     \n",
       " [41] \"act87a\"     \"act87b\"     \"act137\"     \"q5a\"        \"q5b\"       \n",
       " [46] \"q5c\"        \"q5d\"        \"q5e\"        \"q5f\"        \"date1a\"    \n",
       " [51] \"date2a\"     \"date3a\"     \"date3b\"     \"date4a\"     \"date4b\"    \n",
       " [56] \"date4c\"     \"date4d\"     \"date4e\"     \"date4f\"     \"game1\"     \n",
       " [61] \"game2a\"     \"game2b\"     \"game2c\"     \"game2d\"     \"game2e\"    \n",
       " [66] \"game2f\"     \"game3a\"     \"game3b\"     \"game4\"      \"emplnw\"    \n",
       " [71] \"emptype1\"   \"emptype2\"   \"emptype3\"   \"stud\"       \"job1a\"     \n",
       " [76] \"job1b\"      \"job1c\"      \"job1d\"      \"job1e\"      \"job1f\"     \n",
       " [81] \"job2\"       \"job3a\"      \"job3b\"      \"job3c\"      \"job3d\"     \n",
       " [86] \"job3e\"      \"job3f\"      \"job3g\"      \"job3h\"      \"job4\"      \n",
       " [91] \"smjob1\"     \"smjob2a\"    \"smjob2b\"    \"smjob2c\"    \"smjob2d\"   \n",
       " [96] \"smjob2e\"    \"smjob3\"     \"smjob4a\"    \"smjob4b\"    \"smjob4c\"   \n",
       "[101] \"smjob4d\"    \"smjob4e\"    \"snsjob1a\"   \"snsjob1b\"   \"snsjob1c\"  \n",
       "[106] \"snsjob2a\"   \"snsjob2b\"   \"job5a\"      \"job5b\"      \"job5c\"     \n",
       "[111] \"job5d\"      \"auto1a\"     \"auto1b\"     \"auto1c\"     \"auto1d\"    \n",
       "[116] \"auto1e\"     \"auto2\"      \"auto3\"      \"age\"        \"marital\"   \n",
       "[121] \"hh1\"        \"par\"        \"kidage1\"    \"kidage2\"    \"kidage3\"   \n",
       "[126] \"educ2\"      \"edinst\"     \"disa\"       \"party\"      \"partyln\"   \n",
       "[131] \"ideo\"       \"hisp\"       \"birth_hisp\" \"race\"       \"inc\"       \n",
       "[136] \"ql1a\"       \"qc1\"        \"zipcode\"    \"weight\"     \"standwt\"   "
      ]
     },
     "metadata": {},
     "output_type": "display_data"
    }
   ],
   "source": [
    "colnames(dataDF)"
   ]
  },
  {
   "cell_type": "markdown",
   "metadata": {},
   "source": [
    "Question 1: The distribution of no of kids of different age groups among various relationshio status holders\n",
    "           For eg. No of kids married people have or people who stay in live-in"
   ]
  },
  {
   "cell_type": "markdown",
   "metadata": {},
   "source": [
    "Queries written consecutively to find the hypothesis for the above question"
   ]
  },
  {
   "cell_type": "code",
   "execution_count": 354,
   "metadata": {
    "collapsed": false
   },
   "outputs": [],
   "source": [
    "kids_age_survey <- sqldf(\"select sum(kidage1) as kids_less_than_5,sum(kidage2) as kids_between_6_and_11,\n",
    "       sum(kidage3) as kids_between_12_and_17,  marital from dataDF where par=1 and marital=1\n",
    "       union\n",
    "       select sum(kidage1) as kids_less_than_5,sum(kidage2) as kids_between_6_and_11,\n",
    "       sum(kidage3) as kids_between_12_and_17,marital from dataDF where par=1 and marital=2\n",
    "       union\n",
    "       select sum(kidage1) as kids_less_than_5,sum(kidage2) as kids_between_6_and_11,\n",
    "       sum(kidage3) as kids_between_12_and_17,marital from dataDF where par=1 and marital=3\n",
    "       union\n",
    "       select sum(kidage1) as kids_less_than_5,sum(kidage2) as kids_between_6_and_11,\n",
    "       sum(kidage3) as kids_between_12_and_17,marital from dataDF where par=1 and marital=4\n",
    "       union\n",
    "       select sum(kidage1) as kids_less_than_5,sum(kidage2) as kids_between_6_and_11,\n",
    "       sum(kidage3) as kids_between_12_and_17,marital from dataDF where par=1 and marital=5\n",
    "       union\n",
    "       select sum(kidage1) as kids_less_than_5,sum(kidage2) as kids_between_6_and_11,\n",
    "       sum(kidage3) as kids_between_12_and_17,marital from dataDF where par=1 and marital=6\n",
    "       union\n",
    "       select sum(kidage1) as kids_less_than_5,sum(kidage2) as kids_between_6_and_11,\n",
    "       sum(kidage3) as kids_between_12_and_17,marital from dataDF where par=1 and marital=8 or marital=9\")"
   ]
  },
  {
   "cell_type": "code",
   "execution_count": 356,
   "metadata": {
    "collapsed": false
   },
   "outputs": [],
   "source": [
    "kids_age_survey <- sqldf(\"select * from kids_age_survey order by marital\")"
   ]
  },
  {
   "cell_type": "markdown",
   "metadata": {},
   "source": [
    "Adding the defintion for the marital integer reponses"
   ]
  },
  {
   "cell_type": "code",
   "execution_count": 358,
   "metadata": {
    "collapsed": false
   },
   "outputs": [],
   "source": [
    "kids_age_survey[\"status\"] <- c(\"Married\",\"Live-in\",\"Divorced\",\"Separated\",\"Widowed\",\"Never \\nbeen\\nMarried\",\"Refused\\nto\\nAnswer\")"
   ]
  },
  {
   "cell_type": "markdown",
   "metadata": {},
   "source": [
    "The final survey data frame generated from the queries"
   ]
  },
  {
   "cell_type": "code",
   "execution_count": 359,
   "metadata": {
    "collapsed": false
   },
   "outputs": [
    {
     "data": {
      "text/html": [
       "<table>\n",
       "<thead><tr><th scope=col>kids_less_than_5</th><th scope=col>kids_between_6_and_11</th><th scope=col>kids_between_12_and_17</th><th scope=col>marital</th><th scope=col>status</th></tr></thead>\n",
       "<tbody>\n",
       "\t<tr><td>245                  </td><td>238                  </td><td>279                  </td><td>1                    </td><td>Married              </td></tr>\n",
       "\t<tr><td> 40                  </td><td> 44                  </td><td> 31                  </td><td>2                    </td><td>Live-in              </td></tr>\n",
       "\t<tr><td> 13                  </td><td> 22                  </td><td> 24                  </td><td>3                    </td><td>Divorced             </td></tr>\n",
       "\t<tr><td> 13                  </td><td> 10                  </td><td>  8                  </td><td>4                    </td><td>Separated            </td></tr>\n",
       "\t<tr><td>  3                  </td><td>  1                  </td><td>  7                  </td><td>5                    </td><td>Widowed              </td></tr>\n",
       "\t<tr><td> 35                  </td><td> 27                  </td><td> 26                  </td><td>6                    </td><td>Never \n",
       "been\n",
       "Married</td></tr>\n",
       "\t<tr><td>  0                  </td><td>  1                  </td><td>  1                  </td><td>9                    </td><td>Refused\n",
       "to\n",
       "Answer  </td></tr>\n",
       "</tbody>\n",
       "</table>\n"
      ],
      "text/latex": [
       "\\begin{tabular}{r|lllll}\n",
       " kids\\_less\\_than\\_5 & kids\\_between\\_6\\_and\\_11 & kids\\_between\\_12\\_and\\_17 & marital & status\\\\\n",
       "\\hline\n",
       "\t 245                   & 238                   & 279                   & 1                     & Married              \\\\\n",
       "\t  40                   &  44                   &  31                   & 2                     & Live-in              \\\\\n",
       "\t  13                   &  22                   &  24                   & 3                     & Divorced             \\\\\n",
       "\t  13                   &  10                   &   8                   & 4                     & Separated            \\\\\n",
       "\t   3                   &   1                   &   7                   & 5                     & Widowed              \\\\\n",
       "\t  35                   &  27                   &  26                   & 6                     & Never \n",
       "been\n",
       "Married\\\\\n",
       "\t   0                   &   1                   &   1                   & 9                     & Refused\n",
       "to\n",
       "Answer  \\\\\n",
       "\\end{tabular}\n"
      ],
      "text/markdown": [
       "\n",
       "kids_less_than_5 | kids_between_6_and_11 | kids_between_12_and_17 | marital | status | \n",
       "|---|---|---|---|---|---|---|\n",
       "| 245                   | 238                   | 279                   | 1                     | Married               | \n",
       "|  40                   |  44                   |  31                   | 2                     | Live-in               | \n",
       "|  13                   |  22                   |  24                   | 3                     | Divorced              | \n",
       "|  13                   |  10                   |   8                   | 4                     | Separated             | \n",
       "|   3                   |   1                   |   7                   | 5                     | Widowed               | \n",
       "|  35                   |  27                   |  26                   | 6                     | Never \n",
       "been\n",
       "Married | \n",
       "|   0                   |   1                   |   1                   | 9                     | Refused\n",
       "to\n",
       "Answer   | \n",
       "\n",
       "\n"
      ],
      "text/plain": [
       "  kids_less_than_5 kids_between_6_and_11 kids_between_12_and_17 marital\n",
       "1 245              238                   279                    1      \n",
       "2  40               44                    31                    2      \n",
       "3  13               22                    24                    3      \n",
       "4  13               10                     8                    4      \n",
       "5   3                1                     7                    5      \n",
       "6  35               27                    26                    6      \n",
       "7   0                1                     1                    9      \n",
       "  status               \n",
       "1 Married              \n",
       "2 Live-in              \n",
       "3 Divorced             \n",
       "4 Separated            \n",
       "5 Widowed              \n",
       "6 Never \\nbeen\\nMarried\n",
       "7 Refused\\nto\\nAnswer  "
      ]
     },
     "metadata": {},
     "output_type": "display_data"
    }
   ],
   "source": [
    "kids_age_survey"
   ]
  },
  {
   "cell_type": "markdown",
   "metadata": {},
   "source": [
    "A plot plotted to generate hypothesis from the data frame"
   ]
  },
  {
   "cell_type": "code",
   "execution_count": 361,
   "metadata": {
    "collapsed": false,
    "scrolled": true
   },
   "outputs": [
    {
     "data": {},
     "metadata": {},
     "output_type": "display_data"
    },
    {
     "data": {
      "image/png": "[encoded data removed]",
      "text/plain": [
       "plot without title"
      ]
     },
     "metadata": {},
     "output_type": "display_data"
    }
   ],
   "source": [
    "histogram <- melt(kids_age_survey[,c(1,2,3,5)],id='status')\n",
    "ggplot(histogram, aes(x=status, y=value, fill=variable))+geom_bar(stat='identity', position='dodge')+\n",
    "labs(title=\"Kids Variation for Parents\")"
   ]
  },
  {
   "cell_type": "markdown",
   "metadata": {},
   "source": [
    "The plot states that married poeple have the greatest number of kids and then live in and divorced."
   ]
  },
  {
   "cell_type": "markdown",
   "metadata": {
    "collapsed": true
   },
   "source": [
    "Question 2: The men and women distribution at different types of work places\n",
    "          eg. How many men and women work at large cooperation"
   ]
  },
  {
   "cell_type": "markdown",
   "metadata": {},
   "source": [
    "Queries to evaluate the above question"
   ]
  },
  {
   "cell_type": "code",
   "execution_count": 363,
   "metadata": {
    "collapsed": false
   },
   "outputs": [],
   "source": [
    "men_df <- sqldf(\"select emptype1 as Company,count(*) as men from dataDF where sex=1 and emptype1=1\n",
    "       union\n",
    "       select emptype1 as Company,count(*) as men from dataDF where sex=1 and emptype1=2\n",
    "       union\n",
    "       select emptype1 as Company,count(*) as men from dataDF where sex=1 and emptype1=3\n",
    "       union\n",
    "       select emptype1 as Company,count(*) as men from dataDF where sex=1 and emptype1=4\n",
    "       union\n",
    "       select emptype1 as Company,count(*) as men from dataDF where sex=1 and emptype1=5\n",
    "       union\n",
    "       select emptype1 as Company,count(*) as men from dataDF where sex=1 and emptype1=6\n",
    "       union\n",
    "       select emptype1 as Company,count(*) as men from dataDF where (emptype1=7 \n",
    "       or emptype1=8 or emptype1=98 or emptype1=99) and sex=1\")"
   ]
  },
  {
   "cell_type": "markdown",
   "metadata": {},
   "source": [
    "data frame consisting of details for men. Adding the defintion for each of the company type"
   ]
  },
  {
   "cell_type": "code",
   "execution_count": 364,
   "metadata": {
    "collapsed": true
   },
   "outputs": [],
   "source": [
    "men_df[\"Type\"] <- c(\"Large_Coop\",\"Medium_Coop\",\"Business\",\"Govt\",\"Edu_Inst\",\"NGO\",\"Others\")"
   ]
  },
  {
   "cell_type": "code",
   "execution_count": 365,
   "metadata": {
    "collapsed": false
   },
   "outputs": [
    {
     "data": {
      "text/html": [
       "<table>\n",
       "<thead><tr><th scope=col>Company</th><th scope=col>men</th><th scope=col>Type</th></tr></thead>\n",
       "<tbody>\n",
       "\t<tr><td>1          </td><td>191        </td><td>Large_Coop </td></tr>\n",
       "\t<tr><td>2          </td><td>114        </td><td>Medium_Coop</td></tr>\n",
       "\t<tr><td>3          </td><td>169        </td><td>Business   </td></tr>\n",
       "\t<tr><td>4          </td><td> 54        </td><td>Govt       </td></tr>\n",
       "\t<tr><td>5          </td><td> 38        </td><td>Edu_Inst   </td></tr>\n",
       "\t<tr><td>6          </td><td> 32        </td><td>NGO        </td></tr>\n",
       "\t<tr><td>8          </td><td> 26        </td><td>Others     </td></tr>\n",
       "</tbody>\n",
       "</table>\n"
      ],
      "text/latex": [
       "\\begin{tabular}{r|lll}\n",
       " Company & men & Type\\\\\n",
       "\\hline\n",
       "\t 1             & 191           & Large\\_Coop \\\\\n",
       "\t 2             & 114           & Medium\\_Coop\\\\\n",
       "\t 3           & 169         & Business   \\\\\n",
       "\t 4           &  54         & Govt       \\\\\n",
       "\t 5             &  38           & Edu\\_Inst   \\\\\n",
       "\t 6           &  32         & NGO        \\\\\n",
       "\t 8           &  26         & Others     \\\\\n",
       "\\end{tabular}\n"
      ],
      "text/markdown": [
       "\n",
       "Company | men | Type | \n",
       "|---|---|---|---|---|---|---|\n",
       "| 1           | 191         | Large_Coop  | \n",
       "| 2           | 114         | Medium_Coop | \n",
       "| 3           | 169         | Business    | \n",
       "| 4           |  54         | Govt        | \n",
       "| 5           |  38         | Edu_Inst    | \n",
       "| 6           |  32         | NGO         | \n",
       "| 8           |  26         | Others      | \n",
       "\n",
       "\n"
      ],
      "text/plain": [
       "  Company men Type       \n",
       "1 1       191 Large_Coop \n",
       "2 2       114 Medium_Coop\n",
       "3 3       169 Business   \n",
       "4 4        54 Govt       \n",
       "5 5        38 Edu_Inst   \n",
       "6 6        32 NGO        \n",
       "7 8        26 Others     "
      ]
     },
     "metadata": {},
     "output_type": "display_data"
    }
   ],
   "source": [
    "men_df"
   ]
  },
  {
   "cell_type": "code",
   "execution_count": 366,
   "metadata": {
    "collapsed": false
   },
   "outputs": [],
   "source": [
    "women_df <- sqldf(\"select emptype1 as Company,count(*) as women from dataDF where sex=2 and emptype1=1\n",
    "       union\n",
    "       select emptype1 as Company,count(*) as women from dataDF where sex=2 and emptype1=2\n",
    "       union\n",
    "       select emptype1 as Company,count(*) as women from dataDF where sex=2 and emptype1=3\n",
    "       union\n",
    "       select emptype1 as Company,count(*) as women from dataDF where sex=2 and emptype1=4\n",
    "       union\n",
    "       select emptype1 as Company,count(*) as women from dataDF where sex=2 and emptype1=5\n",
    "       union\n",
    "       select emptype1 as Company,count(*) as women from dataDF where sex=2 and emptype1=6\n",
    "       union\n",
    "       select emptype1 as Company,count(*) as women from dataDF where(emptype1=7 \n",
    "       or emptype1=8 or emptype1=98 or emptype1=99) and sex=2\")"
   ]
  },
  {
   "cell_type": "markdown",
   "metadata": {},
   "source": [
    "Data frame consisting the details for women. Adding the definition for each of the work place"
   ]
  },
  {
   "cell_type": "code",
   "execution_count": 379,
   "metadata": {
    "collapsed": true
   },
   "outputs": [],
   "source": [
    "women_df[\"Type\"] <- c(\"Large_Coop\",\"Medium_Coop\",\"Business\",\"Govt\",\"Edu_Inst\",\"NGO\",\"Others\")"
   ]
  },
  {
   "cell_type": "markdown",
   "metadata": {},
   "source": [
    "Merging both the data frames into one"
   ]
  },
  {
   "cell_type": "code",
   "execution_count": 380,
   "metadata": {
    "collapsed": false
   },
   "outputs": [],
   "source": [
    "company_df <- merge(men_df,women_df,by='Type')"
   ]
  },
  {
   "cell_type": "code",
   "execution_count": 381,
   "metadata": {
    "collapsed": false,
    "scrolled": true
   },
   "outputs": [
    {
     "data": {
      "text/html": [
       "<table>\n",
       "<thead><tr><th scope=col>Type</th><th scope=col>Company.x</th><th scope=col>men</th><th scope=col>Company.y</th><th scope=col>women</th></tr></thead>\n",
       "<tbody>\n",
       "\t<tr><td>Business   </td><td>3          </td><td>169        </td><td>3          </td><td> 97        </td></tr>\n",
       "\t<tr><td>Edu_Inst   </td><td>5          </td><td> 38        </td><td>5          </td><td> 80        </td></tr>\n",
       "\t<tr><td>Govt       </td><td>4          </td><td> 54        </td><td>4          </td><td> 36        </td></tr>\n",
       "\t<tr><td>Large_Coop </td><td>1          </td><td>191        </td><td>1          </td><td>133        </td></tr>\n",
       "\t<tr><td>Medium_Coop</td><td>2          </td><td>114        </td><td>2          </td><td> 51        </td></tr>\n",
       "\t<tr><td>NGO        </td><td>6          </td><td> 32        </td><td>6          </td><td> 51        </td></tr>\n",
       "\t<tr><td>Others     </td><td>8          </td><td> 26        </td><td>7          </td><td> 28        </td></tr>\n",
       "</tbody>\n",
       "</table>\n"
      ],
      "text/latex": [
       "\\begin{tabular}{r|lllll}\n",
       " Type & Company.x & men & Company.y & women\\\\\n",
       "\\hline\n",
       "\t Business    & 3           & 169         & 3           &  97        \\\\\n",
       "\t Edu\\_Inst    & 5             &  38           & 5             &  80          \\\\\n",
       "\t Govt        & 4           &  54         & 4           &  36        \\\\\n",
       "\t Large\\_Coop  & 1             & 191           & 1             & 133          \\\\\n",
       "\t Medium\\_Coop & 2             & 114           & 2             &  51          \\\\\n",
       "\t NGO         & 6           &  32         & 6           &  51        \\\\\n",
       "\t Others      & 8           &  26         & 7           &  28        \\\\\n",
       "\\end{tabular}\n"
      ],
      "text/markdown": [
       "\n",
       "Type | Company.x | men | Company.y | women | \n",
       "|---|---|---|---|---|---|---|\n",
       "| Business    | 3           | 169         | 3           |  97         | \n",
       "| Edu_Inst    | 5           |  38         | 5           |  80         | \n",
       "| Govt        | 4           |  54         | 4           |  36         | \n",
       "| Large_Coop  | 1           | 191         | 1           | 133         | \n",
       "| Medium_Coop | 2           | 114         | 2           |  51         | \n",
       "| NGO         | 6           |  32         | 6           |  51         | \n",
       "| Others      | 8           |  26         | 7           |  28         | \n",
       "\n",
       "\n"
      ],
      "text/plain": [
       "  Type        Company.x men Company.y women\n",
       "1 Business    3         169 3          97  \n",
       "2 Edu_Inst    5          38 5          80  \n",
       "3 Govt        4          54 4          36  \n",
       "4 Large_Coop  1         191 1         133  \n",
       "5 Medium_Coop 2         114 2          51  \n",
       "6 NGO         6          32 6          51  \n",
       "7 Others      8          26 7          28  "
      ]
     },
     "metadata": {},
     "output_type": "display_data"
    }
   ],
   "source": [
    "company_df"
   ]
  },
  {
   "cell_type": "code",
   "execution_count": 382,
   "metadata": {
    "collapsed": true
   },
   "outputs": [],
   "source": [
    "company_df <- subset(company_df, select = -c(Company.x,Company.y) )"
   ]
  },
  {
   "cell_type": "markdown",
   "metadata": {},
   "source": [
    "Final data frame consisting of men/women distribution for different work places"
   ]
  },
  {
   "cell_type": "code",
   "execution_count": 371,
   "metadata": {
    "collapsed": false
   },
   "outputs": [
    {
     "data": {
      "text/html": [
       "<table>\n",
       "<thead><tr><th scope=col>Type</th><th scope=col>men</th><th scope=col>women</th></tr></thead>\n",
       "<tbody>\n",
       "\t<tr><td>Business   </td><td>169        </td><td> 97        </td></tr>\n",
       "\t<tr><td>Edu_Inst   </td><td> 38        </td><td> 80        </td></tr>\n",
       "\t<tr><td>Govt       </td><td> 54        </td><td> 36        </td></tr>\n",
       "\t<tr><td>Large_Coop </td><td>191        </td><td>133        </td></tr>\n",
       "\t<tr><td>Medium_Coop</td><td>114        </td><td> 51        </td></tr>\n",
       "\t<tr><td>NGO        </td><td> 32        </td><td> 51        </td></tr>\n",
       "\t<tr><td>Others     </td><td> 26        </td><td> 28        </td></tr>\n",
       "</tbody>\n",
       "</table>\n"
      ],
      "text/latex": [
       "\\begin{tabular}{r|lll}\n",
       " Type & men & women\\\\\n",
       "\\hline\n",
       "\t Business    & 169         &  97        \\\\\n",
       "\t Edu\\_Inst    &  38           &  80          \\\\\n",
       "\t Govt        &  54         &  36        \\\\\n",
       "\t Large\\_Coop  & 191           & 133          \\\\\n",
       "\t Medium\\_Coop & 114           &  51          \\\\\n",
       "\t NGO         &  32         &  51        \\\\\n",
       "\t Others      &  26         &  28        \\\\\n",
       "\\end{tabular}\n"
      ],
      "text/markdown": [
       "\n",
       "Type | men | women | \n",
       "|---|---|---|---|---|---|---|\n",
       "| Business    | 169         |  97         | \n",
       "| Edu_Inst    |  38         |  80         | \n",
       "| Govt        |  54         |  36         | \n",
       "| Large_Coop  | 191         | 133         | \n",
       "| Medium_Coop | 114         |  51         | \n",
       "| NGO         |  32         |  51         | \n",
       "| Others      |  26         |  28         | \n",
       "\n",
       "\n"
      ],
      "text/plain": [
       "  Type        men women\n",
       "1 Business    169  97  \n",
       "2 Edu_Inst     38  80  \n",
       "3 Govt         54  36  \n",
       "4 Large_Coop  191 133  \n",
       "5 Medium_Coop 114  51  \n",
       "6 NGO          32  51  \n",
       "7 Others       26  28  "
      ]
     },
     "metadata": {},
     "output_type": "display_data"
    }
   ],
   "source": [
    "company_df"
   ]
  },
  {
   "cell_type": "markdown",
   "metadata": {},
   "source": [
    "Plot for the above data frame"
   ]
  },
  {
   "cell_type": "code",
   "execution_count": 383,
   "metadata": {
    "collapsed": false
   },
   "outputs": [
    {
     "data": {},
     "metadata": {},
     "output_type": "display_data"
    },
    {
     "data": {
      "image/png": "[encoded data removed]",
      "text/plain": [
       "plot without title"
      ]
     },
     "metadata": {},
     "output_type": "display_data"
    }
   ],
   "source": [
    "histogram <- melt(company_df[,c(1,2,3)],id='Type')\n",
    "ggplot(histogram, aes(x=Type, y=value, fill=variable))+geom_bar(stat='identity', position='dodge')+\n",
    "labs(title=\"Gender Wise Work Place Distribution\")"
   ]
  },
  {
   "cell_type": "markdown",
   "metadata": {},
   "source": [
    "The above plot states that places like Large,Medium Cooperation, Business Ventures, Government seats \n",
    "have greater number of men than women. \n",
    "However places like NGO, Education Insititution have greater number of women employees than men"
   ]
  },
  {
   "cell_type": "markdown",
   "metadata": {},
   "source": [
    "Question 3: What is the distrtibution of people as per their political views and race\n",
    "          For instance, number of White democrats/republicans"
   ]
  },
  {
   "cell_type": "markdown",
   "metadata": {},
   "source": [
    "Queries for the above question"
   ]
  },
  {
   "cell_type": "code",
   "execution_count": 277,
   "metadata": {
    "collapsed": false,
    "scrolled": true
   },
   "outputs": [],
   "source": [
    "democratDF <- sqldf(\"select race,count(*) as democrat from dataDF where race=1 and  party=1\n",
    "       union\n",
    "       select race,count(*) as democrat from dataDF where race=2 and party=1\n",
    "       union\n",
    "       select race,count(*) as democrat from dataDF where race=3 and party=1\n",
    "       union\n",
    "       select race,count(*) as democrat from dataDF where race=4 and party=1\n",
    "       union\n",
    "       select race,count(*) as democrat from dataDF where race=5 and party=1\n",
    "       union\n",
    "       select race,count(*) as democrat from dataDF where (race=6 or race=8 or race=9) and party=1\n",
    "       \")"
   ]
  },
  {
   "cell_type": "markdown",
   "metadata": {},
   "source": [
    "Data frame consisting of detaisl for no of democrats for each race. Adding each race description"
   ]
  },
  {
   "cell_type": "code",
   "execution_count": 278,
   "metadata": {
    "collapsed": false
   },
   "outputs": [],
   "source": [
    "democratDF[\"Race_Class\"] <- c(\"White\",\"African-American\",\"Asian\",\"Mixed Race\",\"Native American \",\"Others\")"
   ]
  },
  {
   "cell_type": "code",
   "execution_count": 384,
   "metadata": {
    "collapsed": false
   },
   "outputs": [
    {
     "data": {
      "text/html": [
       "<table>\n",
       "<thead><tr><th scope=col>race</th><th scope=col>democrat</th><th scope=col>Race_Class</th></tr></thead>\n",
       "<tbody>\n",
       "\t<tr><td>1               </td><td>395             </td><td>White           </td></tr>\n",
       "\t<tr><td>2               </td><td> 17             </td><td>African-American</td></tr>\n",
       "\t<tr><td>3               </td><td> 11             </td><td>Asian           </td></tr>\n",
       "\t<tr><td>4               </td><td>  4             </td><td>Mixed Race      </td></tr>\n",
       "\t<tr><td>5               </td><td>  4             </td><td>Native American </td></tr>\n",
       "\t<tr><td>6               </td><td> 12             </td><td>Others          </td></tr>\n",
       "</tbody>\n",
       "</table>\n"
      ],
      "text/latex": [
       "\\begin{tabular}{r|lll}\n",
       " race & democrat & Race\\_Class\\\\\n",
       "\\hline\n",
       "\t 1                & 395              & White           \\\\\n",
       "\t 2                &  17              & African-American\\\\\n",
       "\t 3                &  11              & Asian           \\\\\n",
       "\t 4                &   4              & Mixed Race      \\\\\n",
       "\t 5                &   4              & Native American \\\\\n",
       "\t 6                &  12              & Others          \\\\\n",
       "\\end{tabular}\n"
      ],
      "text/markdown": [
       "\n",
       "race | democrat | Race_Class | \n",
       "|---|---|---|---|---|---|\n",
       "| 1                | 395              | White            | \n",
       "| 2                |  17              | African-American | \n",
       "| 3                |  11              | Asian            | \n",
       "| 4                |   4              | Mixed Race       | \n",
       "| 5                |   4              | Native American  | \n",
       "| 6                |  12              | Others           | \n",
       "\n",
       "\n"
      ],
      "text/plain": [
       "  race democrat Race_Class      \n",
       "1 1    395      White           \n",
       "2 2     17      African-American\n",
       "3 3     11      Asian           \n",
       "4 4      4      Mixed Race      \n",
       "5 5      4      Native American \n",
       "6 6     12      Others          "
      ]
     },
     "metadata": {},
     "output_type": "display_data"
    }
   ],
   "source": [
    "democratDF"
   ]
  },
  {
   "cell_type": "code",
   "execution_count": 279,
   "metadata": {
    "collapsed": false
   },
   "outputs": [],
   "source": [
    "republicanDF <- sqldf(\"select race,count(*) as republican from dataDF where race=1 and  party=2\n",
    "       union\n",
    "       select race,count(*) as republican from dataDF where race=2 and party=2\n",
    "       union\n",
    "       select race,count(*) as republican from dataDF where race=3 and party=2\n",
    "       union\n",
    "       select race,count(*) as republican from dataDF where race=4 and party=2\n",
    "       union\n",
    "       select race,count(*) as republican from dataDF where race=5 and party=2\n",
    "       union\n",
    "       select race,count(*) as republican from dataDF where (race=6 or race=8 or race=9) and party=2\n",
    "       \")"
   ]
  },
  {
   "cell_type": "markdown",
   "metadata": {},
   "source": [
    "Data frame consisting the details for republicans. "
   ]
  },
  {
   "cell_type": "code",
   "execution_count": 280,
   "metadata": {
    "collapsed": true
   },
   "outputs": [],
   "source": [
    "republicanDF[\"Race_Class\"] <- c(\"White\",\"African-American\",\"Asian\",\"Mixed Race\",\"Native American \",\"Others\")"
   ]
  },
  {
   "cell_type": "code",
   "execution_count": 281,
   "metadata": {
    "collapsed": false
   },
   "outputs": [],
   "source": [
    "independentDF <- sqldf(\"select race,count(*) as independent from dataDF where race=1 and  party=3\n",
    "       union\n",
    "       select race,count(*) as independent from dataDF where race=2 and party=3\n",
    "       union\n",
    "       select race,count(*) as independent from dataDF where race=3 and party=3\n",
    "       union\n",
    "       select race,count(*) as independent from dataDF where race=4 and party=3\n",
    "       union\n",
    "       select race,count(*) as independent from dataDF where race=5 and party=3\n",
    "       union\n",
    "       select race,count(*) as independent from dataDF where (race=6 or race=8 or race=9) and party=3\n",
    "       \")"
   ]
  },
  {
   "cell_type": "code",
   "execution_count": 282,
   "metadata": {
    "collapsed": true
   },
   "outputs": [],
   "source": [
    "independentDF[\"Race_Class\"] <- c(\"White\",\"African-American\",\"Asian\",\"Mixed Race\",\"Native American \",\"Others\")"
   ]
  },
  {
   "cell_type": "markdown",
   "metadata": {},
   "source": [
    "Mergind the data frames for all the parties"
   ]
  },
  {
   "cell_type": "code",
   "execution_count": 385,
   "metadata": {
    "collapsed": true
   },
   "outputs": [],
   "source": [
    "party_race_df <- merge(democratDF,republicanDF,by='Race_Class')"
   ]
  },
  {
   "cell_type": "code",
   "execution_count": 284,
   "metadata": {
    "collapsed": true
   },
   "outputs": [],
   "source": [
    "party_race_df <- merge(party_race_df,independentDF,by='Race_Class')"
   ]
  },
  {
   "cell_type": "code",
   "execution_count": 285,
   "metadata": {
    "collapsed": false
   },
   "outputs": [
    {
     "data": {
      "text/html": [
       "<table>\n",
       "<thead><tr><th scope=col>Race_Class</th><th scope=col>race.x</th><th scope=col>democrat</th><th scope=col>race.y</th><th scope=col>republican</th><th scope=col>race</th><th scope=col>independent</th></tr></thead>\n",
       "<tbody>\n",
       "\t<tr><td>African-American</td><td>2               </td><td> 17             </td><td>2               </td><td>140             </td><td>2               </td><td> 63             </td></tr>\n",
       "\t<tr><td>Asian           </td><td>3               </td><td> 11             </td><td>3               </td><td> 13             </td><td>3               </td><td> 20             </td></tr>\n",
       "\t<tr><td>Mixed Race      </td><td>4               </td><td>  4             </td><td>4               </td><td> 15             </td><td>4               </td><td> 20             </td></tr>\n",
       "\t<tr><td>Native American </td><td>5               </td><td>  4             </td><td>5               </td><td>  6             </td><td>5               </td><td>  5             </td></tr>\n",
       "\t<tr><td>Others          </td><td>6               </td><td> 12             </td><td>6               </td><td> 34             </td><td>9               </td><td> 37             </td></tr>\n",
       "\t<tr><td>White           </td><td>1               </td><td>395             </td><td>1               </td><td>409             </td><td>1               </td><td>541             </td></tr>\n",
       "</tbody>\n",
       "</table>\n"
      ],
      "text/latex": [
       "\\begin{tabular}{r|lllllll}\n",
       " Race\\_Class & race.x & democrat & race.y & republican & race & independent\\\\\n",
       "\\hline\n",
       "\t African-American & 2                &  17              & 2                & 140              & 2                &  63             \\\\\n",
       "\t Asian            & 3                &  11              & 3                &  13              & 3                &  20             \\\\\n",
       "\t Mixed Race       & 4                &   4              & 4                &  15              & 4                &  20             \\\\\n",
       "\t Native American  & 5                &   4              & 5                &   6              & 5                &   5             \\\\\n",
       "\t Others           & 6                &  12              & 6                &  34              & 9                &  37             \\\\\n",
       "\t White            & 1                & 395              & 1                & 409              & 1                & 541             \\\\\n",
       "\\end{tabular}\n"
      ],
      "text/markdown": [
       "\n",
       "Race_Class | race.x | democrat | race.y | republican | race | independent | \n",
       "|---|---|---|---|---|---|\n",
       "| African-American | 2                |  17              | 2                | 140              | 2                |  63              | \n",
       "| Asian            | 3                |  11              | 3                |  13              | 3                |  20              | \n",
       "| Mixed Race       | 4                |   4              | 4                |  15              | 4                |  20              | \n",
       "| Native American  | 5                |   4              | 5                |   6              | 5                |   5              | \n",
       "| Others           | 6                |  12              | 6                |  34              | 9                |  37              | \n",
       "| White            | 1                | 395              | 1                | 409              | 1                | 541              | \n",
       "\n",
       "\n"
      ],
      "text/plain": [
       "  Race_Class       race.x democrat race.y republican race independent\n",
       "1 African-American 2       17      2      140        2     63        \n",
       "2 Asian            3       11      3       13        3     20        \n",
       "3 Mixed Race       4        4      4       15        4     20        \n",
       "4 Native American  5        4      5        6        5      5        \n",
       "5 Others           6       12      6       34        9     37        \n",
       "6 White            1      395      1      409        1    541        "
      ]
     },
     "metadata": {},
     "output_type": "display_data"
    }
   ],
   "source": [
    "party_race_df"
   ]
  },
  {
   "cell_type": "code",
   "execution_count": 286,
   "metadata": {
    "collapsed": true
   },
   "outputs": [],
   "source": [
    "party_race_df <- subset(party_race_df, select = -c(race.x,race.y) )"
   ]
  },
  {
   "cell_type": "markdown",
   "metadata": {},
   "source": [
    "Final data frame consisting of the parties and races"
   ]
  },
  {
   "cell_type": "code",
   "execution_count": 287,
   "metadata": {
    "collapsed": false
   },
   "outputs": [
    {
     "data": {
      "text/html": [
       "<table>\n",
       "<thead><tr><th scope=col>Race_Class</th><th scope=col>democrat</th><th scope=col>republican</th><th scope=col>race</th><th scope=col>independent</th></tr></thead>\n",
       "<tbody>\n",
       "\t<tr><td>African-American</td><td> 17             </td><td>140             </td><td>2               </td><td> 63             </td></tr>\n",
       "\t<tr><td>Asian           </td><td> 11             </td><td> 13             </td><td>3               </td><td> 20             </td></tr>\n",
       "\t<tr><td>Mixed Race      </td><td>  4             </td><td> 15             </td><td>4               </td><td> 20             </td></tr>\n",
       "\t<tr><td>Native American </td><td>  4             </td><td>  6             </td><td>5               </td><td>  5             </td></tr>\n",
       "\t<tr><td>Others          </td><td> 12             </td><td> 34             </td><td>9               </td><td> 37             </td></tr>\n",
       "\t<tr><td>White           </td><td>395             </td><td>409             </td><td>1               </td><td>541             </td></tr>\n",
       "</tbody>\n",
       "</table>\n"
      ],
      "text/latex": [
       "\\begin{tabular}{r|lllll}\n",
       " Race\\_Class & democrat & republican & race & independent\\\\\n",
       "\\hline\n",
       "\t African-American &  17              & 140              & 2                &  63             \\\\\n",
       "\t Asian            &  11              &  13              & 3                &  20             \\\\\n",
       "\t Mixed Race       &   4              &  15              & 4                &  20             \\\\\n",
       "\t Native American  &   4              &   6              & 5                &   5             \\\\\n",
       "\t Others           &  12              &  34              & 9                &  37             \\\\\n",
       "\t White            & 395              & 409              & 1                & 541             \\\\\n",
       "\\end{tabular}\n"
      ],
      "text/markdown": [
       "\n",
       "Race_Class | democrat | republican | race | independent | \n",
       "|---|---|---|---|---|---|\n",
       "| African-American |  17              | 140              | 2                |  63              | \n",
       "| Asian            |  11              |  13              | 3                |  20              | \n",
       "| Mixed Race       |   4              |  15              | 4                |  20              | \n",
       "| Native American  |   4              |   6              | 5                |   5              | \n",
       "| Others           |  12              |  34              | 9                |  37              | \n",
       "| White            | 395              | 409              | 1                | 541              | \n",
       "\n",
       "\n"
      ],
      "text/plain": [
       "  Race_Class       democrat republican race independent\n",
       "1 African-American  17      140        2     63        \n",
       "2 Asian             11       13        3     20        \n",
       "3 Mixed Race         4       15        4     20        \n",
       "4 Native American    4        6        5      5        \n",
       "5 Others            12       34        9     37        \n",
       "6 White            395      409        1    541        "
      ]
     },
     "metadata": {},
     "output_type": "display_data"
    }
   ],
   "source": [
    "party_race_df"
   ]
  },
  {
   "cell_type": "code",
   "execution_count": 289,
   "metadata": {
    "collapsed": false
   },
   "outputs": [
    {
     "data": {},
     "metadata": {},
     "output_type": "display_data"
    },
    {
     "data": {
      "image/png": "[encoded data removed]",
      "text/plain": [
       "plot without title"
      ]
     },
     "metadata": {},
     "output_type": "display_data"
    }
   ],
   "source": [
    "histogram <- melt(party_race_df[,c(1,2,3,5)],id='Race_Class')\n",
    "ggplot(histogram, aes(x=Race_Class, y=value, fill=variable))+geom_bar(stat='identity', position='dodge')+\n",
    "labs(title=\"Polictical views for each race\")"
   ]
  },
  {
   "cell_type": "markdown",
   "metadata": {},
   "source": [
    "Question 4: How many dating app users are there as per age groups."
   ]
  },
  {
   "cell_type": "markdown",
   "metadata": {},
   "source": [
    "Queries for the above question"
   ]
  },
  {
   "cell_type": "code",
   "execution_count": 293,
   "metadata": {
    "collapsed": false,
    "scrolled": true
   },
   "outputs": [],
   "source": [
    "ageDF <- sqldf(\"select age,count(*) as no_of_people from dataDF where age>=18 and age<=30 and date2a=1\n",
    "       union\n",
    "       select age,count(*) as no_of_people from dataDF where age>30 and age<=40 and date2a=1\n",
    "       union\n",
    "       select age,count(*) as no_of_people from dataDF where age>40 and age<=50 and date2a=1\n",
    "       union\n",
    "       select age,count(*) as no_of_people from dataDF where age>50 and age<=60 and date2a=1\n",
    "       union\n",
    "       select age,count(*) as no_of_people from dataDF where age>60 and age<=70 and date2a=1\n",
    "       union\n",
    "       select age,count(*) as no_of_people from dataDF where age>70 and age<=80 and date2a=1\n",
    "       union\n",
    "       select age,count(*) as no_of_people from dataDF where age>70 and age<=80 and date2a=1\n",
    "       union\n",
    "       select age,count(*) as no_of_people from dataDF where age>80 and age<=90 and date2a=1\n",
    "       union\n",
    "       select age,count(*) as no_of_people from dataDF where age>90 and age<=99 and date2a=1\")"
   ]
  },
  {
   "cell_type": "code",
   "execution_count": 294,
   "metadata": {
    "collapsed": false
   },
   "outputs": [],
   "source": [
    "ageDF <- na.omit(ageDF)"
   ]
  },
  {
   "cell_type": "code",
   "execution_count": 295,
   "metadata": {
    "collapsed": false
   },
   "outputs": [],
   "source": [
    "ageDF[\"Age_Range\"] <- c(\"18-30\",\"31-40\",\"41-50\",\"51-60\",\"61-70\",\"71-80\",\"91-99\")"
   ]
  },
  {
   "cell_type": "markdown",
   "metadata": {},
   "source": [
    "Final data frame with age intervals creates and their respective dating app users"
   ]
  },
  {
   "cell_type": "code",
   "execution_count": 296,
   "metadata": {
    "collapsed": false
   },
   "outputs": [
    {
     "data": {
      "text/html": [
       "<table>\n",
       "<thead><tr><th></th><th scope=col>age</th><th scope=col>no_of_people</th><th scope=col>Age_Range</th></tr></thead>\n",
       "<tbody>\n",
       "\t<tr><th scope=row>2</th><td>23   </td><td>68   </td><td>18-30</td></tr>\n",
       "\t<tr><th scope=row>3</th><td>35   </td><td>22   </td><td>31-40</td></tr>\n",
       "\t<tr><th scope=row>4</th><td>43   </td><td>24   </td><td>41-50</td></tr>\n",
       "\t<tr><th scope=row>5</th><td>60   </td><td>14   </td><td>51-60</td></tr>\n",
       "\t<tr><th scope=row>6</th><td>67   </td><td> 8   </td><td>61-70</td></tr>\n",
       "\t<tr><th scope=row>7</th><td>77   </td><td> 1   </td><td>71-80</td></tr>\n",
       "\t<tr><th scope=row>8</th><td>98   </td><td> 1   </td><td>91-99</td></tr>\n",
       "</tbody>\n",
       "</table>\n"
      ],
      "text/latex": [
       "\\begin{tabular}{r|lll}\n",
       "  & age & no\\_of\\_people & Age\\_Range\\\\\n",
       "\\hline\n",
       "\t2 & 23    & 68    & 18-30\\\\\n",
       "\t3 & 35    & 22    & 31-40\\\\\n",
       "\t4 & 43    & 24    & 41-50\\\\\n",
       "\t5 & 60    & 14    & 51-60\\\\\n",
       "\t6 & 67    &  8    & 61-70\\\\\n",
       "\t7 & 77    &  1    & 71-80\\\\\n",
       "\t8 & 98    &  1    & 91-99\\\\\n",
       "\\end{tabular}\n"
      ],
      "text/markdown": [
       "\n",
       "| <!--/--> | age | no_of_people | Age_Range | \n",
       "|---|---|---|---|---|---|---|\n",
       "| 2 | 23    | 68    | 18-30 | \n",
       "| 3 | 35    | 22    | 31-40 | \n",
       "| 4 | 43    | 24    | 41-50 | \n",
       "| 5 | 60    | 14    | 51-60 | \n",
       "| 6 | 67    |  8    | 61-70 | \n",
       "| 7 | 77    |  1    | 71-80 | \n",
       "| 8 | 98    |  1    | 91-99 | \n",
       "\n",
       "\n"
      ],
      "text/plain": [
       "  age no_of_people Age_Range\n",
       "2 23  68           18-30    \n",
       "3 35  22           31-40    \n",
       "4 43  24           41-50    \n",
       "5 60  14           51-60    \n",
       "6 67   8           61-70    \n",
       "7 77   1           71-80    \n",
       "8 98   1           91-99    "
      ]
     },
     "metadata": {},
     "output_type": "display_data"
    }
   ],
   "source": [
    "ageDF"
   ]
  },
  {
   "cell_type": "code",
   "execution_count": 298,
   "metadata": {
    "collapsed": false
   },
   "outputs": [
    {
     "data": {},
     "metadata": {},
     "output_type": "display_data"
    },
    {
     "data": {
      "image/png": "[encoded data removed]",
      "text/plain": [
       "plot without title"
      ]
     },
     "metadata": {},
     "output_type": "display_data"
    }
   ],
   "source": [
    "histogram <- melt(ageDF[,c(2,3)],id='Age_Range')\n",
    "ggplot(histogram, aes(x=Age_Range, y=value, fill=variable))+geom_bar(stat='identity', position='dodge')+\n",
    "labs(title=\"Usage of dating app as per age intervals\")"
   ]
  },
  {
   "cell_type": "code",
   "execution_count": 313,
   "metadata": {
    "collapsed": false
   },
   "outputs": [
    {
     "data": {},
     "metadata": {},
     "output_type": "display_data"
    },
    {
     "data": {
      "image/png": "[encoded data removed]",
      "text/plain": [
       "plot without title"
      ]
     },
     "metadata": {},
     "output_type": "display_data"
    }
   ],
   "source": [
    "ggplot(ageDF, aes(x = Age_Range, y = no_of_people)) +\n",
    "  geom_point()"
   ]
  },
  {
   "cell_type": "markdown",
   "metadata": {},
   "source": [
    "The above plot infers that younsters use the dating app the most and the usage\n",
    "gradually decreases with increase in age"
   ]
  },
  {
   "cell_type": "markdown",
   "metadata": {},
   "source": [
    "Question 5: What is the distribution of income as per the type of job.\n",
    "           for example: Which job fetches the most income"
   ]
  },
  {
   "cell_type": "markdown",
   "metadata": {},
   "source": [
    "Queries for the above question"
   ]
  },
  {
   "cell_type": "markdown",
   "metadata": {},
   "source": [
    "Creating a separate data frame for each income range and job type pair. Hence 45 data frames."
   ]
  },
  {
   "cell_type": "code",
   "execution_count": 334,
   "metadata": {
    "collapsed": true
   },
   "outputs": [],
   "source": [
    "lessthan10_prdf <- sqldf(\"Select inc,count(*) as Professional from dataDF where inc=1 and emptype3=1\")\n",
    "lessthan10_madf <- sqldf(\"Select inc,count(*) as Manager from dataDF where inc=1 and emptype3=2\")\n",
    "lessthan10_godf <- sqldf(\"Select inc,count(*) as Govt_Official from dataDF where inc=1 and emptype3=3\")\n",
    "lessthan10_cldf <- sqldf(\"Select inc,count(*) as Clerical from dataDF where inc=1 and emptype3=4\")\n",
    "lessthan10_cudf <- sqldf(\"Select inc,count(*) as Customer_service from dataDF where inc=1 and emptype3=5\")\n",
    "\n",
    "between10and20_prdf <- sqldf(\"Select inc,count(*) as Professional from dataDF where inc=2 and emptype3=1\")\n",
    "between10and20_madf <- sqldf(\"Select inc,count(*) as Manager from dataDF where inc=2 and emptype3=2\")\n",
    "between10and20_godf <- sqldf(\"Select inc,count(*) as Govt_Official from dataDF where inc=2 and emptype3=3\")\n",
    "between10and20_cldf <- sqldf(\"Select inc,count(*) as Clerical from dataDF where inc=2 and emptype3=4\")\n",
    "between10and20_cudf <- sqldf(\"Select inc,count(*) as Customer_service from dataDF where inc=2 and emptype3=5\")\n",
    "\n",
    "between20and30_prdf <- sqldf(\"Select inc,count(*) as Professional from dataDF where inc=3 and emptype3=1\")\n",
    "between20and30_madf <- sqldf(\"Select inc,count(*) as Manager from dataDF where inc=3 and emptype3=2\")\n",
    "between20and30_godf <- sqldf(\"Select inc,count(*) as Govt_Official from dataDF where inc=3 and emptype3=3\")\n",
    "between20and30_cldf <- sqldf(\"Select inc,count(*) as Clerical from dataDF where inc=3 and emptype3=4\")\n",
    "between20and30_cudf <- sqldf(\"Select inc,count(*) as Customer_service from dataDF where inc=3 and emptype3=5\")\n",
    "\n",
    "between30and40_prdf <- sqldf(\"Select inc,count(*) as Professional from dataDF where inc=4 and emptype3=1\")\n",
    "between30and40_madf <- sqldf(\"Select inc,count(*) as Manager from dataDF where inc=4 and emptype3=2\")\n",
    "between30and40_godf <- sqldf(\"Select inc,count(*) as Govt_Official from dataDF where inc=4 and emptype3=3\")\n",
    "between30and40_cldf <- sqldf(\"Select inc,count(*) as Clerical from dataDF where inc=4 and emptype3=4\")\n",
    "between30and40_cudf <- sqldf(\"Select inc,count(*) as Customer_service from dataDF where inc=4 and emptype3=5\")\n",
    "\n",
    "between40and50_prdf <- sqldf(\"Select inc,count(*) as Professional from dataDF where inc=5 and emptype3=1\")\n",
    "between40and50_madf <- sqldf(\"Select inc,count(*) as Manager from dataDF where inc=5 and emptype3=2\")\n",
    "between40and50_godf <- sqldf(\"Select inc,count(*) as Govt_Official from dataDF where inc=5 and emptype3=3\")\n",
    "between40and50_cldf <- sqldf(\"Select inc,count(*) as Clerical from dataDF where inc=5 and emptype3=4\")\n",
    "between40and50_cudf <- sqldf(\"Select inc,count(*) as Customer_service from dataDF where inc=5 and emptype3=5\")\n",
    "\n",
    "between50and75_prdf <- sqldf(\"Select inc,count(*) as Professional from dataDF where inc=6 and emptype3=1\")\n",
    "between50and75_madf <- sqldf(\"Select inc,count(*) as Manager from dataDF where inc=6 and emptype3=2\")\n",
    "between50and75_godf <- sqldf(\"Select inc,count(*) as Govt_Official from dataDF where inc=6 and emptype3=3\")\n",
    "between50and75_cldf <- sqldf(\"Select inc,count(*) as Clerical from dataDF where inc=6 and emptype3=4\")\n",
    "between50and75_cudf <- sqldf(\"Select inc,count(*) as Customer_service from dataDF where inc=6 and emptype3=5\")\n",
    "\n",
    "between75and100_prdf <- sqldf(\"Select inc,count(*) as Professional from dataDF where inc=7 and emptype3=1\")\n",
    "between75and100_madf <- sqldf(\"Select inc,count(*) as Manager from dataDF where inc=7 and emptype3=2\")\n",
    "between75and100_godf <- sqldf(\"Select inc,count(*) as Govt_Official from dataDF where inc=7 and emptype3=3\")\n",
    "between75and100_cldf <- sqldf(\"Select inc,count(*) as Clerical from dataDF where inc=7 and emptype3=4\")\n",
    "between75and100_cudf <- sqldf(\"Select inc,count(*) as Customer_service from dataDF where inc=7 and emptype3=5\")\n",
    "\n",
    "between100and150_prdf <- sqldf(\"Select inc,count(*) as Professional from dataDF where inc=8 and emptype3=1\")\n",
    "between100and150_madf <- sqldf(\"Select inc,count(*) as Manager from dataDF where inc=8 and emptype3=2\")\n",
    "between100and150_godf <- sqldf(\"Select inc,count(*) as Govt_Official from dataDF where inc=8 and emptype3=3\")\n",
    "between100and150_cldf <- sqldf(\"Select inc,count(*) as Clerical from dataDF where inc=8 and emptype3=4\")\n",
    "between100and150_cudf <- sqldf(\"Select inc,count(*) as Customer_service from dataDF where inc=8 and emptype3=5\")\n",
    "\n",
    "above150_Prdf <- sqldf(\"Select inc,count(*) as Professional from dataDF where inc=9 and emptype3=1\")\n",
    "above150_Madf <- sqldf(\"Select inc,count(*) as Manager from dataDF where inc=9 and emptype3=2\")\n",
    "above150_Godf <- sqldf(\"Select inc,count(*) as Govt_Official from dataDF where inc=9 and emptype3=3\")\n",
    "above150_Cldf <- sqldf(\"Select inc,count(*) as Clerical from dataDF where inc=9 and emptype3=4\")\n",
    "above150_Cudf <- sqldf(\"Select inc,count(*) as Customer_service from dataDF where inc=9 and emptype3=5\")"
   ]
  },
  {
   "cell_type": "markdown",
   "metadata": {},
   "source": [
    "Joining all the data frames as per the income range, such that we have one one data frame for each income range"
   ]
  },
  {
   "cell_type": "code",
   "execution_count": 336,
   "metadata": {
    "collapsed": false
   },
   "outputs": [],
   "source": [
    "lessthan10 <- sqldf(\"Select lessthan10_prdf.inc,lessthan10_prdf.Professional,lessthan10_madf.Manager,lessthan10_godf.Govt_Official,\n",
    "      lessthan10_cldf.Clerical,lessthan10_cudf.Customer_service\n",
    "      from lessthan10_prdf\n",
    "      left join \n",
    "      lessthan10_madf\n",
    "      on lessthan10_prdf.inc=lessthan10_madf.inc\n",
    "      left join  lessthan10_godf\n",
    "      on lessthan10_prdf.inc=lessthan10_godf.inc\n",
    "      left join lessthan10_cldf\n",
    "      on lessthan10_prdf.inc=lessthan10_cldf.inc\n",
    "      left join lessthan10_cudf\n",
    "      on lessthan10_prdf.inc=lessthan10_cudf.inc\")\n",
    "between10and20 <- sqldf(\"Select between10and20_prdf.inc,between10and20_prdf.Professional,between10and20_madf.Manager,between10and20_godf.Govt_Official,\n",
    "      between10and20_cldf.Clerical,between10and20_cudf.Customer_service\n",
    "      from between10and20_prdf\n",
    "      left join \n",
    "      between10and20_madf\n",
    "      on between10and20_prdf.inc=between10and20_madf.inc\n",
    "      left join  between10and20_godf\n",
    "      on between10and20_prdf.inc=between10and20_godf.inc\n",
    "      left join between10and20_cldf\n",
    "      on between10and20_prdf.inc=between10and20_cldf.inc\n",
    "      left join between10and20_cudf\n",
    "      on between10and20_prdf.inc=between10and20_cudf.inc\")\n",
    "between20and30<- sqldf(\"Select between20and30_prdf.inc,between20and30_prdf.Professional,between20and30_madf.Manager,\n",
    "      between20and30_godf.Govt_Official,\n",
    "      between20and30_cldf.Clerical,between20and30_cudf.Customer_service\n",
    "      from between20and30_prdf\n",
    "      left join \n",
    "      between20and30_madf\n",
    "      on between20and30_prdf.inc=between20and30_madf.inc\n",
    "      left join  between20and30_godf\n",
    "      on between20and30_prdf.inc=between20and30_godf.inc\n",
    "      left join between20and30_cldf\n",
    "      on between20and30_prdf.inc=between20and30_cldf.inc\n",
    "      left join between20and30_cudf\n",
    "      on between20and30_prdf.inc=between20and30_cudf.inc\")\n",
    "between30and40 <- sqldf(\"Select between30and40_prdf.inc,between30and40_prdf.Professional,between30and40_madf.Manager,\n",
    "      between30and40_godf.Govt_Official,\n",
    "      between30and40_cldf.Clerical,between30and40_cudf.Customer_service\n",
    "      from between30and40_prdf\n",
    "      left join \n",
    "      between30and40_madf\n",
    "      on between30and40_prdf.inc=between30and40_madf.inc\n",
    "      left join  between30and40_godf\n",
    "      on between30and40_prdf.inc=between30and40_godf.inc\n",
    "      left join between30and40_cldf\n",
    "      on between30and40_prdf.inc=between30and40_cldf.inc\n",
    "      left join between30and40_cudf\n",
    "      on between30and40_prdf.inc=between30and40_cudf.inc\")\n",
    "between40and50 <- sqldf(\"Select between40and50_prdf.inc,between40and50_prdf.Professional,between40and50_madf.Manager,\n",
    "      between40and50_godf.Govt_Official,\n",
    "      between40and50_cldf.Clerical,between40and50_cudf.Customer_service\n",
    "      from between40and50_prdf\n",
    "      left join \n",
    "      between40and50_madf\n",
    "      on between40and50_prdf.inc=between40and50_madf.inc\n",
    "      left join  between40and50_godf\n",
    "      on between40and50_prdf.inc=between40and50_godf.inc\n",
    "      left join between40and50_cldf\n",
    "      on between40and50_prdf.inc=between40and50_cldf.inc\n",
    "      left join between40and50_cudf\n",
    "      on between40and50_prdf.inc=between40and50_cudf.inc\")\n",
    "between50and75 <- sqldf(\"Select between50and75_prdf.inc,between50and75_prdf.Professional,between50and75_madf.Manager,\n",
    "      between50and75_godf.Govt_Official,\n",
    "      between50and75_cldf.Clerical,between50and75_cudf.Customer_service\n",
    "      from between50and75_prdf\n",
    "      left join \n",
    "      between50and75_madf\n",
    "      on between50and75_prdf.inc=between50and75_madf.inc\n",
    "      left join  between50and75_godf\n",
    "      on between50and75_prdf.inc=between50and75_godf.inc\n",
    "      left join between50and75_cldf\n",
    "      on between50and75_prdf.inc=between50and75_cldf.inc\n",
    "      left join between50and75_cudf\n",
    "      on between50and75_prdf.inc=between50and75_cudf.inc\")\n",
    "between75and100 <- sqldf(\"Select between75and100_prdf.inc,between75and100_prdf.Professional,between75and100_madf.Manager,\n",
    "      between75and100_godf.Govt_Official,\n",
    "      between75and100_cldf.Clerical,between75and100_cudf.Customer_service\n",
    "      from between75and100_prdf\n",
    "      left join \n",
    "      between75and100_madf\n",
    "      on between75and100_prdf.inc=between75and100_madf.inc\n",
    "      left join  between75and100_godf\n",
    "      on between75and100_prdf.inc=between75and100_godf.inc\n",
    "      left join between75and100_cldf\n",
    "      on between75and100_prdf.inc=between75and100_cldf.inc\n",
    "      left join between75and100_cudf\n",
    "      on between75and100_prdf.inc=between75and100_cudf.inc\")\n",
    "between100and150 <- sqldf(\"Select between100and150_prdf.inc,between100and150_prdf.Professional,between100and150_madf.Manager,\n",
    "      between100and150_godf.Govt_Official,\n",
    "      between100and150_cldf.Clerical,between100and150_cudf.Customer_service\n",
    "      from between100and150_prdf\n",
    "      left join \n",
    "      between100and150_madf\n",
    "      on between100and150_prdf.inc=between100and150_madf.inc\n",
    "      left join  between100and150_godf\n",
    "      on between100and150_prdf.inc=between100and150_godf.inc\n",
    "      left join between100and150_cldf\n",
    "      on between100and150_prdf.inc=between100and150_cldf.inc\n",
    "      left join between100and150_cudf\n",
    "      on between100and150_prdf.inc=between100and150_cudf.inc\")\n",
    "above150 <- sqldf(\"Select above150_Prdf.inc,above150_Prdf.Professional,above150_Madf.Manager,above150_Godf.Govt_Official,\n",
    "      above150_Cldf.Clerical,above150_Cudf.Customer_service\n",
    "      from above150_Prdf\n",
    "      left join \n",
    "      above150_Madf\n",
    "      on above150_Prdf.inc=above150_Madf.inc\n",
    "      left join  above150_Godf\n",
    "      on above150_Prdf.inc=above150_Godf.inc\n",
    "      left join above150_Cldf\n",
    "      on above150_Prdf.inc=above150_Cldf.inc\n",
    "      left join above150_Cudf\n",
    "      on above150_Prdf.inc=above150_Cudf.inc\")"
   ]
  },
  {
   "cell_type": "markdown",
   "metadata": {},
   "source": [
    "Union for all the data frames such that we finally have all the details in one table"
   ]
  },
  {
   "cell_type": "code",
   "execution_count": 338,
   "metadata": {
    "collapsed": false
   },
   "outputs": [],
   "source": [
    "income_job_df <- sqldf(\"Select * from lessthan10\n",
    "       union\n",
    "       Select * from between10and20\n",
    "       union\n",
    "       Select * from between20and30\n",
    "       union\n",
    "       Select * from between30and40\n",
    "     union\n",
    "      Select * from between40and50\n",
    "      union \n",
    "       Select * from between50and75\n",
    "     union\n",
    "     Select * from between75and100\n",
    "     union\n",
    "     Select * from between100and150\n",
    "     union\n",
    "     Select * from above150\")"
   ]
  },
  {
   "cell_type": "code",
   "execution_count": 348,
   "metadata": {
    "collapsed": false
   },
   "outputs": [],
   "source": [
    "income_job_df[\"Income_Range\"] <- c(\"Less\\nthan\\n 10k\",\"B/w\\n10k\\nand\\n20k\",\n",
    "                                   \"B/w\\n20k\\nand\\n30k\",\"B/w\\n30k\\nand\\n40k\",\n",
    "                                   \"B/w\\n40k\\nand\\n50k\",\"B/w\\n50k\\nand\\n75k\",\n",
    "                                   \"B/w\\n75k\\nand\\n100k\",\"B/w\\n100k\\nand\\n150k\",\"Above\\n150k\")"
   ]
  },
  {
   "cell_type": "markdown",
   "metadata": {},
   "source": [
    "Final data frame which has the number of people for each type of profession within each range of income"
   ]
  },
  {
   "cell_type": "code",
   "execution_count": 346,
   "metadata": {
    "collapsed": false
   },
   "outputs": [
    {
     "data": {
      "text/html": [
       "<table>\n",
       "<thead><tr><th scope=col>inc</th><th scope=col>Professional</th><th scope=col>Manager</th><th scope=col>Govt_Official</th><th scope=col>Clerical</th><th scope=col>Customer_service</th><th scope=col>Income_Range</th></tr></thead>\n",
       "<tbody>\n",
       "\t<tr><td>1                 </td><td> 5                </td><td> 2                </td><td> 1                </td><td> 2                </td><td> 5                </td><td>Less than\n",
       " 10k   </td></tr>\n",
       "\t<tr><td>2                 </td><td> 9                </td><td> 1                </td><td>NA                </td><td> 2                </td><td> 7                </td><td>B/w\n",
       "10k and 20k  </td></tr>\n",
       "\t<tr><td>3                 </td><td>12                </td><td> 2                </td><td>NA                </td><td> 4                </td><td>14                </td><td>B/w\n",
       "20k and 30k  </td></tr>\n",
       "\t<tr><td>4                 </td><td>19                </td><td> 2                </td><td>NA                </td><td> 4                </td><td>13                </td><td>B/w\n",
       "30k and 40k  </td></tr>\n",
       "\t<tr><td>5                 </td><td>26                </td><td> 3                </td><td> 1                </td><td> 7                </td><td>13                </td><td>B/w\n",
       "40k and 50k  </td></tr>\n",
       "\t<tr><td>6                 </td><td>58                </td><td>18                </td><td> 2                </td><td>15                </td><td>11                </td><td>B/w\n",
       "50k and 75k  </td></tr>\n",
       "\t<tr><td>7                 </td><td>47                </td><td>20                </td><td> 1                </td><td>11                </td><td> 9                </td><td>B/w\n",
       "75k and 100k </td></tr>\n",
       "\t<tr><td>8                 </td><td>63                </td><td>34                </td><td> 2                </td><td> 8                </td><td> 5                </td><td>B/w\n",
       "100k and 150k</td></tr>\n",
       "\t<tr><td>9                 </td><td>72                </td><td>26                </td><td> 1                </td><td> 5                </td><td> 3                </td><td>Above\n",
       " 150k      </td></tr>\n",
       "</tbody>\n",
       "</table>\n"
      ],
      "text/latex": [
       "\\begin{tabular}{r|lllllll}\n",
       " inc & Professional & Manager & Govt\\_Official & Clerical & Customer\\_service & Income\\_Range\\\\\n",
       "\\hline\n",
       "\t 1                  &  5                 &  2                 &  1                 &  2                 &  5                 & Less than\n",
       " 10k   \\\\\n",
       "\t 2                  &  9                 &  1                 & NA                 &  2                 &  7                 & B/w\n",
       "10k and 20k  \\\\\n",
       "\t 3                  & 12                 &  2                 & NA                 &  4                 & 14                 & B/w\n",
       "20k and 30k  \\\\\n",
       "\t 4                  & 19                 &  2                 & NA                 &  4                 & 13                 & B/w\n",
       "30k and 40k  \\\\\n",
       "\t 5                  & 26                 &  3                 &  1                 &  7                 & 13                 & B/w\n",
       "40k and 50k  \\\\\n",
       "\t 6                  & 58                 & 18                 &  2                 & 15                 & 11                 & B/w\n",
       "50k and 75k  \\\\\n",
       "\t 7                  & 47                 & 20                 &  1                 & 11                 &  9                 & B/w\n",
       "75k and 100k \\\\\n",
       "\t 8                  & 63                 & 34                 &  2                 &  8                 &  5                 & B/w\n",
       "100k and 150k\\\\\n",
       "\t 9                  & 72                 & 26                 &  1                 &  5                 &  3                 & Above\n",
       " 150k      \\\\\n",
       "\\end{tabular}\n"
      ],
      "text/markdown": [
       "\n",
       "inc | Professional | Manager | Govt_Official | Clerical | Customer_service | Income_Range | \n",
       "|---|---|---|---|---|---|---|---|---|\n",
       "| 1                  |  5                 |  2                 |  1                 |  2                 |  5                 | Less than\n",
       " 10k    | \n",
       "| 2                  |  9                 |  1                 | NA                 |  2                 |  7                 | B/w\n",
       "10k and 20k   | \n",
       "| 3                  | 12                 |  2                 | NA                 |  4                 | 14                 | B/w\n",
       "20k and 30k   | \n",
       "| 4                  | 19                 |  2                 | NA                 |  4                 | 13                 | B/w\n",
       "30k and 40k   | \n",
       "| 5                  | 26                 |  3                 |  1                 |  7                 | 13                 | B/w\n",
       "40k and 50k   | \n",
       "| 6                  | 58                 | 18                 |  2                 | 15                 | 11                 | B/w\n",
       "50k and 75k   | \n",
       "| 7                  | 47                 | 20                 |  1                 | 11                 |  9                 | B/w\n",
       "75k and 100k  | \n",
       "| 8                  | 63                 | 34                 |  2                 |  8                 |  5                 | B/w\n",
       "100k and 150k | \n",
       "| 9                  | 72                 | 26                 |  1                 |  5                 |  3                 | Above\n",
       " 150k       | \n",
       "\n",
       "\n"
      ],
      "text/plain": [
       "  inc Professional Manager Govt_Official Clerical Customer_service\n",
       "1 1    5            2       1             2        5              \n",
       "2 2    9            1      NA             2        7              \n",
       "3 3   12            2      NA             4       14              \n",
       "4 4   19            2      NA             4       13              \n",
       "5 5   26            3       1             7       13              \n",
       "6 6   58           18       2            15       11              \n",
       "7 7   47           20       1            11        9              \n",
       "8 8   63           34       2             8        5              \n",
       "9 9   72           26       1             5        3              \n",
       "  Income_Range      \n",
       "1 Less than\\n 10k   \n",
       "2 B/w\\n10k and 20k  \n",
       "3 B/w\\n20k and 30k  \n",
       "4 B/w\\n30k and 40k  \n",
       "5 B/w\\n40k and 50k  \n",
       "6 B/w\\n50k and 75k  \n",
       "7 B/w\\n75k and 100k \n",
       "8 B/w\\n100k and 150k\n",
       "9 Above\\n 150k      "
      ]
     },
     "metadata": {},
     "output_type": "display_data"
    }
   ],
   "source": [
    "income_job_df"
   ]
  },
  {
   "cell_type": "code",
   "execution_count": 349,
   "metadata": {
    "collapsed": false
   },
   "outputs": [
    {
     "name": "stderr",
     "output_type": "stream",
     "text": [
      "Warning message:\n",
      "\"Removed 3 rows containing missing values (geom_bar).\""
     ]
    },
    {
     "data": {},
     "metadata": {},
     "output_type": "display_data"
    },
    {
     "data": {
      "image/png": "[encoded data removed]",
      "text/plain": [
       "plot without title"
      ]
     },
     "metadata": {},
     "output_type": "display_data"
    }
   ],
   "source": [
    "histogram <- melt(income_job_df[,c(2,3,4,5,6,7)],id='Income_Range')\n",
    "ggplot(histogram, aes(x=Income_Range, y=value, fill=variable))+geom_bar(stat='identity', position='dodge')+\n",
    "labs(title=\"Job Type Distribution income Wise\")"
   ]
  },
  {
   "cell_type": "markdown",
   "metadata": {},
   "source": [
    "The above plot states that all the job types incur the maximum salary but the professionals are greater in number\n",
    "as compared to other job types."
   ]
  },
  {
   "cell_type": "code",
   "execution_count": null,
   "metadata": {
    "collapsed": true
   },
   "outputs": [],
   "source": []
  }
 ],
 "metadata": {
  "kernelspec": {
   "display_name": "R",
   "language": "R",
   "name": "ir"
  },
  "language_info": {
   "codemirror_mode": "r",
   "file_extension": ".r",
   "mimetype": "text/x-r-source",
   "name": "R",
   "pygments_lexer": "r",
   "version": "3.3.2"
  }
 },
 "nbformat": 4,
 "nbformat_minor": 2
}
